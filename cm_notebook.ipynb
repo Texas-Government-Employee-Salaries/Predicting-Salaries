{
 "cells": [
  {
   "cell_type": "markdown",
   "metadata": {},
   "source": [
    "rough mayorga"
   ]
  },
  {
   "cell_type": "code",
   "execution_count": 1,
   "metadata": {},
   "outputs": [],
   "source": [
    "import math\n",
    "import warnings\n",
    "warnings.filterwarnings(\"ignore\")\n",
    "\n",
    "import pandas as pd\n",
    "import numpy as np\n",
    "import seaborn as sns\n",
    "import matplotlib.pyplot as plt\n",
    "from scipy import stats\n",
    "from datetime import datetime\n",
    "\n",
    "from sklearn.preprocessing import LabelEncoder\n",
    "from sklearn.metrics import explained_variance_score\n",
    "from sklearn.metrics import mean_squared_error\n",
    "from sklearn.linear_model import LinearRegression, LassoLars, TweedieRegressor\n",
    "from sklearn.preprocessing import PolynomialFeatures\n",
    "import sklearn.preprocessing\n",
    "from sklearn.linear_model import LinearRegression\n",
    "from sklearn.metrics import r2_score, mean_squared_error\n",
    "from sklearn.feature_selection import SelectKBest, f_regression, RFE"
   ]
  },
  {
   "cell_type": "code",
   "execution_count": 2,
   "metadata": {},
   "outputs": [],
   "source": [
    "## Trusty Modules\n",
    "\n",
    "from Acquire import get_texas_data\n",
    "from Prepare import prepare_tex, create_features, split_data"
   ]
  },
  {
   "cell_type": "markdown",
   "metadata": {},
   "source": [
    "# Acquire"
   ]
  },
  {
   "cell_type": "code",
   "execution_count": 3,
   "metadata": {},
   "outputs": [],
   "source": [
    "df = get_texas_data()"
   ]
  },
  {
   "cell_type": "code",
   "execution_count": 4,
   "metadata": {},
   "outputs": [
    {
     "name": "stdout",
     "output_type": "stream",
     "text": [
      "<class 'pandas.core.frame.DataFrame'>\n",
      "RangeIndex: 144738 entries, 0 to 144737\n",
      "Data columns (total 21 columns):\n",
      " #   Column                   Non-Null Count   Dtype  \n",
      "---  ------                   --------------   -----  \n",
      " 0   AGY                      144738 non-null  int64  \n",
      " 1   NAME                     144738 non-null  object \n",
      " 2   LASTNAME                 144738 non-null  object \n",
      " 3   FIRSTNAME                144738 non-null  object \n",
      " 4   MI                       144738 non-null  object \n",
      " 5   JOBCLASS                 144738 non-null  object \n",
      " 6   JC TITLE                 144738 non-null  object \n",
      " 7   RACE                     144738 non-null  object \n",
      " 8   SEX                      144738 non-null  object \n",
      " 9   EMPTYPE                  144738 non-null  object \n",
      " 10  HIREDT                   144738 non-null  object \n",
      " 11  RATE                     144738 non-null  float64\n",
      " 12  HRSWKD                   144738 non-null  float64\n",
      " 13  MONTHLY                  144738 non-null  float64\n",
      " 14  ANNUAL                   144738 non-null  float64\n",
      " 15  STATENUM                 144738 non-null  int64  \n",
      " 16  duplicated               76 non-null      object \n",
      " 17  multiple_full_time_jobs  18 non-null      object \n",
      " 18  combined_multiple_jobs   37 non-null      object \n",
      " 19  summed_annual_salary     11 non-null      float64\n",
      " 20  hide_from_search         11 non-null      object \n",
      "dtypes: float64(5), int64(2), object(14)\n",
      "memory usage: 23.2+ MB\n"
     ]
    }
   ],
   "source": [
    "df.info()"
   ]
  },
  {
   "cell_type": "markdown",
   "metadata": {},
   "source": [
    "# Prepare"
   ]
  },
  {
   "cell_type": "code",
   "execution_count": 5,
   "metadata": {},
   "outputs": [],
   "source": [
    "df = prepare_tex(df)"
   ]
  },
  {
   "cell_type": "code",
   "execution_count": 6,
   "metadata": {},
   "outputs": [
    {
     "name": "stdout",
     "output_type": "stream",
     "text": [
      "<class 'pandas.core.frame.DataFrame'>\n",
      "Int64Index: 144730 entries, 0 to 144737\n",
      "Data columns (total 12 columns):\n",
      " #   Column          Non-Null Count   Dtype         \n",
      "---  ------          --------------   -----         \n",
      " 0   agency_id       144730 non-null  int64         \n",
      " 1   agency          144730 non-null  object        \n",
      " 2   lastname        144730 non-null  object        \n",
      " 3   firstname       144730 non-null  object        \n",
      " 4   title           144730 non-null  object        \n",
      " 5   race            144730 non-null  object        \n",
      " 6   sex             144730 non-null  object        \n",
      " 7   emptype         144730 non-null  object        \n",
      " 8   hire_date       144730 non-null  datetime64[ns]\n",
      " 9   hours_worked    144730 non-null  float64       \n",
      " 10  monthly_salary  144730 non-null  float64       \n",
      " 11  annual_salary   144730 non-null  float64       \n",
      "dtypes: datetime64[ns](1), float64(3), int64(1), object(7)\n",
      "memory usage: 14.4+ MB\n"
     ]
    }
   ],
   "source": [
    "df.info()"
   ]
  },
  {
   "cell_type": "code",
   "execution_count": 7,
   "metadata": {},
   "outputs": [
    {
     "data": {
      "text/html": [
       "<div>\n",
       "<style scoped>\n",
       "    .dataframe tbody tr th:only-of-type {\n",
       "        vertical-align: middle;\n",
       "    }\n",
       "\n",
       "    .dataframe tbody tr th {\n",
       "        vertical-align: top;\n",
       "    }\n",
       "\n",
       "    .dataframe thead th {\n",
       "        text-align: right;\n",
       "    }\n",
       "</style>\n",
       "<table border=\"1\" class=\"dataframe\">\n",
       "  <thead>\n",
       "    <tr style=\"text-align: right;\">\n",
       "      <th></th>\n",
       "      <th>agency_id</th>\n",
       "      <th>agency</th>\n",
       "      <th>lastname</th>\n",
       "      <th>firstname</th>\n",
       "      <th>title</th>\n",
       "      <th>race</th>\n",
       "      <th>sex</th>\n",
       "      <th>emptype</th>\n",
       "      <th>hire_date</th>\n",
       "      <th>hours_worked</th>\n",
       "      <th>monthly_salary</th>\n",
       "      <th>annual_salary</th>\n",
       "    </tr>\n",
       "  </thead>\n",
       "  <tbody>\n",
       "    <tr>\n",
       "      <th>0</th>\n",
       "      <td>101</td>\n",
       "      <td>SENATE</td>\n",
       "      <td>GILLIAM</td>\n",
       "      <td>STACEY</td>\n",
       "      <td>LEG. OFFICIAL/ADMINISTRATOR</td>\n",
       "      <td>WHITE</td>\n",
       "      <td>FEMALE</td>\n",
       "      <td>URP - UNCLASSIFIED REGULAR PART-TIME</td>\n",
       "      <td>2013-07-01</td>\n",
       "      <td>20.0</td>\n",
       "      <td>8100.0</td>\n",
       "      <td>97200.0</td>\n",
       "    </tr>\n",
       "    <tr>\n",
       "      <th>1</th>\n",
       "      <td>104</td>\n",
       "      <td>LEGISLATIVE BUDGET BOARD</td>\n",
       "      <td>GILLIAM</td>\n",
       "      <td>STACEY</td>\n",
       "      <td>COMMITTEE DIRECTOR</td>\n",
       "      <td>WHITE</td>\n",
       "      <td>FEMALE</td>\n",
       "      <td>URP - UNCLASSIFIED REGULAR PART-TIME</td>\n",
       "      <td>2017-11-01</td>\n",
       "      <td>20.0</td>\n",
       "      <td>7000.0</td>\n",
       "      <td>84000.0</td>\n",
       "    </tr>\n",
       "    <tr>\n",
       "      <th>2</th>\n",
       "      <td>101</td>\n",
       "      <td>SENATE</td>\n",
       "      <td>NELSON</td>\n",
       "      <td>DAVID</td>\n",
       "      <td>LEG. OFFICIAL/ADMINISTRATOR</td>\n",
       "      <td>WHITE</td>\n",
       "      <td>MALE</td>\n",
       "      <td>URP - UNCLASSIFIED REGULAR PART-TIME</td>\n",
       "      <td>1998-12-01</td>\n",
       "      <td>20.0</td>\n",
       "      <td>9500.0</td>\n",
       "      <td>114000.0</td>\n",
       "    </tr>\n",
       "    <tr>\n",
       "      <th>3</th>\n",
       "      <td>104</td>\n",
       "      <td>LEGISLATIVE BUDGET BOARD</td>\n",
       "      <td>NELSON</td>\n",
       "      <td>DAVID</td>\n",
       "      <td>SENIOR BUDGET ADVISOR</td>\n",
       "      <td>WHITE</td>\n",
       "      <td>MALE</td>\n",
       "      <td>URP - UNCLASSIFIED REGULAR PART-TIME</td>\n",
       "      <td>2017-11-01</td>\n",
       "      <td>20.0</td>\n",
       "      <td>8000.0</td>\n",
       "      <td>96000.0</td>\n",
       "    </tr>\n",
       "    <tr>\n",
       "      <th>4</th>\n",
       "      <td>101</td>\n",
       "      <td>SENATE</td>\n",
       "      <td>ROCHA</td>\n",
       "      <td>MARIE</td>\n",
       "      <td>LEG. SERVICE/MAINTENANCE</td>\n",
       "      <td>HISPANIC</td>\n",
       "      <td>FEMALE</td>\n",
       "      <td>URF - UNCLASSIFIED REGULAR FULL-TIME</td>\n",
       "      <td>2003-05-01</td>\n",
       "      <td>41.0</td>\n",
       "      <td>3365.4</td>\n",
       "      <td>40384.8</td>\n",
       "    </tr>\n",
       "  </tbody>\n",
       "</table>\n",
       "</div>"
      ],
      "text/plain": [
       "   agency_id                    agency lastname firstname  \\\n",
       "0        101                    SENATE  GILLIAM    STACEY   \n",
       "1        104  LEGISLATIVE BUDGET BOARD  GILLIAM    STACEY   \n",
       "2        101                    SENATE   NELSON     DAVID   \n",
       "3        104  LEGISLATIVE BUDGET BOARD   NELSON     DAVID   \n",
       "4        101                    SENATE    ROCHA     MARIE   \n",
       "\n",
       "                         title      race     sex  \\\n",
       "0  LEG. OFFICIAL/ADMINISTRATOR     WHITE  FEMALE   \n",
       "1           COMMITTEE DIRECTOR     WHITE  FEMALE   \n",
       "2  LEG. OFFICIAL/ADMINISTRATOR     WHITE    MALE   \n",
       "3        SENIOR BUDGET ADVISOR     WHITE    MALE   \n",
       "4     LEG. SERVICE/MAINTENANCE  HISPANIC  FEMALE   \n",
       "\n",
       "                                emptype  hire_date  hours_worked  \\\n",
       "0  URP - UNCLASSIFIED REGULAR PART-TIME 2013-07-01          20.0   \n",
       "1  URP - UNCLASSIFIED REGULAR PART-TIME 2017-11-01          20.0   \n",
       "2  URP - UNCLASSIFIED REGULAR PART-TIME 1998-12-01          20.0   \n",
       "3  URP - UNCLASSIFIED REGULAR PART-TIME 2017-11-01          20.0   \n",
       "4  URF - UNCLASSIFIED REGULAR FULL-TIME 2003-05-01          41.0   \n",
       "\n",
       "   monthly_salary  annual_salary  \n",
       "0          8100.0        97200.0  \n",
       "1          7000.0        84000.0  \n",
       "2          9500.0       114000.0  \n",
       "3          8000.0        96000.0  \n",
       "4          3365.4        40384.8  "
      ]
     },
     "execution_count": 7,
     "metadata": {},
     "output_type": "execute_result"
    }
   ],
   "source": [
    "df.head()"
   ]
  },
  {
   "cell_type": "markdown",
   "metadata": {},
   "source": [
    "# Explore"
   ]
  },
  {
   "cell_type": "code",
   "execution_count": 8,
   "metadata": {},
   "outputs": [],
   "source": [
    "sample_df = df.sample(10000)"
   ]
  },
  {
   "cell_type": "code",
   "execution_count": 9,
   "metadata": {},
   "outputs": [
    {
     "data": {
      "text/plain": [
       "Index(['agency_id', 'agency', 'lastname', 'firstname', 'title', 'race', 'sex',\n",
       "       'emptype', 'hire_date', 'hours_worked', 'monthly_salary',\n",
       "       'annual_salary'],\n",
       "      dtype='object')"
      ]
     },
     "execution_count": 9,
     "metadata": {},
     "output_type": "execute_result"
    }
   ],
   "source": [
    "sample_df.columns"
   ]
  },
  {
   "cell_type": "code",
   "execution_count": 10,
   "metadata": {},
   "outputs": [
    {
     "data": {
      "text/plain": [
       "(array([64647.,     0., 39554.,     0.,  4419.,     0., 33963.,     0.,\n",
       "         1453.,   694.]),\n",
       " array([0. , 0.5, 1. , 1.5, 2. , 2.5, 3. , 3.5, 4. , 4.5, 5. ]),\n",
       " <BarContainer object of 10 artists>)"
      ]
     },
     "execution_count": 10,
     "metadata": {},
     "output_type": "execute_result"
    },
    {
     "data": {
      "image/png": "[encoded data removed]",
      "text/plain": [
       "<Figure size 432x288 with 1 Axes>"
      ]
     },
     "metadata": {
      "needs_background": "light"
     },
     "output_type": "display_data"
    }
   ],
   "source": [
    "plt.hist(df.race)"
   ]
  },
  {
   "cell_type": "code",
   "execution_count": 11,
   "metadata": {},
   "outputs": [
    {
     "data": {
      "text/plain": [
       "Index(['agency_id', 'agency', 'lastname', 'firstname', 'title', 'race', 'sex',\n",
       "       'emptype', 'hire_date', 'hours_worked', 'monthly_salary',\n",
       "       'annual_salary'],\n",
       "      dtype='object')"
      ]
     },
     "execution_count": 11,
     "metadata": {},
     "output_type": "execute_result"
    }
   ],
   "source": [
    "df.columns"
   ]
  },
  {
   "cell_type": "code",
   "execution_count": 12,
   "metadata": {},
   "outputs": [
    {
     "data": {
      "text/plain": [
       "WHITE        64647\n",
       "HISPANIC     39554\n",
       "BLACK        33963\n",
       "ASIAN         4419\n",
       "OTHER         1453\n",
       "AM INDIAN      694\n",
       "Name: race, dtype: int64"
      ]
     },
     "execution_count": 12,
     "metadata": {},
     "output_type": "execute_result"
    }
   ],
   "source": [
    "df.race.value_counts()"
   ]
  },
  {
   "cell_type": "code",
   "execution_count": 13,
   "metadata": {},
   "outputs": [],
   "source": [
    "label_encoder = LabelEncoder() ## creating my label encoder\n",
    "\n",
    "## creating a race column that is incoded for machine readable formate\n",
    "df['race_encoded'] = label_encoder.fit_transform(df['race'])"
   ]
  },
  {
   "cell_type": "code",
   "execution_count": 14,
   "metadata": {},
   "outputs": [
    {
     "data": {
      "text/plain": [
       "<AxesSubplot:>"
      ]
     },
     "execution_count": 14,
     "metadata": {},
     "output_type": "execute_result"
    },
    {
     "data": {
      "image/png": "[encoded data removed]",
      "text/plain": [
       "<Figure size 432x288 with 1 Axes>"
      ]
     },
     "metadata": {
      "needs_background": "light"
     },
     "output_type": "display_data"
    }
   ],
   "source": [
    "df.race.value_counts().hist()"
   ]
  },
  {
   "cell_type": "code",
   "execution_count": 15,
   "metadata": {},
   "outputs": [
    {
     "data": {
      "text/plain": [
       "5    64647\n",
       "3    39554\n",
       "2    33963\n",
       "1     4419\n",
       "4     1453\n",
       "0      694\n",
       "Name: race_encoded, dtype: int64"
      ]
     },
     "execution_count": 15,
     "metadata": {},
     "output_type": "execute_result"
    }
   ],
   "source": [
    "df.race_encoded.value_counts()"
   ]
  },
  {
   "cell_type": "code",
   "execution_count": 16,
   "metadata": {},
   "outputs": [
    {
     "data": {
      "text/plain": [
       "Index(['agency_id', 'agency', 'lastname', 'firstname', 'title', 'race', 'sex',\n",
       "       'emptype', 'hire_date', 'hours_worked', 'monthly_salary',\n",
       "       'annual_salary', 'race_encoded'],\n",
       "      dtype='object')"
      ]
     },
     "execution_count": 16,
     "metadata": {},
     "output_type": "execute_result"
    }
   ],
   "source": [
    "df.columns"
   ]
  },
  {
   "cell_type": "code",
   "execution_count": 17,
   "metadata": {},
   "outputs": [
    {
     "data": {
      "text/plain": [
       "0        2013-07-01\n",
       "1        2017-11-01\n",
       "2        1998-12-01\n",
       "3        2017-11-01\n",
       "4        2003-05-01\n",
       "            ...    \n",
       "144733   2016-11-01\n",
       "144734   2017-10-30\n",
       "144735   2015-07-13\n",
       "144736   2012-10-15\n",
       "144737   2012-02-16\n",
       "Name: hire_date, Length: 144730, dtype: datetime64[ns]"
      ]
     },
     "execution_count": 17,
     "metadata": {},
     "output_type": "execute_result"
    }
   ],
   "source": [
    "df.hire_date"
   ]
  },
  {
   "cell_type": "code",
   "execution_count": 18,
   "metadata": {},
   "outputs": [],
   "source": [
    "df = create_features(df)"
   ]
  },
  {
   "cell_type": "code",
   "execution_count": 19,
   "metadata": {},
   "outputs": [
    {
     "data": {
      "text/html": [
       "<div>\n",
       "<style scoped>\n",
       "    .dataframe tbody tr th:only-of-type {\n",
       "        vertical-align: middle;\n",
       "    }\n",
       "\n",
       "    .dataframe tbody tr th {\n",
       "        vertical-align: top;\n",
       "    }\n",
       "\n",
       "    .dataframe thead th {\n",
       "        text-align: right;\n",
       "    }\n",
       "</style>\n",
       "<table border=\"1\" class=\"dataframe\">\n",
       "  <thead>\n",
       "    <tr style=\"text-align: right;\">\n",
       "      <th></th>\n",
       "      <th>agency_id</th>\n",
       "      <th>agency</th>\n",
       "      <th>lastname</th>\n",
       "      <th>firstname</th>\n",
       "      <th>title</th>\n",
       "      <th>race</th>\n",
       "      <th>sex</th>\n",
       "      <th>emptype</th>\n",
       "      <th>hire_date</th>\n",
       "      <th>hours_worked</th>\n",
       "      <th>monthly_salary</th>\n",
       "      <th>annual_salary</th>\n",
       "      <th>race_encoded</th>\n",
       "      <th>is_female</th>\n",
       "      <th>is_white</th>\n",
       "      <th>is_hispanic</th>\n",
       "      <th>is_black</th>\n",
       "      <th>is_BIPOC</th>\n",
       "      <th>tenure_months</th>\n",
       "      <th>tenure_years</th>\n",
       "    </tr>\n",
       "  </thead>\n",
       "  <tbody>\n",
       "    <tr>\n",
       "      <th>0</th>\n",
       "      <td>101</td>\n",
       "      <td>SENATE</td>\n",
       "      <td>GILLIAM</td>\n",
       "      <td>STACEY</td>\n",
       "      <td>LEG. OFFICIAL/ADMINISTRATOR</td>\n",
       "      <td>WHITE</td>\n",
       "      <td>FEMALE</td>\n",
       "      <td>URP - UNCLASSIFIED REGULAR PART-TIME</td>\n",
       "      <td>2013-07-01</td>\n",
       "      <td>20.0</td>\n",
       "      <td>8100.0</td>\n",
       "      <td>97200.0</td>\n",
       "      <td>5</td>\n",
       "      <td>1</td>\n",
       "      <td>1</td>\n",
       "      <td>0</td>\n",
       "      <td>0</td>\n",
       "      <td>0</td>\n",
       "      <td>96</td>\n",
       "      <td>8.0</td>\n",
       "    </tr>\n",
       "    <tr>\n",
       "      <th>1</th>\n",
       "      <td>104</td>\n",
       "      <td>LEGISLATIVE BUDGET BOARD</td>\n",
       "      <td>GILLIAM</td>\n",
       "      <td>STACEY</td>\n",
       "      <td>COMMITTEE DIRECTOR</td>\n",
       "      <td>WHITE</td>\n",
       "      <td>FEMALE</td>\n",
       "      <td>URP - UNCLASSIFIED REGULAR PART-TIME</td>\n",
       "      <td>2017-11-01</td>\n",
       "      <td>20.0</td>\n",
       "      <td>7000.0</td>\n",
       "      <td>84000.0</td>\n",
       "      <td>5</td>\n",
       "      <td>1</td>\n",
       "      <td>1</td>\n",
       "      <td>0</td>\n",
       "      <td>0</td>\n",
       "      <td>0</td>\n",
       "      <td>44</td>\n",
       "      <td>3.7</td>\n",
       "    </tr>\n",
       "    <tr>\n",
       "      <th>2</th>\n",
       "      <td>101</td>\n",
       "      <td>SENATE</td>\n",
       "      <td>NELSON</td>\n",
       "      <td>DAVID</td>\n",
       "      <td>LEG. OFFICIAL/ADMINISTRATOR</td>\n",
       "      <td>WHITE</td>\n",
       "      <td>MALE</td>\n",
       "      <td>URP - UNCLASSIFIED REGULAR PART-TIME</td>\n",
       "      <td>1998-12-01</td>\n",
       "      <td>20.0</td>\n",
       "      <td>9500.0</td>\n",
       "      <td>114000.0</td>\n",
       "      <td>5</td>\n",
       "      <td>0</td>\n",
       "      <td>1</td>\n",
       "      <td>0</td>\n",
       "      <td>0</td>\n",
       "      <td>0</td>\n",
       "      <td>271</td>\n",
       "      <td>22.6</td>\n",
       "    </tr>\n",
       "    <tr>\n",
       "      <th>3</th>\n",
       "      <td>104</td>\n",
       "      <td>LEGISLATIVE BUDGET BOARD</td>\n",
       "      <td>NELSON</td>\n",
       "      <td>DAVID</td>\n",
       "      <td>SENIOR BUDGET ADVISOR</td>\n",
       "      <td>WHITE</td>\n",
       "      <td>MALE</td>\n",
       "      <td>URP - UNCLASSIFIED REGULAR PART-TIME</td>\n",
       "      <td>2017-11-01</td>\n",
       "      <td>20.0</td>\n",
       "      <td>8000.0</td>\n",
       "      <td>96000.0</td>\n",
       "      <td>5</td>\n",
       "      <td>0</td>\n",
       "      <td>1</td>\n",
       "      <td>0</td>\n",
       "      <td>0</td>\n",
       "      <td>0</td>\n",
       "      <td>44</td>\n",
       "      <td>3.7</td>\n",
       "    </tr>\n",
       "    <tr>\n",
       "      <th>4</th>\n",
       "      <td>101</td>\n",
       "      <td>SENATE</td>\n",
       "      <td>ROCHA</td>\n",
       "      <td>MARIE</td>\n",
       "      <td>LEG. SERVICE/MAINTENANCE</td>\n",
       "      <td>HISPANIC</td>\n",
       "      <td>FEMALE</td>\n",
       "      <td>URF - UNCLASSIFIED REGULAR FULL-TIME</td>\n",
       "      <td>2003-05-01</td>\n",
       "      <td>41.0</td>\n",
       "      <td>3365.4</td>\n",
       "      <td>40384.8</td>\n",
       "      <td>3</td>\n",
       "      <td>1</td>\n",
       "      <td>0</td>\n",
       "      <td>1</td>\n",
       "      <td>0</td>\n",
       "      <td>1</td>\n",
       "      <td>218</td>\n",
       "      <td>18.2</td>\n",
       "    </tr>\n",
       "  </tbody>\n",
       "</table>\n",
       "</div>"
      ],
      "text/plain": [
       "   agency_id                    agency lastname firstname  \\\n",
       "0        101                    SENATE  GILLIAM    STACEY   \n",
       "1        104  LEGISLATIVE BUDGET BOARD  GILLIAM    STACEY   \n",
       "2        101                    SENATE   NELSON     DAVID   \n",
       "3        104  LEGISLATIVE BUDGET BOARD   NELSON     DAVID   \n",
       "4        101                    SENATE    ROCHA     MARIE   \n",
       "\n",
       "                         title      race     sex  \\\n",
       "0  LEG. OFFICIAL/ADMINISTRATOR     WHITE  FEMALE   \n",
       "1           COMMITTEE DIRECTOR     WHITE  FEMALE   \n",
       "2  LEG. OFFICIAL/ADMINISTRATOR     WHITE    MALE   \n",
       "3        SENIOR BUDGET ADVISOR     WHITE    MALE   \n",
       "4     LEG. SERVICE/MAINTENANCE  HISPANIC  FEMALE   \n",
       "\n",
       "                                emptype  hire_date  hours_worked  \\\n",
       "0  URP - UNCLASSIFIED REGULAR PART-TIME 2013-07-01          20.0   \n",
       "1  URP - UNCLASSIFIED REGULAR PART-TIME 2017-11-01          20.0   \n",
       "2  URP - UNCLASSIFIED REGULAR PART-TIME 1998-12-01          20.0   \n",
       "3  URP - UNCLASSIFIED REGULAR PART-TIME 2017-11-01          20.0   \n",
       "4  URF - UNCLASSIFIED REGULAR FULL-TIME 2003-05-01          41.0   \n",
       "\n",
       "   monthly_salary  annual_salary  race_encoded  is_female  is_white  \\\n",
       "0          8100.0        97200.0             5          1         1   \n",
       "1          7000.0        84000.0             5          1         1   \n",
       "2          9500.0       114000.0             5          0         1   \n",
       "3          8000.0        96000.0             5          0         1   \n",
       "4          3365.4        40384.8             3          1         0   \n",
       "\n",
       "   is_hispanic  is_black  is_BIPOC  tenure_months  tenure_years  \n",
       "0            0         0         0             96           8.0  \n",
       "1            0         0         0             44           3.7  \n",
       "2            0         0         0            271          22.6  \n",
       "3            0         0         0             44           3.7  \n",
       "4            1         0         1            218          18.2  "
      ]
     },
     "execution_count": 19,
     "metadata": {},
     "output_type": "execute_result"
    }
   ],
   "source": [
    "df.head()"
   ]
  },
  {
   "cell_type": "code",
   "execution_count": 20,
   "metadata": {},
   "outputs": [
    {
     "data": {
      "text/plain": [
       "(597, 0)"
      ]
     },
     "execution_count": 20,
     "metadata": {},
     "output_type": "execute_result"
    }
   ],
   "source": [
    "df.tenure_months.max(), df.tenure_months.min()"
   ]
  },
  {
   "cell_type": "code",
   "execution_count": 21,
   "metadata": {},
   "outputs": [],
   "source": [
    "df.race = df.race.str.strip()"
   ]
  },
  {
   "cell_type": "code",
   "execution_count": 22,
   "metadata": {},
   "outputs": [],
   "source": [
    "df['is_BIPOC'] = np.where(df.race != 'WHITE', 1, 0)"
   ]
  },
  {
   "cell_type": "code",
   "execution_count": 23,
   "metadata": {},
   "outputs": [
    {
     "data": {
      "text/html": [
       "<div>\n",
       "<style scoped>\n",
       "    .dataframe tbody tr th:only-of-type {\n",
       "        vertical-align: middle;\n",
       "    }\n",
       "\n",
       "    .dataframe tbody tr th {\n",
       "        vertical-align: top;\n",
       "    }\n",
       "\n",
       "    .dataframe thead th {\n",
       "        text-align: right;\n",
       "    }\n",
       "</style>\n",
       "<table border=\"1\" class=\"dataframe\">\n",
       "  <thead>\n",
       "    <tr style=\"text-align: right;\">\n",
       "      <th></th>\n",
       "      <th>agency_id</th>\n",
       "      <th>agency</th>\n",
       "      <th>lastname</th>\n",
       "      <th>firstname</th>\n",
       "      <th>title</th>\n",
       "      <th>race</th>\n",
       "      <th>sex</th>\n",
       "      <th>emptype</th>\n",
       "      <th>hire_date</th>\n",
       "      <th>hours_worked</th>\n",
       "      <th>monthly_salary</th>\n",
       "      <th>annual_salary</th>\n",
       "      <th>race_encoded</th>\n",
       "      <th>is_female</th>\n",
       "      <th>is_white</th>\n",
       "      <th>is_hispanic</th>\n",
       "      <th>is_black</th>\n",
       "      <th>is_BIPOC</th>\n",
       "      <th>tenure_months</th>\n",
       "      <th>tenure_years</th>\n",
       "    </tr>\n",
       "  </thead>\n",
       "  <tbody>\n",
       "    <tr>\n",
       "      <th>0</th>\n",
       "      <td>101</td>\n",
       "      <td>SENATE</td>\n",
       "      <td>GILLIAM</td>\n",
       "      <td>STACEY</td>\n",
       "      <td>LEG. OFFICIAL/ADMINISTRATOR</td>\n",
       "      <td>WHITE</td>\n",
       "      <td>FEMALE</td>\n",
       "      <td>URP - UNCLASSIFIED REGULAR PART-TIME</td>\n",
       "      <td>2013-07-01</td>\n",
       "      <td>20.0</td>\n",
       "      <td>8100.0</td>\n",
       "      <td>97200.0</td>\n",
       "      <td>5</td>\n",
       "      <td>1</td>\n",
       "      <td>1</td>\n",
       "      <td>0</td>\n",
       "      <td>0</td>\n",
       "      <td>0</td>\n",
       "      <td>96</td>\n",
       "      <td>8.0</td>\n",
       "    </tr>\n",
       "    <tr>\n",
       "      <th>1</th>\n",
       "      <td>104</td>\n",
       "      <td>LEGISLATIVE BUDGET BOARD</td>\n",
       "      <td>GILLIAM</td>\n",
       "      <td>STACEY</td>\n",
       "      <td>COMMITTEE DIRECTOR</td>\n",
       "      <td>WHITE</td>\n",
       "      <td>FEMALE</td>\n",
       "      <td>URP - UNCLASSIFIED REGULAR PART-TIME</td>\n",
       "      <td>2017-11-01</td>\n",
       "      <td>20.0</td>\n",
       "      <td>7000.0</td>\n",
       "      <td>84000.0</td>\n",
       "      <td>5</td>\n",
       "      <td>1</td>\n",
       "      <td>1</td>\n",
       "      <td>0</td>\n",
       "      <td>0</td>\n",
       "      <td>0</td>\n",
       "      <td>44</td>\n",
       "      <td>3.7</td>\n",
       "    </tr>\n",
       "    <tr>\n",
       "      <th>2</th>\n",
       "      <td>101</td>\n",
       "      <td>SENATE</td>\n",
       "      <td>NELSON</td>\n",
       "      <td>DAVID</td>\n",
       "      <td>LEG. OFFICIAL/ADMINISTRATOR</td>\n",
       "      <td>WHITE</td>\n",
       "      <td>MALE</td>\n",
       "      <td>URP - UNCLASSIFIED REGULAR PART-TIME</td>\n",
       "      <td>1998-12-01</td>\n",
       "      <td>20.0</td>\n",
       "      <td>9500.0</td>\n",
       "      <td>114000.0</td>\n",
       "      <td>5</td>\n",
       "      <td>0</td>\n",
       "      <td>1</td>\n",
       "      <td>0</td>\n",
       "      <td>0</td>\n",
       "      <td>0</td>\n",
       "      <td>271</td>\n",
       "      <td>22.6</td>\n",
       "    </tr>\n",
       "    <tr>\n",
       "      <th>3</th>\n",
       "      <td>104</td>\n",
       "      <td>LEGISLATIVE BUDGET BOARD</td>\n",
       "      <td>NELSON</td>\n",
       "      <td>DAVID</td>\n",
       "      <td>SENIOR BUDGET ADVISOR</td>\n",
       "      <td>WHITE</td>\n",
       "      <td>MALE</td>\n",
       "      <td>URP - UNCLASSIFIED REGULAR PART-TIME</td>\n",
       "      <td>2017-11-01</td>\n",
       "      <td>20.0</td>\n",
       "      <td>8000.0</td>\n",
       "      <td>96000.0</td>\n",
       "      <td>5</td>\n",
       "      <td>0</td>\n",
       "      <td>1</td>\n",
       "      <td>0</td>\n",
       "      <td>0</td>\n",
       "      <td>0</td>\n",
       "      <td>44</td>\n",
       "      <td>3.7</td>\n",
       "    </tr>\n",
       "    <tr>\n",
       "      <th>4</th>\n",
       "      <td>101</td>\n",
       "      <td>SENATE</td>\n",
       "      <td>ROCHA</td>\n",
       "      <td>MARIE</td>\n",
       "      <td>LEG. SERVICE/MAINTENANCE</td>\n",
       "      <td>HISPANIC</td>\n",
       "      <td>FEMALE</td>\n",
       "      <td>URF - UNCLASSIFIED REGULAR FULL-TIME</td>\n",
       "      <td>2003-05-01</td>\n",
       "      <td>41.0</td>\n",
       "      <td>3365.4</td>\n",
       "      <td>40384.8</td>\n",
       "      <td>3</td>\n",
       "      <td>1</td>\n",
       "      <td>0</td>\n",
       "      <td>1</td>\n",
       "      <td>0</td>\n",
       "      <td>1</td>\n",
       "      <td>218</td>\n",
       "      <td>18.2</td>\n",
       "    </tr>\n",
       "  </tbody>\n",
       "</table>\n",
       "</div>"
      ],
      "text/plain": [
       "   agency_id                    agency lastname firstname  \\\n",
       "0        101                    SENATE  GILLIAM    STACEY   \n",
       "1        104  LEGISLATIVE BUDGET BOARD  GILLIAM    STACEY   \n",
       "2        101                    SENATE   NELSON     DAVID   \n",
       "3        104  LEGISLATIVE BUDGET BOARD   NELSON     DAVID   \n",
       "4        101                    SENATE    ROCHA     MARIE   \n",
       "\n",
       "                         title      race     sex  \\\n",
       "0  LEG. OFFICIAL/ADMINISTRATOR     WHITE  FEMALE   \n",
       "1           COMMITTEE DIRECTOR     WHITE  FEMALE   \n",
       "2  LEG. OFFICIAL/ADMINISTRATOR     WHITE    MALE   \n",
       "3        SENIOR BUDGET ADVISOR     WHITE    MALE   \n",
       "4     LEG. SERVICE/MAINTENANCE  HISPANIC  FEMALE   \n",
       "\n",
       "                                emptype  hire_date  hours_worked  \\\n",
       "0  URP - UNCLASSIFIED REGULAR PART-TIME 2013-07-01          20.0   \n",
       "1  URP - UNCLASSIFIED REGULAR PART-TIME 2017-11-01          20.0   \n",
       "2  URP - UNCLASSIFIED REGULAR PART-TIME 1998-12-01          20.0   \n",
       "3  URP - UNCLASSIFIED REGULAR PART-TIME 2017-11-01          20.0   \n",
       "4  URF - UNCLASSIFIED REGULAR FULL-TIME 2003-05-01          41.0   \n",
       "\n",
       "   monthly_salary  annual_salary  race_encoded  is_female  is_white  \\\n",
       "0          8100.0        97200.0             5          1         1   \n",
       "1          7000.0        84000.0             5          1         1   \n",
       "2          9500.0       114000.0             5          0         1   \n",
       "3          8000.0        96000.0             5          0         1   \n",
       "4          3365.4        40384.8             3          1         0   \n",
       "\n",
       "   is_hispanic  is_black  is_BIPOC  tenure_months  tenure_years  \n",
       "0            0         0         0             96           8.0  \n",
       "1            0         0         0             44           3.7  \n",
       "2            0         0         0            271          22.6  \n",
       "3            0         0         0             44           3.7  \n",
       "4            1         0         1            218          18.2  "
      ]
     },
     "execution_count": 23,
     "metadata": {},
     "output_type": "execute_result"
    }
   ],
   "source": [
    "df.head()"
   ]
  },
  {
   "cell_type": "code",
   "execution_count": 24,
   "metadata": {},
   "outputs": [
    {
     "data": {
      "text/plain": [
       "1    80083\n",
       "0    64647\n",
       "Name: is_BIPOC, dtype: int64"
      ]
     },
     "execution_count": 24,
     "metadata": {},
     "output_type": "execute_result"
    }
   ],
   "source": [
    "df.is_BIPOC.value_counts()"
   ]
  },
  {
   "cell_type": "markdown",
   "metadata": {},
   "source": [
    "## Split the data"
   ]
  },
  {
   "cell_type": "code",
   "execution_count": 25,
   "metadata": {},
   "outputs": [
    {
     "name": "stdout",
     "output_type": "stream",
     "text": [
      "Making Sure Our Shapes Look Good\n",
      "Train: (81048, 20), Validate: (34736, 20), Test: (28946, 20)\n"
     ]
    }
   ],
   "source": [
    "train, validate, test = split_data(df)"
   ]
  },
  {
   "cell_type": "code",
   "execution_count": 26,
   "metadata": {},
   "outputs": [
    {
     "data": {
      "text/plain": [
       "<seaborn.axisgrid.FacetGrid at 0x7fd6b8d1b220>"
      ]
     },
     "execution_count": 26,
     "metadata": {},
     "output_type": "execute_result"
    },
    {
     "data": {
      "image/png": "[encoded data removed]",
      "text/plain": [
       "<Figure size 360x360 with 1 Axes>"
      ]
     },
     "metadata": {
      "needs_background": "light"
     },
     "output_type": "display_data"
    }
   ],
   "source": [
    "sns.relplot(x='tenure_years', y='annual_salary', data=train)"
   ]
  },
  {
   "cell_type": "code",
   "execution_count": 27,
   "metadata": {},
   "outputs": [],
   "source": [
    "df['is_elected'] = np.where((df.title == 'ELECTED OFFICIAL') | \n",
    "                            (df.title == 'JUSTICE') |\n",
    "                            (df.title == 'ATTORNEY GENERAL') |\n",
    "                            (df.title == 'GOVERNOR') | \n",
    "                            (df.title == 'LIEUTENANT GOVERNOR') |\n",
    "                            (df.title == 'COMPTROLLER OF PUBLIC ACCOUNTS') |\n",
    "                            (df.title.str.startswith('COMMISSIONER'))\n",
    "                            , 1, 0)"
   ]
  },
  {
   "cell_type": "code",
   "execution_count": null,
   "metadata": {},
   "outputs": [],
   "source": []
  },
  {
   "cell_type": "code",
   "execution_count": 28,
   "metadata": {},
   "outputs": [
    {
     "data": {
      "text/plain": [
       "0    144456\n",
       "1       274\n",
       "Name: is_elected, dtype: int64"
      ]
     },
     "execution_count": 28,
     "metadata": {},
     "output_type": "execute_result"
    }
   ],
   "source": [
    "df.is_elected.value_counts()"
   ]
  },
  {
   "cell_type": "code",
   "execution_count": 35,
   "metadata": {},
   "outputs": [
    {
     "data": {
      "text/html": [
       "<div>\n",
       "<style scoped>\n",
       "    .dataframe tbody tr th:only-of-type {\n",
       "        vertical-align: middle;\n",
       "    }\n",
       "\n",
       "    .dataframe tbody tr th {\n",
       "        vertical-align: top;\n",
       "    }\n",
       "\n",
       "    .dataframe thead th {\n",
       "        text-align: right;\n",
       "    }\n",
       "</style>\n",
       "<table border=\"1\" class=\"dataframe\">\n",
       "  <thead>\n",
       "    <tr style=\"text-align: right;\">\n",
       "      <th></th>\n",
       "      <th>agency_id</th>\n",
       "      <th>agency</th>\n",
       "      <th>lastname</th>\n",
       "      <th>firstname</th>\n",
       "      <th>title</th>\n",
       "      <th>race</th>\n",
       "      <th>sex</th>\n",
       "      <th>emptype</th>\n",
       "      <th>hire_date</th>\n",
       "      <th>hours_worked</th>\n",
       "      <th>...</th>\n",
       "      <th>annual_salary</th>\n",
       "      <th>race_encoded</th>\n",
       "      <th>is_female</th>\n",
       "      <th>is_white</th>\n",
       "      <th>is_hispanic</th>\n",
       "      <th>is_black</th>\n",
       "      <th>is_BIPOC</th>\n",
       "      <th>tenure_months</th>\n",
       "      <th>tenure_years</th>\n",
       "      <th>is_elected</th>\n",
       "    </tr>\n",
       "  </thead>\n",
       "  <tbody>\n",
       "    <tr>\n",
       "      <th>89</th>\n",
       "      <td>101</td>\n",
       "      <td>SENATE</td>\n",
       "      <td>ALVARADO</td>\n",
       "      <td>CAROL</td>\n",
       "      <td>ELECTED OFFICIAL</td>\n",
       "      <td>HISPANIC</td>\n",
       "      <td>FEMALE</td>\n",
       "      <td>URF - UNCLASSIFIED REGULAR FULL-TIME</td>\n",
       "      <td>2018-12-21</td>\n",
       "      <td>40.0</td>\n",
       "      <td>...</td>\n",
       "      <td>7200.00</td>\n",
       "      <td>3</td>\n",
       "      <td>1</td>\n",
       "      <td>0</td>\n",
       "      <td>1</td>\n",
       "      <td>0</td>\n",
       "      <td>1</td>\n",
       "      <td>30</td>\n",
       "      <td>2.5</td>\n",
       "      <td>1</td>\n",
       "    </tr>\n",
       "    <tr>\n",
       "      <th>117</th>\n",
       "      <td>101</td>\n",
       "      <td>SENATE</td>\n",
       "      <td>BETTENCOURT</td>\n",
       "      <td>PAUL</td>\n",
       "      <td>ELECTED OFFICIAL</td>\n",
       "      <td>WHITE</td>\n",
       "      <td>MALE</td>\n",
       "      <td>URF - UNCLASSIFIED REGULAR FULL-TIME</td>\n",
       "      <td>2015-01-13</td>\n",
       "      <td>40.0</td>\n",
       "      <td>...</td>\n",
       "      <td>7200.00</td>\n",
       "      <td>5</td>\n",
       "      <td>0</td>\n",
       "      <td>1</td>\n",
       "      <td>0</td>\n",
       "      <td>0</td>\n",
       "      <td>0</td>\n",
       "      <td>78</td>\n",
       "      <td>6.5</td>\n",
       "      <td>1</td>\n",
       "    </tr>\n",
       "    <tr>\n",
       "      <th>121</th>\n",
       "      <td>101</td>\n",
       "      <td>SENATE</td>\n",
       "      <td>BIRDWELL</td>\n",
       "      <td>BRIAN</td>\n",
       "      <td>ELECTED OFFICIAL</td>\n",
       "      <td>WHITE</td>\n",
       "      <td>MALE</td>\n",
       "      <td>URF - UNCLASSIFIED REGULAR FULL-TIME</td>\n",
       "      <td>2010-07-02</td>\n",
       "      <td>40.0</td>\n",
       "      <td>...</td>\n",
       "      <td>7200.00</td>\n",
       "      <td>5</td>\n",
       "      <td>0</td>\n",
       "      <td>1</td>\n",
       "      <td>0</td>\n",
       "      <td>0</td>\n",
       "      <td>0</td>\n",
       "      <td>132</td>\n",
       "      <td>11.0</td>\n",
       "      <td>1</td>\n",
       "    </tr>\n",
       "    <tr>\n",
       "      <th>122</th>\n",
       "      <td>101</td>\n",
       "      <td>SENATE</td>\n",
       "      <td>BLANCO</td>\n",
       "      <td>CESAR</td>\n",
       "      <td>ELECTED OFFICIAL</td>\n",
       "      <td>HISPANIC</td>\n",
       "      <td>MALE</td>\n",
       "      <td>URF - UNCLASSIFIED REGULAR FULL-TIME</td>\n",
       "      <td>2021-01-12</td>\n",
       "      <td>40.0</td>\n",
       "      <td>...</td>\n",
       "      <td>7200.00</td>\n",
       "      <td>3</td>\n",
       "      <td>0</td>\n",
       "      <td>0</td>\n",
       "      <td>1</td>\n",
       "      <td>0</td>\n",
       "      <td>1</td>\n",
       "      <td>6</td>\n",
       "      <td>0.5</td>\n",
       "      <td>1</td>\n",
       "    </tr>\n",
       "    <tr>\n",
       "      <th>144</th>\n",
       "      <td>101</td>\n",
       "      <td>SENATE</td>\n",
       "      <td>BUCKINGHAM</td>\n",
       "      <td>DAWN</td>\n",
       "      <td>ELECTED OFFICIAL</td>\n",
       "      <td>WHITE</td>\n",
       "      <td>FEMALE</td>\n",
       "      <td>URF - UNCLASSIFIED REGULAR FULL-TIME</td>\n",
       "      <td>2017-01-10</td>\n",
       "      <td>40.0</td>\n",
       "      <td>...</td>\n",
       "      <td>7200.00</td>\n",
       "      <td>5</td>\n",
       "      <td>1</td>\n",
       "      <td>1</td>\n",
       "      <td>0</td>\n",
       "      <td>0</td>\n",
       "      <td>0</td>\n",
       "      <td>54</td>\n",
       "      <td>4.5</td>\n",
       "      <td>1</td>\n",
       "    </tr>\n",
       "    <tr>\n",
       "      <th>...</th>\n",
       "      <td>...</td>\n",
       "      <td>...</td>\n",
       "      <td>...</td>\n",
       "      <td>...</td>\n",
       "      <td>...</td>\n",
       "      <td>...</td>\n",
       "      <td>...</td>\n",
       "      <td>...</td>\n",
       "      <td>...</td>\n",
       "      <td>...</td>\n",
       "      <td>...</td>\n",
       "      <td>...</td>\n",
       "      <td>...</td>\n",
       "      <td>...</td>\n",
       "      <td>...</td>\n",
       "      <td>...</td>\n",
       "      <td>...</td>\n",
       "      <td>...</td>\n",
       "      <td>...</td>\n",
       "      <td>...</td>\n",
       "      <td>...</td>\n",
       "    </tr>\n",
       "    <tr>\n",
       "      <th>142416</th>\n",
       "      <td>312</td>\n",
       "      <td>SECURITIES BOARD</td>\n",
       "      <td>ILES</td>\n",
       "      <td>TRAVIS</td>\n",
       "      <td>COMMISSIONER, SSB</td>\n",
       "      <td>WHITE</td>\n",
       "      <td>MALE</td>\n",
       "      <td>ERF - EXEMPT REGULAR FULL-TIME</td>\n",
       "      <td>2001-10-29</td>\n",
       "      <td>40.0</td>\n",
       "      <td>...</td>\n",
       "      <td>162490.92</td>\n",
       "      <td>5</td>\n",
       "      <td>0</td>\n",
       "      <td>1</td>\n",
       "      <td>0</td>\n",
       "      <td>0</td>\n",
       "      <td>0</td>\n",
       "      <td>236</td>\n",
       "      <td>19.7</td>\n",
       "      <td>1</td>\n",
       "    </tr>\n",
       "    <tr>\n",
       "      <th>142943</th>\n",
       "      <td>450</td>\n",
       "      <td>SAVINGS AND LOAN DEPARTMENT</td>\n",
       "      <td>JONES</td>\n",
       "      <td>CAROLINE</td>\n",
       "      <td>COMMISSIONER</td>\n",
       "      <td>WHITE</td>\n",
       "      <td>FEMALE</td>\n",
       "      <td>ERF - EXEMPT REGULAR FULL-TIME</td>\n",
       "      <td>2008-03-01</td>\n",
       "      <td>40.0</td>\n",
       "      <td>...</td>\n",
       "      <td>194749.92</td>\n",
       "      <td>5</td>\n",
       "      <td>1</td>\n",
       "      <td>1</td>\n",
       "      <td>0</td>\n",
       "      <td>0</td>\n",
       "      <td>0</td>\n",
       "      <td>160</td>\n",
       "      <td>13.3</td>\n",
       "      <td>1</td>\n",
       "    </tr>\n",
       "    <tr>\n",
       "      <th>143007</th>\n",
       "      <td>451</td>\n",
       "      <td>DEPARTMENT OF BANKING</td>\n",
       "      <td>COOPER</td>\n",
       "      <td>CHARLES</td>\n",
       "      <td>COMMISSIONER</td>\n",
       "      <td>WHITE</td>\n",
       "      <td>MALE</td>\n",
       "      <td>ERF - EXEMPT REGULAR FULL-TIME</td>\n",
       "      <td>2008-12-01</td>\n",
       "      <td>40.0</td>\n",
       "      <td>...</td>\n",
       "      <td>242925.00</td>\n",
       "      <td>5</td>\n",
       "      <td>0</td>\n",
       "      <td>1</td>\n",
       "      <td>0</td>\n",
       "      <td>0</td>\n",
       "      <td>0</td>\n",
       "      <td>151</td>\n",
       "      <td>12.6</td>\n",
       "      <td>1</td>\n",
       "    </tr>\n",
       "    <tr>\n",
       "      <th>143231</th>\n",
       "      <td>466</td>\n",
       "      <td>CONSUMER CREDIT COMMISSION</td>\n",
       "      <td>PETTIJOHN</td>\n",
       "      <td>LESLIE</td>\n",
       "      <td>COMMISSIONER</td>\n",
       "      <td>WHITE</td>\n",
       "      <td>FEMALE</td>\n",
       "      <td>ERF - EXEMPT REGULAR FULL-TIME</td>\n",
       "      <td>1987-07-20</td>\n",
       "      <td>40.0</td>\n",
       "      <td>...</td>\n",
       "      <td>195999.96</td>\n",
       "      <td>5</td>\n",
       "      <td>1</td>\n",
       "      <td>1</td>\n",
       "      <td>0</td>\n",
       "      <td>0</td>\n",
       "      <td>0</td>\n",
       "      <td>407</td>\n",
       "      <td>33.9</td>\n",
       "      <td>1</td>\n",
       "    </tr>\n",
       "    <tr>\n",
       "      <th>143860</th>\n",
       "      <td>551</td>\n",
       "      <td>DEPARTMENT OF AGRICULTURE</td>\n",
       "      <td>MILLER</td>\n",
       "      <td>SIDNEY</td>\n",
       "      <td>COMMISSIONER, DEPT OF AGRIC</td>\n",
       "      <td>WHITE</td>\n",
       "      <td>MALE</td>\n",
       "      <td>ERF - EXEMPT REGULAR FULL-TIME</td>\n",
       "      <td>2015-01-01</td>\n",
       "      <td>40.0</td>\n",
       "      <td>...</td>\n",
       "      <td>140937.96</td>\n",
       "      <td>5</td>\n",
       "      <td>0</td>\n",
       "      <td>1</td>\n",
       "      <td>0</td>\n",
       "      <td>0</td>\n",
       "      <td>0</td>\n",
       "      <td>78</td>\n",
       "      <td>6.5</td>\n",
       "      <td>1</td>\n",
       "    </tr>\n",
       "  </tbody>\n",
       "</table>\n",
       "<p>274 rows × 21 columns</p>\n",
       "</div>"
      ],
      "text/plain": [
       "        agency_id                       agency     lastname firstname  \\\n",
       "89            101                       SENATE     ALVARADO     CAROL   \n",
       "117           101                       SENATE  BETTENCOURT      PAUL   \n",
       "121           101                       SENATE     BIRDWELL     BRIAN   \n",
       "122           101                       SENATE       BLANCO     CESAR   \n",
       "144           101                       SENATE   BUCKINGHAM      DAWN   \n",
       "...           ...                          ...          ...       ...   \n",
       "142416        312             SECURITIES BOARD         ILES    TRAVIS   \n",
       "142943        450  SAVINGS AND LOAN DEPARTMENT        JONES  CAROLINE   \n",
       "143007        451        DEPARTMENT OF BANKING       COOPER   CHARLES   \n",
       "143231        466   CONSUMER CREDIT COMMISSION    PETTIJOHN    LESLIE   \n",
       "143860        551    DEPARTMENT OF AGRICULTURE       MILLER    SIDNEY   \n",
       "\n",
       "                              title      race     sex  \\\n",
       "89                 ELECTED OFFICIAL  HISPANIC  FEMALE   \n",
       "117                ELECTED OFFICIAL     WHITE    MALE   \n",
       "121                ELECTED OFFICIAL     WHITE    MALE   \n",
       "122                ELECTED OFFICIAL  HISPANIC    MALE   \n",
       "144                ELECTED OFFICIAL     WHITE  FEMALE   \n",
       "...                             ...       ...     ...   \n",
       "142416            COMMISSIONER, SSB     WHITE    MALE   \n",
       "142943                 COMMISSIONER     WHITE  FEMALE   \n",
       "143007                 COMMISSIONER     WHITE    MALE   \n",
       "143231                 COMMISSIONER     WHITE  FEMALE   \n",
       "143860  COMMISSIONER, DEPT OF AGRIC     WHITE    MALE   \n",
       "\n",
       "                                     emptype  hire_date  hours_worked  ...  \\\n",
       "89      URF - UNCLASSIFIED REGULAR FULL-TIME 2018-12-21          40.0  ...   \n",
       "117     URF - UNCLASSIFIED REGULAR FULL-TIME 2015-01-13          40.0  ...   \n",
       "121     URF - UNCLASSIFIED REGULAR FULL-TIME 2010-07-02          40.0  ...   \n",
       "122     URF - UNCLASSIFIED REGULAR FULL-TIME 2021-01-12          40.0  ...   \n",
       "144     URF - UNCLASSIFIED REGULAR FULL-TIME 2017-01-10          40.0  ...   \n",
       "...                                      ...        ...           ...  ...   \n",
       "142416        ERF - EXEMPT REGULAR FULL-TIME 2001-10-29          40.0  ...   \n",
       "142943        ERF - EXEMPT REGULAR FULL-TIME 2008-03-01          40.0  ...   \n",
       "143007        ERF - EXEMPT REGULAR FULL-TIME 2008-12-01          40.0  ...   \n",
       "143231        ERF - EXEMPT REGULAR FULL-TIME 1987-07-20          40.0  ...   \n",
       "143860        ERF - EXEMPT REGULAR FULL-TIME 2015-01-01          40.0  ...   \n",
       "\n",
       "        annual_salary  race_encoded  is_female  is_white  is_hispanic  \\\n",
       "89            7200.00             3          1         0            1   \n",
       "117           7200.00             5          0         1            0   \n",
       "121           7200.00             5          0         1            0   \n",
       "122           7200.00             3          0         0            1   \n",
       "144           7200.00             5          1         1            0   \n",
       "...               ...           ...        ...       ...          ...   \n",
       "142416      162490.92             5          0         1            0   \n",
       "142943      194749.92             5          1         1            0   \n",
       "143007      242925.00             5          0         1            0   \n",
       "143231      195999.96             5          1         1            0   \n",
       "143860      140937.96             5          0         1            0   \n",
       "\n",
       "        is_black  is_BIPOC  tenure_months  tenure_years  is_elected  \n",
       "89             0         1             30           2.5           1  \n",
       "117            0         0             78           6.5           1  \n",
       "121            0         0            132          11.0           1  \n",
       "122            0         1              6           0.5           1  \n",
       "144            0         0             54           4.5           1  \n",
       "...          ...       ...            ...           ...         ...  \n",
       "142416         0         0            236          19.7           1  \n",
       "142943         0         0            160          13.3           1  \n",
       "143007         0         0            151          12.6           1  \n",
       "143231         0         0            407          33.9           1  \n",
       "143860         0         0             78           6.5           1  \n",
       "\n",
       "[274 rows x 21 columns]"
      ]
     },
     "execution_count": 35,
     "metadata": {},
     "output_type": "execute_result"
    }
   ],
   "source": [
    "df[df.is_elected == 1]"
   ]
  },
  {
   "cell_type": "code",
   "execution_count": 29,
   "metadata": {},
   "outputs": [
    {
     "data": {
      "text/plain": [
       "{'GOVERNOR': 4122}"
      ]
     },
     "execution_count": 29,
     "metadata": {},
     "output_type": "execute_result"
    }
   ],
   "source": [
    "{'GOVERNOR': 4122}"
   ]
  },
  {
   "cell_type": "code",
   "execution_count": 30,
   "metadata": {},
   "outputs": [
    {
     "data": {
      "text/html": [
       "<div>\n",
       "<style scoped>\n",
       "    .dataframe tbody tr th:only-of-type {\n",
       "        vertical-align: middle;\n",
       "    }\n",
       "\n",
       "    .dataframe tbody tr th {\n",
       "        vertical-align: top;\n",
       "    }\n",
       "\n",
       "    .dataframe thead th {\n",
       "        text-align: right;\n",
       "    }\n",
       "</style>\n",
       "<table border=\"1\" class=\"dataframe\">\n",
       "  <thead>\n",
       "    <tr style=\"text-align: right;\">\n",
       "      <th></th>\n",
       "      <th>agency_id</th>\n",
       "      <th>agency</th>\n",
       "      <th>lastname</th>\n",
       "      <th>firstname</th>\n",
       "      <th>title</th>\n",
       "      <th>race</th>\n",
       "      <th>sex</th>\n",
       "      <th>emptype</th>\n",
       "      <th>hire_date</th>\n",
       "      <th>hours_worked</th>\n",
       "      <th>...</th>\n",
       "      <th>annual_salary</th>\n",
       "      <th>race_encoded</th>\n",
       "      <th>is_female</th>\n",
       "      <th>is_white</th>\n",
       "      <th>is_hispanic</th>\n",
       "      <th>is_black</th>\n",
       "      <th>is_BIPOC</th>\n",
       "      <th>tenure_months</th>\n",
       "      <th>tenure_years</th>\n",
       "      <th>is_elected</th>\n",
       "    </tr>\n",
       "  </thead>\n",
       "  <tbody>\n",
       "    <tr>\n",
       "      <th>471</th>\n",
       "      <td>101</td>\n",
       "      <td>SENATE</td>\n",
       "      <td>PAXTON</td>\n",
       "      <td>ANGELA</td>\n",
       "      <td>ELECTED OFFICIAL</td>\n",
       "      <td>WHITE</td>\n",
       "      <td>FEMALE</td>\n",
       "      <td>URF - UNCLASSIFIED REGULAR FULL-TIME</td>\n",
       "      <td>2019-01-08</td>\n",
       "      <td>40.0</td>\n",
       "      <td>...</td>\n",
       "      <td>7200.00</td>\n",
       "      <td>5</td>\n",
       "      <td>1</td>\n",
       "      <td>1</td>\n",
       "      <td>0</td>\n",
       "      <td>0</td>\n",
       "      <td>0</td>\n",
       "      <td>30</td>\n",
       "      <td>2.5</td>\n",
       "      <td>1</td>\n",
       "    </tr>\n",
       "    <tr>\n",
       "      <th>1240</th>\n",
       "      <td>102</td>\n",
       "      <td>HOUSE OF REPRESENTATIVES</td>\n",
       "      <td>PAXTON</td>\n",
       "      <td>CHRISTOPHER</td>\n",
       "      <td>ELECTED OFFICIALS STAFF</td>\n",
       "      <td>WHITE</td>\n",
       "      <td>MALE</td>\n",
       "      <td>URF - UNCLASSIFIED REGULAR FULL-TIME</td>\n",
       "      <td>2019-01-08</td>\n",
       "      <td>40.0</td>\n",
       "      <td>...</td>\n",
       "      <td>34350.24</td>\n",
       "      <td>5</td>\n",
       "      <td>0</td>\n",
       "      <td>1</td>\n",
       "      <td>0</td>\n",
       "      <td>0</td>\n",
       "      <td>0</td>\n",
       "      <td>30</td>\n",
       "      <td>2.5</td>\n",
       "      <td>0</td>\n",
       "    </tr>\n",
       "    <tr>\n",
       "      <th>26673</th>\n",
       "      <td>405</td>\n",
       "      <td>DEPARTMENT OF PUBLIC SAFETY</td>\n",
       "      <td>PAXTON</td>\n",
       "      <td>LAURA</td>\n",
       "      <td>LICENSE AND PERMIT SPEC III</td>\n",
       "      <td>WHITE</td>\n",
       "      <td>FEMALE</td>\n",
       "      <td>CRF - CLASSIFIED REGULAR FULL-TIME</td>\n",
       "      <td>2017-07-15</td>\n",
       "      <td>40.0</td>\n",
       "      <td>...</td>\n",
       "      <td>43040.64</td>\n",
       "      <td>5</td>\n",
       "      <td>1</td>\n",
       "      <td>1</td>\n",
       "      <td>0</td>\n",
       "      <td>0</td>\n",
       "      <td>0</td>\n",
       "      <td>48</td>\n",
       "      <td>4.0</td>\n",
       "      <td>0</td>\n",
       "    </tr>\n",
       "    <tr>\n",
       "      <th>57958</th>\n",
       "      <td>529</td>\n",
       "      <td>HEALTH AND HUMAN SERVICES COMMISSION</td>\n",
       "      <td>PAXTON</td>\n",
       "      <td>MARIA</td>\n",
       "      <td>REHABILITATION TEACHER II</td>\n",
       "      <td>HISPANIC</td>\n",
       "      <td>FEMALE</td>\n",
       "      <td>CRF - CLASSIFIED REGULAR FULL-TIME</td>\n",
       "      <td>2020-06-15</td>\n",
       "      <td>40.0</td>\n",
       "      <td>...</td>\n",
       "      <td>40138.92</td>\n",
       "      <td>3</td>\n",
       "      <td>1</td>\n",
       "      <td>0</td>\n",
       "      <td>1</td>\n",
       "      <td>0</td>\n",
       "      <td>1</td>\n",
       "      <td>13</td>\n",
       "      <td>1.1</td>\n",
       "      <td>0</td>\n",
       "    </tr>\n",
       "  </tbody>\n",
       "</table>\n",
       "<p>4 rows × 21 columns</p>\n",
       "</div>"
      ],
      "text/plain": [
       "       agency_id                                agency lastname    firstname  \\\n",
       "471          101                                SENATE   PAXTON       ANGELA   \n",
       "1240         102              HOUSE OF REPRESENTATIVES   PAXTON  CHRISTOPHER   \n",
       "26673        405           DEPARTMENT OF PUBLIC SAFETY   PAXTON        LAURA   \n",
       "57958        529  HEALTH AND HUMAN SERVICES COMMISSION   PAXTON        MARIA   \n",
       "\n",
       "                             title      race     sex  \\\n",
       "471               ELECTED OFFICIAL     WHITE  FEMALE   \n",
       "1240       ELECTED OFFICIALS STAFF     WHITE    MALE   \n",
       "26673  LICENSE AND PERMIT SPEC III     WHITE  FEMALE   \n",
       "57958    REHABILITATION TEACHER II  HISPANIC  FEMALE   \n",
       "\n",
       "                                    emptype  hire_date  hours_worked  ...  \\\n",
       "471    URF - UNCLASSIFIED REGULAR FULL-TIME 2019-01-08          40.0  ...   \n",
       "1240   URF - UNCLASSIFIED REGULAR FULL-TIME 2019-01-08          40.0  ...   \n",
       "26673    CRF - CLASSIFIED REGULAR FULL-TIME 2017-07-15          40.0  ...   \n",
       "57958    CRF - CLASSIFIED REGULAR FULL-TIME 2020-06-15          40.0  ...   \n",
       "\n",
       "       annual_salary  race_encoded  is_female  is_white  is_hispanic  \\\n",
       "471          7200.00             5          1         1            0   \n",
       "1240        34350.24             5          0         1            0   \n",
       "26673       43040.64             5          1         1            0   \n",
       "57958       40138.92             3          1         0            1   \n",
       "\n",
       "       is_black  is_BIPOC  tenure_months  tenure_years  is_elected  \n",
       "471           0         0             30           2.5           1  \n",
       "1240          0         0             30           2.5           0  \n",
       "26673         0         0             48           4.0           0  \n",
       "57958         0         1             13           1.1           0  \n",
       "\n",
       "[4 rows x 21 columns]"
      ]
     },
     "execution_count": 30,
     "metadata": {},
     "output_type": "execute_result"
    }
   ],
   "source": [
    "df[df.lastname == 'PAXTON']"
   ]
  },
  {
   "cell_type": "code",
   "execution_count": 31,
   "metadata": {},
   "outputs": [
    {
     "data": {
      "text/plain": [
       "'COMMISSIONER OF GENERAL LAND OFFICE'"
      ]
     },
     "execution_count": 31,
     "metadata": {},
     "output_type": "execute_result"
    }
   ],
   "source": [
    "\"Commissioner of General Land Office\".upper()"
   ]
  },
  {
   "cell_type": "code",
   "execution_count": 32,
   "metadata": {},
   "outputs": [
    {
     "data": {
      "text/html": [
       "<div>\n",
       "<style scoped>\n",
       "    .dataframe tbody tr th:only-of-type {\n",
       "        vertical-align: middle;\n",
       "    }\n",
       "\n",
       "    .dataframe tbody tr th {\n",
       "        vertical-align: top;\n",
       "    }\n",
       "\n",
       "    .dataframe thead th {\n",
       "        text-align: right;\n",
       "    }\n",
       "</style>\n",
       "<table border=\"1\" class=\"dataframe\">\n",
       "  <thead>\n",
       "    <tr style=\"text-align: right;\">\n",
       "      <th></th>\n",
       "      <th>agency_id</th>\n",
       "      <th>agency</th>\n",
       "      <th>lastname</th>\n",
       "      <th>firstname</th>\n",
       "      <th>title</th>\n",
       "      <th>race</th>\n",
       "      <th>sex</th>\n",
       "      <th>emptype</th>\n",
       "      <th>hire_date</th>\n",
       "      <th>hours_worked</th>\n",
       "      <th>...</th>\n",
       "      <th>annual_salary</th>\n",
       "      <th>race_encoded</th>\n",
       "      <th>is_female</th>\n",
       "      <th>is_white</th>\n",
       "      <th>is_hispanic</th>\n",
       "      <th>is_black</th>\n",
       "      <th>is_BIPOC</th>\n",
       "      <th>tenure_months</th>\n",
       "      <th>tenure_years</th>\n",
       "      <th>is_elected</th>\n",
       "    </tr>\n",
       "  </thead>\n",
       "  <tbody>\n",
       "  </tbody>\n",
       "</table>\n",
       "<p>0 rows × 21 columns</p>\n",
       "</div>"
      ],
      "text/plain": [
       "Empty DataFrame\n",
       "Columns: [agency_id, agency, lastname, firstname, title, race, sex, emptype, hire_date, hours_worked, monthly_salary, annual_salary, race_encoded, is_female, is_white, is_hispanic, is_black, is_BIPOC, tenure_months, tenure_years, is_elected]\n",
       "Index: []\n",
       "\n",
       "[0 rows x 21 columns]"
      ]
     },
     "execution_count": 32,
     "metadata": {},
     "output_type": "execute_result"
    }
   ],
   "source": [
    "df[df.title == 'COMMISSIONER OF GENERAL LAND OFFICE']"
   ]
  },
  {
   "cell_type": "code",
   "execution_count": 33,
   "metadata": {},
   "outputs": [],
   "source": [
    "# sns.barplot(data=train, x='race')"
   ]
  },
  {
   "cell_type": "code",
   "execution_count": 34,
   "metadata": {},
   "outputs": [
    {
     "data": {
      "text/plain": [
       "125096    2\n",
       "42845     1\n",
       "117530    2\n",
       "26227     5\n",
       "113713    3\n",
       "         ..\n",
       "94314     3\n",
       "17860     2\n",
       "136510    5\n",
       "141549    5\n",
       "89798     3\n",
       "Name: race_encoded, Length: 81048, dtype: int64"
      ]
     },
     "execution_count": 34,
     "metadata": {},
     "output_type": "execute_result"
    }
   ],
   "source": [
    "train.race_encoded"
   ]
  },
  {
   "cell_type": "code",
   "execution_count": null,
   "metadata": {},
   "outputs": [],
   "source": []
  }
 ],
 "metadata": {
  "kernelspec": {
   "display_name": "Python 3",
   "language": "python",
   "name": "python3"
  },
  "language_info": {
   "codemirror_mode": {
    "name": "ipython",
    "version": 3
   },
   "file_extension": ".py",
   "mimetype": "text/x-python",
   "name": "python",
   "nbconvert_exporter": "python",
   "pygments_lexer": "ipython3",
   "version": "3.8.5"
  }
 },
 "nbformat": 4,
 "nbformat_minor": 4
}
