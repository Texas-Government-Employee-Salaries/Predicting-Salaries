{
 "cells": [
  {
   "cell_type": "markdown",
   "metadata": {},
   "source": [
    "rough mayorga"
   ]
  },
  {
   "cell_type": "code",
   "execution_count": 1,
   "metadata": {},
   "outputs": [],
   "source": [
    "import math\n",
    "import warnings\n",
    "warnings.filterwarnings(\"ignore\")\n",
    "\n",
    "import pandas as pd\n",
    "import numpy as np\n",
    "import seaborn as sns\n",
    "import matplotlib.pyplot as plt\n",
    "from scipy import stats\n",
    "from datetime import datetime\n",
    "\n",
    "from sklearn.preprocessing import LabelEncoder\n",
    "from sklearn.metrics import explained_variance_score\n",
    "from sklearn.metrics import mean_squared_error\n",
    "from sklearn.linear_model import LinearRegression, LassoLars, TweedieRegressor\n",
    "from sklearn.preprocessing import PolynomialFeatures\n",
    "import sklearn.preprocessing\n",
    "from sklearn.linear_model import LinearRegression\n",
    "from sklearn.metrics import r2_score, mean_squared_error\n",
    "from sklearn.feature_selection import SelectKBest, f_regression, RFE"
   ]
  },
  {
   "cell_type": "code",
   "execution_count": 2,
   "metadata": {},
   "outputs": [],
   "source": [
    "## Trusty Modules\n",
    "\n",
    "from Acquire import get_texas_data\n",
    "from Prepare import prepare_tex, create_features, make_bins_and_feats, split_data\n",
    "import m_explore as e"
   ]
  },
  {
   "cell_type": "markdown",
   "metadata": {},
   "source": [
    "# Acquire"
   ]
  },
  {
   "cell_type": "code",
   "execution_count": 3,
   "metadata": {},
   "outputs": [],
   "source": [
    "df = get_texas_data()"
   ]
  },
  {
   "cell_type": "code",
   "execution_count": 4,
   "metadata": {},
   "outputs": [
    {
     "name": "stdout",
     "output_type": "stream",
     "text": [
      "<class 'pandas.core.frame.DataFrame'>\n",
      "RangeIndex: 144738 entries, 0 to 144737\n",
      "Data columns (total 21 columns):\n",
      " #   Column                   Non-Null Count   Dtype  \n",
      "---  ------                   --------------   -----  \n",
      " 0   AGY                      144738 non-null  int64  \n",
      " 1   NAME                     144738 non-null  object \n",
      " 2   LASTNAME                 144738 non-null  object \n",
      " 3   FIRSTNAME                144738 non-null  object \n",
      " 4   MI                       144738 non-null  object \n",
      " 5   JOBCLASS                 144738 non-null  object \n",
      " 6   JC TITLE                 144738 non-null  object \n",
      " 7   RACE                     144738 non-null  object \n",
      " 8   SEX                      144738 non-null  object \n",
      " 9   EMPTYPE                  144738 non-null  object \n",
      " 10  HIREDT                   144738 non-null  object \n",
      " 11  RATE                     144738 non-null  float64\n",
      " 12  HRSWKD                   144738 non-null  float64\n",
      " 13  MONTHLY                  144738 non-null  float64\n",
      " 14  ANNUAL                   144738 non-null  float64\n",
      " 15  STATENUM                 144738 non-null  int64  \n",
      " 16  duplicated               76 non-null      object \n",
      " 17  multiple_full_time_jobs  18 non-null      object \n",
      " 18  combined_multiple_jobs   37 non-null      object \n",
      " 19  summed_annual_salary     11 non-null      float64\n",
      " 20  hide_from_search         11 non-null      object \n",
      "dtypes: float64(5), int64(2), object(14)\n",
      "memory usage: 23.2+ MB\n"
     ]
    }
   ],
   "source": [
    "df.info()"
   ]
  },
  {
   "cell_type": "markdown",
   "metadata": {},
   "source": [
    "# Prepare"
   ]
  },
  {
   "cell_type": "code",
   "execution_count": 5,
   "metadata": {},
   "outputs": [
    {
     "name": "stdout",
     "output_type": "stream",
     "text": [
      "Looking At Our Maximum Age and Minimum Age to Make Some Age Bins\n",
      "\n",
      "Max: 49.8, Min: 0.0\n",
      "\n",
      "----------------------------\n",
      "\n",
      "Visualizing Years of Tenure Column To Help with Binning\n",
      "\n"
     ]
    },
    {
     "data": {
      "image/png": "[encoded data removed]",
      "text/plain": [
       "<Figure size 432x288 with 1 Axes>"
      ]
     },
     "metadata": {
      "needs_background": "light"
     },
     "output_type": "display_data"
    },
    {
     "name": "stdout",
     "output_type": "stream",
     "text": [
      "\n",
      "----------------------------\n",
      "\n",
      "Looking At Our Years of Tenure Bins Value Counts\n",
      "1    83012\n",
      "2    27330\n",
      "3    25513\n",
      "4     8875\n",
      "Name: tenure_years_bins, dtype: int64\n",
      "\n",
      "----------------------------\n",
      "\n"
     ]
    }
   ],
   "source": [
    "df = prepare_tex(df)\n",
    "df = create_features(df)\n",
    "df = make_bins_and_feats(df)"
   ]
  },
  {
   "cell_type": "code",
   "execution_count": 6,
   "metadata": {},
   "outputs": [
    {
     "name": "stdout",
     "output_type": "stream",
     "text": [
      "<class 'pandas.core.frame.DataFrame'>\n",
      "Int64Index: 144730 entries, 0 to 144737\n",
      "Data columns (total 26 columns):\n",
      " #   Column             Non-Null Count   Dtype         \n",
      "---  ------             --------------   -----         \n",
      " 0   agency_id          144730 non-null  int64         \n",
      " 1   agency             144730 non-null  object        \n",
      " 2   lastname           144730 non-null  object        \n",
      " 3   firstname          144730 non-null  object        \n",
      " 4   title              144730 non-null  object        \n",
      " 5   race               144730 non-null  object        \n",
      " 6   sex                144730 non-null  object        \n",
      " 7   emptype            144730 non-null  object        \n",
      " 8   hire_date          144730 non-null  datetime64[ns]\n",
      " 9   hours_worked       144730 non-null  float64       \n",
      " 10  monthly_salary     144730 non-null  float64       \n",
      " 11  annual_salary      144730 non-null  float64       \n",
      " 12  is_female          144730 non-null  int64         \n",
      " 13  is_white           144730 non-null  int64         \n",
      " 14  is_hispanic        144730 non-null  int64         \n",
      " 15  is_black           144730 non-null  int64         \n",
      " 16  is_BIPOC           144730 non-null  int64         \n",
      " 17  race_encoded       144730 non-null  int64         \n",
      " 18  tenure_months      144730 non-null  int64         \n",
      " 19  tenure_years       144730 non-null  float64       \n",
      " 20  is_elected         144730 non-null  int64         \n",
      " 21  tenure_years_bins  144730 non-null  int64         \n",
      " 22  0-5_years          144730 non-null  int64         \n",
      " 23  5-10_years         144730 non-null  int64         \n",
      " 24  10-20_years        144730 non-null  int64         \n",
      " 25  >20_years          144730 non-null  int64         \n",
      "dtypes: datetime64[ns](1), float64(4), int64(14), object(7)\n",
      "memory usage: 29.8+ MB\n"
     ]
    }
   ],
   "source": [
    "df.info()"
   ]
  },
  {
   "cell_type": "code",
   "execution_count": 7,
   "metadata": {},
   "outputs": [
    {
     "data": {
      "text/html": [
       "<div>\n",
       "<style scoped>\n",
       "    .dataframe tbody tr th:only-of-type {\n",
       "        vertical-align: middle;\n",
       "    }\n",
       "\n",
       "    .dataframe tbody tr th {\n",
       "        vertical-align: top;\n",
       "    }\n",
       "\n",
       "    .dataframe thead th {\n",
       "        text-align: right;\n",
       "    }\n",
       "</style>\n",
       "<table border=\"1\" class=\"dataframe\">\n",
       "  <thead>\n",
       "    <tr style=\"text-align: right;\">\n",
       "      <th></th>\n",
       "      <th>0</th>\n",
       "      <th>1</th>\n",
       "      <th>2</th>\n",
       "      <th>3</th>\n",
       "      <th>4</th>\n",
       "    </tr>\n",
       "  </thead>\n",
       "  <tbody>\n",
       "    <tr>\n",
       "      <th>agency_id</th>\n",
       "      <td>101</td>\n",
       "      <td>104</td>\n",
       "      <td>101</td>\n",
       "      <td>104</td>\n",
       "      <td>101</td>\n",
       "    </tr>\n",
       "    <tr>\n",
       "      <th>agency</th>\n",
       "      <td>SENATE</td>\n",
       "      <td>LEGISLATIVE BUDGET BOARD</td>\n",
       "      <td>SENATE</td>\n",
       "      <td>LEGISLATIVE BUDGET BOARD</td>\n",
       "      <td>SENATE</td>\n",
       "    </tr>\n",
       "    <tr>\n",
       "      <th>lastname</th>\n",
       "      <td>GILLIAM</td>\n",
       "      <td>GILLIAM</td>\n",
       "      <td>NELSON</td>\n",
       "      <td>NELSON</td>\n",
       "      <td>ROCHA</td>\n",
       "    </tr>\n",
       "    <tr>\n",
       "      <th>firstname</th>\n",
       "      <td>STACEY</td>\n",
       "      <td>STACEY</td>\n",
       "      <td>DAVID</td>\n",
       "      <td>DAVID</td>\n",
       "      <td>MARIE</td>\n",
       "    </tr>\n",
       "    <tr>\n",
       "      <th>title</th>\n",
       "      <td>LEG. OFFICIAL/ADMINISTRATOR</td>\n",
       "      <td>COMMITTEE DIRECTOR</td>\n",
       "      <td>LEG. OFFICIAL/ADMINISTRATOR</td>\n",
       "      <td>SENIOR BUDGET ADVISOR</td>\n",
       "      <td>LEG. SERVICE/MAINTENANCE</td>\n",
       "    </tr>\n",
       "    <tr>\n",
       "      <th>race</th>\n",
       "      <td>WHITE</td>\n",
       "      <td>WHITE</td>\n",
       "      <td>WHITE</td>\n",
       "      <td>WHITE</td>\n",
       "      <td>HISPANIC</td>\n",
       "    </tr>\n",
       "    <tr>\n",
       "      <th>sex</th>\n",
       "      <td>FEMALE</td>\n",
       "      <td>FEMALE</td>\n",
       "      <td>MALE</td>\n",
       "      <td>MALE</td>\n",
       "      <td>FEMALE</td>\n",
       "    </tr>\n",
       "    <tr>\n",
       "      <th>emptype</th>\n",
       "      <td>URP - UNCLASSIFIED REGULAR PART-TIME</td>\n",
       "      <td>URP - UNCLASSIFIED REGULAR PART-TIME</td>\n",
       "      <td>URP - UNCLASSIFIED REGULAR PART-TIME</td>\n",
       "      <td>URP - UNCLASSIFIED REGULAR PART-TIME</td>\n",
       "      <td>URF - UNCLASSIFIED REGULAR FULL-TIME</td>\n",
       "    </tr>\n",
       "    <tr>\n",
       "      <th>hire_date</th>\n",
       "      <td>2013-07-01 00:00:00</td>\n",
       "      <td>2017-11-01 00:00:00</td>\n",
       "      <td>1998-12-01 00:00:00</td>\n",
       "      <td>2017-11-01 00:00:00</td>\n",
       "      <td>2003-05-01 00:00:00</td>\n",
       "    </tr>\n",
       "    <tr>\n",
       "      <th>hours_worked</th>\n",
       "      <td>20</td>\n",
       "      <td>20</td>\n",
       "      <td>20</td>\n",
       "      <td>20</td>\n",
       "      <td>41</td>\n",
       "    </tr>\n",
       "    <tr>\n",
       "      <th>monthly_salary</th>\n",
       "      <td>8100</td>\n",
       "      <td>7000</td>\n",
       "      <td>9500</td>\n",
       "      <td>8000</td>\n",
       "      <td>3365.4</td>\n",
       "    </tr>\n",
       "    <tr>\n",
       "      <th>annual_salary</th>\n",
       "      <td>97200</td>\n",
       "      <td>84000</td>\n",
       "      <td>114000</td>\n",
       "      <td>96000</td>\n",
       "      <td>40384.8</td>\n",
       "    </tr>\n",
       "    <tr>\n",
       "      <th>is_female</th>\n",
       "      <td>1</td>\n",
       "      <td>1</td>\n",
       "      <td>0</td>\n",
       "      <td>0</td>\n",
       "      <td>1</td>\n",
       "    </tr>\n",
       "    <tr>\n",
       "      <th>is_white</th>\n",
       "      <td>1</td>\n",
       "      <td>1</td>\n",
       "      <td>1</td>\n",
       "      <td>1</td>\n",
       "      <td>0</td>\n",
       "    </tr>\n",
       "    <tr>\n",
       "      <th>is_hispanic</th>\n",
       "      <td>0</td>\n",
       "      <td>0</td>\n",
       "      <td>0</td>\n",
       "      <td>0</td>\n",
       "      <td>1</td>\n",
       "    </tr>\n",
       "    <tr>\n",
       "      <th>is_black</th>\n",
       "      <td>0</td>\n",
       "      <td>0</td>\n",
       "      <td>0</td>\n",
       "      <td>0</td>\n",
       "      <td>0</td>\n",
       "    </tr>\n",
       "    <tr>\n",
       "      <th>is_BIPOC</th>\n",
       "      <td>0</td>\n",
       "      <td>0</td>\n",
       "      <td>0</td>\n",
       "      <td>0</td>\n",
       "      <td>1</td>\n",
       "    </tr>\n",
       "    <tr>\n",
       "      <th>race_encoded</th>\n",
       "      <td>5</td>\n",
       "      <td>5</td>\n",
       "      <td>5</td>\n",
       "      <td>5</td>\n",
       "      <td>3</td>\n",
       "    </tr>\n",
       "    <tr>\n",
       "      <th>tenure_months</th>\n",
       "      <td>96</td>\n",
       "      <td>44</td>\n",
       "      <td>271</td>\n",
       "      <td>44</td>\n",
       "      <td>218</td>\n",
       "    </tr>\n",
       "    <tr>\n",
       "      <th>tenure_years</th>\n",
       "      <td>8</td>\n",
       "      <td>3.7</td>\n",
       "      <td>22.6</td>\n",
       "      <td>3.7</td>\n",
       "      <td>18.2</td>\n",
       "    </tr>\n",
       "    <tr>\n",
       "      <th>is_elected</th>\n",
       "      <td>0</td>\n",
       "      <td>0</td>\n",
       "      <td>0</td>\n",
       "      <td>0</td>\n",
       "      <td>0</td>\n",
       "    </tr>\n",
       "    <tr>\n",
       "      <th>tenure_years_bins</th>\n",
       "      <td>2</td>\n",
       "      <td>1</td>\n",
       "      <td>4</td>\n",
       "      <td>1</td>\n",
       "      <td>3</td>\n",
       "    </tr>\n",
       "    <tr>\n",
       "      <th>0-5_years</th>\n",
       "      <td>0</td>\n",
       "      <td>1</td>\n",
       "      <td>0</td>\n",
       "      <td>1</td>\n",
       "      <td>0</td>\n",
       "    </tr>\n",
       "    <tr>\n",
       "      <th>5-10_years</th>\n",
       "      <td>1</td>\n",
       "      <td>0</td>\n",
       "      <td>0</td>\n",
       "      <td>0</td>\n",
       "      <td>0</td>\n",
       "    </tr>\n",
       "    <tr>\n",
       "      <th>10-20_years</th>\n",
       "      <td>0</td>\n",
       "      <td>0</td>\n",
       "      <td>0</td>\n",
       "      <td>0</td>\n",
       "      <td>1</td>\n",
       "    </tr>\n",
       "    <tr>\n",
       "      <th>&gt;20_years</th>\n",
       "      <td>0</td>\n",
       "      <td>0</td>\n",
       "      <td>1</td>\n",
       "      <td>0</td>\n",
       "      <td>0</td>\n",
       "    </tr>\n",
       "  </tbody>\n",
       "</table>\n",
       "</div>"
      ],
      "text/plain": [
       "                                                      0  \\\n",
       "agency_id                                           101   \n",
       "agency                                           SENATE   \n",
       "lastname                                        GILLIAM   \n",
       "firstname                                        STACEY   \n",
       "title                       LEG. OFFICIAL/ADMINISTRATOR   \n",
       "race                                              WHITE   \n",
       "sex                                              FEMALE   \n",
       "emptype            URP - UNCLASSIFIED REGULAR PART-TIME   \n",
       "hire_date                           2013-07-01 00:00:00   \n",
       "hours_worked                                         20   \n",
       "monthly_salary                                     8100   \n",
       "annual_salary                                     97200   \n",
       "is_female                                             1   \n",
       "is_white                                              1   \n",
       "is_hispanic                                           0   \n",
       "is_black                                              0   \n",
       "is_BIPOC                                              0   \n",
       "race_encoded                                          5   \n",
       "tenure_months                                        96   \n",
       "tenure_years                                          8   \n",
       "is_elected                                            0   \n",
       "tenure_years_bins                                     2   \n",
       "0-5_years                                             0   \n",
       "5-10_years                                            1   \n",
       "10-20_years                                           0   \n",
       ">20_years                                             0   \n",
       "\n",
       "                                                      1  \\\n",
       "agency_id                                           104   \n",
       "agency                         LEGISLATIVE BUDGET BOARD   \n",
       "lastname                                        GILLIAM   \n",
       "firstname                                        STACEY   \n",
       "title                                COMMITTEE DIRECTOR   \n",
       "race                                              WHITE   \n",
       "sex                                              FEMALE   \n",
       "emptype            URP - UNCLASSIFIED REGULAR PART-TIME   \n",
       "hire_date                           2017-11-01 00:00:00   \n",
       "hours_worked                                         20   \n",
       "monthly_salary                                     7000   \n",
       "annual_salary                                     84000   \n",
       "is_female                                             1   \n",
       "is_white                                              1   \n",
       "is_hispanic                                           0   \n",
       "is_black                                              0   \n",
       "is_BIPOC                                              0   \n",
       "race_encoded                                          5   \n",
       "tenure_months                                        44   \n",
       "tenure_years                                        3.7   \n",
       "is_elected                                            0   \n",
       "tenure_years_bins                                     1   \n",
       "0-5_years                                             1   \n",
       "5-10_years                                            0   \n",
       "10-20_years                                           0   \n",
       ">20_years                                             0   \n",
       "\n",
       "                                                      2  \\\n",
       "agency_id                                           101   \n",
       "agency                                           SENATE   \n",
       "lastname                                         NELSON   \n",
       "firstname                                         DAVID   \n",
       "title                       LEG. OFFICIAL/ADMINISTRATOR   \n",
       "race                                              WHITE   \n",
       "sex                                                MALE   \n",
       "emptype            URP - UNCLASSIFIED REGULAR PART-TIME   \n",
       "hire_date                           1998-12-01 00:00:00   \n",
       "hours_worked                                         20   \n",
       "monthly_salary                                     9500   \n",
       "annual_salary                                    114000   \n",
       "is_female                                             0   \n",
       "is_white                                              1   \n",
       "is_hispanic                                           0   \n",
       "is_black                                              0   \n",
       "is_BIPOC                                              0   \n",
       "race_encoded                                          5   \n",
       "tenure_months                                       271   \n",
       "tenure_years                                       22.6   \n",
       "is_elected                                            0   \n",
       "tenure_years_bins                                     4   \n",
       "0-5_years                                             0   \n",
       "5-10_years                                            0   \n",
       "10-20_years                                           0   \n",
       ">20_years                                             1   \n",
       "\n",
       "                                                      3  \\\n",
       "agency_id                                           104   \n",
       "agency                         LEGISLATIVE BUDGET BOARD   \n",
       "lastname                                         NELSON   \n",
       "firstname                                         DAVID   \n",
       "title                             SENIOR BUDGET ADVISOR   \n",
       "race                                              WHITE   \n",
       "sex                                                MALE   \n",
       "emptype            URP - UNCLASSIFIED REGULAR PART-TIME   \n",
       "hire_date                           2017-11-01 00:00:00   \n",
       "hours_worked                                         20   \n",
       "monthly_salary                                     8000   \n",
       "annual_salary                                     96000   \n",
       "is_female                                             0   \n",
       "is_white                                              1   \n",
       "is_hispanic                                           0   \n",
       "is_black                                              0   \n",
       "is_BIPOC                                              0   \n",
       "race_encoded                                          5   \n",
       "tenure_months                                        44   \n",
       "tenure_years                                        3.7   \n",
       "is_elected                                            0   \n",
       "tenure_years_bins                                     1   \n",
       "0-5_years                                             1   \n",
       "5-10_years                                            0   \n",
       "10-20_years                                           0   \n",
       ">20_years                                             0   \n",
       "\n",
       "                                                      4  \n",
       "agency_id                                           101  \n",
       "agency                                           SENATE  \n",
       "lastname                                          ROCHA  \n",
       "firstname                                         MARIE  \n",
       "title                          LEG. SERVICE/MAINTENANCE  \n",
       "race                                           HISPANIC  \n",
       "sex                                              FEMALE  \n",
       "emptype            URF - UNCLASSIFIED REGULAR FULL-TIME  \n",
       "hire_date                           2003-05-01 00:00:00  \n",
       "hours_worked                                         41  \n",
       "monthly_salary                                   3365.4  \n",
       "annual_salary                                   40384.8  \n",
       "is_female                                             1  \n",
       "is_white                                              0  \n",
       "is_hispanic                                           1  \n",
       "is_black                                              0  \n",
       "is_BIPOC                                              1  \n",
       "race_encoded                                          3  \n",
       "tenure_months                                       218  \n",
       "tenure_years                                       18.2  \n",
       "is_elected                                            0  \n",
       "tenure_years_bins                                     3  \n",
       "0-5_years                                             0  \n",
       "5-10_years                                            0  \n",
       "10-20_years                                           1  \n",
       ">20_years                                             0  "
      ]
     },
     "execution_count": 7,
     "metadata": {},
     "output_type": "execute_result"
    }
   ],
   "source": [
    "df.head().T"
   ]
  },
  {
   "cell_type": "code",
   "execution_count": 13,
   "metadata": {},
   "outputs": [
    {
     "data": {
      "text/html": [
       "<div>\n",
       "<style scoped>\n",
       "    .dataframe tbody tr th:only-of-type {\n",
       "        vertical-align: middle;\n",
       "    }\n",
       "\n",
       "    .dataframe tbody tr th {\n",
       "        vertical-align: top;\n",
       "    }\n",
       "\n",
       "    .dataframe thead th {\n",
       "        text-align: right;\n",
       "    }\n",
       "</style>\n",
       "<table border=\"1\" class=\"dataframe\">\n",
       "  <thead>\n",
       "    <tr style=\"text-align: right;\">\n",
       "      <th></th>\n",
       "      <th>count</th>\n",
       "      <th>mean</th>\n",
       "      <th>std</th>\n",
       "      <th>min</th>\n",
       "      <th>25%</th>\n",
       "      <th>50%</th>\n",
       "      <th>75%</th>\n",
       "      <th>max</th>\n",
       "    </tr>\n",
       "  </thead>\n",
       "  <tbody>\n",
       "    <tr>\n",
       "      <th>agency_id</th>\n",
       "      <td>144730.0</td>\n",
       "      <td>542.139011</td>\n",
       "      <td>140.558625</td>\n",
       "      <td>101.0</td>\n",
       "      <td>529.00</td>\n",
       "      <td>530.00</td>\n",
       "      <td>696.0</td>\n",
       "      <td>930.0</td>\n",
       "    </tr>\n",
       "    <tr>\n",
       "      <th>hours_worked</th>\n",
       "      <td>144730.0</td>\n",
       "      <td>39.702776</td>\n",
       "      <td>2.336290</td>\n",
       "      <td>2.0</td>\n",
       "      <td>40.00</td>\n",
       "      <td>40.00</td>\n",
       "      <td>40.0</td>\n",
       "      <td>80.0</td>\n",
       "    </tr>\n",
       "    <tr>\n",
       "      <th>monthly_salary</th>\n",
       "      <td>144730.0</td>\n",
       "      <td>4319.108757</td>\n",
       "      <td>2137.890937</td>\n",
       "      <td>50.0</td>\n",
       "      <td>3025.91</td>\n",
       "      <td>3720.17</td>\n",
       "      <td>5000.0</td>\n",
       "      <td>46125.0</td>\n",
       "    </tr>\n",
       "    <tr>\n",
       "      <th>annual_salary</th>\n",
       "      <td>144730.0</td>\n",
       "      <td>51829.305083</td>\n",
       "      <td>25654.691246</td>\n",
       "      <td>600.0</td>\n",
       "      <td>36310.92</td>\n",
       "      <td>44642.04</td>\n",
       "      <td>60000.0</td>\n",
       "      <td>553500.0</td>\n",
       "    </tr>\n",
       "    <tr>\n",
       "      <th>is_female</th>\n",
       "      <td>144730.0</td>\n",
       "      <td>0.572549</td>\n",
       "      <td>0.494710</td>\n",
       "      <td>0.0</td>\n",
       "      <td>0.00</td>\n",
       "      <td>1.00</td>\n",
       "      <td>1.0</td>\n",
       "      <td>1.0</td>\n",
       "    </tr>\n",
       "    <tr>\n",
       "      <th>is_white</th>\n",
       "      <td>144730.0</td>\n",
       "      <td>0.446673</td>\n",
       "      <td>0.497150</td>\n",
       "      <td>0.0</td>\n",
       "      <td>0.00</td>\n",
       "      <td>0.00</td>\n",
       "      <td>1.0</td>\n",
       "      <td>1.0</td>\n",
       "    </tr>\n",
       "    <tr>\n",
       "      <th>is_hispanic</th>\n",
       "      <td>144730.0</td>\n",
       "      <td>0.273295</td>\n",
       "      <td>0.445653</td>\n",
       "      <td>0.0</td>\n",
       "      <td>0.00</td>\n",
       "      <td>0.00</td>\n",
       "      <td>1.0</td>\n",
       "      <td>1.0</td>\n",
       "    </tr>\n",
       "    <tr>\n",
       "      <th>is_black</th>\n",
       "      <td>144730.0</td>\n",
       "      <td>0.234665</td>\n",
       "      <td>0.423790</td>\n",
       "      <td>0.0</td>\n",
       "      <td>0.00</td>\n",
       "      <td>0.00</td>\n",
       "      <td>0.0</td>\n",
       "      <td>1.0</td>\n",
       "    </tr>\n",
       "    <tr>\n",
       "      <th>is_BIPOC</th>\n",
       "      <td>144730.0</td>\n",
       "      <td>0.553327</td>\n",
       "      <td>0.497150</td>\n",
       "      <td>0.0</td>\n",
       "      <td>0.00</td>\n",
       "      <td>1.00</td>\n",
       "      <td>1.0</td>\n",
       "      <td>1.0</td>\n",
       "    </tr>\n",
       "    <tr>\n",
       "      <th>race_encoded</th>\n",
       "      <td>144730.0</td>\n",
       "      <td>3.593270</td>\n",
       "      <td>1.358207</td>\n",
       "      <td>0.0</td>\n",
       "      <td>2.00</td>\n",
       "      <td>3.00</td>\n",
       "      <td>5.0</td>\n",
       "      <td>5.0</td>\n",
       "    </tr>\n",
       "    <tr>\n",
       "      <th>tenure_months</th>\n",
       "      <td>144730.0</td>\n",
       "      <td>81.320998</td>\n",
       "      <td>81.005363</td>\n",
       "      <td>0.0</td>\n",
       "      <td>23.00</td>\n",
       "      <td>46.00</td>\n",
       "      <td>115.0</td>\n",
       "      <td>597.0</td>\n",
       "    </tr>\n",
       "    <tr>\n",
       "      <th>tenure_years</th>\n",
       "      <td>144730.0</td>\n",
       "      <td>6.773519</td>\n",
       "      <td>6.751620</td>\n",
       "      <td>0.0</td>\n",
       "      <td>1.90</td>\n",
       "      <td>3.80</td>\n",
       "      <td>9.6</td>\n",
       "      <td>49.8</td>\n",
       "    </tr>\n",
       "    <tr>\n",
       "      <th>is_elected</th>\n",
       "      <td>144730.0</td>\n",
       "      <td>0.001893</td>\n",
       "      <td>0.043470</td>\n",
       "      <td>0.0</td>\n",
       "      <td>0.00</td>\n",
       "      <td>0.00</td>\n",
       "      <td>0.0</td>\n",
       "      <td>1.0</td>\n",
       "    </tr>\n",
       "    <tr>\n",
       "      <th>tenure_years_bins</th>\n",
       "      <td>144730.0</td>\n",
       "      <td>1.725358</td>\n",
       "      <td>0.959013</td>\n",
       "      <td>1.0</td>\n",
       "      <td>1.00</td>\n",
       "      <td>1.00</td>\n",
       "      <td>2.0</td>\n",
       "      <td>4.0</td>\n",
       "    </tr>\n",
       "    <tr>\n",
       "      <th>0-5_years</th>\n",
       "      <td>144730.0</td>\n",
       "      <td>0.573565</td>\n",
       "      <td>0.494560</td>\n",
       "      <td>0.0</td>\n",
       "      <td>0.00</td>\n",
       "      <td>1.00</td>\n",
       "      <td>1.0</td>\n",
       "      <td>1.0</td>\n",
       "    </tr>\n",
       "    <tr>\n",
       "      <th>5-10_years</th>\n",
       "      <td>144730.0</td>\n",
       "      <td>0.188834</td>\n",
       "      <td>0.391378</td>\n",
       "      <td>0.0</td>\n",
       "      <td>0.00</td>\n",
       "      <td>0.00</td>\n",
       "      <td>0.0</td>\n",
       "      <td>1.0</td>\n",
       "    </tr>\n",
       "    <tr>\n",
       "      <th>10-20_years</th>\n",
       "      <td>144730.0</td>\n",
       "      <td>0.176280</td>\n",
       "      <td>0.381060</td>\n",
       "      <td>0.0</td>\n",
       "      <td>0.00</td>\n",
       "      <td>0.00</td>\n",
       "      <td>0.0</td>\n",
       "      <td>1.0</td>\n",
       "    </tr>\n",
       "    <tr>\n",
       "      <th>&gt;20_years</th>\n",
       "      <td>144730.0</td>\n",
       "      <td>0.061321</td>\n",
       "      <td>0.239919</td>\n",
       "      <td>0.0</td>\n",
       "      <td>0.00</td>\n",
       "      <td>0.00</td>\n",
       "      <td>0.0</td>\n",
       "      <td>1.0</td>\n",
       "    </tr>\n",
       "  </tbody>\n",
       "</table>\n",
       "</div>"
      ],
      "text/plain": [
       "                      count          mean           std    min       25%  \\\n",
       "agency_id          144730.0    542.139011    140.558625  101.0    529.00   \n",
       "hours_worked       144730.0     39.702776      2.336290    2.0     40.00   \n",
       "monthly_salary     144730.0   4319.108757   2137.890937   50.0   3025.91   \n",
       "annual_salary      144730.0  51829.305083  25654.691246  600.0  36310.92   \n",
       "is_female          144730.0      0.572549      0.494710    0.0      0.00   \n",
       "is_white           144730.0      0.446673      0.497150    0.0      0.00   \n",
       "is_hispanic        144730.0      0.273295      0.445653    0.0      0.00   \n",
       "is_black           144730.0      0.234665      0.423790    0.0      0.00   \n",
       "is_BIPOC           144730.0      0.553327      0.497150    0.0      0.00   \n",
       "race_encoded       144730.0      3.593270      1.358207    0.0      2.00   \n",
       "tenure_months      144730.0     81.320998     81.005363    0.0     23.00   \n",
       "tenure_years       144730.0      6.773519      6.751620    0.0      1.90   \n",
       "is_elected         144730.0      0.001893      0.043470    0.0      0.00   \n",
       "tenure_years_bins  144730.0      1.725358      0.959013    1.0      1.00   \n",
       "0-5_years          144730.0      0.573565      0.494560    0.0      0.00   \n",
       "5-10_years         144730.0      0.188834      0.391378    0.0      0.00   \n",
       "10-20_years        144730.0      0.176280      0.381060    0.0      0.00   \n",
       ">20_years          144730.0      0.061321      0.239919    0.0      0.00   \n",
       "\n",
       "                        50%      75%       max  \n",
       "agency_id            530.00    696.0     930.0  \n",
       "hours_worked          40.00     40.0      80.0  \n",
       "monthly_salary      3720.17   5000.0   46125.0  \n",
       "annual_salary      44642.04  60000.0  553500.0  \n",
       "is_female              1.00      1.0       1.0  \n",
       "is_white               0.00      1.0       1.0  \n",
       "is_hispanic            0.00      1.0       1.0  \n",
       "is_black               0.00      0.0       1.0  \n",
       "is_BIPOC               1.00      1.0       1.0  \n",
       "race_encoded           3.00      5.0       5.0  \n",
       "tenure_months         46.00    115.0     597.0  \n",
       "tenure_years           3.80      9.6      49.8  \n",
       "is_elected             0.00      0.0       1.0  \n",
       "tenure_years_bins      1.00      2.0       4.0  \n",
       "0-5_years              1.00      1.0       1.0  \n",
       "5-10_years             0.00      0.0       1.0  \n",
       "10-20_years            0.00      0.0       1.0  \n",
       ">20_years              0.00      0.0       1.0  "
      ]
     },
     "execution_count": 13,
     "metadata": {},
     "output_type": "execute_result"
    }
   ],
   "source": [
    "df.describe().T"
   ]
  },
  {
   "cell_type": "markdown",
   "metadata": {},
   "source": [
    "# Explore"
   ]
  },
  {
   "cell_type": "code",
   "execution_count": 14,
   "metadata": {},
   "outputs": [],
   "source": [
    "cat_vars = ['agency', 'title', 'race', 'sex', 'emptype']\n",
    "quant_vars = ['hours_worked', 'monthly_salary', 'annual_salary', 'tenure_months', 'tenure_years']"
   ]
  },
  {
   "cell_type": "code",
   "execution_count": 15,
   "metadata": {},
   "outputs": [
    {
     "name": "stdout",
     "output_type": "stream",
     "text": [
      "Bar Plot of agency\n"
     ]
    },
    {
     "data": {
      "image/png": "[encoded data removed]",
      "text/plain": [
       "<Figure size 432x288 with 1 Axes>"
      ]
     },
     "metadata": {
      "needs_background": "light"
     },
     "output_type": "display_data"
    },
    {
     "name": "stdout",
     "output_type": "stream",
     "text": [
      "Bar Plot of title\n"
     ]
    },
    {
     "data": {
      "image/png": "[encoded data removed]",
      "text/plain": [
       "<Figure size 432x288 with 1 Axes>"
      ]
     },
     "metadata": {
      "needs_background": "light"
     },
     "output_type": "display_data"
    },
    {
     "name": "stdout",
     "output_type": "stream",
     "text": [
      "Bar Plot of race\n"
     ]
    },
    {
     "data": {
      "image/png": "[encoded data removed]",
      "text/plain": [
       "<Figure size 432x288 with 1 Axes>"
      ]
     },
     "metadata": {
      "needs_background": "light"
     },
     "output_type": "display_data"
    },
    {
     "name": "stdout",
     "output_type": "stream",
     "text": [
      "Bar Plot of sex\n"
     ]
    },
    {
     "data": {
      "image/png": "[encoded data removed]",
      "text/plain": [
       "<Figure size 432x288 with 1 Axes>"
      ]
     },
     "metadata": {
      "needs_background": "light"
     },
     "output_type": "display_data"
    },
    {
     "name": "stdout",
     "output_type": "stream",
     "text": [
      "Bar Plot of emptype\n"
     ]
    },
    {
     "data": {
      "image/png": "[encoded data removed]",
      "text/plain": [
       "<Figure size 432x288 with 1 Axes>"
      ]
     },
     "metadata": {
      "needs_background": "light"
     },
     "output_type": "display_data"
    },
    {
     "name": "stdout",
     "output_type": "stream",
     "text": [
      "Distribution of hours_worked\n"
     ]
    },
    {
     "data": {
      "image/png": "[encoded data removed]",
      "text/plain": [
       "<Figure size 432x288 with 1 Axes>"
      ]
     },
     "metadata": {
      "needs_background": "light"
     },
     "output_type": "display_data"
    },
    {
     "data": {
      "image/png": "[encoded data removed]",
      "text/plain": [
       "<Figure size 720x360 with 1 Axes>"
      ]
     },
     "metadata": {
      "needs_background": "light"
     },
     "output_type": "display_data"
    },
    {
     "name": "stdout",
     "output_type": "stream",
     "text": [
      "Distribution of monthly_salary\n"
     ]
    },
    {
     "data": {
      "image/png": "[encoded data removed]",
      "text/plain": [
       "<Figure size 432x288 with 1 Axes>"
      ]
     },
     "metadata": {
      "needs_background": "light"
     },
     "output_type": "display_data"
    },
    {
     "data": {
      "image/png": "[encoded data removed]",
      "text/plain": [
       "<Figure size 720x360 with 1 Axes>"
      ]
     },
     "metadata": {
      "needs_background": "light"
     },
     "output_type": "display_data"
    },
    {
     "name": "stdout",
     "output_type": "stream",
     "text": [
      "Distribution of annual_salary\n"
     ]
    },
    {
     "data": {
      "image/png": "[encoded data removed]",
      "text/plain": [
       "<Figure size 432x288 with 1 Axes>"
      ]
     },
     "metadata": {
      "needs_background": "light"
     },
     "output_type": "display_data"
    },
    {
     "data": {
      "image/png": "[encoded data removed]",
      "text/plain": [
       "<Figure size 720x360 with 1 Axes>"
      ]
     },
     "metadata": {
      "needs_background": "light"
     },
     "output_type": "display_data"
    },
    {
     "name": "stdout",
     "output_type": "stream",
     "text": [
      "Distribution of tenure_months\n"
     ]
    },
    {
     "data": {
      "image/png": "[encoded data removed]",
      "text/plain": [
       "<Figure size 432x288 with 1 Axes>"
      ]
     },
     "metadata": {
      "needs_background": "light"
     },
     "output_type": "display_data"
    },
    {
     "data": {
      "image/png": "[encoded data removed]",
      "text/plain": [
       "<Figure size 720x360 with 1 Axes>"
      ]
     },
     "metadata": {
      "needs_background": "light"
     },
     "output_type": "display_data"
    },
    {
     "name": "stdout",
     "output_type": "stream",
     "text": [
      "Distribution of tenure_years\n"
     ]
    },
    {
     "data": {
      "image/png": "[encoded data removed]",
      "text/plain": [
       "<Figure size 432x288 with 1 Axes>"
      ]
     },
     "metadata": {
      "needs_background": "light"
     },
     "output_type": "display_data"
    },
    {
     "data": {
      "image/png": "[encoded data removed]",
      "text/plain": [
       "<Figure size 720x360 with 1 Axes>"
      ]
     },
     "metadata": {
      "needs_background": "light"
     },
     "output_type": "display_data"
    }
   ],
   "source": [
    "e.explore_univariate(df, cat_vars, quant_vars)"
   ]
  },
  {
   "cell_type": "code",
   "execution_count": null,
   "metadata": {},
   "outputs": [],
   "source": []
  },
  {
   "cell_type": "markdown",
   "metadata": {},
   "source": [
    "## Split the data"
   ]
  },
  {
   "cell_type": "code",
   "execution_count": 11,
   "metadata": {},
   "outputs": [
    {
     "name": "stdout",
     "output_type": "stream",
     "text": [
      "Making Sure Our Shapes Look Good\n",
      "Train: (81048, 26), Validate: (34736, 26), Test: (28946, 26)\n"
     ]
    }
   ],
   "source": [
    "train, validate, test = split_data(df)"
   ]
  },
  {
   "cell_type": "code",
   "execution_count": 16,
   "metadata": {},
   "outputs": [],
   "source": [
    "sample_df = train.sample(1000)"
   ]
  },
  {
   "cell_type": "code",
   "execution_count": null,
   "metadata": {},
   "outputs": [],
   "source": [
    "e.plot_variable_pairs(train, )"
   ]
  },
  {
   "cell_type": "code",
   "execution_count": 12,
   "metadata": {},
   "outputs": [
    {
     "data": {
      "text/plain": [
       "<seaborn.axisgrid.FacetGrid at 0x7fb688e48eb0>"
      ]
     },
     "execution_count": 12,
     "metadata": {},
     "output_type": "execute_result"
    },
    {
     "data": {
      "image/png": "[encoded data removed]",
      "text/plain": [
       "<Figure size 360x360 with 1 Axes>"
      ]
     },
     "metadata": {
      "needs_background": "light"
     },
     "output_type": "display_data"
    }
   ],
   "source": [
    "sns.relplot(x='tenure_years', y='annual_salary', data=train)"
   ]
  },
  {
   "cell_type": "code",
   "execution_count": 19,
   "metadata": {},
   "outputs": [
    {
     "data": {
      "text/plain": [
       "CORREC  OFFICER IV               8753\n",
       "CORREC  OFFICER V                7350\n",
       "TEXAS WORKS ADVISOR II           3812\n",
       "CORREC OFFCR III                 3652\n",
       "DIRECT SUPPORT PROFESSIONAL I    2483\n",
       "                                 ... \n",
       "EX DIRECTOR TDCJ                    1\n",
       "DATABASE ADMINISTRATOR IV           1\n",
       "LEGAL ASSISTANT                     1\n",
       "LEG OFFICE CONSULTANT IV            1\n",
       "UNEMPL INSUR SPEC II                1\n",
       "Name: title, Length: 1406, dtype: int64"
      ]
     },
     "execution_count": 19,
     "metadata": {},
     "output_type": "execute_result"
    }
   ],
   "source": [
    "df.title.value_counts()"
   ]
  },
  {
   "cell_type": "code",
   "execution_count": 21,
   "metadata": {},
   "outputs": [
    {
     "data": {
      "text/plain": [
       "False    85387\n",
       "True     59343\n",
       "Name: title, dtype: int64"
      ]
     },
     "execution_count": 21,
     "metadata": {},
     "output_type": "execute_result"
    }
   ],
   "source": [
    "df.title.str.endswith('II').value_counts()"
   ]
  },
  {
   "cell_type": "code",
   "execution_count": 23,
   "metadata": {},
   "outputs": [
    {
     "data": {
      "text/plain": [
       "False    141722\n",
       "True       3008\n",
       "Name: title, dtype: int64"
      ]
     },
     "execution_count": 23,
     "metadata": {},
     "output_type": "execute_result"
    }
   ],
   "source": [
    "df.title.str.contains('DIRECTOR').value_counts()"
   ]
  },
  {
   "cell_type": "code",
   "execution_count": null,
   "metadata": {},
   "outputs": [],
   "source": []
  }
 ],
 "metadata": {
  "kernelspec": {
   "display_name": "Python 3",
   "language": "python",
   "name": "python3"
  },
  "language_info": {
   "codemirror_mode": {
    "name": "ipython",
    "version": 3
   },
   "file_extension": ".py",
   "mimetype": "text/x-python",
   "name": "python",
   "nbconvert_exporter": "python",
   "pygments_lexer": "ipython3",
   "version": "3.8.5"
  }
 },
 "nbformat": 4,
 "nbformat_minor": 4
}
