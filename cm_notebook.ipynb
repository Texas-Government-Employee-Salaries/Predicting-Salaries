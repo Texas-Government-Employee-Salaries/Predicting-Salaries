{
 "cells": [
  {
   "cell_type": "markdown",
   "metadata": {},
   "source": [
    "rough mayorga"
   ]
  },
  {
   "cell_type": "code",
   "execution_count": 1,
   "metadata": {},
   "outputs": [],
   "source": [
    "import math\n",
    "import warnings\n",
    "warnings.filterwarnings(\"ignore\")\n",
    "\n",
    "import pandas as pd\n",
    "import numpy as np\n",
    "import seaborn as sns\n",
    "import matplotlib.pyplot as plt\n",
    "from scipy import stats\n",
    "from datetime import datetime\n",
    "\n",
    "from sklearn.preprocessing import LabelEncoder\n",
    "from sklearn.metrics import explained_variance_score\n",
    "from sklearn.metrics import mean_squared_error\n",
    "from sklearn.linear_model import LinearRegression, LassoLars, TweedieRegressor\n",
    "from sklearn.preprocessing import PolynomialFeatures\n",
    "import sklearn.preprocessing\n",
    "from sklearn.linear_model import LinearRegression\n",
    "from sklearn.metrics import r2_score, mean_squared_error\n",
    "from sklearn.feature_selection import SelectKBest, f_regression, RFE"
   ]
  },
  {
   "cell_type": "code",
   "execution_count": 2,
   "metadata": {},
   "outputs": [],
   "source": [
    "## Trusty Modules\n",
    "\n",
    "from Acquire import get_texas_data\n",
    "from Prepare import prepare_tex, create_features, make_bins_and_feats, split_data\n",
    "import m_explore as e"
   ]
  },
  {
   "cell_type": "markdown",
   "metadata": {},
   "source": [
    "# Acquire"
   ]
  },
  {
   "cell_type": "code",
   "execution_count": 3,
   "metadata": {},
   "outputs": [],
   "source": [
    "df = get_texas_data(cached=True)"
   ]
  },
  {
   "cell_type": "code",
   "execution_count": 4,
   "metadata": {},
   "outputs": [
    {
     "name": "stdout",
     "output_type": "stream",
     "text": [
      "<class 'pandas.core.frame.DataFrame'>\n",
      "Int64Index: 144738 entries, 0 to 144737\n",
      "Data columns (total 21 columns):\n",
      " #   Column                   Non-Null Count   Dtype  \n",
      "---  ------                   --------------   -----  \n",
      " 0   AGY                      144738 non-null  int64  \n",
      " 1   NAME                     144738 non-null  object \n",
      " 2   LASTNAME                 144738 non-null  object \n",
      " 3   FIRSTNAME                144738 non-null  object \n",
      " 4   MI                       144738 non-null  object \n",
      " 5   JOBCLASS                 144738 non-null  object \n",
      " 6   JC TITLE                 144738 non-null  object \n",
      " 7   RACE                     144738 non-null  object \n",
      " 8   SEX                      144738 non-null  object \n",
      " 9   EMPTYPE                  144738 non-null  object \n",
      " 10  HIREDT                   144738 non-null  object \n",
      " 11  RATE                     144738 non-null  float64\n",
      " 12  HRSWKD                   144738 non-null  float64\n",
      " 13  MONTHLY                  144738 non-null  float64\n",
      " 14  ANNUAL                   144738 non-null  float64\n",
      " 15  STATENUM                 144738 non-null  int64  \n",
      " 16  duplicated               76 non-null      object \n",
      " 17  multiple_full_time_jobs  18 non-null      object \n",
      " 18  combined_multiple_jobs   37 non-null      object \n",
      " 19  summed_annual_salary     11 non-null      float64\n",
      " 20  hide_from_search         11 non-null      object \n",
      "dtypes: float64(5), int64(2), object(14)\n",
      "memory usage: 24.3+ MB\n"
     ]
    }
   ],
   "source": [
    "df.info()"
   ]
  },
  {
   "cell_type": "markdown",
   "metadata": {},
   "source": [
    "# Prepare"
   ]
  },
  {
   "cell_type": "code",
   "execution_count": 5,
   "metadata": {},
   "outputs": [
    {
     "name": "stdout",
     "output_type": "stream",
     "text": [
      "Looking At Our Maximum Age and Minimum Age to Make Some Age Bins\n",
      "\n",
      "Max: 49.8, Min: 0.0\n",
      "\n",
      "----------------------------\n",
      "\n",
      "Visualizing Years of Tenure Column To Help with Binning\n",
      "\n"
     ]
    },
    {
     "data": {
      "image/png": "[encoded data removed]",
      "text/plain": [
       "<Figure size 432x288 with 1 Axes>"
      ]
     },
     "metadata": {
      "needs_background": "light"
     },
     "output_type": "display_data"
    },
    {
     "name": "stdout",
     "output_type": "stream",
     "text": [
      "\n",
      "----------------------------\n",
      "\n",
      "Looking At Our Years of Tenure Bins Value Counts\n",
      "1    83012\n",
      "2    27330\n",
      "3    25513\n",
      "4     8875\n",
      "Name: tenure_years_bins, dtype: int64\n",
      "\n",
      "----------------------------\n",
      "\n"
     ]
    }
   ],
   "source": [
    "df = prepare_tex(df)\n",
    "df = create_features(df)\n",
    "df = make_bins_and_feats(df)"
   ]
  },
  {
   "cell_type": "code",
   "execution_count": 6,
   "metadata": {},
   "outputs": [
    {
     "name": "stdout",
     "output_type": "stream",
     "text": [
      "<class 'pandas.core.frame.DataFrame'>\n",
      "Int64Index: 144730 entries, 0 to 144737\n",
      "Data columns (total 29 columns):\n",
      " #   Column             Non-Null Count   Dtype         \n",
      "---  ------             --------------   -----         \n",
      " 0   agency_id          144730 non-null  int64         \n",
      " 1   agency             144730 non-null  object        \n",
      " 2   lastname           144730 non-null  object        \n",
      " 3   firstname          144730 non-null  object        \n",
      " 4   title              144730 non-null  object        \n",
      " 5   race               144730 non-null  object        \n",
      " 6   sex                144730 non-null  object        \n",
      " 7   emptype            144730 non-null  object        \n",
      " 8   hire_date          144730 non-null  datetime64[ns]\n",
      " 9   hours_worked       144730 non-null  float64       \n",
      " 10  monthly_salary     144730 non-null  float64       \n",
      " 11  annual_salary      144730 non-null  float64       \n",
      " 12  is_female          144730 non-null  int64         \n",
      " 13  is_white           144730 non-null  int64         \n",
      " 14  is_hispanic        144730 non-null  int64         \n",
      " 15  is_black           144730 non-null  int64         \n",
      " 16  is_BIPOC           144730 non-null  int64         \n",
      " 17  race_encoded       144730 non-null  int64         \n",
      " 18  tenure_months      144730 non-null  int64         \n",
      " 19  tenure_years       144730 non-null  float64       \n",
      " 20  is_elected         144730 non-null  int64         \n",
      " 21  is_director        144730 non-null  int64         \n",
      " 22  is_unclassified    144730 non-null  int64         \n",
      " 23  is_parttime        144730 non-null  int64         \n",
      " 24  tenure_years_bins  144730 non-null  int64         \n",
      " 25  0-5_years          144730 non-null  int64         \n",
      " 26  5-10_years         144730 non-null  int64         \n",
      " 27  10-20_years        144730 non-null  int64         \n",
      " 28  >20_years          144730 non-null  int64         \n",
      "dtypes: datetime64[ns](1), float64(4), int64(17), object(7)\n",
      "memory usage: 33.1+ MB\n"
     ]
    }
   ],
   "source": [
    "df.info()"
   ]
  },
  {
   "cell_type": "code",
   "execution_count": 7,
   "metadata": {},
   "outputs": [
    {
     "data": {
      "text/html": [
       "<div>\n",
       "<style scoped>\n",
       "    .dataframe tbody tr th:only-of-type {\n",
       "        vertical-align: middle;\n",
       "    }\n",
       "\n",
       "    .dataframe tbody tr th {\n",
       "        vertical-align: top;\n",
       "    }\n",
       "\n",
       "    .dataframe thead th {\n",
       "        text-align: right;\n",
       "    }\n",
       "</style>\n",
       "<table border=\"1\" class=\"dataframe\">\n",
       "  <thead>\n",
       "    <tr style=\"text-align: right;\">\n",
       "      <th></th>\n",
       "      <th>0</th>\n",
       "      <th>1</th>\n",
       "      <th>2</th>\n",
       "      <th>3</th>\n",
       "      <th>4</th>\n",
       "    </tr>\n",
       "  </thead>\n",
       "  <tbody>\n",
       "    <tr>\n",
       "      <th>agency_id</th>\n",
       "      <td>101</td>\n",
       "      <td>104</td>\n",
       "      <td>101</td>\n",
       "      <td>104</td>\n",
       "      <td>101</td>\n",
       "    </tr>\n",
       "    <tr>\n",
       "      <th>agency</th>\n",
       "      <td>SENATE</td>\n",
       "      <td>LEGISLATIVE BUDGET BOARD</td>\n",
       "      <td>SENATE</td>\n",
       "      <td>LEGISLATIVE BUDGET BOARD</td>\n",
       "      <td>SENATE</td>\n",
       "    </tr>\n",
       "    <tr>\n",
       "      <th>lastname</th>\n",
       "      <td>GILLIAM</td>\n",
       "      <td>GILLIAM</td>\n",
       "      <td>NELSON</td>\n",
       "      <td>NELSON</td>\n",
       "      <td>ROCHA</td>\n",
       "    </tr>\n",
       "    <tr>\n",
       "      <th>firstname</th>\n",
       "      <td>STACEY</td>\n",
       "      <td>STACEY</td>\n",
       "      <td>DAVID</td>\n",
       "      <td>DAVID</td>\n",
       "      <td>MARIE</td>\n",
       "    </tr>\n",
       "    <tr>\n",
       "      <th>title</th>\n",
       "      <td>LEG. OFFICIAL/ADMINISTRATOR</td>\n",
       "      <td>COMMITTEE DIRECTOR</td>\n",
       "      <td>LEG. OFFICIAL/ADMINISTRATOR</td>\n",
       "      <td>SENIOR BUDGET ADVISOR</td>\n",
       "      <td>LEG. SERVICE/MAINTENANCE</td>\n",
       "    </tr>\n",
       "    <tr>\n",
       "      <th>race</th>\n",
       "      <td>WHITE</td>\n",
       "      <td>WHITE</td>\n",
       "      <td>WHITE</td>\n",
       "      <td>WHITE</td>\n",
       "      <td>HISPANIC</td>\n",
       "    </tr>\n",
       "    <tr>\n",
       "      <th>sex</th>\n",
       "      <td>FEMALE</td>\n",
       "      <td>FEMALE</td>\n",
       "      <td>MALE</td>\n",
       "      <td>MALE</td>\n",
       "      <td>FEMALE</td>\n",
       "    </tr>\n",
       "    <tr>\n",
       "      <th>emptype</th>\n",
       "      <td>URP - UNCLASSIFIED REGULAR PART-TIME</td>\n",
       "      <td>URP - UNCLASSIFIED REGULAR PART-TIME</td>\n",
       "      <td>URP - UNCLASSIFIED REGULAR PART-TIME</td>\n",
       "      <td>URP - UNCLASSIFIED REGULAR PART-TIME</td>\n",
       "      <td>URF - UNCLASSIFIED REGULAR FULL-TIME</td>\n",
       "    </tr>\n",
       "    <tr>\n",
       "      <th>hire_date</th>\n",
       "      <td>2013-07-01 00:00:00</td>\n",
       "      <td>2017-11-01 00:00:00</td>\n",
       "      <td>1998-12-01 00:00:00</td>\n",
       "      <td>2017-11-01 00:00:00</td>\n",
       "      <td>2003-05-01 00:00:00</td>\n",
       "    </tr>\n",
       "    <tr>\n",
       "      <th>hours_worked</th>\n",
       "      <td>20</td>\n",
       "      <td>20</td>\n",
       "      <td>20</td>\n",
       "      <td>20</td>\n",
       "      <td>41</td>\n",
       "    </tr>\n",
       "    <tr>\n",
       "      <th>monthly_salary</th>\n",
       "      <td>8100</td>\n",
       "      <td>7000</td>\n",
       "      <td>9500</td>\n",
       "      <td>8000</td>\n",
       "      <td>3365.4</td>\n",
       "    </tr>\n",
       "    <tr>\n",
       "      <th>annual_salary</th>\n",
       "      <td>97200</td>\n",
       "      <td>84000</td>\n",
       "      <td>114000</td>\n",
       "      <td>96000</td>\n",
       "      <td>40384.8</td>\n",
       "    </tr>\n",
       "    <tr>\n",
       "      <th>is_female</th>\n",
       "      <td>1</td>\n",
       "      <td>1</td>\n",
       "      <td>0</td>\n",
       "      <td>0</td>\n",
       "      <td>1</td>\n",
       "    </tr>\n",
       "    <tr>\n",
       "      <th>is_white</th>\n",
       "      <td>1</td>\n",
       "      <td>1</td>\n",
       "      <td>1</td>\n",
       "      <td>1</td>\n",
       "      <td>0</td>\n",
       "    </tr>\n",
       "    <tr>\n",
       "      <th>is_hispanic</th>\n",
       "      <td>0</td>\n",
       "      <td>0</td>\n",
       "      <td>0</td>\n",
       "      <td>0</td>\n",
       "      <td>1</td>\n",
       "    </tr>\n",
       "    <tr>\n",
       "      <th>is_black</th>\n",
       "      <td>0</td>\n",
       "      <td>0</td>\n",
       "      <td>0</td>\n",
       "      <td>0</td>\n",
       "      <td>0</td>\n",
       "    </tr>\n",
       "    <tr>\n",
       "      <th>is_BIPOC</th>\n",
       "      <td>0</td>\n",
       "      <td>0</td>\n",
       "      <td>0</td>\n",
       "      <td>0</td>\n",
       "      <td>1</td>\n",
       "    </tr>\n",
       "    <tr>\n",
       "      <th>race_encoded</th>\n",
       "      <td>5</td>\n",
       "      <td>5</td>\n",
       "      <td>5</td>\n",
       "      <td>5</td>\n",
       "      <td>3</td>\n",
       "    </tr>\n",
       "    <tr>\n",
       "      <th>tenure_months</th>\n",
       "      <td>96</td>\n",
       "      <td>44</td>\n",
       "      <td>271</td>\n",
       "      <td>44</td>\n",
       "      <td>218</td>\n",
       "    </tr>\n",
       "    <tr>\n",
       "      <th>tenure_years</th>\n",
       "      <td>8</td>\n",
       "      <td>3.7</td>\n",
       "      <td>22.6</td>\n",
       "      <td>3.7</td>\n",
       "      <td>18.2</td>\n",
       "    </tr>\n",
       "    <tr>\n",
       "      <th>is_elected</th>\n",
       "      <td>0</td>\n",
       "      <td>0</td>\n",
       "      <td>0</td>\n",
       "      <td>0</td>\n",
       "      <td>0</td>\n",
       "    </tr>\n",
       "    <tr>\n",
       "      <th>is_director</th>\n",
       "      <td>0</td>\n",
       "      <td>1</td>\n",
       "      <td>0</td>\n",
       "      <td>0</td>\n",
       "      <td>0</td>\n",
       "    </tr>\n",
       "    <tr>\n",
       "      <th>is_unclassified</th>\n",
       "      <td>1</td>\n",
       "      <td>1</td>\n",
       "      <td>1</td>\n",
       "      <td>1</td>\n",
       "      <td>1</td>\n",
       "    </tr>\n",
       "    <tr>\n",
       "      <th>is_parttime</th>\n",
       "      <td>1</td>\n",
       "      <td>1</td>\n",
       "      <td>1</td>\n",
       "      <td>1</td>\n",
       "      <td>0</td>\n",
       "    </tr>\n",
       "    <tr>\n",
       "      <th>tenure_years_bins</th>\n",
       "      <td>2</td>\n",
       "      <td>1</td>\n",
       "      <td>4</td>\n",
       "      <td>1</td>\n",
       "      <td>3</td>\n",
       "    </tr>\n",
       "    <tr>\n",
       "      <th>0-5_years</th>\n",
       "      <td>0</td>\n",
       "      <td>1</td>\n",
       "      <td>0</td>\n",
       "      <td>1</td>\n",
       "      <td>0</td>\n",
       "    </tr>\n",
       "    <tr>\n",
       "      <th>5-10_years</th>\n",
       "      <td>1</td>\n",
       "      <td>0</td>\n",
       "      <td>0</td>\n",
       "      <td>0</td>\n",
       "      <td>0</td>\n",
       "    </tr>\n",
       "    <tr>\n",
       "      <th>10-20_years</th>\n",
       "      <td>0</td>\n",
       "      <td>0</td>\n",
       "      <td>0</td>\n",
       "      <td>0</td>\n",
       "      <td>1</td>\n",
       "    </tr>\n",
       "    <tr>\n",
       "      <th>&gt;20_years</th>\n",
       "      <td>0</td>\n",
       "      <td>0</td>\n",
       "      <td>1</td>\n",
       "      <td>0</td>\n",
       "      <td>0</td>\n",
       "    </tr>\n",
       "  </tbody>\n",
       "</table>\n",
       "</div>"
      ],
      "text/plain": [
       "                                                      0  \\\n",
       "agency_id                                           101   \n",
       "agency                                           SENATE   \n",
       "lastname                                        GILLIAM   \n",
       "firstname                                        STACEY   \n",
       "title                       LEG. OFFICIAL/ADMINISTRATOR   \n",
       "race                                              WHITE   \n",
       "sex                                              FEMALE   \n",
       "emptype            URP - UNCLASSIFIED REGULAR PART-TIME   \n",
       "hire_date                           2013-07-01 00:00:00   \n",
       "hours_worked                                         20   \n",
       "monthly_salary                                     8100   \n",
       "annual_salary                                     97200   \n",
       "is_female                                             1   \n",
       "is_white                                              1   \n",
       "is_hispanic                                           0   \n",
       "is_black                                              0   \n",
       "is_BIPOC                                              0   \n",
       "race_encoded                                          5   \n",
       "tenure_months                                        96   \n",
       "tenure_years                                          8   \n",
       "is_elected                                            0   \n",
       "is_director                                           0   \n",
       "is_unclassified                                       1   \n",
       "is_parttime                                           1   \n",
       "tenure_years_bins                                     2   \n",
       "0-5_years                                             0   \n",
       "5-10_years                                            1   \n",
       "10-20_years                                           0   \n",
       ">20_years                                             0   \n",
       "\n",
       "                                                      1  \\\n",
       "agency_id                                           104   \n",
       "agency                         LEGISLATIVE BUDGET BOARD   \n",
       "lastname                                        GILLIAM   \n",
       "firstname                                        STACEY   \n",
       "title                                COMMITTEE DIRECTOR   \n",
       "race                                              WHITE   \n",
       "sex                                              FEMALE   \n",
       "emptype            URP - UNCLASSIFIED REGULAR PART-TIME   \n",
       "hire_date                           2017-11-01 00:00:00   \n",
       "hours_worked                                         20   \n",
       "monthly_salary                                     7000   \n",
       "annual_salary                                     84000   \n",
       "is_female                                             1   \n",
       "is_white                                              1   \n",
       "is_hispanic                                           0   \n",
       "is_black                                              0   \n",
       "is_BIPOC                                              0   \n",
       "race_encoded                                          5   \n",
       "tenure_months                                        44   \n",
       "tenure_years                                        3.7   \n",
       "is_elected                                            0   \n",
       "is_director                                           1   \n",
       "is_unclassified                                       1   \n",
       "is_parttime                                           1   \n",
       "tenure_years_bins                                     1   \n",
       "0-5_years                                             1   \n",
       "5-10_years                                            0   \n",
       "10-20_years                                           0   \n",
       ">20_years                                             0   \n",
       "\n",
       "                                                      2  \\\n",
       "agency_id                                           101   \n",
       "agency                                           SENATE   \n",
       "lastname                                         NELSON   \n",
       "firstname                                         DAVID   \n",
       "title                       LEG. OFFICIAL/ADMINISTRATOR   \n",
       "race                                              WHITE   \n",
       "sex                                                MALE   \n",
       "emptype            URP - UNCLASSIFIED REGULAR PART-TIME   \n",
       "hire_date                           1998-12-01 00:00:00   \n",
       "hours_worked                                         20   \n",
       "monthly_salary                                     9500   \n",
       "annual_salary                                    114000   \n",
       "is_female                                             0   \n",
       "is_white                                              1   \n",
       "is_hispanic                                           0   \n",
       "is_black                                              0   \n",
       "is_BIPOC                                              0   \n",
       "race_encoded                                          5   \n",
       "tenure_months                                       271   \n",
       "tenure_years                                       22.6   \n",
       "is_elected                                            0   \n",
       "is_director                                           0   \n",
       "is_unclassified                                       1   \n",
       "is_parttime                                           1   \n",
       "tenure_years_bins                                     4   \n",
       "0-5_years                                             0   \n",
       "5-10_years                                            0   \n",
       "10-20_years                                           0   \n",
       ">20_years                                             1   \n",
       "\n",
       "                                                      3  \\\n",
       "agency_id                                           104   \n",
       "agency                         LEGISLATIVE BUDGET BOARD   \n",
       "lastname                                         NELSON   \n",
       "firstname                                         DAVID   \n",
       "title                             SENIOR BUDGET ADVISOR   \n",
       "race                                              WHITE   \n",
       "sex                                                MALE   \n",
       "emptype            URP - UNCLASSIFIED REGULAR PART-TIME   \n",
       "hire_date                           2017-11-01 00:00:00   \n",
       "hours_worked                                         20   \n",
       "monthly_salary                                     8000   \n",
       "annual_salary                                     96000   \n",
       "is_female                                             0   \n",
       "is_white                                              1   \n",
       "is_hispanic                                           0   \n",
       "is_black                                              0   \n",
       "is_BIPOC                                              0   \n",
       "race_encoded                                          5   \n",
       "tenure_months                                        44   \n",
       "tenure_years                                        3.7   \n",
       "is_elected                                            0   \n",
       "is_director                                           0   \n",
       "is_unclassified                                       1   \n",
       "is_parttime                                           1   \n",
       "tenure_years_bins                                     1   \n",
       "0-5_years                                             1   \n",
       "5-10_years                                            0   \n",
       "10-20_years                                           0   \n",
       ">20_years                                             0   \n",
       "\n",
       "                                                      4  \n",
       "agency_id                                           101  \n",
       "agency                                           SENATE  \n",
       "lastname                                          ROCHA  \n",
       "firstname                                         MARIE  \n",
       "title                          LEG. SERVICE/MAINTENANCE  \n",
       "race                                           HISPANIC  \n",
       "sex                                              FEMALE  \n",
       "emptype            URF - UNCLASSIFIED REGULAR FULL-TIME  \n",
       "hire_date                           2003-05-01 00:00:00  \n",
       "hours_worked                                         41  \n",
       "monthly_salary                                   3365.4  \n",
       "annual_salary                                   40384.8  \n",
       "is_female                                             1  \n",
       "is_white                                              0  \n",
       "is_hispanic                                           1  \n",
       "is_black                                              0  \n",
       "is_BIPOC                                              1  \n",
       "race_encoded                                          3  \n",
       "tenure_months                                       218  \n",
       "tenure_years                                       18.2  \n",
       "is_elected                                            0  \n",
       "is_director                                           0  \n",
       "is_unclassified                                       1  \n",
       "is_parttime                                           0  \n",
       "tenure_years_bins                                     3  \n",
       "0-5_years                                             0  \n",
       "5-10_years                                            0  \n",
       "10-20_years                                           1  \n",
       ">20_years                                             0  "
      ]
     },
     "execution_count": 7,
     "metadata": {},
     "output_type": "execute_result"
    }
   ],
   "source": [
    "df.head().T"
   ]
  },
  {
   "cell_type": "code",
   "execution_count": 8,
   "metadata": {},
   "outputs": [
    {
     "data": {
      "text/html": [
       "<div>\n",
       "<style scoped>\n",
       "    .dataframe tbody tr th:only-of-type {\n",
       "        vertical-align: middle;\n",
       "    }\n",
       "\n",
       "    .dataframe tbody tr th {\n",
       "        vertical-align: top;\n",
       "    }\n",
       "\n",
       "    .dataframe thead th {\n",
       "        text-align: right;\n",
       "    }\n",
       "</style>\n",
       "<table border=\"1\" class=\"dataframe\">\n",
       "  <thead>\n",
       "    <tr style=\"text-align: right;\">\n",
       "      <th></th>\n",
       "      <th>count</th>\n",
       "      <th>mean</th>\n",
       "      <th>std</th>\n",
       "      <th>min</th>\n",
       "      <th>25%</th>\n",
       "      <th>50%</th>\n",
       "      <th>75%</th>\n",
       "      <th>max</th>\n",
       "    </tr>\n",
       "  </thead>\n",
       "  <tbody>\n",
       "    <tr>\n",
       "      <th>agency_id</th>\n",
       "      <td>144730.0</td>\n",
       "      <td>542.139011</td>\n",
       "      <td>140.558625</td>\n",
       "      <td>101.0</td>\n",
       "      <td>529.00</td>\n",
       "      <td>530.00</td>\n",
       "      <td>696.0</td>\n",
       "      <td>930.0</td>\n",
       "    </tr>\n",
       "    <tr>\n",
       "      <th>hours_worked</th>\n",
       "      <td>144730.0</td>\n",
       "      <td>39.702776</td>\n",
       "      <td>2.336290</td>\n",
       "      <td>2.0</td>\n",
       "      <td>40.00</td>\n",
       "      <td>40.00</td>\n",
       "      <td>40.0</td>\n",
       "      <td>80.0</td>\n",
       "    </tr>\n",
       "    <tr>\n",
       "      <th>monthly_salary</th>\n",
       "      <td>144730.0</td>\n",
       "      <td>4319.108757</td>\n",
       "      <td>2137.890937</td>\n",
       "      <td>50.0</td>\n",
       "      <td>3025.91</td>\n",
       "      <td>3720.17</td>\n",
       "      <td>5000.0</td>\n",
       "      <td>46125.0</td>\n",
       "    </tr>\n",
       "    <tr>\n",
       "      <th>annual_salary</th>\n",
       "      <td>144730.0</td>\n",
       "      <td>51829.305083</td>\n",
       "      <td>25654.691246</td>\n",
       "      <td>600.0</td>\n",
       "      <td>36310.92</td>\n",
       "      <td>44642.04</td>\n",
       "      <td>60000.0</td>\n",
       "      <td>553500.0</td>\n",
       "    </tr>\n",
       "    <tr>\n",
       "      <th>is_female</th>\n",
       "      <td>144730.0</td>\n",
       "      <td>0.572549</td>\n",
       "      <td>0.494710</td>\n",
       "      <td>0.0</td>\n",
       "      <td>0.00</td>\n",
       "      <td>1.00</td>\n",
       "      <td>1.0</td>\n",
       "      <td>1.0</td>\n",
       "    </tr>\n",
       "    <tr>\n",
       "      <th>is_white</th>\n",
       "      <td>144730.0</td>\n",
       "      <td>0.446673</td>\n",
       "      <td>0.497150</td>\n",
       "      <td>0.0</td>\n",
       "      <td>0.00</td>\n",
       "      <td>0.00</td>\n",
       "      <td>1.0</td>\n",
       "      <td>1.0</td>\n",
       "    </tr>\n",
       "    <tr>\n",
       "      <th>is_hispanic</th>\n",
       "      <td>144730.0</td>\n",
       "      <td>0.273295</td>\n",
       "      <td>0.445653</td>\n",
       "      <td>0.0</td>\n",
       "      <td>0.00</td>\n",
       "      <td>0.00</td>\n",
       "      <td>1.0</td>\n",
       "      <td>1.0</td>\n",
       "    </tr>\n",
       "    <tr>\n",
       "      <th>is_black</th>\n",
       "      <td>144730.0</td>\n",
       "      <td>0.234665</td>\n",
       "      <td>0.423790</td>\n",
       "      <td>0.0</td>\n",
       "      <td>0.00</td>\n",
       "      <td>0.00</td>\n",
       "      <td>0.0</td>\n",
       "      <td>1.0</td>\n",
       "    </tr>\n",
       "    <tr>\n",
       "      <th>is_BIPOC</th>\n",
       "      <td>144730.0</td>\n",
       "      <td>0.553327</td>\n",
       "      <td>0.497150</td>\n",
       "      <td>0.0</td>\n",
       "      <td>0.00</td>\n",
       "      <td>1.00</td>\n",
       "      <td>1.0</td>\n",
       "      <td>1.0</td>\n",
       "    </tr>\n",
       "    <tr>\n",
       "      <th>race_encoded</th>\n",
       "      <td>144730.0</td>\n",
       "      <td>3.593270</td>\n",
       "      <td>1.358207</td>\n",
       "      <td>0.0</td>\n",
       "      <td>2.00</td>\n",
       "      <td>3.00</td>\n",
       "      <td>5.0</td>\n",
       "      <td>5.0</td>\n",
       "    </tr>\n",
       "    <tr>\n",
       "      <th>tenure_months</th>\n",
       "      <td>144730.0</td>\n",
       "      <td>81.320998</td>\n",
       "      <td>81.005363</td>\n",
       "      <td>0.0</td>\n",
       "      <td>23.00</td>\n",
       "      <td>46.00</td>\n",
       "      <td>115.0</td>\n",
       "      <td>597.0</td>\n",
       "    </tr>\n",
       "    <tr>\n",
       "      <th>tenure_years</th>\n",
       "      <td>144730.0</td>\n",
       "      <td>6.773519</td>\n",
       "      <td>6.751620</td>\n",
       "      <td>0.0</td>\n",
       "      <td>1.90</td>\n",
       "      <td>3.80</td>\n",
       "      <td>9.6</td>\n",
       "      <td>49.8</td>\n",
       "    </tr>\n",
       "    <tr>\n",
       "      <th>is_elected</th>\n",
       "      <td>144730.0</td>\n",
       "      <td>0.001893</td>\n",
       "      <td>0.043470</td>\n",
       "      <td>0.0</td>\n",
       "      <td>0.00</td>\n",
       "      <td>0.00</td>\n",
       "      <td>0.0</td>\n",
       "      <td>1.0</td>\n",
       "    </tr>\n",
       "    <tr>\n",
       "      <th>is_director</th>\n",
       "      <td>144730.0</td>\n",
       "      <td>0.020784</td>\n",
       "      <td>0.142659</td>\n",
       "      <td>0.0</td>\n",
       "      <td>0.00</td>\n",
       "      <td>0.00</td>\n",
       "      <td>0.0</td>\n",
       "      <td>1.0</td>\n",
       "    </tr>\n",
       "    <tr>\n",
       "      <th>is_unclassified</th>\n",
       "      <td>144730.0</td>\n",
       "      <td>0.024708</td>\n",
       "      <td>0.155235</td>\n",
       "      <td>0.0</td>\n",
       "      <td>0.00</td>\n",
       "      <td>0.00</td>\n",
       "      <td>0.0</td>\n",
       "      <td>1.0</td>\n",
       "    </tr>\n",
       "    <tr>\n",
       "      <th>is_parttime</th>\n",
       "      <td>144730.0</td>\n",
       "      <td>0.018331</td>\n",
       "      <td>0.134145</td>\n",
       "      <td>0.0</td>\n",
       "      <td>0.00</td>\n",
       "      <td>0.00</td>\n",
       "      <td>0.0</td>\n",
       "      <td>1.0</td>\n",
       "    </tr>\n",
       "    <tr>\n",
       "      <th>tenure_years_bins</th>\n",
       "      <td>144730.0</td>\n",
       "      <td>1.725358</td>\n",
       "      <td>0.959013</td>\n",
       "      <td>1.0</td>\n",
       "      <td>1.00</td>\n",
       "      <td>1.00</td>\n",
       "      <td>2.0</td>\n",
       "      <td>4.0</td>\n",
       "    </tr>\n",
       "    <tr>\n",
       "      <th>0-5_years</th>\n",
       "      <td>144730.0</td>\n",
       "      <td>0.573565</td>\n",
       "      <td>0.494560</td>\n",
       "      <td>0.0</td>\n",
       "      <td>0.00</td>\n",
       "      <td>1.00</td>\n",
       "      <td>1.0</td>\n",
       "      <td>1.0</td>\n",
       "    </tr>\n",
       "    <tr>\n",
       "      <th>5-10_years</th>\n",
       "      <td>144730.0</td>\n",
       "      <td>0.188834</td>\n",
       "      <td>0.391378</td>\n",
       "      <td>0.0</td>\n",
       "      <td>0.00</td>\n",
       "      <td>0.00</td>\n",
       "      <td>0.0</td>\n",
       "      <td>1.0</td>\n",
       "    </tr>\n",
       "    <tr>\n",
       "      <th>10-20_years</th>\n",
       "      <td>144730.0</td>\n",
       "      <td>0.176280</td>\n",
       "      <td>0.381060</td>\n",
       "      <td>0.0</td>\n",
       "      <td>0.00</td>\n",
       "      <td>0.00</td>\n",
       "      <td>0.0</td>\n",
       "      <td>1.0</td>\n",
       "    </tr>\n",
       "    <tr>\n",
       "      <th>&gt;20_years</th>\n",
       "      <td>144730.0</td>\n",
       "      <td>0.061321</td>\n",
       "      <td>0.239919</td>\n",
       "      <td>0.0</td>\n",
       "      <td>0.00</td>\n",
       "      <td>0.00</td>\n",
       "      <td>0.0</td>\n",
       "      <td>1.0</td>\n",
       "    </tr>\n",
       "  </tbody>\n",
       "</table>\n",
       "</div>"
      ],
      "text/plain": [
       "                      count          mean           std    min       25%  \\\n",
       "agency_id          144730.0    542.139011    140.558625  101.0    529.00   \n",
       "hours_worked       144730.0     39.702776      2.336290    2.0     40.00   \n",
       "monthly_salary     144730.0   4319.108757   2137.890937   50.0   3025.91   \n",
       "annual_salary      144730.0  51829.305083  25654.691246  600.0  36310.92   \n",
       "is_female          144730.0      0.572549      0.494710    0.0      0.00   \n",
       "is_white           144730.0      0.446673      0.497150    0.0      0.00   \n",
       "is_hispanic        144730.0      0.273295      0.445653    0.0      0.00   \n",
       "is_black           144730.0      0.234665      0.423790    0.0      0.00   \n",
       "is_BIPOC           144730.0      0.553327      0.497150    0.0      0.00   \n",
       "race_encoded       144730.0      3.593270      1.358207    0.0      2.00   \n",
       "tenure_months      144730.0     81.320998     81.005363    0.0     23.00   \n",
       "tenure_years       144730.0      6.773519      6.751620    0.0      1.90   \n",
       "is_elected         144730.0      0.001893      0.043470    0.0      0.00   \n",
       "is_director        144730.0      0.020784      0.142659    0.0      0.00   \n",
       "is_unclassified    144730.0      0.024708      0.155235    0.0      0.00   \n",
       "is_parttime        144730.0      0.018331      0.134145    0.0      0.00   \n",
       "tenure_years_bins  144730.0      1.725358      0.959013    1.0      1.00   \n",
       "0-5_years          144730.0      0.573565      0.494560    0.0      0.00   \n",
       "5-10_years         144730.0      0.188834      0.391378    0.0      0.00   \n",
       "10-20_years        144730.0      0.176280      0.381060    0.0      0.00   \n",
       ">20_years          144730.0      0.061321      0.239919    0.0      0.00   \n",
       "\n",
       "                        50%      75%       max  \n",
       "agency_id            530.00    696.0     930.0  \n",
       "hours_worked          40.00     40.0      80.0  \n",
       "monthly_salary      3720.17   5000.0   46125.0  \n",
       "annual_salary      44642.04  60000.0  553500.0  \n",
       "is_female              1.00      1.0       1.0  \n",
       "is_white               0.00      1.0       1.0  \n",
       "is_hispanic            0.00      1.0       1.0  \n",
       "is_black               0.00      0.0       1.0  \n",
       "is_BIPOC               1.00      1.0       1.0  \n",
       "race_encoded           3.00      5.0       5.0  \n",
       "tenure_months         46.00    115.0     597.0  \n",
       "tenure_years           3.80      9.6      49.8  \n",
       "is_elected             0.00      0.0       1.0  \n",
       "is_director            0.00      0.0       1.0  \n",
       "is_unclassified        0.00      0.0       1.0  \n",
       "is_parttime            0.00      0.0       1.0  \n",
       "tenure_years_bins      1.00      2.0       4.0  \n",
       "0-5_years              1.00      1.0       1.0  \n",
       "5-10_years             0.00      0.0       1.0  \n",
       "10-20_years            0.00      0.0       1.0  \n",
       ">20_years              0.00      0.0       1.0  "
      ]
     },
     "execution_count": 8,
     "metadata": {},
     "output_type": "execute_result"
    }
   ],
   "source": [
    "df.describe().T"
   ]
  },
  {
   "cell_type": "markdown",
   "metadata": {},
   "source": [
    "# Explore"
   ]
  },
  {
   "cell_type": "code",
   "execution_count": 9,
   "metadata": {},
   "outputs": [],
   "source": [
    "cat_vars = ['race', 'sex', 'emptype']\n",
    "quant_vars = ['hours_worked', 'monthly_salary', 'annual_salary', 'tenure_months', 'tenure_years']"
   ]
  },
  {
   "cell_type": "markdown",
   "metadata": {},
   "source": [
    "## Univariate Exploration"
   ]
  },
  {
   "cell_type": "code",
   "execution_count": 10,
   "metadata": {},
   "outputs": [
    {
     "name": "stdout",
     "output_type": "stream",
     "text": [
      "Bar Plot of race\n"
     ]
    },
    {
     "data": {
      "image/png": "[encoded data removed]",
      "text/plain": [
       "<Figure size 432x288 with 1 Axes>"
      ]
     },
     "metadata": {
      "needs_background": "light"
     },
     "output_type": "display_data"
    },
    {
     "name": "stdout",
     "output_type": "stream",
     "text": [
      "Bar Plot of sex\n"
     ]
    },
    {
     "data": {
      "image/png": "[encoded data removed]",
      "text/plain": [
       "<Figure size 432x288 with 1 Axes>"
      ]
     },
     "metadata": {
      "needs_background": "light"
     },
     "output_type": "display_data"
    },
    {
     "name": "stdout",
     "output_type": "stream",
     "text": [
      "Bar Plot of emptype\n"
     ]
    },
    {
     "data": {
      "image/png": "[encoded data removed]",
      "text/plain": [
       "<Figure size 432x288 with 1 Axes>"
      ]
     },
     "metadata": {
      "needs_background": "light"
     },
     "output_type": "display_data"
    },
    {
     "name": "stdout",
     "output_type": "stream",
     "text": [
      "Distribution of hours_worked\n"
     ]
    },
    {
     "data": {
      "image/png": "[encoded data removed]",
      "text/plain": [
       "<Figure size 432x288 with 1 Axes>"
      ]
     },
     "metadata": {
      "needs_background": "light"
     },
     "output_type": "display_data"
    },
    {
     "data": {
      "image/png": "[encoded data removed]",
      "text/plain": [
       "<Figure size 720x360 with 1 Axes>"
      ]
     },
     "metadata": {
      "needs_background": "light"
     },
     "output_type": "display_data"
    },
    {
     "name": "stdout",
     "output_type": "stream",
     "text": [
      "Distribution of monthly_salary\n"
     ]
    },
    {
     "data": {
      "image/png": "[encoded data removed]",
      "text/plain": [
       "<Figure size 432x288 with 1 Axes>"
      ]
     },
     "metadata": {
      "needs_background": "light"
     },
     "output_type": "display_data"
    },
    {
     "data": {
      "image/png": "[encoded data removed]",
      "text/plain": [
       "<Figure size 720x360 with 1 Axes>"
      ]
     },
     "metadata": {
      "needs_background": "light"
     },
     "output_type": "display_data"
    },
    {
     "name": "stdout",
     "output_type": "stream",
     "text": [
      "Distribution of annual_salary\n"
     ]
    },
    {
     "data": {
      "image/png": "[encoded data removed]",
      "text/plain": [
       "<Figure size 432x288 with 1 Axes>"
      ]
     },
     "metadata": {
      "needs_background": "light"
     },
     "output_type": "display_data"
    },
    {
     "data": {
      "image/png": "[encoded data removed]",
      "text/plain": [
       "<Figure size 720x360 with 1 Axes>"
      ]
     },
     "metadata": {
      "needs_background": "light"
     },
     "output_type": "display_data"
    },
    {
     "name": "stdout",
     "output_type": "stream",
     "text": [
      "Distribution of tenure_months\n"
     ]
    },
    {
     "data": {
      "image/png": "[encoded data removed]",
      "text/plain": [
       "<Figure size 432x288 with 1 Axes>"
      ]
     },
     "metadata": {
      "needs_background": "light"
     },
     "output_type": "display_data"
    },
    {
     "data": {
      "image/png": "[encoded data removed]",
      "text/plain": [
       "<Figure size 720x360 with 1 Axes>"
      ]
     },
     "metadata": {
      "needs_background": "light"
     },
     "output_type": "display_data"
    },
    {
     "name": "stdout",
     "output_type": "stream",
     "text": [
      "Distribution of tenure_years\n"
     ]
    },
    {
     "data": {
      "image/png": "[encoded data removed]",
      "text/plain": [
       "<Figure size 432x288 with 1 Axes>"
      ]
     },
     "metadata": {
      "needs_background": "light"
     },
     "output_type": "display_data"
    },
    {
     "data": {
      "image/png": "[encoded data removed]",
      "text/plain": [
       "<Figure size 720x360 with 1 Axes>"
      ]
     },
     "metadata": {
      "needs_background": "light"
     },
     "output_type": "display_data"
    }
   ],
   "source": [
    "e.explore_univariate(df, cat_vars, quant_vars)"
   ]
  },
  {
   "cell_type": "markdown",
   "metadata": {},
   "source": [
    "## Split the data"
   ]
  },
  {
   "cell_type": "code",
   "execution_count": 11,
   "metadata": {},
   "outputs": [
    {
     "name": "stdout",
     "output_type": "stream",
     "text": [
      "Making Sure Our Shapes Look Good\n",
      "Train: (81048, 29), Validate: (34736, 29), Test: (28946, 29)\n"
     ]
    }
   ],
   "source": [
    "train, validate, test = split_data(df)"
   ]
  },
  {
   "cell_type": "code",
   "execution_count": 12,
   "metadata": {},
   "outputs": [],
   "source": [
    "# making a sample for pairplot\n",
    "sample_df = train.sample(1000)"
   ]
  },
  {
   "cell_type": "markdown",
   "metadata": {},
   "source": [
    "## Bivariate Exploration"
   ]
  },
  {
   "cell_type": "code",
   "execution_count": 47,
   "metadata": {},
   "outputs": [
    {
     "data": {
      "text/plain": [
       "<matplotlib.legend.Legend at 0x7fe49c0fa490>"
      ]
     },
     "execution_count": 47,
     "metadata": {},
     "output_type": "execute_result"
    },
    {
     "data": {
      "image/png": "[encoded data removed]",
      "text/plain": [
       "<Figure size 432x288 with 1 Axes>"
      ]
     },
     "metadata": {
      "needs_background": "light"
     },
     "output_type": "display_data"
    }
   ],
   "source": [
    "pd.pivot_table(train, values='annual_salary', index='emptype').plot.barh(width=0.9)\n",
    "plt.legend(bbox_to_anchor=(1.03, 1))"
   ]
  },
  {
   "cell_type": "markdown",
   "metadata": {},
   "source": [
    "# Bonus: Who is the highest earner in the Texas government?"
   ]
  },
  {
   "cell_type": "code",
   "execution_count": 64,
   "metadata": {},
   "outputs": [
    {
     "data": {
      "text/html": [
       "<div>\n",
       "<style scoped>\n",
       "    .dataframe tbody tr th:only-of-type {\n",
       "        vertical-align: middle;\n",
       "    }\n",
       "\n",
       "    .dataframe tbody tr th {\n",
       "        vertical-align: top;\n",
       "    }\n",
       "\n",
       "    .dataframe thead th {\n",
       "        text-align: right;\n",
       "    }\n",
       "</style>\n",
       "<table border=\"1\" class=\"dataframe\">\n",
       "  <thead>\n",
       "    <tr style=\"text-align: right;\">\n",
       "      <th></th>\n",
       "      <th>agency_id</th>\n",
       "      <th>agency</th>\n",
       "      <th>lastname</th>\n",
       "      <th>firstname</th>\n",
       "      <th>title</th>\n",
       "      <th>race</th>\n",
       "      <th>sex</th>\n",
       "      <th>emptype</th>\n",
       "      <th>hire_date</th>\n",
       "      <th>hours_worked</th>\n",
       "      <th>...</th>\n",
       "      <th>tenure_years</th>\n",
       "      <th>is_elected</th>\n",
       "      <th>is_director</th>\n",
       "      <th>is_unclassified</th>\n",
       "      <th>is_parttime</th>\n",
       "      <th>tenure_years_bins</th>\n",
       "      <th>0-5_years</th>\n",
       "      <th>5-10_years</th>\n",
       "      <th>10-20_years</th>\n",
       "      <th>&gt;20_years</th>\n",
       "    </tr>\n",
       "  </thead>\n",
       "  <tbody>\n",
       "    <tr>\n",
       "      <th>84639</th>\n",
       "      <td>542</td>\n",
       "      <td>CANCER PREVENTION AND RESEARCH INSTITUTE OF TEXAS</td>\n",
       "      <td>WILLSON</td>\n",
       "      <td>JAMES</td>\n",
       "      <td>CHIEF SCIENTIFIC OFFICER</td>\n",
       "      <td>WHITE</td>\n",
       "      <td>MALE</td>\n",
       "      <td>ERF - EXEMPT REGULAR FULL-TIME</td>\n",
       "      <td>2016-03-01</td>\n",
       "      <td>40.0</td>\n",
       "      <td>...</td>\n",
       "      <td>5.3</td>\n",
       "      <td>0</td>\n",
       "      <td>0</td>\n",
       "      <td>0</td>\n",
       "      <td>0</td>\n",
       "      <td>2</td>\n",
       "      <td>0</td>\n",
       "      <td>1</td>\n",
       "      <td>0</td>\n",
       "      <td>0</td>\n",
       "    </tr>\n",
       "  </tbody>\n",
       "</table>\n",
       "<p>1 rows × 29 columns</p>\n",
       "</div>"
      ],
      "text/plain": [
       "       agency_id                                             agency lastname  \\\n",
       "84639        542  CANCER PREVENTION AND RESEARCH INSTITUTE OF TEXAS  WILLSON   \n",
       "\n",
       "      firstname                     title   race   sex  \\\n",
       "84639     JAMES  CHIEF SCIENTIFIC OFFICER  WHITE  MALE   \n",
       "\n",
       "                              emptype  hire_date  hours_worked  ...  \\\n",
       "84639  ERF - EXEMPT REGULAR FULL-TIME 2016-03-01          40.0  ...   \n",
       "\n",
       "       tenure_years  is_elected  is_director  is_unclassified  is_parttime  \\\n",
       "84639           5.3           0            0                0            0   \n",
       "\n",
       "       tenure_years_bins  0-5_years  5-10_years  10-20_years  >20_years  \n",
       "84639                  2          0           1            0          0  \n",
       "\n",
       "[1 rows x 29 columns]"
      ]
     },
     "execution_count": 64,
     "metadata": {},
     "output_type": "execute_result"
    }
   ],
   "source": [
    "df[df.annual_salary == 553500]"
   ]
  },
  {
   "cell_type": "code",
   "execution_count": 18,
   "metadata": {},
   "outputs": [
    {
     "data": {
      "image/png": "[encoded data removed]",
      "text/plain": [
       "<Figure size 432x288 with 1 Axes>"
      ]
     },
     "metadata": {
      "needs_background": "light"
     },
     "output_type": "display_data"
    }
   ],
   "source": [
    "sns.boxplot(data = train[train.is_elected==1], x='annual_salary', y='race')\n",
    "#plt.xlim(0,320000)\n",
    "plt.xlabel('\\nAnnual Salary')\n",
    "plt.ylabel('Race of Employee')\n",
    "plt.title('Annual Salary Versus Race\\n')\n",
    "plt.show()"
   ]
  },
  {
   "cell_type": "code",
   "execution_count": 19,
   "metadata": {},
   "outputs": [
    {
     "data": {
      "image/png": "[encoded data removed]",
      "text/plain": [
       "<Figure size 432x288 with 1 Axes>"
      ]
     },
     "metadata": {
      "needs_background": "light"
     },
     "output_type": "display_data"
    }
   ],
   "source": [
    "sns.boxplot(data = train[train.is_director==1], x='annual_salary', y='race')\n",
    "#plt.xlim(0,320000)\n",
    "plt.xlabel('\\nAnnual Salary')\n",
    "plt.ylabel('Race of Employee')\n",
    "plt.title('Annual Salary Versus Race\\n')\n",
    "plt.show()"
   ]
  },
  {
   "cell_type": "markdown",
   "metadata": {},
   "source": [
    "# Bonus: Who is the highest earner among elected officials in Texas?"
   ]
  },
  {
   "cell_type": "code",
   "execution_count": 20,
   "metadata": {},
   "outputs": [
    {
     "data": {
      "text/plain": [
       "299812.92"
      ]
     },
     "execution_count": 20,
     "metadata": {},
     "output_type": "execute_result"
    }
   ],
   "source": [
    "train[train.is_elected==1].annual_salary.max()"
   ]
  },
  {
   "cell_type": "code",
   "execution_count": 21,
   "metadata": {},
   "outputs": [
    {
     "data": {
      "text/html": [
       "<div>\n",
       "<style scoped>\n",
       "    .dataframe tbody tr th:only-of-type {\n",
       "        vertical-align: middle;\n",
       "    }\n",
       "\n",
       "    .dataframe tbody tr th {\n",
       "        vertical-align: top;\n",
       "    }\n",
       "\n",
       "    .dataframe thead th {\n",
       "        text-align: right;\n",
       "    }\n",
       "</style>\n",
       "<table border=\"1\" class=\"dataframe\">\n",
       "  <thead>\n",
       "    <tr style=\"text-align: right;\">\n",
       "      <th></th>\n",
       "      <th>agency_id</th>\n",
       "      <th>agency</th>\n",
       "      <th>lastname</th>\n",
       "      <th>firstname</th>\n",
       "      <th>title</th>\n",
       "      <th>race</th>\n",
       "      <th>sex</th>\n",
       "      <th>emptype</th>\n",
       "      <th>hire_date</th>\n",
       "      <th>hours_worked</th>\n",
       "      <th>...</th>\n",
       "      <th>tenure_years</th>\n",
       "      <th>is_elected</th>\n",
       "      <th>is_director</th>\n",
       "      <th>is_unclassified</th>\n",
       "      <th>is_parttime</th>\n",
       "      <th>tenure_years_bins</th>\n",
       "      <th>0-5_years</th>\n",
       "      <th>5-10_years</th>\n",
       "      <th>10-20_years</th>\n",
       "      <th>&gt;20_years</th>\n",
       "    </tr>\n",
       "  </thead>\n",
       "  <tbody>\n",
       "    <tr>\n",
       "      <th>138209</th>\n",
       "      <td>781</td>\n",
       "      <td>TEXAS HIGHER EDUCATION COORDINATING BOARD</td>\n",
       "      <td>KELLER</td>\n",
       "      <td>HARRISON</td>\n",
       "      <td>COMMISSIONER</td>\n",
       "      <td>WHITE</td>\n",
       "      <td>MALE</td>\n",
       "      <td>ERF - EXEMPT REGULAR FULL-TIME</td>\n",
       "      <td>2019-10-01</td>\n",
       "      <td>40.0</td>\n",
       "      <td>...</td>\n",
       "      <td>1.8</td>\n",
       "      <td>1</td>\n",
       "      <td>0</td>\n",
       "      <td>0</td>\n",
       "      <td>0</td>\n",
       "      <td>1</td>\n",
       "      <td>1</td>\n",
       "      <td>0</td>\n",
       "      <td>0</td>\n",
       "      <td>0</td>\n",
       "    </tr>\n",
       "  </tbody>\n",
       "</table>\n",
       "<p>1 rows × 29 columns</p>\n",
       "</div>"
      ],
      "text/plain": [
       "        agency_id                                     agency lastname  \\\n",
       "138209        781  TEXAS HIGHER EDUCATION COORDINATING BOARD   KELLER   \n",
       "\n",
       "       firstname         title   race   sex                         emptype  \\\n",
       "138209  HARRISON  COMMISSIONER  WHITE  MALE  ERF - EXEMPT REGULAR FULL-TIME   \n",
       "\n",
       "        hire_date  hours_worked  ...  tenure_years  is_elected  is_director  \\\n",
       "138209 2019-10-01          40.0  ...           1.8           1            0   \n",
       "\n",
       "        is_unclassified  is_parttime  tenure_years_bins  0-5_years  \\\n",
       "138209                0            0                  1          1   \n",
       "\n",
       "        5-10_years  10-20_years  >20_years  \n",
       "138209           0            0          0  \n",
       "\n",
       "[1 rows x 29 columns]"
      ]
     },
     "execution_count": 21,
     "metadata": {},
     "output_type": "execute_result"
    }
   ],
   "source": [
    "train[train.annual_salary==299812.92]"
   ]
  },
  {
   "cell_type": "markdown",
   "metadata": {},
   "source": [
    "# Chi Squared Tests"
   ]
  },
  {
   "cell_type": "code",
   "execution_count": 22,
   "metadata": {},
   "outputs": [],
   "source": [
    "# Set our alpha\n",
    "\n",
    "alpha = 0.01"
   ]
  },
  {
   "cell_type": "markdown",
   "metadata": {},
   "source": [
    "$H_0$ There is no association between gender and whether or not someone is an elected official\n",
    "\n",
    "$H_a$ is that there is an association between gender and elected official status"
   ]
  },
  {
   "cell_type": "code",
   "execution_count": 23,
   "metadata": {},
   "outputs": [
    {
     "data": {
      "text/html": [
       "<div>\n",
       "<style scoped>\n",
       "    .dataframe tbody tr th:only-of-type {\n",
       "        vertical-align: middle;\n",
       "    }\n",
       "\n",
       "    .dataframe tbody tr th {\n",
       "        vertical-align: top;\n",
       "    }\n",
       "\n",
       "    .dataframe thead th {\n",
       "        text-align: right;\n",
       "    }\n",
       "</style>\n",
       "<table border=\"1\" class=\"dataframe\">\n",
       "  <thead>\n",
       "    <tr style=\"text-align: right;\">\n",
       "      <th>is_elected</th>\n",
       "      <th>0</th>\n",
       "      <th>1</th>\n",
       "    </tr>\n",
       "    <tr>\n",
       "      <th>sex</th>\n",
       "      <th></th>\n",
       "      <th></th>\n",
       "    </tr>\n",
       "  </thead>\n",
       "  <tbody>\n",
       "    <tr>\n",
       "      <th>FEMALE</th>\n",
       "      <td>46397</td>\n",
       "      <td>49</td>\n",
       "    </tr>\n",
       "    <tr>\n",
       "      <th>MALE</th>\n",
       "      <td>34492</td>\n",
       "      <td>110</td>\n",
       "    </tr>\n",
       "  </tbody>\n",
       "</table>\n",
       "</div>"
      ],
      "text/plain": [
       "is_elected      0    1\n",
       "sex                   \n",
       "FEMALE      46397   49\n",
       "MALE        34492  110"
      ]
     },
     "execution_count": 23,
     "metadata": {},
     "output_type": "execute_result"
    }
   ],
   "source": [
    "# pandas crosstab to make a 'contingency' table\n",
    "observed = pd.crosstab(train.sex, train.is_elected)\n",
    "observed"
   ]
  },
  {
   "cell_type": "code",
   "execution_count": 24,
   "metadata": {},
   "outputs": [],
   "source": [
    "# chi2_contingency returns 4 different values\n",
    "\n",
    "chi2, p, degf, expected = stats.chi2_contingency(observed)"
   ]
  },
  {
   "cell_type": "code",
   "execution_count": 25,
   "metadata": {},
   "outputs": [
    {
     "name": "stdout",
     "output_type": "stream",
     "text": [
      "Observed\n",
      "\n",
      "[[46397    49]\n",
      " [34492   110]]\n",
      "---\n",
      "Expected\n",
      "\n",
      "[[46354    91]\n",
      " [34534    67]]\n",
      "---\n",
      "\n",
      "chi^2 = 44.6117\n",
      "p     = 0.0000\n"
     ]
    }
   ],
   "source": [
    "print('Observed\\n')\n",
    "print(observed.values)\n",
    "print('---\\nExpected\\n')\n",
    "print(expected.astype(int))\n",
    "print('---\\n')\n",
    "print(f'chi^2 = {chi2:.4f}')\n",
    "print(f'p     = {p:.4f}')"
   ]
  },
  {
   "cell_type": "code",
   "execution_count": 26,
   "metadata": {},
   "outputs": [
    {
     "name": "stdout",
     "output_type": "stream",
     "text": [
      "We reject the null\n"
     ]
    }
   ],
   "source": [
    "if p < alpha:\n",
    "    print('We reject the null')\n",
    "else:\n",
    "    print(\"we fail to reject the null\")"
   ]
  },
  {
   "cell_type": "markdown",
   "metadata": {},
   "source": [
    "$H_0$ There is no association between gender and whether or not someone is a director of their department\n",
    "\n",
    "$H_a$ is that there is an association between gender and director status"
   ]
  },
  {
   "cell_type": "code",
   "execution_count": 27,
   "metadata": {},
   "outputs": [
    {
     "data": {
      "text/html": [
       "<div>\n",
       "<style scoped>\n",
       "    .dataframe tbody tr th:only-of-type {\n",
       "        vertical-align: middle;\n",
       "    }\n",
       "\n",
       "    .dataframe tbody tr th {\n",
       "        vertical-align: top;\n",
       "    }\n",
       "\n",
       "    .dataframe thead th {\n",
       "        text-align: right;\n",
       "    }\n",
       "</style>\n",
       "<table border=\"1\" class=\"dataframe\">\n",
       "  <thead>\n",
       "    <tr style=\"text-align: right;\">\n",
       "      <th>is_director</th>\n",
       "      <th>0</th>\n",
       "      <th>1</th>\n",
       "    </tr>\n",
       "    <tr>\n",
       "      <th>sex</th>\n",
       "      <th></th>\n",
       "      <th></th>\n",
       "    </tr>\n",
       "  </thead>\n",
       "  <tbody>\n",
       "    <tr>\n",
       "      <th>FEMALE</th>\n",
       "      <td>45678</td>\n",
       "      <td>768</td>\n",
       "    </tr>\n",
       "    <tr>\n",
       "      <th>MALE</th>\n",
       "      <td>33668</td>\n",
       "      <td>934</td>\n",
       "    </tr>\n",
       "  </tbody>\n",
       "</table>\n",
       "</div>"
      ],
      "text/plain": [
       "is_director      0    1\n",
       "sex                    \n",
       "FEMALE       45678  768\n",
       "MALE         33668  934"
      ]
     },
     "execution_count": 27,
     "metadata": {},
     "output_type": "execute_result"
    }
   ],
   "source": [
    "# pandas crosstab to make a 'contingency' table\n",
    "observed = pd.crosstab(train.sex, train.is_director)\n",
    "observed"
   ]
  },
  {
   "cell_type": "code",
   "execution_count": 28,
   "metadata": {},
   "outputs": [],
   "source": [
    "# chi2_contingency returns 4 different values\n",
    "\n",
    "chi2, p, degf, expected = stats.chi2_contingency(observed)"
   ]
  },
  {
   "cell_type": "code",
   "execution_count": 29,
   "metadata": {},
   "outputs": [
    {
     "name": "stdout",
     "output_type": "stream",
     "text": [
      "Observed\n",
      "\n",
      "[[45678   768]\n",
      " [33668   934]]\n",
      "---\n",
      "Expected\n",
      "\n",
      "[[45470   975]\n",
      " [33875   726]]\n",
      "---\n",
      "\n",
      "chi^2 = 104.9668\n",
      "p     = 0.0000\n"
     ]
    }
   ],
   "source": [
    "print('Observed\\n')\n",
    "print(observed.values)\n",
    "print('---\\nExpected\\n')\n",
    "print(expected.astype(int))\n",
    "print('---\\n')\n",
    "print(f'chi^2 = {chi2:.4f}')\n",
    "print(f'p     = {p:.4f}')"
   ]
  },
  {
   "cell_type": "code",
   "execution_count": 30,
   "metadata": {},
   "outputs": [
    {
     "name": "stdout",
     "output_type": "stream",
     "text": [
      "We reject the null\n"
     ]
    }
   ],
   "source": [
    "if p < alpha:\n",
    "    print('We reject the null')\n",
    "else:\n",
    "    print(\"we fail to reject the null\")"
   ]
  },
  {
   "cell_type": "markdown",
   "metadata": {},
   "source": [
    "$H_0$ There is no association between BIPOC and whether or not someone is an elected official\n",
    "\n",
    "$H_a$ is that there is an association between race and elected official status"
   ]
  },
  {
   "cell_type": "code",
   "execution_count": 31,
   "metadata": {},
   "outputs": [
    {
     "data": {
      "text/html": [
       "<div>\n",
       "<style scoped>\n",
       "    .dataframe tbody tr th:only-of-type {\n",
       "        vertical-align: middle;\n",
       "    }\n",
       "\n",
       "    .dataframe tbody tr th {\n",
       "        vertical-align: top;\n",
       "    }\n",
       "\n",
       "    .dataframe thead th {\n",
       "        text-align: right;\n",
       "    }\n",
       "</style>\n",
       "<table border=\"1\" class=\"dataframe\">\n",
       "  <thead>\n",
       "    <tr style=\"text-align: right;\">\n",
       "      <th>is_elected</th>\n",
       "      <th>0</th>\n",
       "      <th>1</th>\n",
       "    </tr>\n",
       "    <tr>\n",
       "      <th>is_BIPOC</th>\n",
       "      <th></th>\n",
       "      <th></th>\n",
       "    </tr>\n",
       "  </thead>\n",
       "  <tbody>\n",
       "    <tr>\n",
       "      <th>0</th>\n",
       "      <td>36044</td>\n",
       "      <td>108</td>\n",
       "    </tr>\n",
       "    <tr>\n",
       "      <th>1</th>\n",
       "      <td>44845</td>\n",
       "      <td>51</td>\n",
       "    </tr>\n",
       "  </tbody>\n",
       "</table>\n",
       "</div>"
      ],
      "text/plain": [
       "is_elected      0    1\n",
       "is_BIPOC              \n",
       "0           36044  108\n",
       "1           44845   51"
      ]
     },
     "execution_count": 31,
     "metadata": {},
     "output_type": "execute_result"
    }
   ],
   "source": [
    "# pandas crosstab to make a 'contingency' table\n",
    "observed = pd.crosstab(train.is_BIPOC, train.is_elected)\n",
    "observed"
   ]
  },
  {
   "cell_type": "code",
   "execution_count": 32,
   "metadata": {},
   "outputs": [],
   "source": [
    "# chi2_contingency returns 4 different values\n",
    "\n",
    "chi2, p, degf, expected = stats.chi2_contingency(observed)"
   ]
  },
  {
   "cell_type": "code",
   "execution_count": 33,
   "metadata": {},
   "outputs": [
    {
     "name": "stdout",
     "output_type": "stream",
     "text": [
      "Observed\n",
      "\n",
      "[[36044   108]\n",
      " [44845    51]]\n",
      "---\n",
      "Expected\n",
      "\n",
      "[[36081    70]\n",
      " [44807    88]]\n",
      "---\n",
      "\n",
      "chi^2 = 34.1206\n",
      "p     = 0.0000\n"
     ]
    }
   ],
   "source": [
    "print('Observed\\n')\n",
    "print(observed.values)\n",
    "print('---\\nExpected\\n')\n",
    "print(expected.astype(int))\n",
    "print('---\\n')\n",
    "print(f'chi^2 = {chi2:.4f}')\n",
    "print(f'p     = {p:.4f}')"
   ]
  },
  {
   "cell_type": "code",
   "execution_count": 34,
   "metadata": {},
   "outputs": [
    {
     "name": "stdout",
     "output_type": "stream",
     "text": [
      "We reject the null\n"
     ]
    }
   ],
   "source": [
    "if p < alpha:\n",
    "    print('We reject the null')\n",
    "else:\n",
    "    print(\"we fail to reject the null\")"
   ]
  },
  {
   "cell_type": "markdown",
   "metadata": {},
   "source": [
    "$H_0$ There is no association between BIPOC and whether or not someone is a director of their department\n",
    "\n",
    "$H_a$ is that there is an association between race and director status"
   ]
  },
  {
   "cell_type": "code",
   "execution_count": 35,
   "metadata": {},
   "outputs": [
    {
     "data": {
      "text/html": [
       "<div>\n",
       "<style scoped>\n",
       "    .dataframe tbody tr th:only-of-type {\n",
       "        vertical-align: middle;\n",
       "    }\n",
       "\n",
       "    .dataframe tbody tr th {\n",
       "        vertical-align: top;\n",
       "    }\n",
       "\n",
       "    .dataframe thead th {\n",
       "        text-align: right;\n",
       "    }\n",
       "</style>\n",
       "<table border=\"1\" class=\"dataframe\">\n",
       "  <thead>\n",
       "    <tr style=\"text-align: right;\">\n",
       "      <th>is_director</th>\n",
       "      <th>0</th>\n",
       "      <th>1</th>\n",
       "    </tr>\n",
       "    <tr>\n",
       "      <th>is_BIPOC</th>\n",
       "      <th></th>\n",
       "      <th></th>\n",
       "    </tr>\n",
       "  </thead>\n",
       "  <tbody>\n",
       "    <tr>\n",
       "      <th>0</th>\n",
       "      <td>34984</td>\n",
       "      <td>1168</td>\n",
       "    </tr>\n",
       "    <tr>\n",
       "      <th>1</th>\n",
       "      <td>44362</td>\n",
       "      <td>534</td>\n",
       "    </tr>\n",
       "  </tbody>\n",
       "</table>\n",
       "</div>"
      ],
      "text/plain": [
       "is_director      0     1\n",
       "is_BIPOC                \n",
       "0            34984  1168\n",
       "1            44362   534"
      ]
     },
     "execution_count": 35,
     "metadata": {},
     "output_type": "execute_result"
    }
   ],
   "source": [
    "# pandas crosstab to make a 'contingency' table\n",
    "observed = pd.crosstab(train.is_BIPOC, train.is_director)\n",
    "observed"
   ]
  },
  {
   "cell_type": "code",
   "execution_count": 36,
   "metadata": {},
   "outputs": [],
   "source": [
    "# chi2_contingency returns 4 different values\n",
    "\n",
    "chi2, p, degf, expected = stats.chi2_contingency(observed)"
   ]
  },
  {
   "cell_type": "code",
   "execution_count": 37,
   "metadata": {},
   "outputs": [
    {
     "name": "stdout",
     "output_type": "stream",
     "text": [
      "Observed\n",
      "\n",
      "[[34984  1168]\n",
      " [44362   534]]\n",
      "---\n",
      "Expected\n",
      "\n",
      "[[35392   759]\n",
      " [43953   942]]\n",
      "---\n",
      "\n",
      "chi^2 = 404.9354\n",
      "p     = 0.0000\n"
     ]
    }
   ],
   "source": [
    "print('Observed\\n')\n",
    "print(observed.values)\n",
    "print('---\\nExpected\\n')\n",
    "print(expected.astype(int))\n",
    "print('---\\n')\n",
    "print(f'chi^2 = {chi2:.4f}')\n",
    "print(f'p     = {p:.4f}')"
   ]
  },
  {
   "cell_type": "code",
   "execution_count": 38,
   "metadata": {},
   "outputs": [
    {
     "name": "stdout",
     "output_type": "stream",
     "text": [
      "We reject the null\n"
     ]
    }
   ],
   "source": [
    "if p < alpha:\n",
    "    print('We reject the null')\n",
    "else:\n",
    "    print(\"we fail to reject the null\")"
   ]
  },
  {
   "cell_type": "markdown",
   "metadata": {},
   "source": [
    "# Visualizations"
   ]
  },
  {
   "cell_type": "code",
   "execution_count": 58,
   "metadata": {},
   "outputs": [
    {
     "name": "stdout",
     "output_type": "stream",
     "text": [
      "<class 'pandas.core.frame.DataFrame'>\n",
      "Int64Index: 81048 entries, 125096 to 89798\n",
      "Data columns (total 29 columns):\n",
      " #   Column             Non-Null Count  Dtype         \n",
      "---  ------             --------------  -----         \n",
      " 0   agency_id          81048 non-null  int64         \n",
      " 1   agency             81048 non-null  object        \n",
      " 2   lastname           81048 non-null  object        \n",
      " 3   firstname          81048 non-null  object        \n",
      " 4   title              81048 non-null  object        \n",
      " 5   race               81048 non-null  object        \n",
      " 6   sex                81048 non-null  object        \n",
      " 7   emptype            81048 non-null  object        \n",
      " 8   hire_date          81048 non-null  datetime64[ns]\n",
      " 9   hours_worked       81048 non-null  float64       \n",
      " 10  monthly_salary     81048 non-null  float64       \n",
      " 11  annual_salary      81048 non-null  float64       \n",
      " 12  is_female          81048 non-null  int64         \n",
      " 13  is_white           81048 non-null  int64         \n",
      " 14  is_hispanic        81048 non-null  int64         \n",
      " 15  is_black           81048 non-null  int64         \n",
      " 16  is_BIPOC           81048 non-null  int64         \n",
      " 17  race_encoded       81048 non-null  int64         \n",
      " 18  tenure_months      81048 non-null  int64         \n",
      " 19  tenure_years       81048 non-null  float64       \n",
      " 20  is_elected         81048 non-null  int64         \n",
      " 21  is_director        81048 non-null  int64         \n",
      " 22  is_unclassified    81048 non-null  int64         \n",
      " 23  is_parttime        81048 non-null  int64         \n",
      " 24  tenure_years_bins  81048 non-null  int64         \n",
      " 25  0-5_years          81048 non-null  int64         \n",
      " 26  5-10_years         81048 non-null  int64         \n",
      " 27  10-20_years        81048 non-null  int64         \n",
      " 28  >20_years          81048 non-null  int64         \n",
      "dtypes: datetime64[ns](1), float64(4), int64(17), object(7)\n",
      "memory usage: 18.6+ MB\n"
     ]
    }
   ],
   "source": [
    "train.info()"
   ]
  },
  {
   "cell_type": "code",
   "execution_count": 62,
   "metadata": {},
   "outputs": [],
   "source": [
    "train.to_csv('texas_train.csv')"
   ]
  },
  {
   "cell_type": "code",
   "execution_count": 66,
   "metadata": {},
   "outputs": [
    {
     "data": {
      "text/html": [
       "<div>\n",
       "<style scoped>\n",
       "    .dataframe tbody tr th:only-of-type {\n",
       "        vertical-align: middle;\n",
       "    }\n",
       "\n",
       "    .dataframe tbody tr th {\n",
       "        vertical-align: top;\n",
       "    }\n",
       "\n",
       "    .dataframe thead th {\n",
       "        text-align: right;\n",
       "    }\n",
       "</style>\n",
       "<table border=\"1\" class=\"dataframe\">\n",
       "  <thead>\n",
       "    <tr style=\"text-align: right;\">\n",
       "      <th></th>\n",
       "      <th>Model</th>\n",
       "      <th>Train</th>\n",
       "      <th>Validate</th>\n",
       "      <th>Test</th>\n",
       "    </tr>\n",
       "  </thead>\n",
       "  <tbody>\n",
       "    <tr>\n",
       "      <th>0</th>\n",
       "      <td>OLS lm</td>\n",
       "      <td>21897</td>\n",
       "      <td>21675</td>\n",
       "      <td>0</td>\n",
       "    </tr>\n",
       "    <tr>\n",
       "      <th>1</th>\n",
       "      <td>LassoLars alpha 1</td>\n",
       "      <td>21941</td>\n",
       "      <td>21732</td>\n",
       "      <td>0</td>\n",
       "    </tr>\n",
       "    <tr>\n",
       "      <th>2</th>\n",
       "      <td>Tweedie GLM power 1</td>\n",
       "      <td>25055</td>\n",
       "      <td>24728</td>\n",
       "      <td>0</td>\n",
       "    </tr>\n",
       "    <tr>\n",
       "      <th>3</th>\n",
       "      <td>PolyReg Model</td>\n",
       "      <td>21733</td>\n",
       "      <td>21498</td>\n",
       "      <td>21301</td>\n",
       "    </tr>\n",
       "  </tbody>\n",
       "</table>\n",
       "</div>"
      ],
      "text/plain": [
       "                 Model  Train  Validate   Test\n",
       "0               OLS lm  21897     21675      0\n",
       "1    LassoLars alpha 1  21941     21732      0\n",
       "2  Tweedie GLM power 1  25055     24728      0\n",
       "3        PolyReg Model  21733     21498  21301"
      ]
     },
     "execution_count": 66,
     "metadata": {},
     "output_type": "execute_result"
    }
   ],
   "source": [
    "score_df = pd.DataFrame({'Model': ['OLS lm', 'LassoLars alpha 1', 'Tweedie GLM power 1', 'PolyReg Model'],\n",
    "                        'Train': [21897, 21941, 25055, 21733],\n",
    "                        'Validate': [21675, 21732, 24728, 21498],\n",
    "                        'Test': [0, 0, 0, 21301]})\n",
    "score_df"
   ]
  },
  {
   "cell_type": "code",
   "execution_count": 67,
   "metadata": {},
   "outputs": [],
   "source": [
    "colors = ['#D4F1F4', '#75E6DA', '#189AB4', '#05445E', '#21B6A8', '#B1D4E0']"
   ]
  },
  {
   "cell_type": "code",
   "execution_count": 69,
   "metadata": {},
   "outputs": [],
   "source": [
    "plt.ion()\n",
    "# tweak the matplotlib style defaults\n",
    "plt.rc(\"figure\", figsize=(13, 7))\n",
    "plt.rc(\"font\", size=14)\n",
    "plt.style.use(\"ggplot\")"
   ]
  },
  {
   "cell_type": "code",
   "execution_count": 77,
   "metadata": {},
   "outputs": [
    {
     "data": {
      "image/png": "[encoded data removed]",
      "text/plain": [
       "<Figure size 936x504 with 1 Axes>"
      ]
     },
     "metadata": {},
     "output_type": "display_data"
    }
   ],
   "source": [
    "score_df2 = score_df.set_index('Model').sort_values(by=['Validate', 'Model'], ascending=False)\n",
    "score_df2.sort_values(by=['Test', 'Validate']).plot.barh(alpha=1, width=0.9, ec='white', color=colors)\n",
    "# plot baseline\n",
    "plt.axvline(x=26448, c='blue', linestyle='--')\n",
    "plt.legend(['Baseline', 'Train', 'Validate', 'Test'], bbox_to_anchor=(1.03, 1))\n",
    "plt.ylabel('')\n",
    "ax = plt.gca()\n",
    "ax.tick_params(axis = 'both', which = 'major', labelsize = 24)\n",
    "ax.tick_params(axis = 'both', which = 'minor', labelsize = 16)\n",
    "# set ticks to percentages\n",
    "#plt.gca().xaxis.set_major_formatter(mpl.ticker.FuncFormatter('{:.0%}'.format))\n",
    "plt.title('Top 4 Models, RMSE Score Comparison\\n', fontsize=24)\n",
    "plt.show()"
   ]
  },
  {
   "cell_type": "code",
   "execution_count": null,
   "metadata": {},
   "outputs": [],
   "source": []
  }
 ],
 "metadata": {
  "kernelspec": {
   "display_name": "Python 3",
   "language": "python",
   "name": "python3"
  },
  "language_info": {
   "codemirror_mode": {
    "name": "ipython",
    "version": 3
   },
   "file_extension": ".py",
   "mimetype": "text/x-python",
   "name": "python",
   "nbconvert_exporter": "python",
   "pygments_lexer": "ipython3",
   "version": "3.8.5"
  }
 },
 "nbformat": 4,
 "nbformat_minor": 4
}
