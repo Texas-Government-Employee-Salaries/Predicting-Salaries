{
 "cells": [
  {
   "cell_type": "code",
   "execution_count": 1,
   "metadata": {},
   "outputs": [],
   "source": [
    "import pandas as pd\n",
    "import matplotlib.pyplot as plt\n",
    "\n",
    "import seaborn as sns\n",
    "\n",
    "# custom module imports\n",
    "# import acquire as aq\n",
    "import Prepare as pr\n",
    "# import explore as ex\n",
    "\n",
    "# feature selection imports\n",
    "from sklearn.feature_selection import SelectKBest, f_regression\n",
    "from sklearn.feature_selection import RFE\n",
    "\n",
    "# import scaling methods\n",
    "from sklearn.preprocessing import RobustScaler, StandardScaler\n",
    "from scipy import stats\n",
    "from sklearn.model_selection import train_test_split\n",
    "\n",
    "# import modeling methods\n",
    "from sklearn.cluster import KMeans\n",
    "from sklearn.metrics import mean_squared_error\n",
    "from sklearn.linear_model import LinearRegression, LassoLars, TweedieRegressor\n",
    "from sklearn.preprocessing import PolynomialFeatures\n",
    "from sklearn.metrics import explained_variance_score\n",
    "from scipy import stats\n",
    "\n",
    "# import to remove warnings\n",
    "import warnings\n",
    "warnings.filterwarnings(\"ignore\")"
   ]
  },
  {
   "cell_type": "code",
   "execution_count": 2,
   "metadata": {},
   "outputs": [],
   "source": [
    "df = pd.read_csv('salaries.csv')"
   ]
  },
  {
   "cell_type": "code",
   "execution_count": 3,
   "metadata": {},
   "outputs": [
    {
     "data": {
      "text/html": [
       "<div>\n",
       "<style scoped>\n",
       "    .dataframe tbody tr th:only-of-type {\n",
       "        vertical-align: middle;\n",
       "    }\n",
       "\n",
       "    .dataframe tbody tr th {\n",
       "        vertical-align: top;\n",
       "    }\n",
       "\n",
       "    .dataframe thead th {\n",
       "        text-align: right;\n",
       "    }\n",
       "</style>\n",
       "<table border=\"1\" class=\"dataframe\">\n",
       "  <thead>\n",
       "    <tr style=\"text-align: right;\">\n",
       "      <th></th>\n",
       "      <th>AGY</th>\n",
       "      <th>NAME</th>\n",
       "      <th>LASTNAME</th>\n",
       "      <th>FIRSTNAME</th>\n",
       "      <th>MI</th>\n",
       "      <th>JOBCLASS</th>\n",
       "      <th>JC TITLE</th>\n",
       "      <th>RACE</th>\n",
       "      <th>SEX</th>\n",
       "      <th>EMPTYPE</th>\n",
       "      <th>...</th>\n",
       "      <th>RATE</th>\n",
       "      <th>HRSWKD</th>\n",
       "      <th>MONTHLY</th>\n",
       "      <th>ANNUAL</th>\n",
       "      <th>STATENUM</th>\n",
       "      <th>duplicated</th>\n",
       "      <th>multiple_full_time_jobs</th>\n",
       "      <th>combined_multiple_jobs</th>\n",
       "      <th>summed_annual_salary</th>\n",
       "      <th>hide_from_search</th>\n",
       "    </tr>\n",
       "  </thead>\n",
       "  <tbody>\n",
       "    <tr>\n",
       "      <th>0</th>\n",
       "      <td>101</td>\n",
       "      <td>SENATE                                        ...</td>\n",
       "      <td>GILLIAM</td>\n",
       "      <td>STACEY</td>\n",
       "      <td>L</td>\n",
       "      <td>7101</td>\n",
       "      <td>LEG. OFFICIAL/ADMINISTRATOR                   ...</td>\n",
       "      <td>WHITE</td>\n",
       "      <td>FEMALE</td>\n",
       "      <td>URP - UNCLASSIFIED REGULAR PART-TIME</td>\n",
       "      <td>...</td>\n",
       "      <td>0.0</td>\n",
       "      <td>20.0</td>\n",
       "      <td>8100.0</td>\n",
       "      <td>97200.0</td>\n",
       "      <td>339371</td>\n",
       "      <td>True</td>\n",
       "      <td>NaN</td>\n",
       "      <td>NaN</td>\n",
       "      <td>181200.0</td>\n",
       "      <td>NaN</td>\n",
       "    </tr>\n",
       "    <tr>\n",
       "      <th>1</th>\n",
       "      <td>104</td>\n",
       "      <td>LEGISLATIVE BUDGET BOARD                      ...</td>\n",
       "      <td>GILLIAM</td>\n",
       "      <td>STACEY</td>\n",
       "      <td>L</td>\n",
       "      <td>C160</td>\n",
       "      <td>COMMITTEE DIRECTOR                            ...</td>\n",
       "      <td>WHITE</td>\n",
       "      <td>FEMALE</td>\n",
       "      <td>URP - UNCLASSIFIED REGULAR PART-TIME</td>\n",
       "      <td>...</td>\n",
       "      <td>0.0</td>\n",
       "      <td>20.0</td>\n",
       "      <td>7000.0</td>\n",
       "      <td>84000.0</td>\n",
       "      <td>339371</td>\n",
       "      <td>True</td>\n",
       "      <td>NaN</td>\n",
       "      <td>NaN</td>\n",
       "      <td>NaN</td>\n",
       "      <td>True</td>\n",
       "    </tr>\n",
       "    <tr>\n",
       "      <th>2</th>\n",
       "      <td>101</td>\n",
       "      <td>SENATE                                        ...</td>\n",
       "      <td>NELSON</td>\n",
       "      <td>DAVID</td>\n",
       "      <td></td>\n",
       "      <td>7101</td>\n",
       "      <td>LEG. OFFICIAL/ADMINISTRATOR                   ...</td>\n",
       "      <td>WHITE</td>\n",
       "      <td>MALE</td>\n",
       "      <td>URP - UNCLASSIFIED REGULAR PART-TIME</td>\n",
       "      <td>...</td>\n",
       "      <td>0.0</td>\n",
       "      <td>20.0</td>\n",
       "      <td>9500.0</td>\n",
       "      <td>114000.0</td>\n",
       "      <td>193187</td>\n",
       "      <td>True</td>\n",
       "      <td>NaN</td>\n",
       "      <td>NaN</td>\n",
       "      <td>210000.0</td>\n",
       "      <td>NaN</td>\n",
       "    </tr>\n",
       "    <tr>\n",
       "      <th>3</th>\n",
       "      <td>104</td>\n",
       "      <td>LEGISLATIVE BUDGET BOARD                      ...</td>\n",
       "      <td>NELSON</td>\n",
       "      <td>DAVID</td>\n",
       "      <td></td>\n",
       "      <td>P080</td>\n",
       "      <td>SENIOR BUDGET ADVISOR                         ...</td>\n",
       "      <td>WHITE</td>\n",
       "      <td>MALE</td>\n",
       "      <td>URP - UNCLASSIFIED REGULAR PART-TIME</td>\n",
       "      <td>...</td>\n",
       "      <td>0.0</td>\n",
       "      <td>20.0</td>\n",
       "      <td>8000.0</td>\n",
       "      <td>96000.0</td>\n",
       "      <td>193187</td>\n",
       "      <td>True</td>\n",
       "      <td>NaN</td>\n",
       "      <td>NaN</td>\n",
       "      <td>NaN</td>\n",
       "      <td>True</td>\n",
       "    </tr>\n",
       "    <tr>\n",
       "      <th>4</th>\n",
       "      <td>101</td>\n",
       "      <td>SENATE                                        ...</td>\n",
       "      <td>ROCHA</td>\n",
       "      <td>MARIE</td>\n",
       "      <td>S</td>\n",
       "      <td>7103</td>\n",
       "      <td>LEG. SERVICE/MAINTENANCE                      ...</td>\n",
       "      <td>HISPANIC</td>\n",
       "      <td>FEMALE</td>\n",
       "      <td>URF - UNCLASSIFIED REGULAR FULL-TIME</td>\n",
       "      <td>...</td>\n",
       "      <td>0.0</td>\n",
       "      <td>41.0</td>\n",
       "      <td>3365.4</td>\n",
       "      <td>40384.8</td>\n",
       "      <td>152257</td>\n",
       "      <td>True</td>\n",
       "      <td>NaN</td>\n",
       "      <td>True</td>\n",
       "      <td>NaN</td>\n",
       "      <td>NaN</td>\n",
       "    </tr>\n",
       "  </tbody>\n",
       "</table>\n",
       "<p>5 rows × 21 columns</p>\n",
       "</div>"
      ],
      "text/plain": [
       "   AGY                                               NAME  \\\n",
       "0  101  SENATE                                        ...   \n",
       "1  104  LEGISLATIVE BUDGET BOARD                      ...   \n",
       "2  101  SENATE                                        ...   \n",
       "3  104  LEGISLATIVE BUDGET BOARD                      ...   \n",
       "4  101  SENATE                                        ...   \n",
       "\n",
       "                         LASTNAME                       FIRSTNAME MI  \\\n",
       "0  GILLIAM                         STACEY                          L   \n",
       "1  GILLIAM                         STACEY                          L   \n",
       "2  NELSON                          DAVID                               \n",
       "3  NELSON                          DAVID                               \n",
       "4  ROCHA                           MARIE                           S   \n",
       "\n",
       "   JOBCLASS                                           JC TITLE  \\\n",
       "0  7101      LEG. OFFICIAL/ADMINISTRATOR                   ...   \n",
       "1  C160      COMMITTEE DIRECTOR                            ...   \n",
       "2  7101      LEG. OFFICIAL/ADMINISTRATOR                   ...   \n",
       "3  P080      SENIOR BUDGET ADVISOR                         ...   \n",
       "4  7103      LEG. SERVICE/MAINTENANCE                      ...   \n",
       "\n",
       "              RACE              SEX                                   EMPTYPE  \\\n",
       "0  WHITE            FEMALE           URP - UNCLASSIFIED REGULAR PART-TIME       \n",
       "1  WHITE            FEMALE           URP - UNCLASSIFIED REGULAR PART-TIME       \n",
       "2  WHITE            MALE             URP - UNCLASSIFIED REGULAR PART-TIME       \n",
       "3  WHITE            MALE             URP - UNCLASSIFIED REGULAR PART-TIME       \n",
       "4  HISPANIC         FEMALE           URF - UNCLASSIFIED REGULAR FULL-TIME       \n",
       "\n",
       "   ... RATE  HRSWKD  MONTHLY    ANNUAL  STATENUM  duplicated  \\\n",
       "0  ...  0.0    20.0   8100.0   97200.0    339371        True   \n",
       "1  ...  0.0    20.0   7000.0   84000.0    339371        True   \n",
       "2  ...  0.0    20.0   9500.0  114000.0    193187        True   \n",
       "3  ...  0.0    20.0   8000.0   96000.0    193187        True   \n",
       "4  ...  0.0    41.0   3365.4   40384.8    152257        True   \n",
       "\n",
       "  multiple_full_time_jobs combined_multiple_jobs summed_annual_salary  \\\n",
       "0                     NaN                    NaN             181200.0   \n",
       "1                     NaN                    NaN                  NaN   \n",
       "2                     NaN                    NaN             210000.0   \n",
       "3                     NaN                    NaN                  NaN   \n",
       "4                     NaN                   True                  NaN   \n",
       "\n",
       "   hide_from_search  \n",
       "0               NaN  \n",
       "1              True  \n",
       "2               NaN  \n",
       "3              True  \n",
       "4               NaN  \n",
       "\n",
       "[5 rows x 21 columns]"
      ]
     },
     "execution_count": 3,
     "metadata": {},
     "output_type": "execute_result"
    }
   ],
   "source": [
    "df.head()"
   ]
  },
  {
   "cell_type": "code",
   "execution_count": 4,
   "metadata": {},
   "outputs": [
    {
     "name": "stdout",
     "output_type": "stream",
     "text": [
      "<class 'pandas.core.frame.DataFrame'>\n",
      "RangeIndex: 144738 entries, 0 to 144737\n",
      "Data columns (total 21 columns):\n",
      " #   Column                   Non-Null Count   Dtype  \n",
      "---  ------                   --------------   -----  \n",
      " 0   AGY                      144738 non-null  int64  \n",
      " 1   NAME                     144738 non-null  object \n",
      " 2   LASTNAME                 144738 non-null  object \n",
      " 3   FIRSTNAME                144738 non-null  object \n",
      " 4   MI                       144738 non-null  object \n",
      " 5   JOBCLASS                 144738 non-null  object \n",
      " 6   JC TITLE                 144738 non-null  object \n",
      " 7   RACE                     144738 non-null  object \n",
      " 8   SEX                      144738 non-null  object \n",
      " 9   EMPTYPE                  144738 non-null  object \n",
      " 10  HIREDT                   144738 non-null  object \n",
      " 11  RATE                     144738 non-null  float64\n",
      " 12  HRSWKD                   144738 non-null  float64\n",
      " 13  MONTHLY                  144738 non-null  float64\n",
      " 14  ANNUAL                   144738 non-null  float64\n",
      " 15  STATENUM                 144738 non-null  int64  \n",
      " 16  duplicated               76 non-null      object \n",
      " 17  multiple_full_time_jobs  18 non-null      object \n",
      " 18  combined_multiple_jobs   37 non-null      object \n",
      " 19  summed_annual_salary     11 non-null      float64\n",
      " 20  hide_from_search         11 non-null      object \n",
      "dtypes: float64(5), int64(2), object(14)\n",
      "memory usage: 23.2+ MB\n"
     ]
    }
   ],
   "source": [
    "df.info()"
   ]
  },
  {
   "cell_type": "code",
   "execution_count": 5,
   "metadata": {},
   "outputs": [
    {
     "data": {
      "text/plain": [
       "WHITE              64651\n",
       "HISPANIC           39557\n",
       "BLACK              33964\n",
       "ASIAN               4419\n",
       "OTHER               1453\n",
       "AM INDIAN            694\n",
       "Name: RACE, dtype: int64"
      ]
     },
     "execution_count": 5,
     "metadata": {},
     "output_type": "execute_result"
    }
   ],
   "source": [
    "df.RACE.value_counts()"
   ]
  },
  {
   "cell_type": "code",
   "execution_count": 6,
   "metadata": {},
   "outputs": [
    {
     "data": {
      "text/plain": [
       "CORREC  OFFICER IV                                    8753\n",
       "CORREC  OFFICER V                                     7350\n",
       "TEXAS WORKS ADVISOR II                                3812\n",
       "CORREC OFFCR III                                      3652\n",
       "DIRECT SUPPORT PROFESSIONAL I                         2484\n",
       "                                                      ... \n",
       "INVESTIGATIVE ANALYST                                    1\n",
       "EXECUTIVE DIRECTOR FOR ERS                               1\n",
       "MILITARY SPECIALIST V                                    1\n",
       "EXECUTIVE DIRECTOR/SECRETARY                             1\n",
       "ADMINISTRATIVE ASSISTANT IV                              1\n",
       "Name: JC TITLE, Length: 1406, dtype: int64"
      ]
     },
     "execution_count": 6,
     "metadata": {},
     "output_type": "execute_result"
    }
   ],
   "source": [
    "df['JC TITLE'].value_counts()"
   ]
  },
  {
   "cell_type": "code",
   "execution_count": 5,
   "metadata": {},
   "outputs": [],
   "source": [
    "df = pr.prepare_tex(df)"
   ]
  },
  {
   "cell_type": "code",
   "execution_count": 6,
   "metadata": {},
   "outputs": [],
   "source": [
    "df = pr.create_features(df)"
   ]
  },
  {
   "cell_type": "code",
   "execution_count": 7,
   "metadata": {},
   "outputs": [
    {
     "name": "stdout",
     "output_type": "stream",
     "text": [
      "Making Sure Our Shapes Look Good\n",
      "Train: (81048, 20), Validate: (34736, 20), Test: (28946, 20)\n"
     ]
    }
   ],
   "source": [
    "train, validate, test = pr.split_data(df)"
   ]
  },
  {
   "cell_type": "code",
   "execution_count": 8,
   "metadata": {},
   "outputs": [
    {
     "data": {
      "text/plain": [
       "Index(['agency_id', 'agency', 'lastname', 'firstname', 'title', 'race', 'sex',\n",
       "       'emptype', 'hire_date', 'hours_worked', 'monthly_salary',\n",
       "       'annual_salary', 'is_female', 'is_white', 'is_hispanic', 'is_black',\n",
       "       'is_BIPOC', 'race_encoded', 'tenure_months', 'tenure_years'],\n",
       "      dtype='object')"
      ]
     },
     "execution_count": 8,
     "metadata": {},
     "output_type": "execute_result"
    }
   ],
   "source": [
    "train.columns"
   ]
  },
  {
   "cell_type": "code",
   "execution_count": 9,
   "metadata": {},
   "outputs": [
    {
     "name": "stdout",
     "output_type": "stream",
     "text": [
      "<class 'pandas.core.frame.DataFrame'>\n",
      "Int64Index: 81048 entries, 125096 to 89798\n",
      "Data columns (total 20 columns):\n",
      " #   Column          Non-Null Count  Dtype         \n",
      "---  ------          --------------  -----         \n",
      " 0   agency_id       81048 non-null  int64         \n",
      " 1   agency          81048 non-null  object        \n",
      " 2   lastname        81048 non-null  object        \n",
      " 3   firstname       81048 non-null  object        \n",
      " 4   title           81048 non-null  object        \n",
      " 5   race            81048 non-null  object        \n",
      " 6   sex             81048 non-null  object        \n",
      " 7   emptype         81048 non-null  object        \n",
      " 8   hire_date       81048 non-null  datetime64[ns]\n",
      " 9   hours_worked    81048 non-null  float64       \n",
      " 10  monthly_salary  81048 non-null  float64       \n",
      " 11  annual_salary   81048 non-null  float64       \n",
      " 12  is_female       81048 non-null  int64         \n",
      " 13  is_white        81048 non-null  int64         \n",
      " 14  is_hispanic     81048 non-null  int64         \n",
      " 15  is_black        81048 non-null  int64         \n",
      " 16  is_BIPOC        81048 non-null  int64         \n",
      " 17  race_encoded    81048 non-null  int64         \n",
      " 18  tenure_months   81048 non-null  int64         \n",
      " 19  tenure_years    81048 non-null  float64       \n",
      "dtypes: datetime64[ns](1), float64(4), int64(8), object(7)\n",
      "memory usage: 13.0+ MB\n"
     ]
    }
   ],
   "source": [
    "train.info()"
   ]
  },
  {
   "cell_type": "code",
   "execution_count": 10,
   "metadata": {},
   "outputs": [],
   "source": [
    "# assign X and y variables in all our split dfs\n",
    "X_train = train[['agency_id', 'hours_worked','is_female', 'is_white', \n",
    "                'is_hispanic', 'is_black', 'is_BIPOC', 'race_encoded', 'tenure_months',\n",
    "                'tenure_years']]\n",
    "y_train = train[['annual_salary']]\n",
    "\n",
    "X_validate = validate[['agency_id', 'hours_worked','is_female', 'is_white', \n",
    "                'is_hispanic', 'is_black', 'is_BIPOC', 'race_encoded', 'tenure_months',\n",
    "                'tenure_years']]\n",
    "y_validate = validate[['annual_salary']]\n",
    "\n",
    "X_test = test[['agency_id', 'hours_worked','is_female', 'is_white', \n",
    "                'is_hispanic', 'is_black', 'is_BIPOC', 'race_encoded', 'tenure_months',\n",
    "                'tenure_years']]\n",
    "y_test = test[['annual_salary']]"
   ]
  },
  {
   "cell_type": "code",
   "execution_count": 11,
   "metadata": {},
   "outputs": [],
   "source": [
    "def select_rfe(X, y, k, return_rankings=False, model=LinearRegression()):\n",
    "    '''\n",
    "    This function takes in the X variables as a dataframe, the target variable, number of features to \n",
    "    select for modeling (k) with default modle set to Linear Regression. It returns the top k features \n",
    "    as well as the rankings for all features.\n",
    "    '''\n",
    "    # Use the passed model, LinearRegression by default\n",
    "    rfe = RFE(model, n_features_to_select=k)\n",
    "    rfe.fit(X, y)\n",
    "    features = X.columns[rfe.support_].tolist()\n",
    "    if return_rankings:\n",
    "        rankings = pd.Series(dict(zip(X.columns, rfe.ranking_)))\n",
    "        return features, rankings\n",
    "    else:\n",
    "        return features"
   ]
  },
  {
   "cell_type": "code",
   "execution_count": 13,
   "metadata": {},
   "outputs": [],
   "source": [
    "# call rfe function from explore script\n",
    "features_to_use, feature_rankings = select_rfe(X_train, y_train, 7, return_rankings=True)"
   ]
  },
  {
   "cell_type": "code",
   "execution_count": 14,
   "metadata": {},
   "outputs": [
    {
     "data": {
      "text/plain": [
       "['hours_worked',\n",
       " 'is_female',\n",
       " 'is_white',\n",
       " 'is_hispanic',\n",
       " 'is_black',\n",
       " 'is_BIPOC',\n",
       " 'race_encoded']"
      ]
     },
     "execution_count": 14,
     "metadata": {},
     "output_type": "execute_result"
    }
   ],
   "source": [
    "features_to_use"
   ]
  },
  {
   "cell_type": "code",
   "execution_count": 15,
   "metadata": {},
   "outputs": [],
   "source": [
    "features = ['hours_worked',\n",
    " 'is_female',\n",
    " 'is_white',\n",
    " 'is_hispanic',\n",
    " 'is_black',\n",
    " 'is_BIPOC',\n",
    " 'race_encoded']"
   ]
  },
  {
   "cell_type": "code",
   "execution_count": 18,
   "metadata": {},
   "outputs": [
    {
     "name": "stdout",
     "output_type": "stream",
     "text": [
      "RMSE using Mean\n",
      "Train/In-Sample:  25758.77625 \n",
      "Validate/Out-of-Sample:  25431.1923\n",
      "-----------\n",
      "RMSE using Median\n",
      "Train/In-Sample:  26727.62101 \n",
      "Validate/Out-of-Sample:  26448.16247\n"
     ]
    }
   ],
   "source": [
    "# 1. Predict mean annual \n",
    "sal_pred_mean = y_train.annual_salary.mean()\n",
    "y_train['sal_pred_mean'] = sal_pred_mean\n",
    "y_validate['sal_pred_mean'] = sal_pred_mean\n",
    "\n",
    "# 2. Predict median tax value \n",
    "sal_pred_median = y_train.annual_salary.median()\n",
    "y_train['sal_pred_median'] = sal_pred_median\n",
    "y_validate['sal_pred_median'] = sal_pred_median\n",
    "\n",
    "# 3. RMSE of tv_pred_mean\n",
    "rmse_train = mean_squared_error(y_train.annual_salary, y_train.sal_pred_mean) ** 0.5\n",
    "rmse_validate = mean_squared_error(y_validate.annual_salary, y_validate.sal_pred_mean) ** 0.5\n",
    "\n",
    "print(\"RMSE using Mean\\nTrain/In-Sample: \", round(rmse_train, 5), \n",
    "      \"\\nValidate/Out-of-Sample: \", round(rmse_validate, 5))\n",
    "\n",
    "# 4. RMSE of tv_pred_median\n",
    "rmse_train1 = mean_squared_error(y_train.annual_salary, y_train.sal_pred_median) ** .5\n",
    "rmse_validate1 = mean_squared_error(y_validate.annual_salary, y_validate.sal_pred_median) ** .5\n",
    "print('-----------')\n",
    "print(\"RMSE using Median\\nTrain/In-Sample: \", round(rmse_train1, 5), \n",
    "      \"\\nValidate/Out-of-Sample: \", round(rmse_validate1, 5))"
   ]
  },
  {
   "cell_type": "code",
   "execution_count": 19,
   "metadata": {},
   "outputs": [],
   "source": [
    "# add the mean baseline to a df to help evaluate all models side by side\n",
    "metric_df = pd.DataFrame(data=[{\n",
    "    'model': 'mean_baseline',\n",
    "    'rmse_outofsample': rmse_validate1,\n",
    "    'r^2_outofsample': explained_variance_score(y_validate.annual_salary, y_validate.sal_pred_mean)}])"
   ]
  },
  {
   "cell_type": "markdown",
   "metadata": {},
   "source": [
    "## OLS Linear Regression"
   ]
  },
  {
   "cell_type": "code",
   "execution_count": 20,
   "metadata": {},
   "outputs": [
    {
     "name": "stdout",
     "output_type": "stream",
     "text": [
      "RMSE for OLS using LinearRegression\n",
      "Training/In-Sample:  24807.084858514223 \n",
      "Validation/Out-of-Sample:  24522.92556757637\n"
     ]
    }
   ],
   "source": [
    "# create the model object\n",
    "\n",
    "lm = LinearRegression(fit_intercept=True)\n",
    "\n",
    "# fit the model to our training data. We must specify the column in y_train, since we have converted it to a dataframe from a series! \n",
    "\n",
    "# fit the thing using only the features we selected\n",
    "lm.fit(X_train[features], y_train.annual_salary)\n",
    "\n",
    "# predict train\n",
    "\n",
    "y_train['sal_pred_lm'] = lm.predict(X_train[features])\n",
    "\n",
    "# evaluate: rmse\n",
    "rmse_train = mean_squared_error(y_train.annual_salary, y_train.sal_pred_lm) ** (1/2)\n",
    "\n",
    "# predict validate\n",
    "y_validate['sal_pred_lm'] = lm.predict(X_validate[features])\n",
    "\n",
    "# evaluate: rmse\n",
    "rmse_validate = mean_squared_error(y_validate.annual_salary, y_validate.sal_pred_lm) ** (1/2)\n",
    "\n",
    "print(\"RMSE for OLS using LinearRegression\\nTraining/In-Sample: \", rmse_train, \n",
    "      \"\\nValidation/Out-of-Sample: \", rmse_validate)"
   ]
  },
  {
   "cell_type": "code",
   "execution_count": 21,
   "metadata": {},
   "outputs": [],
   "source": [
    "# add model's performance to metric df\n",
    "metric_df = metric_df.append(\n",
    "    {\n",
    "    'model': 'OLS lm',\n",
    "    'rmse_outofsample': rmse_validate,\n",
    "        'r^2_outofsample': explained_variance_score(y_validate.annual_salary, y_validate.sal_pred_lm)}, ignore_index=True)"
   ]
  },
  {
   "cell_type": "code",
   "execution_count": 22,
   "metadata": {},
   "outputs": [
    {
     "data": {
      "text/html": [
       "<div>\n",
       "<style scoped>\n",
       "    .dataframe tbody tr th:only-of-type {\n",
       "        vertical-align: middle;\n",
       "    }\n",
       "\n",
       "    .dataframe tbody tr th {\n",
       "        vertical-align: top;\n",
       "    }\n",
       "\n",
       "    .dataframe thead th {\n",
       "        text-align: right;\n",
       "    }\n",
       "</style>\n",
       "<table border=\"1\" class=\"dataframe\">\n",
       "  <thead>\n",
       "    <tr style=\"text-align: right;\">\n",
       "      <th></th>\n",
       "      <th>model</th>\n",
       "      <th>rmse_outofsample</th>\n",
       "      <th>r^2_outofsample</th>\n",
       "    </tr>\n",
       "  </thead>\n",
       "  <tbody>\n",
       "    <tr>\n",
       "      <th>0</th>\n",
       "      <td>mean_baseline</td>\n",
       "      <td>26448.162472</td>\n",
       "      <td>0.000000</td>\n",
       "    </tr>\n",
       "    <tr>\n",
       "      <th>1</th>\n",
       "      <td>OLS lm</td>\n",
       "      <td>24522.925568</td>\n",
       "      <td>0.070144</td>\n",
       "    </tr>\n",
       "  </tbody>\n",
       "</table>\n",
       "</div>"
      ],
      "text/plain": [
       "           model  rmse_outofsample  r^2_outofsample\n",
       "0  mean_baseline      26448.162472         0.000000\n",
       "1         OLS lm      24522.925568         0.070144"
      ]
     },
     "execution_count": 22,
     "metadata": {},
     "output_type": "execute_result"
    }
   ],
   "source": [
    "metric_df"
   ]
  },
  {
   "cell_type": "markdown",
   "metadata": {},
   "source": [
    "## Lasso Lars Model"
   ]
  },
  {
   "cell_type": "code",
   "execution_count": 23,
   "metadata": {},
   "outputs": [
    {
     "name": "stdout",
     "output_type": "stream",
     "text": [
      "RMSE for Lasso + Lars\n",
      "Training/In-Sample:  24855.160340599756 \n",
      "Validation/Out-of-Sample:  24571.96436221674\n"
     ]
    }
   ],
   "source": [
    "# create the model object\n",
    "lars = LassoLars(alpha=1)\n",
    "\n",
    "# fit the model to our training data using only selected features. We must specify the column in y_train, \n",
    "# since we have converted it to a dataframe from a series\n",
    "lars.fit(X_train[features], y_train.annual_salary)\n",
    "\n",
    "# predict train\n",
    "y_train['sal_pred_lars'] = lars.predict(X_train[features])\n",
    "\n",
    "# evaluate: rmse\n",
    "rmse_train = mean_squared_error(y_train.annual_salary, y_train.sal_pred_lars) ** 0.5\n",
    "\n",
    "# predict validate\n",
    "y_validate['sal_pred_lars'] = lars.predict(X_validate[features])\n",
    "\n",
    "# evaluate: rmse\n",
    "rmse_validate = mean_squared_error(y_validate.annual_salary, y_validate.sal_pred_lars) ** 0.5\n",
    "\n",
    "print(\"RMSE for Lasso + Lars\\nTraining/In-Sample: \", rmse_train, \n",
    "      \"\\nValidation/Out-of-Sample: \", rmse_validate)"
   ]
  },
  {
   "cell_type": "code",
   "execution_count": 24,
   "metadata": {},
   "outputs": [],
   "source": [
    "# add model to metric df\n",
    "metric_df = metric_df.append(\n",
    "    {\n",
    "    'model': 'LassoLars alpha 1',\n",
    "    'rmse_outofsample': rmse_validate,\n",
    "    'r^2_outofsample': explained_variance_score(y_validate.annual_salary, y_validate.sal_pred_lars)}, ignore_index=True)"
   ]
  },
  {
   "cell_type": "code",
   "execution_count": 25,
   "metadata": {},
   "outputs": [
    {
     "data": {
      "text/html": [
       "<div>\n",
       "<style scoped>\n",
       "    .dataframe tbody tr th:only-of-type {\n",
       "        vertical-align: middle;\n",
       "    }\n",
       "\n",
       "    .dataframe tbody tr th {\n",
       "        vertical-align: top;\n",
       "    }\n",
       "\n",
       "    .dataframe thead th {\n",
       "        text-align: right;\n",
       "    }\n",
       "</style>\n",
       "<table border=\"1\" class=\"dataframe\">\n",
       "  <thead>\n",
       "    <tr style=\"text-align: right;\">\n",
       "      <th></th>\n",
       "      <th>model</th>\n",
       "      <th>rmse_outofsample</th>\n",
       "      <th>r^2_outofsample</th>\n",
       "    </tr>\n",
       "  </thead>\n",
       "  <tbody>\n",
       "    <tr>\n",
       "      <th>0</th>\n",
       "      <td>mean_baseline</td>\n",
       "      <td>26448.162472</td>\n",
       "      <td>0.000000</td>\n",
       "    </tr>\n",
       "    <tr>\n",
       "      <th>1</th>\n",
       "      <td>OLS lm</td>\n",
       "      <td>24522.925568</td>\n",
       "      <td>0.070144</td>\n",
       "    </tr>\n",
       "    <tr>\n",
       "      <th>2</th>\n",
       "      <td>LassoLars alpha 1</td>\n",
       "      <td>24571.964362</td>\n",
       "      <td>0.066425</td>\n",
       "    </tr>\n",
       "  </tbody>\n",
       "</table>\n",
       "</div>"
      ],
      "text/plain": [
       "               model  rmse_outofsample  r^2_outofsample\n",
       "0      mean_baseline      26448.162472         0.000000\n",
       "1             OLS lm      24522.925568         0.070144\n",
       "2  LassoLars alpha 1      24571.964362         0.066425"
      ]
     },
     "execution_count": 25,
     "metadata": {},
     "output_type": "execute_result"
    }
   ],
   "source": [
    "metric_df"
   ]
  },
  {
   "cell_type": "markdown",
   "metadata": {},
   "source": [
    "## Tweedie Regressor GLM"
   ]
  },
  {
   "cell_type": "code",
   "execution_count": 28,
   "metadata": {},
   "outputs": [
    {
     "name": "stdout",
     "output_type": "stream",
     "text": [
      "RMSE for GLM using Tweedie, power=1 & alpha=0\n",
      "Training/In-Sample:  25184.179628675156 \n",
      "Validation/Out-of-Sample:  24891.191147839276\n"
     ]
    }
   ],
   "source": [
    "# create the model object\n",
    "glm = TweedieRegressor(power=0, alpha=1)\n",
    "\n",
    "# fit the model to our training data using only selected features. We must specify the column in y_train, \n",
    "# since we have converted it to a dataframe from a series\n",
    "\n",
    "glm.fit(X_train[features], y_train.annual_salary)\n",
    "\n",
    "# predict train\n",
    "y_train['sal_pred_glm'] = glm.predict(X_train[features])\n",
    "\n",
    "# evaluate: rmse\n",
    "rmse_train = mean_squared_error(y_train.annual_salary, y_train.sal_pred_glm) ** 0.5\n",
    "\n",
    "\n",
    "# predict validate\n",
    "y_validate['sal_pred_glm'] = glm.predict(X_validate[features])\n",
    "\n",
    "# evaluate: rmse\n",
    "rmse_validate = mean_squared_error(y_validate.annual_salary, y_validate.sal_pred_glm) ** 0.5\n",
    "\n",
    "print(\"RMSE for GLM using Tweedie, power=1 & alpha=0\\nTraining/In-Sample: \", rmse_train, \n",
    "      \"\\nValidation/Out-of-Sample: \", rmse_validate)"
   ]
  },
  {
   "cell_type": "code",
   "execution_count": 29,
   "metadata": {},
   "outputs": [],
   "source": [
    "# add model to metric df\n",
    "metric_df = metric_df.append(\n",
    "    {\n",
    "    'model': 'Tweedie GLM power 1',\n",
    "    'rmse_outofsample': rmse_validate,\n",
    "    'r^2_outofsample': explained_variance_score(y_validate.annual_salary, y_validate.sal_pred_glm)}, ignore_index=True)"
   ]
  },
  {
   "cell_type": "code",
   "execution_count": 30,
   "metadata": {},
   "outputs": [
    {
     "data": {
      "text/html": [
       "<div>\n",
       "<style scoped>\n",
       "    .dataframe tbody tr th:only-of-type {\n",
       "        vertical-align: middle;\n",
       "    }\n",
       "\n",
       "    .dataframe tbody tr th {\n",
       "        vertical-align: top;\n",
       "    }\n",
       "\n",
       "    .dataframe thead th {\n",
       "        text-align: right;\n",
       "    }\n",
       "</style>\n",
       "<table border=\"1\" class=\"dataframe\">\n",
       "  <thead>\n",
       "    <tr style=\"text-align: right;\">\n",
       "      <th></th>\n",
       "      <th>model</th>\n",
       "      <th>rmse_outofsample</th>\n",
       "      <th>r^2_outofsample</th>\n",
       "    </tr>\n",
       "  </thead>\n",
       "  <tbody>\n",
       "    <tr>\n",
       "      <th>0</th>\n",
       "      <td>mean_baseline</td>\n",
       "      <td>26448.162472</td>\n",
       "      <td>0.000000</td>\n",
       "    </tr>\n",
       "    <tr>\n",
       "      <th>1</th>\n",
       "      <td>OLS lm</td>\n",
       "      <td>24522.925568</td>\n",
       "      <td>0.070144</td>\n",
       "    </tr>\n",
       "    <tr>\n",
       "      <th>2</th>\n",
       "      <td>LassoLars alpha 1</td>\n",
       "      <td>24571.964362</td>\n",
       "      <td>0.066425</td>\n",
       "    </tr>\n",
       "    <tr>\n",
       "      <th>3</th>\n",
       "      <td>Tweedie GLM power 1</td>\n",
       "      <td>24891.191148</td>\n",
       "      <td>0.042005</td>\n",
       "    </tr>\n",
       "  </tbody>\n",
       "</table>\n",
       "</div>"
      ],
      "text/plain": [
       "                 model  rmse_outofsample  r^2_outofsample\n",
       "0        mean_baseline      26448.162472         0.000000\n",
       "1               OLS lm      24522.925568         0.070144\n",
       "2    LassoLars alpha 1      24571.964362         0.066425\n",
       "3  Tweedie GLM power 1      24891.191148         0.042005"
      ]
     },
     "execution_count": 30,
     "metadata": {},
     "output_type": "execute_result"
    }
   ],
   "source": [
    "metric_df"
   ]
  },
  {
   "cell_type": "markdown",
   "metadata": {},
   "source": [
    "## 2nd degree Polynomial Regression Model\n"
   ]
  },
  {
   "cell_type": "code",
   "execution_count": 31,
   "metadata": {},
   "outputs": [],
   "source": [
    "# make the polynomial features to get a new set of features\n",
    "pf = PolynomialFeatures(degree=2)\n",
    "\n",
    "# fit and transform X_train_scaled features\n",
    "X_train_degree2 = pf.fit_transform(X_train[features])\n",
    "\n",
    "# transform X_validate_scaled & X_test_scaled\n",
    "X_validate_degree2 = pf.transform(X_validate[features])\n",
    "X_test_degree2 = pf.transform(X_test[features])\n"
   ]
  },
  {
   "cell_type": "code",
   "execution_count": 32,
   "metadata": {},
   "outputs": [
    {
     "name": "stdout",
     "output_type": "stream",
     "text": [
      "RMSE for PolynomialRegression\n",
      "Training/In-Sample:  24709.46526854334 \n",
      "Validation/Out-of-Sample:  24409.465860872413\n"
     ]
    }
   ],
   "source": [
    "#create the model object\n",
    "\n",
    "pm = LinearRegression(normalize=True)\n",
    "\n",
    "# fit the model to our training data. We must specify the column in y_train, \n",
    "# since we have converted it to a dataframe from a series! \n",
    "\n",
    "# fit the thing\n",
    "\n",
    "pm.fit(X_train_degree2, y_train.annual_salary)\n",
    "\n",
    "# predict train\n",
    "\n",
    "y_train['sal_pred_pm'] = pm.predict(X_train_degree2)\n",
    "\n",
    "# evaluate: rmse\n",
    "rmse_train = mean_squared_error(y_train.annual_salary, y_train.sal_pred_pm) ** (1/2)\n",
    "\n",
    "# predict validate\n",
    "y_validate['sal_pred_pm'] = pm.predict(X_validate_degree2)\n",
    "\n",
    "# evaluate: rmse\n",
    "rmse_validate = mean_squared_error(y_validate.annual_salary, y_validate.sal_pred_pm) ** (1/2)\n",
    "\n",
    "print(\"RMSE for PolynomialRegression\\nTraining/In-Sample: \", rmse_train, \n",
    "      \"\\nValidation/Out-of-Sample: \", rmse_validate)\n"
   ]
  },
  {
   "cell_type": "code",
   "execution_count": 33,
   "metadata": {},
   "outputs": [
    {
     "data": {
      "text/html": [
       "<div>\n",
       "<style scoped>\n",
       "    .dataframe tbody tr th:only-of-type {\n",
       "        vertical-align: middle;\n",
       "    }\n",
       "\n",
       "    .dataframe tbody tr th {\n",
       "        vertical-align: top;\n",
       "    }\n",
       "\n",
       "    .dataframe thead th {\n",
       "        text-align: right;\n",
       "    }\n",
       "</style>\n",
       "<table border=\"1\" class=\"dataframe\">\n",
       "  <thead>\n",
       "    <tr style=\"text-align: right;\">\n",
       "      <th></th>\n",
       "      <th>model</th>\n",
       "      <th>rmse_outofsample</th>\n",
       "      <th>r^2_outofsample</th>\n",
       "    </tr>\n",
       "  </thead>\n",
       "  <tbody>\n",
       "    <tr>\n",
       "      <th>0</th>\n",
       "      <td>mean_baseline</td>\n",
       "      <td>26448.162472</td>\n",
       "      <td>0.000000</td>\n",
       "    </tr>\n",
       "    <tr>\n",
       "      <th>1</th>\n",
       "      <td>OLS lm</td>\n",
       "      <td>24522.925568</td>\n",
       "      <td>0.070144</td>\n",
       "    </tr>\n",
       "    <tr>\n",
       "      <th>2</th>\n",
       "      <td>LassoLars alpha 1</td>\n",
       "      <td>24571.964362</td>\n",
       "      <td>0.066425</td>\n",
       "    </tr>\n",
       "    <tr>\n",
       "      <th>3</th>\n",
       "      <td>Tweedie GLM power 1</td>\n",
       "      <td>24891.191148</td>\n",
       "      <td>0.042005</td>\n",
       "    </tr>\n",
       "    <tr>\n",
       "      <th>4</th>\n",
       "      <td>PolyReg Model</td>\n",
       "      <td>24409.465861</td>\n",
       "      <td>0.078733</td>\n",
       "    </tr>\n",
       "  </tbody>\n",
       "</table>\n",
       "</div>"
      ],
      "text/plain": [
       "                 model  rmse_outofsample  r^2_outofsample\n",
       "0        mean_baseline      26448.162472         0.000000\n",
       "1               OLS lm      24522.925568         0.070144\n",
       "2    LassoLars alpha 1      24571.964362         0.066425\n",
       "3  Tweedie GLM power 1      24891.191148         0.042005\n",
       "4        PolyReg Model      24409.465861         0.078733"
      ]
     },
     "execution_count": 33,
     "metadata": {},
     "output_type": "execute_result"
    }
   ],
   "source": [
    "# add model to metric df\n",
    "metric_df = metric_df.append(\n",
    "    {\n",
    "    'model': 'PolyReg Model',\n",
    "    'rmse_outofsample': rmse_validate,\n",
    "    'r^2_outofsample': explained_variance_score(y_validate.annual_salary, y_validate.sal_pred_pm)}, ignore_index=True)\n",
    "metric_df"
   ]
  },
  {
   "cell_type": "markdown",
   "metadata": {},
   "source": [
    "## third degree polynomial"
   ]
  },
  {
   "cell_type": "code",
   "execution_count": 34,
   "metadata": {},
   "outputs": [],
   "source": [
    "# make the polynomial features to get a new set of features\n",
    "pf3 = PolynomialFeatures(degree=3)\n",
    "\n",
    "# fit and transform X_train_scaled features\n",
    "X_train_degree3 = pf.fit_transform(X_train[features])\n",
    "\n",
    "# transform X_validate_scaled & X_test_scaled\n",
    "X_validate_degree3 = pf.transform(X_validate[features])\n",
    "X_test_degree3 = pf.transform(X_test[features])"
   ]
  },
  {
   "cell_type": "code",
   "execution_count": 36,
   "metadata": {},
   "outputs": [
    {
     "name": "stdout",
     "output_type": "stream",
     "text": [
      "RMSE for PolynomialRegression\n",
      "Training/In-Sample:  24709.46526854334 \n",
      "Validation/Out-of-Sample:  24409.465860872413\n"
     ]
    }
   ],
   "source": [
    "#create the model object\n",
    "\n",
    "pm3 = LinearRegression(normalize=True)\n",
    "\n",
    "# fit the model to our training data. We must specify the column in y_train, \n",
    "# since we have converted it to a dataframe from a series! \n",
    "\n",
    "# fit the thing\n",
    "\n",
    "pm3.fit(X_train_degree3, y_train.annual_salary)\n",
    "\n",
    "# predict train\n",
    "\n",
    "y_train['sal_pred_pm3'] = pm3.predict(X_train_degree3)\n",
    "\n",
    "# evaluate: rmse\n",
    "rmse_train = mean_squared_error(y_train.annual_salary, y_train.sal_pred_pm3) ** (1/2)\n",
    "\n",
    "# predict validate\n",
    "y_validate['sal_pred_pm3'] = pm3.predict(X_validate_degree3)\n",
    "\n",
    "# evaluate: rmse\n",
    "rmse_validate = mean_squared_error(y_validate.annual_salary, y_validate.sal_pred_pm3) ** (1/2)\n",
    "\n",
    "print(\"RMSE for PolynomialRegression\\nTraining/In-Sample: \", rmse_train, \n",
    "      \"\\nValidation/Out-of-Sample: \", rmse_validate)"
   ]
  },
  {
   "cell_type": "code",
   "execution_count": 37,
   "metadata": {},
   "outputs": [
    {
     "data": {
      "text/html": [
       "<div>\n",
       "<style scoped>\n",
       "    .dataframe tbody tr th:only-of-type {\n",
       "        vertical-align: middle;\n",
       "    }\n",
       "\n",
       "    .dataframe tbody tr th {\n",
       "        vertical-align: top;\n",
       "    }\n",
       "\n",
       "    .dataframe thead th {\n",
       "        text-align: right;\n",
       "    }\n",
       "</style>\n",
       "<table border=\"1\" class=\"dataframe\">\n",
       "  <thead>\n",
       "    <tr style=\"text-align: right;\">\n",
       "      <th></th>\n",
       "      <th>model</th>\n",
       "      <th>rmse_outofsample</th>\n",
       "      <th>r^2_outofsample</th>\n",
       "    </tr>\n",
       "  </thead>\n",
       "  <tbody>\n",
       "    <tr>\n",
       "      <th>0</th>\n",
       "      <td>mean_baseline</td>\n",
       "      <td>26448.162472</td>\n",
       "      <td>0.000000</td>\n",
       "    </tr>\n",
       "    <tr>\n",
       "      <th>1</th>\n",
       "      <td>OLS lm</td>\n",
       "      <td>24522.925568</td>\n",
       "      <td>0.070144</td>\n",
       "    </tr>\n",
       "    <tr>\n",
       "      <th>2</th>\n",
       "      <td>LassoLars alpha 1</td>\n",
       "      <td>24571.964362</td>\n",
       "      <td>0.066425</td>\n",
       "    </tr>\n",
       "    <tr>\n",
       "      <th>3</th>\n",
       "      <td>Tweedie GLM power 1</td>\n",
       "      <td>24891.191148</td>\n",
       "      <td>0.042005</td>\n",
       "    </tr>\n",
       "    <tr>\n",
       "      <th>4</th>\n",
       "      <td>PolyReg Model</td>\n",
       "      <td>24409.465861</td>\n",
       "      <td>0.078733</td>\n",
       "    </tr>\n",
       "    <tr>\n",
       "      <th>5</th>\n",
       "      <td>PolyReg Model</td>\n",
       "      <td>24409.465861</td>\n",
       "      <td>0.078733</td>\n",
       "    </tr>\n",
       "  </tbody>\n",
       "</table>\n",
       "</div>"
      ],
      "text/plain": [
       "                 model  rmse_outofsample  r^2_outofsample\n",
       "0        mean_baseline      26448.162472         0.000000\n",
       "1               OLS lm      24522.925568         0.070144\n",
       "2    LassoLars alpha 1      24571.964362         0.066425\n",
       "3  Tweedie GLM power 1      24891.191148         0.042005\n",
       "4        PolyReg Model      24409.465861         0.078733\n",
       "5        PolyReg Model      24409.465861         0.078733"
      ]
     },
     "execution_count": 37,
     "metadata": {},
     "output_type": "execute_result"
    }
   ],
   "source": [
    "# add model to metric df\n",
    "metric_df = metric_df.append(\n",
    "    {\n",
    "    'model': 'PolyReg Model',\n",
    "    'rmse_outofsample': rmse_validate,\n",
    "    'r^2_outofsample': explained_variance_score(y_validate.annual_salary, y_validate.sal_pred_pm3)}, ignore_index=True)\n",
    "metric_df"
   ]
  },
  {
   "cell_type": "markdown",
   "metadata": {},
   "source": [
    "## Fitting on Test Split"
   ]
  },
  {
   "cell_type": "code",
   "execution_count": 42,
   "metadata": {},
   "outputs": [
    {
     "name": "stdout",
     "output_type": "stream",
     "text": [
      "RMSE for Model using PolynomialRegression\n",
      "Out-of-Sample Performance:  24550.200359146158\n"
     ]
    }
   ],
   "source": [
    "# predict on test\n",
    "y_test['sal_pred_pm'] = pm.predict(X_test_degree2)\n",
    "\n",
    "# evaluate: rmse\n",
    "rmse_test = mean_squared_error(y_test.annual_salary, y_test.sal_pred_pm) ** 0.5\n",
    "print(\"RMSE for Model using PolynomialRegression\\nOut-of-Sample Performance: \", rmse_test)"
   ]
  },
  {
   "cell_type": "code",
   "execution_count": 43,
   "metadata": {},
   "outputs": [],
   "source": [
    "metric_df = metric_df.append(\n",
    "    {\n",
    "    'model': 'Test',\n",
    "    'rmse_outofsample': rmse_test,\n",
    "    'r^2_outofsample': explained_variance_score(y_test.annual_salary, y_test.sal_pred_pm)}, ignore_index=True)"
   ]
  },
  {
   "cell_type": "code",
   "execution_count": 44,
   "metadata": {},
   "outputs": [
    {
     "data": {
      "text/html": [
       "<div>\n",
       "<style scoped>\n",
       "    .dataframe tbody tr th:only-of-type {\n",
       "        vertical-align: middle;\n",
       "    }\n",
       "\n",
       "    .dataframe tbody tr th {\n",
       "        vertical-align: top;\n",
       "    }\n",
       "\n",
       "    .dataframe thead th {\n",
       "        text-align: right;\n",
       "    }\n",
       "</style>\n",
       "<table border=\"1\" class=\"dataframe\">\n",
       "  <thead>\n",
       "    <tr style=\"text-align: right;\">\n",
       "      <th></th>\n",
       "      <th>model</th>\n",
       "      <th>rmse_outofsample</th>\n",
       "      <th>r^2_outofsample</th>\n",
       "    </tr>\n",
       "  </thead>\n",
       "  <tbody>\n",
       "    <tr>\n",
       "      <th>0</th>\n",
       "      <td>mean_baseline</td>\n",
       "      <td>26448.162472</td>\n",
       "      <td>0.000000</td>\n",
       "    </tr>\n",
       "    <tr>\n",
       "      <th>1</th>\n",
       "      <td>OLS lm</td>\n",
       "      <td>24522.925568</td>\n",
       "      <td>0.070144</td>\n",
       "    </tr>\n",
       "    <tr>\n",
       "      <th>2</th>\n",
       "      <td>LassoLars alpha 1</td>\n",
       "      <td>24571.964362</td>\n",
       "      <td>0.066425</td>\n",
       "    </tr>\n",
       "    <tr>\n",
       "      <th>3</th>\n",
       "      <td>Tweedie GLM power 1</td>\n",
       "      <td>24891.191148</td>\n",
       "      <td>0.042005</td>\n",
       "    </tr>\n",
       "    <tr>\n",
       "      <th>4</th>\n",
       "      <td>PolyReg Model</td>\n",
       "      <td>24409.465861</td>\n",
       "      <td>0.078733</td>\n",
       "    </tr>\n",
       "    <tr>\n",
       "      <th>5</th>\n",
       "      <td>PolyReg Model</td>\n",
       "      <td>24409.465861</td>\n",
       "      <td>0.078733</td>\n",
       "    </tr>\n",
       "    <tr>\n",
       "      <th>6</th>\n",
       "      <td>Test</td>\n",
       "      <td>24550.200359</td>\n",
       "      <td>0.082441</td>\n",
       "    </tr>\n",
       "  </tbody>\n",
       "</table>\n",
       "</div>"
      ],
      "text/plain": [
       "                 model  rmse_outofsample  r^2_outofsample\n",
       "0        mean_baseline      26448.162472         0.000000\n",
       "1               OLS lm      24522.925568         0.070144\n",
       "2    LassoLars alpha 1      24571.964362         0.066425\n",
       "3  Tweedie GLM power 1      24891.191148         0.042005\n",
       "4        PolyReg Model      24409.465861         0.078733\n",
       "5        PolyReg Model      24409.465861         0.078733\n",
       "6                 Test      24550.200359         0.082441"
      ]
     },
     "execution_count": 44,
     "metadata": {},
     "output_type": "execute_result"
    }
   ],
   "source": [
    "metric_df"
   ]
  },
  {
   "cell_type": "code",
   "execution_count": null,
   "metadata": {},
   "outputs": [],
   "source": []
  }
 ],
 "metadata": {
  "kernelspec": {
   "display_name": "Python 3",
   "language": "python",
   "name": "python3"
  },
  "language_info": {
   "codemirror_mode": {
    "name": "ipython",
    "version": 3
   },
   "file_extension": ".py",
   "mimetype": "text/x-python",
   "name": "python",
   "nbconvert_exporter": "python",
   "pygments_lexer": "ipython3",
   "version": "3.8.5"
  }
 },
 "nbformat": 4,
 "nbformat_minor": 4
}
