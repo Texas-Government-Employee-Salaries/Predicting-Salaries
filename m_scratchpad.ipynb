{
 "cells": [
  {
   "cell_type": "code",
   "execution_count": 9,
   "metadata": {},
   "outputs": [],
   "source": [
    "import pandas as pd\n",
    "import matplotlib.pyplot as plt"
   ]
  },
  {
   "cell_type": "code",
   "execution_count": 2,
   "metadata": {},
   "outputs": [
    {
     "name": "stderr",
     "output_type": "stream",
     "text": [
      "/usr/local/anaconda3/lib/python3.8/site-packages/IPython/core/interactiveshell.py:3146: DtypeWarning: Columns (16,17,18,20) have mixed types.Specify dtype option on import or set low_memory=False.\n",
      "  has_raised = await self.run_ast_nodes(code_ast.body, cell_name,\n"
     ]
    }
   ],
   "source": [
    "df = pd.read_csv('salaries.csv')"
   ]
  },
  {
   "cell_type": "code",
   "execution_count": 3,
   "metadata": {},
   "outputs": [
    {
     "data": {
      "text/html": [
       "<div>\n",
       "<style scoped>\n",
       "    .dataframe tbody tr th:only-of-type {\n",
       "        vertical-align: middle;\n",
       "    }\n",
       "\n",
       "    .dataframe tbody tr th {\n",
       "        vertical-align: top;\n",
       "    }\n",
       "\n",
       "    .dataframe thead th {\n",
       "        text-align: right;\n",
       "    }\n",
       "</style>\n",
       "<table border=\"1\" class=\"dataframe\">\n",
       "  <thead>\n",
       "    <tr style=\"text-align: right;\">\n",
       "      <th></th>\n",
       "      <th>AGY</th>\n",
       "      <th>NAME</th>\n",
       "      <th>LASTNAME</th>\n",
       "      <th>FIRSTNAME</th>\n",
       "      <th>MI</th>\n",
       "      <th>JOBCLASS</th>\n",
       "      <th>JC TITLE</th>\n",
       "      <th>RACE</th>\n",
       "      <th>SEX</th>\n",
       "      <th>EMPTYPE</th>\n",
       "      <th>...</th>\n",
       "      <th>RATE</th>\n",
       "      <th>HRSWKD</th>\n",
       "      <th>MONTHLY</th>\n",
       "      <th>ANNUAL</th>\n",
       "      <th>STATENUM</th>\n",
       "      <th>duplicated</th>\n",
       "      <th>multiple_full_time_jobs</th>\n",
       "      <th>combined_multiple_jobs</th>\n",
       "      <th>summed_annual_salary</th>\n",
       "      <th>hide_from_search</th>\n",
       "    </tr>\n",
       "  </thead>\n",
       "  <tbody>\n",
       "    <tr>\n",
       "      <th>0</th>\n",
       "      <td>101</td>\n",
       "      <td>SENATE                                        ...</td>\n",
       "      <td>GILLIAM</td>\n",
       "      <td>STACEY</td>\n",
       "      <td>L</td>\n",
       "      <td>7101</td>\n",
       "      <td>LEG. OFFICIAL/ADMINISTRATOR                   ...</td>\n",
       "      <td>WHITE</td>\n",
       "      <td>FEMALE</td>\n",
       "      <td>URP - UNCLASSIFIED REGULAR PART-TIME</td>\n",
       "      <td>...</td>\n",
       "      <td>0.0</td>\n",
       "      <td>20.0</td>\n",
       "      <td>8100.0</td>\n",
       "      <td>97200.0</td>\n",
       "      <td>339371</td>\n",
       "      <td>True</td>\n",
       "      <td>NaN</td>\n",
       "      <td>NaN</td>\n",
       "      <td>181200.0</td>\n",
       "      <td>NaN</td>\n",
       "    </tr>\n",
       "    <tr>\n",
       "      <th>1</th>\n",
       "      <td>104</td>\n",
       "      <td>LEGISLATIVE BUDGET BOARD                      ...</td>\n",
       "      <td>GILLIAM</td>\n",
       "      <td>STACEY</td>\n",
       "      <td>L</td>\n",
       "      <td>C160</td>\n",
       "      <td>COMMITTEE DIRECTOR                            ...</td>\n",
       "      <td>WHITE</td>\n",
       "      <td>FEMALE</td>\n",
       "      <td>URP - UNCLASSIFIED REGULAR PART-TIME</td>\n",
       "      <td>...</td>\n",
       "      <td>0.0</td>\n",
       "      <td>20.0</td>\n",
       "      <td>7000.0</td>\n",
       "      <td>84000.0</td>\n",
       "      <td>339371</td>\n",
       "      <td>True</td>\n",
       "      <td>NaN</td>\n",
       "      <td>NaN</td>\n",
       "      <td>NaN</td>\n",
       "      <td>True</td>\n",
       "    </tr>\n",
       "    <tr>\n",
       "      <th>2</th>\n",
       "      <td>101</td>\n",
       "      <td>SENATE                                        ...</td>\n",
       "      <td>NELSON</td>\n",
       "      <td>DAVID</td>\n",
       "      <td></td>\n",
       "      <td>7101</td>\n",
       "      <td>LEG. OFFICIAL/ADMINISTRATOR                   ...</td>\n",
       "      <td>WHITE</td>\n",
       "      <td>MALE</td>\n",
       "      <td>URP - UNCLASSIFIED REGULAR PART-TIME</td>\n",
       "      <td>...</td>\n",
       "      <td>0.0</td>\n",
       "      <td>20.0</td>\n",
       "      <td>9500.0</td>\n",
       "      <td>114000.0</td>\n",
       "      <td>193187</td>\n",
       "      <td>True</td>\n",
       "      <td>NaN</td>\n",
       "      <td>NaN</td>\n",
       "      <td>210000.0</td>\n",
       "      <td>NaN</td>\n",
       "    </tr>\n",
       "    <tr>\n",
       "      <th>3</th>\n",
       "      <td>104</td>\n",
       "      <td>LEGISLATIVE BUDGET BOARD                      ...</td>\n",
       "      <td>NELSON</td>\n",
       "      <td>DAVID</td>\n",
       "      <td></td>\n",
       "      <td>P080</td>\n",
       "      <td>SENIOR BUDGET ADVISOR                         ...</td>\n",
       "      <td>WHITE</td>\n",
       "      <td>MALE</td>\n",
       "      <td>URP - UNCLASSIFIED REGULAR PART-TIME</td>\n",
       "      <td>...</td>\n",
       "      <td>0.0</td>\n",
       "      <td>20.0</td>\n",
       "      <td>8000.0</td>\n",
       "      <td>96000.0</td>\n",
       "      <td>193187</td>\n",
       "      <td>True</td>\n",
       "      <td>NaN</td>\n",
       "      <td>NaN</td>\n",
       "      <td>NaN</td>\n",
       "      <td>True</td>\n",
       "    </tr>\n",
       "    <tr>\n",
       "      <th>4</th>\n",
       "      <td>101</td>\n",
       "      <td>SENATE                                        ...</td>\n",
       "      <td>ROCHA</td>\n",
       "      <td>MARIE</td>\n",
       "      <td>S</td>\n",
       "      <td>7103</td>\n",
       "      <td>LEG. SERVICE/MAINTENANCE                      ...</td>\n",
       "      <td>HISPANIC</td>\n",
       "      <td>FEMALE</td>\n",
       "      <td>URF - UNCLASSIFIED REGULAR FULL-TIME</td>\n",
       "      <td>...</td>\n",
       "      <td>0.0</td>\n",
       "      <td>41.0</td>\n",
       "      <td>3365.4</td>\n",
       "      <td>40384.8</td>\n",
       "      <td>152257</td>\n",
       "      <td>True</td>\n",
       "      <td>NaN</td>\n",
       "      <td>True</td>\n",
       "      <td>NaN</td>\n",
       "      <td>NaN</td>\n",
       "    </tr>\n",
       "  </tbody>\n",
       "</table>\n",
       "<p>5 rows × 21 columns</p>\n",
       "</div>"
      ],
      "text/plain": [
       "   AGY                                               NAME  \\\n",
       "0  101  SENATE                                        ...   \n",
       "1  104  LEGISLATIVE BUDGET BOARD                      ...   \n",
       "2  101  SENATE                                        ...   \n",
       "3  104  LEGISLATIVE BUDGET BOARD                      ...   \n",
       "4  101  SENATE                                        ...   \n",
       "\n",
       "                         LASTNAME                       FIRSTNAME MI  \\\n",
       "0  GILLIAM                         STACEY                          L   \n",
       "1  GILLIAM                         STACEY                          L   \n",
       "2  NELSON                          DAVID                               \n",
       "3  NELSON                          DAVID                               \n",
       "4  ROCHA                           MARIE                           S   \n",
       "\n",
       "   JOBCLASS                                           JC TITLE  \\\n",
       "0  7101      LEG. OFFICIAL/ADMINISTRATOR                   ...   \n",
       "1  C160      COMMITTEE DIRECTOR                            ...   \n",
       "2  7101      LEG. OFFICIAL/ADMINISTRATOR                   ...   \n",
       "3  P080      SENIOR BUDGET ADVISOR                         ...   \n",
       "4  7103      LEG. SERVICE/MAINTENANCE                      ...   \n",
       "\n",
       "              RACE              SEX                                   EMPTYPE  \\\n",
       "0  WHITE            FEMALE           URP - UNCLASSIFIED REGULAR PART-TIME       \n",
       "1  WHITE            FEMALE           URP - UNCLASSIFIED REGULAR PART-TIME       \n",
       "2  WHITE            MALE             URP - UNCLASSIFIED REGULAR PART-TIME       \n",
       "3  WHITE            MALE             URP - UNCLASSIFIED REGULAR PART-TIME       \n",
       "4  HISPANIC         FEMALE           URF - UNCLASSIFIED REGULAR FULL-TIME       \n",
       "\n",
       "   ... RATE  HRSWKD  MONTHLY    ANNUAL  STATENUM  duplicated  \\\n",
       "0  ...  0.0    20.0   8100.0   97200.0    339371        True   \n",
       "1  ...  0.0    20.0   7000.0   84000.0    339371        True   \n",
       "2  ...  0.0    20.0   9500.0  114000.0    193187        True   \n",
       "3  ...  0.0    20.0   8000.0   96000.0    193187        True   \n",
       "4  ...  0.0    41.0   3365.4   40384.8    152257        True   \n",
       "\n",
       "  multiple_full_time_jobs combined_multiple_jobs summed_annual_salary  \\\n",
       "0                     NaN                    NaN             181200.0   \n",
       "1                     NaN                    NaN                  NaN   \n",
       "2                     NaN                    NaN             210000.0   \n",
       "3                     NaN                    NaN                  NaN   \n",
       "4                     NaN                   True                  NaN   \n",
       "\n",
       "   hide_from_search  \n",
       "0               NaN  \n",
       "1              True  \n",
       "2               NaN  \n",
       "3              True  \n",
       "4               NaN  \n",
       "\n",
       "[5 rows x 21 columns]"
      ]
     },
     "execution_count": 3,
     "metadata": {},
     "output_type": "execute_result"
    }
   ],
   "source": [
    "df.head()"
   ]
  },
  {
   "cell_type": "code",
   "execution_count": 4,
   "metadata": {},
   "outputs": [
    {
     "name": "stdout",
     "output_type": "stream",
     "text": [
      "<class 'pandas.core.frame.DataFrame'>\n",
      "RangeIndex: 144738 entries, 0 to 144737\n",
      "Data columns (total 21 columns):\n",
      " #   Column                   Non-Null Count   Dtype  \n",
      "---  ------                   --------------   -----  \n",
      " 0   AGY                      144738 non-null  int64  \n",
      " 1   NAME                     144738 non-null  object \n",
      " 2   LASTNAME                 144738 non-null  object \n",
      " 3   FIRSTNAME                144738 non-null  object \n",
      " 4   MI                       144738 non-null  object \n",
      " 5   JOBCLASS                 144738 non-null  object \n",
      " 6   JC TITLE                 144738 non-null  object \n",
      " 7   RACE                     144738 non-null  object \n",
      " 8   SEX                      144738 non-null  object \n",
      " 9   EMPTYPE                  144738 non-null  object \n",
      " 10  HIREDT                   144738 non-null  object \n",
      " 11  RATE                     144738 non-null  float64\n",
      " 12  HRSWKD                   144738 non-null  float64\n",
      " 13  MONTHLY                  144738 non-null  float64\n",
      " 14  ANNUAL                   144738 non-null  float64\n",
      " 15  STATENUM                 144738 non-null  int64  \n",
      " 16  duplicated               76 non-null      object \n",
      " 17  multiple_full_time_jobs  18 non-null      object \n",
      " 18  combined_multiple_jobs   37 non-null      object \n",
      " 19  summed_annual_salary     11 non-null      float64\n",
      " 20  hide_from_search         11 non-null      object \n",
      "dtypes: float64(5), int64(2), object(14)\n",
      "memory usage: 23.2+ MB\n"
     ]
    }
   ],
   "source": [
    "df.info()"
   ]
  },
  {
   "cell_type": "code",
   "execution_count": 5,
   "metadata": {},
   "outputs": [
    {
     "data": {
      "text/plain": [
       "WHITE              64651\n",
       "HISPANIC           39557\n",
       "BLACK              33964\n",
       "ASIAN               4419\n",
       "OTHER               1453\n",
       "AM INDIAN            694\n",
       "Name: RACE, dtype: int64"
      ]
     },
     "execution_count": 5,
     "metadata": {},
     "output_type": "execute_result"
    }
   ],
   "source": [
    "df.RACE.value_counts()"
   ]
  },
  {
   "cell_type": "code",
   "execution_count": 6,
   "metadata": {},
   "outputs": [
    {
     "data": {
      "text/plain": [
       "CORREC  OFFICER IV                                    8753\n",
       "CORREC  OFFICER V                                     7350\n",
       "TEXAS WORKS ADVISOR II                                3812\n",
       "CORREC OFFCR III                                      3652\n",
       "DIRECT SUPPORT PROFESSIONAL I                         2484\n",
       "                                                      ... \n",
       "MEDICAL TECHNICIAN II                                    1\n",
       "STAFF ASSISTANT II                                       1\n",
       "PRODUCTION/PUBLICATIONS SPECIA                           1\n",
       "SENIOR RISK ASSESSMENT AUDITOR                           1\n",
       "RES ASSOC/SOC SCI STATISTICIAN                           1\n",
       "Name: JC TITLE, Length: 1406, dtype: int64"
      ]
     },
     "execution_count": 6,
     "metadata": {},
     "output_type": "execute_result"
    }
   ],
   "source": [
    "df['JC TITLE'].value_counts()"
   ]
  },
  {
   "cell_type": "code",
   "execution_count": 13,
   "metadata": {},
   "outputs": [
    {
     "ename": "AttributeError",
     "evalue": "module 'matplotlib.pyplot' has no attribute 'df'",
     "output_type": "error",
     "traceback": [
      "\u001b[0;31m---------------------------------------------------------------------------\u001b[0m",
      "\u001b[0;31mAttributeError\u001b[0m                            Traceback (most recent call last)",
      "\u001b[0;32m<ipython-input-13-fa24d6f0164f>\u001b[0m in \u001b[0;36m<module>\u001b[0;34m\u001b[0m\n\u001b[0;32m----> 1\u001b[0;31m \u001b[0mplt\u001b[0m\u001b[0;34m.\u001b[0m\u001b[0mdf\u001b[0m\u001b[0;34m.\u001b[0m\u001b[0mANNUAL\u001b[0m\u001b[0;34m(\u001b[0m\u001b[0mkind\u001b[0m\u001b[0;34m=\u001b[0m\u001b[0;34m'bar'\u001b[0m\u001b[0;34m)\u001b[0m\u001b[0;34m\u001b[0m\u001b[0;34m\u001b[0m\u001b[0m\n\u001b[0m",
      "\u001b[0;31mAttributeError\u001b[0m: module 'matplotlib.pyplot' has no attribute 'df'"
     ]
    }
   ],
   "source": [
    "plt.df.ANNUAL(kind='bar')"
   ]
  },
  {
   "cell_type": "code",
   "execution_count": null,
   "metadata": {},
   "outputs": [],
   "source": []
  }
 ],
 "metadata": {
  "kernelspec": {
   "display_name": "Python 3",
   "language": "python",
   "name": "python3"
  },
  "language_info": {
   "codemirror_mode": {
    "name": "ipython",
    "version": 3
   },
   "file_extension": ".py",
   "mimetype": "text/x-python",
   "name": "python",
   "nbconvert_exporter": "python",
   "pygments_lexer": "ipython3",
   "version": "3.8.5"
  }
 },
 "nbformat": 4,
 "nbformat_minor": 4
}
