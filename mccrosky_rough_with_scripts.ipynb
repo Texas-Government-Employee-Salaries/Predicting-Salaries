{
 "cells": [
  {
   "cell_type": "code",
   "execution_count": 1,
   "metadata": {},
   "outputs": [],
   "source": [
    "import math\n",
    "import warnings\n",
    "warnings.filterwarnings(\"ignore\")\n",
    "\n",
    "import pandas as pd\n",
    "import numpy as np\n",
    "import seaborn as sns  \n",
    "import matplotlib.pyplot as plt\n",
    "from scipy import stats\n",
    "from datetime import datetime\n",
    "\n",
    "from sklearn.model_selection import train_test_split\n",
    "from sklearn.preprocessing import LabelEncoder\n",
    "from sklearn.metrics import explained_variance_score\n",
    "from sklearn.metrics import mean_squared_error\n",
    "from sklearn.linear_model import LinearRegression, LassoLars, TweedieRegressor\n",
    "from sklearn.preprocessing import PolynomialFeatures\n",
    "import sklearn.preprocessing\n",
    "from sklearn.linear_model import LinearRegression\n",
    "from sklearn.metrics import r2_score, mean_squared_error\n",
    "from sklearn.feature_selection import SelectKBest, f_regression, RFE\n",
    "\n",
    "import Acquire as a\n",
    "import Prepare as p"
   ]
  },
  {
   "cell_type": "markdown",
   "metadata": {},
   "source": [
    "## Acquiring Our Dataframe"
   ]
  },
  {
   "cell_type": "code",
   "execution_count": 2,
   "metadata": {},
   "outputs": [
    {
     "data": {
      "text/html": [
       "<div>\n",
       "<style scoped>\n",
       "    .dataframe tbody tr th:only-of-type {\n",
       "        vertical-align: middle;\n",
       "    }\n",
       "\n",
       "    .dataframe tbody tr th {\n",
       "        vertical-align: top;\n",
       "    }\n",
       "\n",
       "    .dataframe thead th {\n",
       "        text-align: right;\n",
       "    }\n",
       "</style>\n",
       "<table border=\"1\" class=\"dataframe\">\n",
       "  <thead>\n",
       "    <tr style=\"text-align: right;\">\n",
       "      <th></th>\n",
       "      <th>AGY</th>\n",
       "      <th>NAME</th>\n",
       "      <th>LASTNAME</th>\n",
       "      <th>FIRSTNAME</th>\n",
       "      <th>MI</th>\n",
       "      <th>JOBCLASS</th>\n",
       "      <th>JC TITLE</th>\n",
       "      <th>RACE</th>\n",
       "      <th>SEX</th>\n",
       "      <th>EMPTYPE</th>\n",
       "      <th>...</th>\n",
       "      <th>RATE</th>\n",
       "      <th>HRSWKD</th>\n",
       "      <th>MONTHLY</th>\n",
       "      <th>ANNUAL</th>\n",
       "      <th>STATENUM</th>\n",
       "      <th>duplicated</th>\n",
       "      <th>multiple_full_time_jobs</th>\n",
       "      <th>combined_multiple_jobs</th>\n",
       "      <th>summed_annual_salary</th>\n",
       "      <th>hide_from_search</th>\n",
       "    </tr>\n",
       "  </thead>\n",
       "  <tbody>\n",
       "    <tr>\n",
       "      <th>0</th>\n",
       "      <td>101</td>\n",
       "      <td>SENATE                                        ...</td>\n",
       "      <td>GILLIAM</td>\n",
       "      <td>STACEY</td>\n",
       "      <td>L</td>\n",
       "      <td>7101</td>\n",
       "      <td>LEG. OFFICIAL/ADMINISTRATOR                   ...</td>\n",
       "      <td>WHITE</td>\n",
       "      <td>FEMALE</td>\n",
       "      <td>URP - UNCLASSIFIED REGULAR PART-TIME</td>\n",
       "      <td>...</td>\n",
       "      <td>0.0</td>\n",
       "      <td>20.0</td>\n",
       "      <td>8100.0</td>\n",
       "      <td>97200.0</td>\n",
       "      <td>339371</td>\n",
       "      <td>True</td>\n",
       "      <td>NaN</td>\n",
       "      <td>NaN</td>\n",
       "      <td>181200.0</td>\n",
       "      <td>NaN</td>\n",
       "    </tr>\n",
       "    <tr>\n",
       "      <th>1</th>\n",
       "      <td>104</td>\n",
       "      <td>LEGISLATIVE BUDGET BOARD                      ...</td>\n",
       "      <td>GILLIAM</td>\n",
       "      <td>STACEY</td>\n",
       "      <td>L</td>\n",
       "      <td>C160</td>\n",
       "      <td>COMMITTEE DIRECTOR                            ...</td>\n",
       "      <td>WHITE</td>\n",
       "      <td>FEMALE</td>\n",
       "      <td>URP - UNCLASSIFIED REGULAR PART-TIME</td>\n",
       "      <td>...</td>\n",
       "      <td>0.0</td>\n",
       "      <td>20.0</td>\n",
       "      <td>7000.0</td>\n",
       "      <td>84000.0</td>\n",
       "      <td>339371</td>\n",
       "      <td>True</td>\n",
       "      <td>NaN</td>\n",
       "      <td>NaN</td>\n",
       "      <td>NaN</td>\n",
       "      <td>True</td>\n",
       "    </tr>\n",
       "    <tr>\n",
       "      <th>2</th>\n",
       "      <td>101</td>\n",
       "      <td>SENATE                                        ...</td>\n",
       "      <td>NELSON</td>\n",
       "      <td>DAVID</td>\n",
       "      <td></td>\n",
       "      <td>7101</td>\n",
       "      <td>LEG. OFFICIAL/ADMINISTRATOR                   ...</td>\n",
       "      <td>WHITE</td>\n",
       "      <td>MALE</td>\n",
       "      <td>URP - UNCLASSIFIED REGULAR PART-TIME</td>\n",
       "      <td>...</td>\n",
       "      <td>0.0</td>\n",
       "      <td>20.0</td>\n",
       "      <td>9500.0</td>\n",
       "      <td>114000.0</td>\n",
       "      <td>193187</td>\n",
       "      <td>True</td>\n",
       "      <td>NaN</td>\n",
       "      <td>NaN</td>\n",
       "      <td>210000.0</td>\n",
       "      <td>NaN</td>\n",
       "    </tr>\n",
       "    <tr>\n",
       "      <th>3</th>\n",
       "      <td>104</td>\n",
       "      <td>LEGISLATIVE BUDGET BOARD                      ...</td>\n",
       "      <td>NELSON</td>\n",
       "      <td>DAVID</td>\n",
       "      <td></td>\n",
       "      <td>P080</td>\n",
       "      <td>SENIOR BUDGET ADVISOR                         ...</td>\n",
       "      <td>WHITE</td>\n",
       "      <td>MALE</td>\n",
       "      <td>URP - UNCLASSIFIED REGULAR PART-TIME</td>\n",
       "      <td>...</td>\n",
       "      <td>0.0</td>\n",
       "      <td>20.0</td>\n",
       "      <td>8000.0</td>\n",
       "      <td>96000.0</td>\n",
       "      <td>193187</td>\n",
       "      <td>True</td>\n",
       "      <td>NaN</td>\n",
       "      <td>NaN</td>\n",
       "      <td>NaN</td>\n",
       "      <td>True</td>\n",
       "    </tr>\n",
       "    <tr>\n",
       "      <th>4</th>\n",
       "      <td>101</td>\n",
       "      <td>SENATE                                        ...</td>\n",
       "      <td>ROCHA</td>\n",
       "      <td>MARIE</td>\n",
       "      <td>S</td>\n",
       "      <td>7103</td>\n",
       "      <td>LEG. SERVICE/MAINTENANCE                      ...</td>\n",
       "      <td>HISPANIC</td>\n",
       "      <td>FEMALE</td>\n",
       "      <td>URF - UNCLASSIFIED REGULAR FULL-TIME</td>\n",
       "      <td>...</td>\n",
       "      <td>0.0</td>\n",
       "      <td>41.0</td>\n",
       "      <td>3365.4</td>\n",
       "      <td>40384.8</td>\n",
       "      <td>152257</td>\n",
       "      <td>True</td>\n",
       "      <td>NaN</td>\n",
       "      <td>True</td>\n",
       "      <td>NaN</td>\n",
       "      <td>NaN</td>\n",
       "    </tr>\n",
       "  </tbody>\n",
       "</table>\n",
       "<p>5 rows × 21 columns</p>\n",
       "</div>"
      ],
      "text/plain": [
       "   AGY                                               NAME  \\\n",
       "0  101  SENATE                                        ...   \n",
       "1  104  LEGISLATIVE BUDGET BOARD                      ...   \n",
       "2  101  SENATE                                        ...   \n",
       "3  104  LEGISLATIVE BUDGET BOARD                      ...   \n",
       "4  101  SENATE                                        ...   \n",
       "\n",
       "                         LASTNAME                       FIRSTNAME MI  \\\n",
       "0  GILLIAM                         STACEY                          L   \n",
       "1  GILLIAM                         STACEY                          L   \n",
       "2  NELSON                          DAVID                               \n",
       "3  NELSON                          DAVID                               \n",
       "4  ROCHA                           MARIE                           S   \n",
       "\n",
       "   JOBCLASS                                           JC TITLE  \\\n",
       "0  7101      LEG. OFFICIAL/ADMINISTRATOR                   ...   \n",
       "1  C160      COMMITTEE DIRECTOR                            ...   \n",
       "2  7101      LEG. OFFICIAL/ADMINISTRATOR                   ...   \n",
       "3  P080      SENIOR BUDGET ADVISOR                         ...   \n",
       "4  7103      LEG. SERVICE/MAINTENANCE                      ...   \n",
       "\n",
       "              RACE              SEX                                   EMPTYPE  \\\n",
       "0  WHITE            FEMALE           URP - UNCLASSIFIED REGULAR PART-TIME       \n",
       "1  WHITE            FEMALE           URP - UNCLASSIFIED REGULAR PART-TIME       \n",
       "2  WHITE            MALE             URP - UNCLASSIFIED REGULAR PART-TIME       \n",
       "3  WHITE            MALE             URP - UNCLASSIFIED REGULAR PART-TIME       \n",
       "4  HISPANIC         FEMALE           URF - UNCLASSIFIED REGULAR FULL-TIME       \n",
       "\n",
       "   ... RATE  HRSWKD  MONTHLY    ANNUAL  STATENUM  duplicated  \\\n",
       "0  ...  0.0    20.0   8100.0   97200.0    339371        True   \n",
       "1  ...  0.0    20.0   7000.0   84000.0    339371        True   \n",
       "2  ...  0.0    20.0   9500.0  114000.0    193187        True   \n",
       "3  ...  0.0    20.0   8000.0   96000.0    193187        True   \n",
       "4  ...  0.0    41.0   3365.4   40384.8    152257        True   \n",
       "\n",
       "  multiple_full_time_jobs combined_multiple_jobs summed_annual_salary  \\\n",
       "0                     NaN                    NaN             181200.0   \n",
       "1                     NaN                    NaN                  NaN   \n",
       "2                     NaN                    NaN             210000.0   \n",
       "3                     NaN                    NaN                  NaN   \n",
       "4                     NaN                   True                  NaN   \n",
       "\n",
       "   hide_from_search  \n",
       "0               NaN  \n",
       "1              True  \n",
       "2               NaN  \n",
       "3              True  \n",
       "4               NaN  \n",
       "\n",
       "[5 rows x 21 columns]"
      ]
     },
     "execution_count": 2,
     "metadata": {},
     "output_type": "execute_result"
    }
   ],
   "source": [
    "df = a.get_texas_data() ## using acquire function to pull down our csv into pandas\n",
    "\n",
    "df.head() ## previewing dataframe"
   ]
  },
  {
   "cell_type": "markdown",
   "metadata": {},
   "source": [
    "## Preparing Our Dataframe"
   ]
  },
  {
   "cell_type": "code",
   "execution_count": 3,
   "metadata": {},
   "outputs": [
    {
     "data": {
      "text/html": [
       "<div>\n",
       "<style scoped>\n",
       "    .dataframe tbody tr th:only-of-type {\n",
       "        vertical-align: middle;\n",
       "    }\n",
       "\n",
       "    .dataframe tbody tr th {\n",
       "        vertical-align: top;\n",
       "    }\n",
       "\n",
       "    .dataframe thead th {\n",
       "        text-align: right;\n",
       "    }\n",
       "</style>\n",
       "<table border=\"1\" class=\"dataframe\">\n",
       "  <thead>\n",
       "    <tr style=\"text-align: right;\">\n",
       "      <th></th>\n",
       "      <th>agency_id</th>\n",
       "      <th>agency</th>\n",
       "      <th>lastname</th>\n",
       "      <th>firstname</th>\n",
       "      <th>title</th>\n",
       "      <th>race</th>\n",
       "      <th>sex</th>\n",
       "      <th>emptype</th>\n",
       "      <th>hire_date</th>\n",
       "      <th>hours_worked</th>\n",
       "      <th>monthly_salary</th>\n",
       "      <th>annual_salary</th>\n",
       "    </tr>\n",
       "  </thead>\n",
       "  <tbody>\n",
       "    <tr>\n",
       "      <th>0</th>\n",
       "      <td>101</td>\n",
       "      <td>SENATE</td>\n",
       "      <td>GILLIAM</td>\n",
       "      <td>STACEY</td>\n",
       "      <td>LEG. OFFICIAL/ADMINISTRATOR</td>\n",
       "      <td>WHITE</td>\n",
       "      <td>FEMALE</td>\n",
       "      <td>URP - UNCLASSIFIED REGULAR PART-TIME</td>\n",
       "      <td>2013-07-01</td>\n",
       "      <td>20.0</td>\n",
       "      <td>8100.0</td>\n",
       "      <td>97200.0</td>\n",
       "    </tr>\n",
       "    <tr>\n",
       "      <th>1</th>\n",
       "      <td>104</td>\n",
       "      <td>LEGISLATIVE BUDGET BOARD</td>\n",
       "      <td>GILLIAM</td>\n",
       "      <td>STACEY</td>\n",
       "      <td>COMMITTEE DIRECTOR</td>\n",
       "      <td>WHITE</td>\n",
       "      <td>FEMALE</td>\n",
       "      <td>URP - UNCLASSIFIED REGULAR PART-TIME</td>\n",
       "      <td>2017-11-01</td>\n",
       "      <td>20.0</td>\n",
       "      <td>7000.0</td>\n",
       "      <td>84000.0</td>\n",
       "    </tr>\n",
       "    <tr>\n",
       "      <th>2</th>\n",
       "      <td>101</td>\n",
       "      <td>SENATE</td>\n",
       "      <td>NELSON</td>\n",
       "      <td>DAVID</td>\n",
       "      <td>LEG. OFFICIAL/ADMINISTRATOR</td>\n",
       "      <td>WHITE</td>\n",
       "      <td>MALE</td>\n",
       "      <td>URP - UNCLASSIFIED REGULAR PART-TIME</td>\n",
       "      <td>1998-12-01</td>\n",
       "      <td>20.0</td>\n",
       "      <td>9500.0</td>\n",
       "      <td>114000.0</td>\n",
       "    </tr>\n",
       "    <tr>\n",
       "      <th>3</th>\n",
       "      <td>104</td>\n",
       "      <td>LEGISLATIVE BUDGET BOARD</td>\n",
       "      <td>NELSON</td>\n",
       "      <td>DAVID</td>\n",
       "      <td>SENIOR BUDGET ADVISOR</td>\n",
       "      <td>WHITE</td>\n",
       "      <td>MALE</td>\n",
       "      <td>URP - UNCLASSIFIED REGULAR PART-TIME</td>\n",
       "      <td>2017-11-01</td>\n",
       "      <td>20.0</td>\n",
       "      <td>8000.0</td>\n",
       "      <td>96000.0</td>\n",
       "    </tr>\n",
       "    <tr>\n",
       "      <th>4</th>\n",
       "      <td>101</td>\n",
       "      <td>SENATE</td>\n",
       "      <td>ROCHA</td>\n",
       "      <td>MARIE</td>\n",
       "      <td>LEG. SERVICE/MAINTENANCE</td>\n",
       "      <td>HISPANIC</td>\n",
       "      <td>FEMALE</td>\n",
       "      <td>URF - UNCLASSIFIED REGULAR FULL-TIME</td>\n",
       "      <td>2003-05-01</td>\n",
       "      <td>41.0</td>\n",
       "      <td>3365.4</td>\n",
       "      <td>40384.8</td>\n",
       "    </tr>\n",
       "  </tbody>\n",
       "</table>\n",
       "</div>"
      ],
      "text/plain": [
       "   agency_id                    agency lastname firstname  \\\n",
       "0        101                    SENATE  GILLIAM    STACEY   \n",
       "1        104  LEGISLATIVE BUDGET BOARD  GILLIAM    STACEY   \n",
       "2        101                    SENATE   NELSON     DAVID   \n",
       "3        104  LEGISLATIVE BUDGET BOARD   NELSON     DAVID   \n",
       "4        101                    SENATE    ROCHA     MARIE   \n",
       "\n",
       "                         title      race     sex  \\\n",
       "0  LEG. OFFICIAL/ADMINISTRATOR     WHITE  FEMALE   \n",
       "1           COMMITTEE DIRECTOR     WHITE  FEMALE   \n",
       "2  LEG. OFFICIAL/ADMINISTRATOR     WHITE    MALE   \n",
       "3        SENIOR BUDGET ADVISOR     WHITE    MALE   \n",
       "4     LEG. SERVICE/MAINTENANCE  HISPANIC  FEMALE   \n",
       "\n",
       "                                emptype  hire_date  hours_worked  \\\n",
       "0  URP - UNCLASSIFIED REGULAR PART-TIME 2013-07-01          20.0   \n",
       "1  URP - UNCLASSIFIED REGULAR PART-TIME 2017-11-01          20.0   \n",
       "2  URP - UNCLASSIFIED REGULAR PART-TIME 1998-12-01          20.0   \n",
       "3  URP - UNCLASSIFIED REGULAR PART-TIME 2017-11-01          20.0   \n",
       "4  URF - UNCLASSIFIED REGULAR FULL-TIME 2003-05-01          41.0   \n",
       "\n",
       "   monthly_salary  annual_salary  \n",
       "0          8100.0        97200.0  \n",
       "1          7000.0        84000.0  \n",
       "2          9500.0       114000.0  \n",
       "3          8000.0        96000.0  \n",
       "4          3365.4        40384.8  "
      ]
     },
     "execution_count": 3,
     "metadata": {},
     "output_type": "execute_result"
    }
   ],
   "source": [
    "## using our prepare function to clean strings, and drop nulls and duplicate\n",
    "\n",
    "df = p.prepare_tex(df)\n",
    "\n",
    "df.head() ## previewing dataframe"
   ]
  },
  {
   "cell_type": "code",
   "execution_count": 4,
   "metadata": {},
   "outputs": [],
   "source": [
    "df = p.create_features(df)"
   ]
  },
  {
   "cell_type": "code",
   "execution_count": 5,
   "metadata": {},
   "outputs": [
    {
     "data": {
      "text/html": [
       "<div>\n",
       "<style scoped>\n",
       "    .dataframe tbody tr th:only-of-type {\n",
       "        vertical-align: middle;\n",
       "    }\n",
       "\n",
       "    .dataframe tbody tr th {\n",
       "        vertical-align: top;\n",
       "    }\n",
       "\n",
       "    .dataframe thead th {\n",
       "        text-align: right;\n",
       "    }\n",
       "</style>\n",
       "<table border=\"1\" class=\"dataframe\">\n",
       "  <thead>\n",
       "    <tr style=\"text-align: right;\">\n",
       "      <th></th>\n",
       "      <th>agency_id</th>\n",
       "      <th>agency</th>\n",
       "      <th>lastname</th>\n",
       "      <th>firstname</th>\n",
       "      <th>title</th>\n",
       "      <th>race</th>\n",
       "      <th>sex</th>\n",
       "      <th>emptype</th>\n",
       "      <th>hire_date</th>\n",
       "      <th>hours_worked</th>\n",
       "      <th>...</th>\n",
       "      <th>is_hispanic</th>\n",
       "      <th>is_black</th>\n",
       "      <th>is_BIPOC</th>\n",
       "      <th>race_encoded</th>\n",
       "      <th>tenure_months</th>\n",
       "      <th>tenure_years</th>\n",
       "      <th>is_elected</th>\n",
       "      <th>is_director</th>\n",
       "      <th>is_unclassified</th>\n",
       "      <th>is_parttime</th>\n",
       "    </tr>\n",
       "  </thead>\n",
       "  <tbody>\n",
       "    <tr>\n",
       "      <th>0</th>\n",
       "      <td>101</td>\n",
       "      <td>SENATE</td>\n",
       "      <td>GILLIAM</td>\n",
       "      <td>STACEY</td>\n",
       "      <td>LEG. OFFICIAL/ADMINISTRATOR</td>\n",
       "      <td>WHITE</td>\n",
       "      <td>FEMALE</td>\n",
       "      <td>URP - UNCLASSIFIED REGULAR PART-TIME</td>\n",
       "      <td>2013-07-01</td>\n",
       "      <td>20.0</td>\n",
       "      <td>...</td>\n",
       "      <td>0</td>\n",
       "      <td>0</td>\n",
       "      <td>0</td>\n",
       "      <td>5</td>\n",
       "      <td>96</td>\n",
       "      <td>8.0</td>\n",
       "      <td>0</td>\n",
       "      <td>0</td>\n",
       "      <td>1</td>\n",
       "      <td>1</td>\n",
       "    </tr>\n",
       "    <tr>\n",
       "      <th>1</th>\n",
       "      <td>104</td>\n",
       "      <td>LEGISLATIVE BUDGET BOARD</td>\n",
       "      <td>GILLIAM</td>\n",
       "      <td>STACEY</td>\n",
       "      <td>COMMITTEE DIRECTOR</td>\n",
       "      <td>WHITE</td>\n",
       "      <td>FEMALE</td>\n",
       "      <td>URP - UNCLASSIFIED REGULAR PART-TIME</td>\n",
       "      <td>2017-11-01</td>\n",
       "      <td>20.0</td>\n",
       "      <td>...</td>\n",
       "      <td>0</td>\n",
       "      <td>0</td>\n",
       "      <td>0</td>\n",
       "      <td>5</td>\n",
       "      <td>44</td>\n",
       "      <td>3.7</td>\n",
       "      <td>0</td>\n",
       "      <td>1</td>\n",
       "      <td>1</td>\n",
       "      <td>1</td>\n",
       "    </tr>\n",
       "    <tr>\n",
       "      <th>2</th>\n",
       "      <td>101</td>\n",
       "      <td>SENATE</td>\n",
       "      <td>NELSON</td>\n",
       "      <td>DAVID</td>\n",
       "      <td>LEG. OFFICIAL/ADMINISTRATOR</td>\n",
       "      <td>WHITE</td>\n",
       "      <td>MALE</td>\n",
       "      <td>URP - UNCLASSIFIED REGULAR PART-TIME</td>\n",
       "      <td>1998-12-01</td>\n",
       "      <td>20.0</td>\n",
       "      <td>...</td>\n",
       "      <td>0</td>\n",
       "      <td>0</td>\n",
       "      <td>0</td>\n",
       "      <td>5</td>\n",
       "      <td>271</td>\n",
       "      <td>22.6</td>\n",
       "      <td>0</td>\n",
       "      <td>0</td>\n",
       "      <td>1</td>\n",
       "      <td>1</td>\n",
       "    </tr>\n",
       "    <tr>\n",
       "      <th>3</th>\n",
       "      <td>104</td>\n",
       "      <td>LEGISLATIVE BUDGET BOARD</td>\n",
       "      <td>NELSON</td>\n",
       "      <td>DAVID</td>\n",
       "      <td>SENIOR BUDGET ADVISOR</td>\n",
       "      <td>WHITE</td>\n",
       "      <td>MALE</td>\n",
       "      <td>URP - UNCLASSIFIED REGULAR PART-TIME</td>\n",
       "      <td>2017-11-01</td>\n",
       "      <td>20.0</td>\n",
       "      <td>...</td>\n",
       "      <td>0</td>\n",
       "      <td>0</td>\n",
       "      <td>0</td>\n",
       "      <td>5</td>\n",
       "      <td>44</td>\n",
       "      <td>3.7</td>\n",
       "      <td>0</td>\n",
       "      <td>0</td>\n",
       "      <td>1</td>\n",
       "      <td>1</td>\n",
       "    </tr>\n",
       "    <tr>\n",
       "      <th>4</th>\n",
       "      <td>101</td>\n",
       "      <td>SENATE</td>\n",
       "      <td>ROCHA</td>\n",
       "      <td>MARIE</td>\n",
       "      <td>LEG. SERVICE/MAINTENANCE</td>\n",
       "      <td>HISPANIC</td>\n",
       "      <td>FEMALE</td>\n",
       "      <td>URF - UNCLASSIFIED REGULAR FULL-TIME</td>\n",
       "      <td>2003-05-01</td>\n",
       "      <td>41.0</td>\n",
       "      <td>...</td>\n",
       "      <td>1</td>\n",
       "      <td>0</td>\n",
       "      <td>1</td>\n",
       "      <td>3</td>\n",
       "      <td>218</td>\n",
       "      <td>18.2</td>\n",
       "      <td>0</td>\n",
       "      <td>0</td>\n",
       "      <td>1</td>\n",
       "      <td>0</td>\n",
       "    </tr>\n",
       "  </tbody>\n",
       "</table>\n",
       "<p>5 rows × 24 columns</p>\n",
       "</div>"
      ],
      "text/plain": [
       "   agency_id                    agency lastname firstname  \\\n",
       "0        101                    SENATE  GILLIAM    STACEY   \n",
       "1        104  LEGISLATIVE BUDGET BOARD  GILLIAM    STACEY   \n",
       "2        101                    SENATE   NELSON     DAVID   \n",
       "3        104  LEGISLATIVE BUDGET BOARD   NELSON     DAVID   \n",
       "4        101                    SENATE    ROCHA     MARIE   \n",
       "\n",
       "                         title      race     sex  \\\n",
       "0  LEG. OFFICIAL/ADMINISTRATOR     WHITE  FEMALE   \n",
       "1           COMMITTEE DIRECTOR     WHITE  FEMALE   \n",
       "2  LEG. OFFICIAL/ADMINISTRATOR     WHITE    MALE   \n",
       "3        SENIOR BUDGET ADVISOR     WHITE    MALE   \n",
       "4     LEG. SERVICE/MAINTENANCE  HISPANIC  FEMALE   \n",
       "\n",
       "                                emptype  hire_date  hours_worked  ...  \\\n",
       "0  URP - UNCLASSIFIED REGULAR PART-TIME 2013-07-01          20.0  ...   \n",
       "1  URP - UNCLASSIFIED REGULAR PART-TIME 2017-11-01          20.0  ...   \n",
       "2  URP - UNCLASSIFIED REGULAR PART-TIME 1998-12-01          20.0  ...   \n",
       "3  URP - UNCLASSIFIED REGULAR PART-TIME 2017-11-01          20.0  ...   \n",
       "4  URF - UNCLASSIFIED REGULAR FULL-TIME 2003-05-01          41.0  ...   \n",
       "\n",
       "   is_hispanic  is_black  is_BIPOC  race_encoded  tenure_months  tenure_years  \\\n",
       "0            0         0         0             5             96           8.0   \n",
       "1            0         0         0             5             44           3.7   \n",
       "2            0         0         0             5            271          22.6   \n",
       "3            0         0         0             5             44           3.7   \n",
       "4            1         0         1             3            218          18.2   \n",
       "\n",
       "   is_elected  is_director  is_unclassified  is_parttime  \n",
       "0           0            0                1            1  \n",
       "1           0            1                1            1  \n",
       "2           0            0                1            1  \n",
       "3           0            0                1            1  \n",
       "4           0            0                1            0  \n",
       "\n",
       "[5 rows x 24 columns]"
      ]
     },
     "execution_count": 5,
     "metadata": {},
     "output_type": "execute_result"
    }
   ],
   "source": [
    "df.head()"
   ]
  },
  {
   "cell_type": "code",
   "execution_count": 6,
   "metadata": {},
   "outputs": [
    {
     "data": {
      "text/plain": [
       "0    80083\n",
       "1    64647\n",
       "Name: is_white, dtype: int64"
      ]
     },
     "execution_count": 6,
     "metadata": {},
     "output_type": "execute_result"
    }
   ],
   "source": [
    "df.is_white.value_counts()"
   ]
  },
  {
   "cell_type": "code",
   "execution_count": 7,
   "metadata": {},
   "outputs": [
    {
     "data": {
      "text/plain": [
       "1    82865\n",
       "0    61865\n",
       "Name: is_female, dtype: int64"
      ]
     },
     "execution_count": 7,
     "metadata": {},
     "output_type": "execute_result"
    }
   ],
   "source": [
    "df.is_female.value_counts()"
   ]
  },
  {
   "cell_type": "code",
   "execution_count": 8,
   "metadata": {},
   "outputs": [
    {
     "data": {
      "text/plain": [
       "1    80083\n",
       "0    64647\n",
       "Name: is_BIPOC, dtype: int64"
      ]
     },
     "execution_count": 8,
     "metadata": {},
     "output_type": "execute_result"
    }
   ],
   "source": [
    "df.is_BIPOC.value_counts()"
   ]
  },
  {
   "cell_type": "code",
   "execution_count": 9,
   "metadata": {},
   "outputs": [
    {
     "data": {
      "text/plain": [
       "0    144456\n",
       "1       274\n",
       "Name: is_elected, dtype: int64"
      ]
     },
     "execution_count": 9,
     "metadata": {},
     "output_type": "execute_result"
    }
   ],
   "source": [
    "df.is_elected.value_counts()"
   ]
  },
  {
   "cell_type": "markdown",
   "metadata": {},
   "source": [
    "### Creating Bins For Years of Tenure"
   ]
  },
  {
   "cell_type": "code",
   "execution_count": 10,
   "metadata": {},
   "outputs": [
    {
     "name": "stdout",
     "output_type": "stream",
     "text": [
      "Looking At Our Maximum Age and Minimum Age to Make Some Age Bins\n",
      "\n",
      "Max: 49.8, Min: 0.0\n",
      "\n",
      "----------------------------\n",
      "\n",
      "Visualizing Years of Tenure Column To Help with Binning\n",
      "\n"
     ]
    },
    {
     "data": {
      "image/png": "[encoded data removed]",
      "text/plain": [
       "<Figure size 432x288 with 1 Axes>"
      ]
     },
     "metadata": {
      "needs_background": "light"
     },
     "output_type": "display_data"
    },
    {
     "name": "stdout",
     "output_type": "stream",
     "text": [
      "\n",
      "----------------------------\n",
      "\n",
      "Looking At Our Years of Tenure Bins Value Counts\n",
      "1    83012\n",
      "2    27330\n",
      "3    25513\n",
      "4     8875\n",
      "Name: tenure_years_bins, dtype: int64\n",
      "\n",
      "----------------------------\n",
      "\n"
     ]
    }
   ],
   "source": [
    "df = p.make_bins_and_feats(df)"
   ]
  },
  {
   "cell_type": "code",
   "execution_count": 11,
   "metadata": {},
   "outputs": [
    {
     "data": {
      "text/html": [
       "<div>\n",
       "<style scoped>\n",
       "    .dataframe tbody tr th:only-of-type {\n",
       "        vertical-align: middle;\n",
       "    }\n",
       "\n",
       "    .dataframe tbody tr th {\n",
       "        vertical-align: top;\n",
       "    }\n",
       "\n",
       "    .dataframe thead th {\n",
       "        text-align: right;\n",
       "    }\n",
       "</style>\n",
       "<table border=\"1\" class=\"dataframe\">\n",
       "  <thead>\n",
       "    <tr style=\"text-align: right;\">\n",
       "      <th></th>\n",
       "      <th>agency_id</th>\n",
       "      <th>agency</th>\n",
       "      <th>lastname</th>\n",
       "      <th>firstname</th>\n",
       "      <th>title</th>\n",
       "      <th>race</th>\n",
       "      <th>sex</th>\n",
       "      <th>emptype</th>\n",
       "      <th>hire_date</th>\n",
       "      <th>hours_worked</th>\n",
       "      <th>...</th>\n",
       "      <th>tenure_years</th>\n",
       "      <th>is_elected</th>\n",
       "      <th>is_director</th>\n",
       "      <th>is_unclassified</th>\n",
       "      <th>is_parttime</th>\n",
       "      <th>tenure_years_bins</th>\n",
       "      <th>0-5_years</th>\n",
       "      <th>5-10_years</th>\n",
       "      <th>10-20_years</th>\n",
       "      <th>&gt;20_years</th>\n",
       "    </tr>\n",
       "  </thead>\n",
       "  <tbody>\n",
       "    <tr>\n",
       "      <th>0</th>\n",
       "      <td>101</td>\n",
       "      <td>SENATE</td>\n",
       "      <td>GILLIAM</td>\n",
       "      <td>STACEY</td>\n",
       "      <td>LEG. OFFICIAL/ADMINISTRATOR</td>\n",
       "      <td>WHITE</td>\n",
       "      <td>FEMALE</td>\n",
       "      <td>URP - UNCLASSIFIED REGULAR PART-TIME</td>\n",
       "      <td>2013-07-01</td>\n",
       "      <td>20.0</td>\n",
       "      <td>...</td>\n",
       "      <td>8.0</td>\n",
       "      <td>0</td>\n",
       "      <td>0</td>\n",
       "      <td>1</td>\n",
       "      <td>1</td>\n",
       "      <td>2</td>\n",
       "      <td>0</td>\n",
       "      <td>1</td>\n",
       "      <td>0</td>\n",
       "      <td>0</td>\n",
       "    </tr>\n",
       "    <tr>\n",
       "      <th>1</th>\n",
       "      <td>104</td>\n",
       "      <td>LEGISLATIVE BUDGET BOARD</td>\n",
       "      <td>GILLIAM</td>\n",
       "      <td>STACEY</td>\n",
       "      <td>COMMITTEE DIRECTOR</td>\n",
       "      <td>WHITE</td>\n",
       "      <td>FEMALE</td>\n",
       "      <td>URP - UNCLASSIFIED REGULAR PART-TIME</td>\n",
       "      <td>2017-11-01</td>\n",
       "      <td>20.0</td>\n",
       "      <td>...</td>\n",
       "      <td>3.7</td>\n",
       "      <td>0</td>\n",
       "      <td>1</td>\n",
       "      <td>1</td>\n",
       "      <td>1</td>\n",
       "      <td>1</td>\n",
       "      <td>1</td>\n",
       "      <td>0</td>\n",
       "      <td>0</td>\n",
       "      <td>0</td>\n",
       "    </tr>\n",
       "    <tr>\n",
       "      <th>2</th>\n",
       "      <td>101</td>\n",
       "      <td>SENATE</td>\n",
       "      <td>NELSON</td>\n",
       "      <td>DAVID</td>\n",
       "      <td>LEG. OFFICIAL/ADMINISTRATOR</td>\n",
       "      <td>WHITE</td>\n",
       "      <td>MALE</td>\n",
       "      <td>URP - UNCLASSIFIED REGULAR PART-TIME</td>\n",
       "      <td>1998-12-01</td>\n",
       "      <td>20.0</td>\n",
       "      <td>...</td>\n",
       "      <td>22.6</td>\n",
       "      <td>0</td>\n",
       "      <td>0</td>\n",
       "      <td>1</td>\n",
       "      <td>1</td>\n",
       "      <td>4</td>\n",
       "      <td>0</td>\n",
       "      <td>0</td>\n",
       "      <td>0</td>\n",
       "      <td>1</td>\n",
       "    </tr>\n",
       "    <tr>\n",
       "      <th>3</th>\n",
       "      <td>104</td>\n",
       "      <td>LEGISLATIVE BUDGET BOARD</td>\n",
       "      <td>NELSON</td>\n",
       "      <td>DAVID</td>\n",
       "      <td>SENIOR BUDGET ADVISOR</td>\n",
       "      <td>WHITE</td>\n",
       "      <td>MALE</td>\n",
       "      <td>URP - UNCLASSIFIED REGULAR PART-TIME</td>\n",
       "      <td>2017-11-01</td>\n",
       "      <td>20.0</td>\n",
       "      <td>...</td>\n",
       "      <td>3.7</td>\n",
       "      <td>0</td>\n",
       "      <td>0</td>\n",
       "      <td>1</td>\n",
       "      <td>1</td>\n",
       "      <td>1</td>\n",
       "      <td>1</td>\n",
       "      <td>0</td>\n",
       "      <td>0</td>\n",
       "      <td>0</td>\n",
       "    </tr>\n",
       "    <tr>\n",
       "      <th>4</th>\n",
       "      <td>101</td>\n",
       "      <td>SENATE</td>\n",
       "      <td>ROCHA</td>\n",
       "      <td>MARIE</td>\n",
       "      <td>LEG. SERVICE/MAINTENANCE</td>\n",
       "      <td>HISPANIC</td>\n",
       "      <td>FEMALE</td>\n",
       "      <td>URF - UNCLASSIFIED REGULAR FULL-TIME</td>\n",
       "      <td>2003-05-01</td>\n",
       "      <td>41.0</td>\n",
       "      <td>...</td>\n",
       "      <td>18.2</td>\n",
       "      <td>0</td>\n",
       "      <td>0</td>\n",
       "      <td>1</td>\n",
       "      <td>0</td>\n",
       "      <td>3</td>\n",
       "      <td>0</td>\n",
       "      <td>0</td>\n",
       "      <td>1</td>\n",
       "      <td>0</td>\n",
       "    </tr>\n",
       "  </tbody>\n",
       "</table>\n",
       "<p>5 rows × 29 columns</p>\n",
       "</div>"
      ],
      "text/plain": [
       "   agency_id                    agency lastname firstname  \\\n",
       "0        101                    SENATE  GILLIAM    STACEY   \n",
       "1        104  LEGISLATIVE BUDGET BOARD  GILLIAM    STACEY   \n",
       "2        101                    SENATE   NELSON     DAVID   \n",
       "3        104  LEGISLATIVE BUDGET BOARD   NELSON     DAVID   \n",
       "4        101                    SENATE    ROCHA     MARIE   \n",
       "\n",
       "                         title      race     sex  \\\n",
       "0  LEG. OFFICIAL/ADMINISTRATOR     WHITE  FEMALE   \n",
       "1           COMMITTEE DIRECTOR     WHITE  FEMALE   \n",
       "2  LEG. OFFICIAL/ADMINISTRATOR     WHITE    MALE   \n",
       "3        SENIOR BUDGET ADVISOR     WHITE    MALE   \n",
       "4     LEG. SERVICE/MAINTENANCE  HISPANIC  FEMALE   \n",
       "\n",
       "                                emptype  hire_date  hours_worked  ...  \\\n",
       "0  URP - UNCLASSIFIED REGULAR PART-TIME 2013-07-01          20.0  ...   \n",
       "1  URP - UNCLASSIFIED REGULAR PART-TIME 2017-11-01          20.0  ...   \n",
       "2  URP - UNCLASSIFIED REGULAR PART-TIME 1998-12-01          20.0  ...   \n",
       "3  URP - UNCLASSIFIED REGULAR PART-TIME 2017-11-01          20.0  ...   \n",
       "4  URF - UNCLASSIFIED REGULAR FULL-TIME 2003-05-01          41.0  ...   \n",
       "\n",
       "   tenure_years  is_elected  is_director  is_unclassified  is_parttime  \\\n",
       "0           8.0           0            0                1            1   \n",
       "1           3.7           0            1                1            1   \n",
       "2          22.6           0            0                1            1   \n",
       "3           3.7           0            0                1            1   \n",
       "4          18.2           0            0                1            0   \n",
       "\n",
       "   tenure_years_bins  0-5_years  5-10_years  10-20_years  >20_years  \n",
       "0                  2          0           1            0          0  \n",
       "1                  1          1           0            0          0  \n",
       "2                  4          0           0            0          1  \n",
       "3                  1          1           0            0          0  \n",
       "4                  3          0           0            1          0  \n",
       "\n",
       "[5 rows x 29 columns]"
      ]
     },
     "execution_count": 11,
     "metadata": {},
     "output_type": "execute_result"
    }
   ],
   "source": [
    "df.head()"
   ]
  },
  {
   "cell_type": "markdown",
   "metadata": {},
   "source": [
    "### Splitting Data"
   ]
  },
  {
   "cell_type": "code",
   "execution_count": 12,
   "metadata": {},
   "outputs": [
    {
     "name": "stdout",
     "output_type": "stream",
     "text": [
      "Making Sure Our Shapes Look Good\n",
      "Train: (81048, 29), Validate: (34736, 29), Test: (28946, 29)\n"
     ]
    }
   ],
   "source": [
    "train, validate, test = p.split_data(df)"
   ]
  },
  {
   "cell_type": "code",
   "execution_count": 13,
   "metadata": {},
   "outputs": [
    {
     "data": {
      "text/html": [
       "<div>\n",
       "<style scoped>\n",
       "    .dataframe tbody tr th:only-of-type {\n",
       "        vertical-align: middle;\n",
       "    }\n",
       "\n",
       "    .dataframe tbody tr th {\n",
       "        vertical-align: top;\n",
       "    }\n",
       "\n",
       "    .dataframe thead th {\n",
       "        text-align: right;\n",
       "    }\n",
       "</style>\n",
       "<table border=\"1\" class=\"dataframe\">\n",
       "  <thead>\n",
       "    <tr style=\"text-align: right;\">\n",
       "      <th></th>\n",
       "      <th>agency_id</th>\n",
       "      <th>agency</th>\n",
       "      <th>lastname</th>\n",
       "      <th>firstname</th>\n",
       "      <th>title</th>\n",
       "      <th>race</th>\n",
       "      <th>sex</th>\n",
       "      <th>emptype</th>\n",
       "      <th>hire_date</th>\n",
       "      <th>hours_worked</th>\n",
       "      <th>...</th>\n",
       "      <th>tenure_years</th>\n",
       "      <th>is_elected</th>\n",
       "      <th>is_director</th>\n",
       "      <th>is_unclassified</th>\n",
       "      <th>is_parttime</th>\n",
       "      <th>tenure_years_bins</th>\n",
       "      <th>0-5_years</th>\n",
       "      <th>5-10_years</th>\n",
       "      <th>10-20_years</th>\n",
       "      <th>&gt;20_years</th>\n",
       "    </tr>\n",
       "  </thead>\n",
       "  <tbody>\n",
       "    <tr>\n",
       "      <th>125096</th>\n",
       "      <td>696</td>\n",
       "      <td>TEXAS DEPARTMENT OF CRIMINAL JUSTICE</td>\n",
       "      <td>OKECHI</td>\n",
       "      <td>VICTOR</td>\n",
       "      <td>CORREC  OFFICER IV</td>\n",
       "      <td>BLACK</td>\n",
       "      <td>MALE</td>\n",
       "      <td>CRF - CLASSIFIED REGULAR FULL-TIME</td>\n",
       "      <td>2017-02-06</td>\n",
       "      <td>40.0</td>\n",
       "      <td>...</td>\n",
       "      <td>4.4</td>\n",
       "      <td>0</td>\n",
       "      <td>0</td>\n",
       "      <td>0</td>\n",
       "      <td>0</td>\n",
       "      <td>1</td>\n",
       "      <td>1</td>\n",
       "      <td>0</td>\n",
       "      <td>0</td>\n",
       "      <td>0</td>\n",
       "    </tr>\n",
       "    <tr>\n",
       "      <th>42845</th>\n",
       "      <td>529</td>\n",
       "      <td>HEALTH AND HUMAN SERVICES COMMISSION</td>\n",
       "      <td>EKRAM</td>\n",
       "      <td>NIDAA</td>\n",
       "      <td>PROGRAM SPECIALIST V</td>\n",
       "      <td>ASIAN</td>\n",
       "      <td>FEMALE</td>\n",
       "      <td>CRF - CLASSIFIED REGULAR FULL-TIME</td>\n",
       "      <td>2020-09-08</td>\n",
       "      <td>40.0</td>\n",
       "      <td>...</td>\n",
       "      <td>0.8</td>\n",
       "      <td>0</td>\n",
       "      <td>0</td>\n",
       "      <td>0</td>\n",
       "      <td>0</td>\n",
       "      <td>1</td>\n",
       "      <td>1</td>\n",
       "      <td>0</td>\n",
       "      <td>0</td>\n",
       "      <td>0</td>\n",
       "    </tr>\n",
       "    <tr>\n",
       "      <th>117530</th>\n",
       "      <td>696</td>\n",
       "      <td>TEXAS DEPARTMENT OF CRIMINAL JUSTICE</td>\n",
       "      <td>ISIORHOVOJA</td>\n",
       "      <td>ANDREW</td>\n",
       "      <td>CORREC  OFFICER IV</td>\n",
       "      <td>BLACK</td>\n",
       "      <td>MALE</td>\n",
       "      <td>CRF - CLASSIFIED REGULAR FULL-TIME</td>\n",
       "      <td>2020-03-30</td>\n",
       "      <td>40.0</td>\n",
       "      <td>...</td>\n",
       "      <td>1.2</td>\n",
       "      <td>0</td>\n",
       "      <td>0</td>\n",
       "      <td>0</td>\n",
       "      <td>0</td>\n",
       "      <td>1</td>\n",
       "      <td>1</td>\n",
       "      <td>0</td>\n",
       "      <td>0</td>\n",
       "      <td>0</td>\n",
       "    </tr>\n",
       "    <tr>\n",
       "      <th>26227</th>\n",
       "      <td>405</td>\n",
       "      <td>DEPARTMENT OF PUBLIC SAFETY</td>\n",
       "      <td>NETT</td>\n",
       "      <td>ROBERT</td>\n",
       "      <td>SERGEANT, DPS</td>\n",
       "      <td>WHITE</td>\n",
       "      <td>MALE</td>\n",
       "      <td>CRF - CLASSIFIED REGULAR FULL-TIME</td>\n",
       "      <td>2009-09-27</td>\n",
       "      <td>40.0</td>\n",
       "      <td>...</td>\n",
       "      <td>11.8</td>\n",
       "      <td>0</td>\n",
       "      <td>0</td>\n",
       "      <td>0</td>\n",
       "      <td>0</td>\n",
       "      <td>3</td>\n",
       "      <td>0</td>\n",
       "      <td>0</td>\n",
       "      <td>1</td>\n",
       "      <td>0</td>\n",
       "    </tr>\n",
       "    <tr>\n",
       "      <th>113713</th>\n",
       "      <td>696</td>\n",
       "      <td>TEXAS DEPARTMENT OF CRIMINAL JUSTICE</td>\n",
       "      <td>GARZA</td>\n",
       "      <td>AMANDA</td>\n",
       "      <td>PAROLE OFFCR II</td>\n",
       "      <td>HISPANIC</td>\n",
       "      <td>FEMALE</td>\n",
       "      <td>CRF - CLASSIFIED REGULAR FULL-TIME</td>\n",
       "      <td>2016-08-15</td>\n",
       "      <td>40.0</td>\n",
       "      <td>...</td>\n",
       "      <td>4.9</td>\n",
       "      <td>0</td>\n",
       "      <td>0</td>\n",
       "      <td>0</td>\n",
       "      <td>0</td>\n",
       "      <td>1</td>\n",
       "      <td>1</td>\n",
       "      <td>0</td>\n",
       "      <td>0</td>\n",
       "      <td>0</td>\n",
       "    </tr>\n",
       "  </tbody>\n",
       "</table>\n",
       "<p>5 rows × 29 columns</p>\n",
       "</div>"
      ],
      "text/plain": [
       "        agency_id                                agency     lastname  \\\n",
       "125096        696  TEXAS DEPARTMENT OF CRIMINAL JUSTICE       OKECHI   \n",
       "42845         529  HEALTH AND HUMAN SERVICES COMMISSION        EKRAM   \n",
       "117530        696  TEXAS DEPARTMENT OF CRIMINAL JUSTICE  ISIORHOVOJA   \n",
       "26227         405           DEPARTMENT OF PUBLIC SAFETY         NETT   \n",
       "113713        696  TEXAS DEPARTMENT OF CRIMINAL JUSTICE        GARZA   \n",
       "\n",
       "       firstname                 title      race     sex  \\\n",
       "125096    VICTOR    CORREC  OFFICER IV     BLACK    MALE   \n",
       "42845      NIDAA  PROGRAM SPECIALIST V     ASIAN  FEMALE   \n",
       "117530    ANDREW    CORREC  OFFICER IV     BLACK    MALE   \n",
       "26227     ROBERT         SERGEANT, DPS     WHITE    MALE   \n",
       "113713    AMANDA       PAROLE OFFCR II  HISPANIC  FEMALE   \n",
       "\n",
       "                                   emptype  hire_date  hours_worked  ...  \\\n",
       "125096  CRF - CLASSIFIED REGULAR FULL-TIME 2017-02-06          40.0  ...   \n",
       "42845   CRF - CLASSIFIED REGULAR FULL-TIME 2020-09-08          40.0  ...   \n",
       "117530  CRF - CLASSIFIED REGULAR FULL-TIME 2020-03-30          40.0  ...   \n",
       "26227   CRF - CLASSIFIED REGULAR FULL-TIME 2009-09-27          40.0  ...   \n",
       "113713  CRF - CLASSIFIED REGULAR FULL-TIME 2016-08-15          40.0  ...   \n",
       "\n",
       "        tenure_years  is_elected  is_director  is_unclassified  is_parttime  \\\n",
       "125096           4.4           0            0                0            0   \n",
       "42845            0.8           0            0                0            0   \n",
       "117530           1.2           0            0                0            0   \n",
       "26227           11.8           0            0                0            0   \n",
       "113713           4.9           0            0                0            0   \n",
       "\n",
       "        tenure_years_bins  0-5_years  5-10_years  10-20_years  >20_years  \n",
       "125096                  1          1           0            0          0  \n",
       "42845                   1          1           0            0          0  \n",
       "117530                  1          1           0            0          0  \n",
       "26227                   3          0           0            1          0  \n",
       "113713                  1          1           0            0          0  \n",
       "\n",
       "[5 rows x 29 columns]"
      ]
     },
     "execution_count": 13,
     "metadata": {},
     "output_type": "execute_result"
    }
   ],
   "source": [
    "train.head()"
   ]
  },
  {
   "cell_type": "code",
   "execution_count": 14,
   "metadata": {},
   "outputs": [
    {
     "data": {
      "text/html": [
       "<div>\n",
       "<style scoped>\n",
       "    .dataframe tbody tr th:only-of-type {\n",
       "        vertical-align: middle;\n",
       "    }\n",
       "\n",
       "    .dataframe tbody tr th {\n",
       "        vertical-align: top;\n",
       "    }\n",
       "\n",
       "    .dataframe thead th {\n",
       "        text-align: right;\n",
       "    }\n",
       "</style>\n",
       "<table border=\"1\" class=\"dataframe\">\n",
       "  <thead>\n",
       "    <tr style=\"text-align: right;\">\n",
       "      <th></th>\n",
       "      <th>agency_id</th>\n",
       "      <th>agency</th>\n",
       "      <th>lastname</th>\n",
       "      <th>firstname</th>\n",
       "      <th>title</th>\n",
       "      <th>race</th>\n",
       "      <th>sex</th>\n",
       "      <th>emptype</th>\n",
       "      <th>hire_date</th>\n",
       "      <th>hours_worked</th>\n",
       "      <th>...</th>\n",
       "      <th>tenure_years</th>\n",
       "      <th>is_elected</th>\n",
       "      <th>is_director</th>\n",
       "      <th>is_unclassified</th>\n",
       "      <th>is_parttime</th>\n",
       "      <th>tenure_years_bins</th>\n",
       "      <th>0-5_years</th>\n",
       "      <th>5-10_years</th>\n",
       "      <th>10-20_years</th>\n",
       "      <th>&gt;20_years</th>\n",
       "    </tr>\n",
       "  </thead>\n",
       "  <tbody>\n",
       "    <tr>\n",
       "      <th>144519</th>\n",
       "      <td>592</td>\n",
       "      <td>SOIL AND WATER CONSERVATION BOARD</td>\n",
       "      <td>KENNEDY</td>\n",
       "      <td>SHANNON</td>\n",
       "      <td>NETWORK SPEC II</td>\n",
       "      <td>BLACK</td>\n",
       "      <td>FEMALE</td>\n",
       "      <td>CRF - CLASSIFIED REGULAR FULL-TIME</td>\n",
       "      <td>2017-10-23</td>\n",
       "      <td>40.0</td>\n",
       "      <td>...</td>\n",
       "      <td>3.7</td>\n",
       "      <td>0</td>\n",
       "      <td>0</td>\n",
       "      <td>0</td>\n",
       "      <td>0</td>\n",
       "      <td>1</td>\n",
       "      <td>1</td>\n",
       "      <td>0</td>\n",
       "      <td>0</td>\n",
       "      <td>0</td>\n",
       "    </tr>\n",
       "    <tr>\n",
       "      <th>84211</th>\n",
       "      <td>537</td>\n",
       "      <td>DEPARTMENT OF STATE HEALTH SERVICES</td>\n",
       "      <td>TANGALOS</td>\n",
       "      <td>REBECCA</td>\n",
       "      <td>MEDICAL TECHNOLOGIST IV</td>\n",
       "      <td>WHITE</td>\n",
       "      <td>FEMALE</td>\n",
       "      <td>CRF - CLASSIFIED REGULAR FULL-TIME</td>\n",
       "      <td>2015-04-06</td>\n",
       "      <td>40.0</td>\n",
       "      <td>...</td>\n",
       "      <td>6.2</td>\n",
       "      <td>0</td>\n",
       "      <td>0</td>\n",
       "      <td>0</td>\n",
       "      <td>0</td>\n",
       "      <td>2</td>\n",
       "      <td>0</td>\n",
       "      <td>1</td>\n",
       "      <td>0</td>\n",
       "      <td>0</td>\n",
       "    </tr>\n",
       "    <tr>\n",
       "      <th>126534</th>\n",
       "      <td>696</td>\n",
       "      <td>TEXAS DEPARTMENT OF CRIMINAL JUSTICE</td>\n",
       "      <td>PEGODA</td>\n",
       "      <td>CLIFFORD</td>\n",
       "      <td>MGR IV</td>\n",
       "      <td>WHITE</td>\n",
       "      <td>MALE</td>\n",
       "      <td>CRF - CLASSIFIED REGULAR FULL-TIME</td>\n",
       "      <td>2001-12-06</td>\n",
       "      <td>40.0</td>\n",
       "      <td>...</td>\n",
       "      <td>19.6</td>\n",
       "      <td>0</td>\n",
       "      <td>0</td>\n",
       "      <td>0</td>\n",
       "      <td>0</td>\n",
       "      <td>3</td>\n",
       "      <td>0</td>\n",
       "      <td>0</td>\n",
       "      <td>1</td>\n",
       "      <td>0</td>\n",
       "    </tr>\n",
       "    <tr>\n",
       "      <th>99947</th>\n",
       "      <td>601</td>\n",
       "      <td>TEXAS DEPARTMENT OF TRANSPORTATION</td>\n",
       "      <td>WEST III</td>\n",
       "      <td>JOHN</td>\n",
       "      <td>TRANS MAINT SPEC IV</td>\n",
       "      <td>WHITE</td>\n",
       "      <td>MALE</td>\n",
       "      <td>CRF - CLASSIFIED REGULAR FULL-TIME</td>\n",
       "      <td>2004-03-16</td>\n",
       "      <td>40.0</td>\n",
       "      <td>...</td>\n",
       "      <td>17.3</td>\n",
       "      <td>0</td>\n",
       "      <td>0</td>\n",
       "      <td>0</td>\n",
       "      <td>0</td>\n",
       "      <td>3</td>\n",
       "      <td>0</td>\n",
       "      <td>0</td>\n",
       "      <td>1</td>\n",
       "      <td>0</td>\n",
       "    </tr>\n",
       "    <tr>\n",
       "      <th>29847</th>\n",
       "      <td>405</td>\n",
       "      <td>DEPARTMENT OF PUBLIC SAFETY</td>\n",
       "      <td>WRIGHT</td>\n",
       "      <td>KEVIN</td>\n",
       "      <td>SERGEANT, DPS</td>\n",
       "      <td>WHITE</td>\n",
       "      <td>MALE</td>\n",
       "      <td>CRF - CLASSIFIED REGULAR FULL-TIME</td>\n",
       "      <td>1999-09-27</td>\n",
       "      <td>40.0</td>\n",
       "      <td>...</td>\n",
       "      <td>21.8</td>\n",
       "      <td>0</td>\n",
       "      <td>0</td>\n",
       "      <td>0</td>\n",
       "      <td>0</td>\n",
       "      <td>4</td>\n",
       "      <td>0</td>\n",
       "      <td>0</td>\n",
       "      <td>0</td>\n",
       "      <td>1</td>\n",
       "    </tr>\n",
       "  </tbody>\n",
       "</table>\n",
       "<p>5 rows × 29 columns</p>\n",
       "</div>"
      ],
      "text/plain": [
       "        agency_id                                agency  lastname firstname  \\\n",
       "144519        592     SOIL AND WATER CONSERVATION BOARD   KENNEDY   SHANNON   \n",
       "84211         537   DEPARTMENT OF STATE HEALTH SERVICES  TANGALOS   REBECCA   \n",
       "126534        696  TEXAS DEPARTMENT OF CRIMINAL JUSTICE    PEGODA  CLIFFORD   \n",
       "99947         601    TEXAS DEPARTMENT OF TRANSPORTATION  WEST III      JOHN   \n",
       "29847         405           DEPARTMENT OF PUBLIC SAFETY    WRIGHT     KEVIN   \n",
       "\n",
       "                          title   race     sex  \\\n",
       "144519          NETWORK SPEC II  BLACK  FEMALE   \n",
       "84211   MEDICAL TECHNOLOGIST IV  WHITE  FEMALE   \n",
       "126534                   MGR IV  WHITE    MALE   \n",
       "99947       TRANS MAINT SPEC IV  WHITE    MALE   \n",
       "29847             SERGEANT, DPS  WHITE    MALE   \n",
       "\n",
       "                                   emptype  hire_date  hours_worked  ...  \\\n",
       "144519  CRF - CLASSIFIED REGULAR FULL-TIME 2017-10-23          40.0  ...   \n",
       "84211   CRF - CLASSIFIED REGULAR FULL-TIME 2015-04-06          40.0  ...   \n",
       "126534  CRF - CLASSIFIED REGULAR FULL-TIME 2001-12-06          40.0  ...   \n",
       "99947   CRF - CLASSIFIED REGULAR FULL-TIME 2004-03-16          40.0  ...   \n",
       "29847   CRF - CLASSIFIED REGULAR FULL-TIME 1999-09-27          40.0  ...   \n",
       "\n",
       "        tenure_years  is_elected  is_director  is_unclassified  is_parttime  \\\n",
       "144519           3.7           0            0                0            0   \n",
       "84211            6.2           0            0                0            0   \n",
       "126534          19.6           0            0                0            0   \n",
       "99947           17.3           0            0                0            0   \n",
       "29847           21.8           0            0                0            0   \n",
       "\n",
       "        tenure_years_bins  0-5_years  5-10_years  10-20_years  >20_years  \n",
       "144519                  1          1           0            0          0  \n",
       "84211                   2          0           1            0          0  \n",
       "126534                  3          0           0            1          0  \n",
       "99947                   3          0           0            1          0  \n",
       "29847                   4          0           0            0          1  \n",
       "\n",
       "[5 rows x 29 columns]"
      ]
     },
     "execution_count": 14,
     "metadata": {},
     "output_type": "execute_result"
    }
   ],
   "source": [
    "validate.head()"
   ]
  },
  {
   "cell_type": "code",
   "execution_count": 15,
   "metadata": {},
   "outputs": [
    {
     "data": {
      "text/html": [
       "<div>\n",
       "<style scoped>\n",
       "    .dataframe tbody tr th:only-of-type {\n",
       "        vertical-align: middle;\n",
       "    }\n",
       "\n",
       "    .dataframe tbody tr th {\n",
       "        vertical-align: top;\n",
       "    }\n",
       "\n",
       "    .dataframe thead th {\n",
       "        text-align: right;\n",
       "    }\n",
       "</style>\n",
       "<table border=\"1\" class=\"dataframe\">\n",
       "  <thead>\n",
       "    <tr style=\"text-align: right;\">\n",
       "      <th></th>\n",
       "      <th>agency_id</th>\n",
       "      <th>agency</th>\n",
       "      <th>lastname</th>\n",
       "      <th>firstname</th>\n",
       "      <th>title</th>\n",
       "      <th>race</th>\n",
       "      <th>sex</th>\n",
       "      <th>emptype</th>\n",
       "      <th>hire_date</th>\n",
       "      <th>hours_worked</th>\n",
       "      <th>...</th>\n",
       "      <th>tenure_years</th>\n",
       "      <th>is_elected</th>\n",
       "      <th>is_director</th>\n",
       "      <th>is_unclassified</th>\n",
       "      <th>is_parttime</th>\n",
       "      <th>tenure_years_bins</th>\n",
       "      <th>0-5_years</th>\n",
       "      <th>5-10_years</th>\n",
       "      <th>10-20_years</th>\n",
       "      <th>&gt;20_years</th>\n",
       "    </tr>\n",
       "  </thead>\n",
       "  <tbody>\n",
       "    <tr>\n",
       "      <th>85971</th>\n",
       "      <td>582</td>\n",
       "      <td>TEXAS COMMISSION ON ENVIRONMENTAL QUALITY</td>\n",
       "      <td>JOHNSON</td>\n",
       "      <td>LAURA</td>\n",
       "      <td>NATURAL RESOURCES SPEC III</td>\n",
       "      <td>WHITE</td>\n",
       "      <td>FEMALE</td>\n",
       "      <td>CRF - CLASSIFIED REGULAR FULL-TIME</td>\n",
       "      <td>2018-08-06</td>\n",
       "      <td>40.0</td>\n",
       "      <td>...</td>\n",
       "      <td>2.9</td>\n",
       "      <td>0</td>\n",
       "      <td>0</td>\n",
       "      <td>0</td>\n",
       "      <td>0</td>\n",
       "      <td>1</td>\n",
       "      <td>1</td>\n",
       "      <td>0</td>\n",
       "      <td>0</td>\n",
       "      <td>0</td>\n",
       "    </tr>\n",
       "    <tr>\n",
       "      <th>115287</th>\n",
       "      <td>696</td>\n",
       "      <td>TEXAS DEPARTMENT OF CRIMINAL JUSTICE</td>\n",
       "      <td>HALIM</td>\n",
       "      <td>HARRIET</td>\n",
       "      <td>CORREC OFFCR III</td>\n",
       "      <td>BLACK</td>\n",
       "      <td>FEMALE</td>\n",
       "      <td>CRF - CLASSIFIED REGULAR FULL-TIME</td>\n",
       "      <td>2021-05-17</td>\n",
       "      <td>40.0</td>\n",
       "      <td>...</td>\n",
       "      <td>0.1</td>\n",
       "      <td>0</td>\n",
       "      <td>0</td>\n",
       "      <td>0</td>\n",
       "      <td>0</td>\n",
       "      <td>1</td>\n",
       "      <td>1</td>\n",
       "      <td>0</td>\n",
       "      <td>0</td>\n",
       "      <td>0</td>\n",
       "    </tr>\n",
       "    <tr>\n",
       "      <th>82959</th>\n",
       "      <td>537</td>\n",
       "      <td>DEPARTMENT OF STATE HEALTH SERVICES</td>\n",
       "      <td>LARSEN</td>\n",
       "      <td>JANIE</td>\n",
       "      <td>PUBLIC HLTH &amp; PRVNT SPEC III</td>\n",
       "      <td>HISPANIC</td>\n",
       "      <td>FEMALE</td>\n",
       "      <td>CRF - CLASSIFIED REGULAR FULL-TIME</td>\n",
       "      <td>2017-02-01</td>\n",
       "      <td>40.0</td>\n",
       "      <td>...</td>\n",
       "      <td>4.4</td>\n",
       "      <td>0</td>\n",
       "      <td>0</td>\n",
       "      <td>0</td>\n",
       "      <td>0</td>\n",
       "      <td>1</td>\n",
       "      <td>1</td>\n",
       "      <td>0</td>\n",
       "      <td>0</td>\n",
       "      <td>0</td>\n",
       "    </tr>\n",
       "    <tr>\n",
       "      <th>137863</th>\n",
       "      <td>772</td>\n",
       "      <td>SCHOOL FOR THE DEAF</td>\n",
       "      <td>MILANI</td>\n",
       "      <td>CHRISTOPHE</td>\n",
       "      <td>FOOD SRVC MGR IV</td>\n",
       "      <td>WHITE</td>\n",
       "      <td>MALE</td>\n",
       "      <td>CRF - CLASSIFIED REGULAR FULL-TIME</td>\n",
       "      <td>2019-10-15</td>\n",
       "      <td>40.0</td>\n",
       "      <td>...</td>\n",
       "      <td>1.8</td>\n",
       "      <td>0</td>\n",
       "      <td>0</td>\n",
       "      <td>0</td>\n",
       "      <td>0</td>\n",
       "      <td>1</td>\n",
       "      <td>1</td>\n",
       "      <td>0</td>\n",
       "      <td>0</td>\n",
       "      <td>0</td>\n",
       "    </tr>\n",
       "    <tr>\n",
       "      <th>120138</th>\n",
       "      <td>696</td>\n",
       "      <td>TEXAS DEPARTMENT OF CRIMINAL JUSTICE</td>\n",
       "      <td>LETIGIO</td>\n",
       "      <td>VINCENT</td>\n",
       "      <td>CORREC  OFFICER IV</td>\n",
       "      <td>ASIAN</td>\n",
       "      <td>MALE</td>\n",
       "      <td>CRF - CLASSIFIED REGULAR FULL-TIME</td>\n",
       "      <td>2017-11-06</td>\n",
       "      <td>40.0</td>\n",
       "      <td>...</td>\n",
       "      <td>3.7</td>\n",
       "      <td>0</td>\n",
       "      <td>0</td>\n",
       "      <td>0</td>\n",
       "      <td>0</td>\n",
       "      <td>1</td>\n",
       "      <td>1</td>\n",
       "      <td>0</td>\n",
       "      <td>0</td>\n",
       "      <td>0</td>\n",
       "    </tr>\n",
       "  </tbody>\n",
       "</table>\n",
       "<p>5 rows × 29 columns</p>\n",
       "</div>"
      ],
      "text/plain": [
       "        agency_id                                     agency lastname  \\\n",
       "85971         582  TEXAS COMMISSION ON ENVIRONMENTAL QUALITY  JOHNSON   \n",
       "115287        696       TEXAS DEPARTMENT OF CRIMINAL JUSTICE    HALIM   \n",
       "82959         537        DEPARTMENT OF STATE HEALTH SERVICES   LARSEN   \n",
       "137863        772                        SCHOOL FOR THE DEAF   MILANI   \n",
       "120138        696       TEXAS DEPARTMENT OF CRIMINAL JUSTICE  LETIGIO   \n",
       "\n",
       "         firstname                         title      race     sex  \\\n",
       "85971        LAURA    NATURAL RESOURCES SPEC III     WHITE  FEMALE   \n",
       "115287     HARRIET              CORREC OFFCR III     BLACK  FEMALE   \n",
       "82959        JANIE  PUBLIC HLTH & PRVNT SPEC III  HISPANIC  FEMALE   \n",
       "137863  CHRISTOPHE              FOOD SRVC MGR IV     WHITE    MALE   \n",
       "120138     VINCENT            CORREC  OFFICER IV     ASIAN    MALE   \n",
       "\n",
       "                                   emptype  hire_date  hours_worked  ...  \\\n",
       "85971   CRF - CLASSIFIED REGULAR FULL-TIME 2018-08-06          40.0  ...   \n",
       "115287  CRF - CLASSIFIED REGULAR FULL-TIME 2021-05-17          40.0  ...   \n",
       "82959   CRF - CLASSIFIED REGULAR FULL-TIME 2017-02-01          40.0  ...   \n",
       "137863  CRF - CLASSIFIED REGULAR FULL-TIME 2019-10-15          40.0  ...   \n",
       "120138  CRF - CLASSIFIED REGULAR FULL-TIME 2017-11-06          40.0  ...   \n",
       "\n",
       "        tenure_years  is_elected  is_director  is_unclassified  is_parttime  \\\n",
       "85971            2.9           0            0                0            0   \n",
       "115287           0.1           0            0                0            0   \n",
       "82959            4.4           0            0                0            0   \n",
       "137863           1.8           0            0                0            0   \n",
       "120138           3.7           0            0                0            0   \n",
       "\n",
       "        tenure_years_bins  0-5_years  5-10_years  10-20_years  >20_years  \n",
       "85971                   1          1           0            0          0  \n",
       "115287                  1          1           0            0          0  \n",
       "82959                   1          1           0            0          0  \n",
       "137863                  1          1           0            0          0  \n",
       "120138                  1          1           0            0          0  \n",
       "\n",
       "[5 rows x 29 columns]"
      ]
     },
     "execution_count": 15,
     "metadata": {},
     "output_type": "execute_result"
    }
   ],
   "source": [
    "test.head()"
   ]
  },
  {
   "cell_type": "markdown",
   "metadata": {},
   "source": [
    "## Exploring Our Dataframe"
   ]
  },
  {
   "cell_type": "markdown",
   "metadata": {},
   "source": [
    "### Looking at Correlations"
   ]
  },
  {
   "cell_type": "markdown",
   "metadata": {},
   "source": [
    "#### Heatmaps"
   ]
  },
  {
   "cell_type": "code",
   "execution_count": 49,
   "metadata": {},
   "outputs": [
    {
     "data": {
      "image/png": "[encoded data removed]",
      "text/plain": [
       "<Figure size 1440x648 with 2 Axes>"
      ]
     },
     "metadata": {
      "needs_background": "light"
     },
     "output_type": "display_data"
    }
   ],
   "source": [
    "## defining correlation variable for heatmap\n",
    "corr = train.corr()\n",
    "\n",
    "## creating a heatmap of the correlation between all columns in our dataframe\n",
    "\n",
    "plt.figure(figsize=(20,9))\n",
    "mask = np.zeros_like(corr)  ## <-- creating a mask\n",
    "mask[np.triu_indices_from(mask)] = True\n",
    "sns.heatmap(corr, center=0, annot=True, linewidths=.5, cmap='RdBu',\n",
    "            annot_kws={\"size\": 13}, mask=mask)\n",
    "plt.title('Exploring Feature Correlations\\n', {'fontsize': 20})\n",
    "plt.show()"
   ]
  },
  {
   "cell_type": "code",
   "execution_count": 17,
   "metadata": {},
   "outputs": [
    {
     "data": {
      "image/png": "[encoded data removed]",
      "text/plain": [
       "<Figure size 720x432 with 2 Axes>"
      ]
     },
     "metadata": {
      "needs_background": "light"
     },
     "output_type": "display_data"
    }
   ],
   "source": [
    "## Creating a heatmap showing correlations to our target variable\n",
    "\n",
    "plt.figure(figsize = (10,6))  \n",
    "sns.heatmap(train.corr()[['annual_salary']].sort_values(by='annual_salary', \n",
    "                                                        ascending = True), cmap = 'RdBu', \n",
    "            vmax = 1, vmin = -1, center = 0, \n",
    "            annot = True, annot_kws={\"size\": 13} )\n",
    "plt.title('Exploring Correlations With Annual Salary\\n')\n",
    "plt.show()"
   ]
  },
  {
   "cell_type": "markdown",
   "metadata": {},
   "source": [
    "#### Pearson-R Correlation Testing\n",
    "- Top 6 Correlated Features\n",
    "    - agency_id\n",
    "    - 0-5 years\n",
    "    - tenure_months\n",
    "    - tenure_years_bins\n",
    "    - tenure_years\n",
    "    - is_director\n",
    "    "
   ]
  },
  {
   "cell_type": "code",
   "execution_count": 18,
   "metadata": {},
   "outputs": [],
   "source": [
    "alpha = 0.05 ## <-- Determining alpha value"
   ]
  },
  {
   "cell_type": "markdown",
   "metadata": {},
   "source": [
    "Standard Hypothesis for correlation test of all variables\n",
    "\n",
    "$H_0$ : There is no relationship between these variables\n",
    "\n",
    "$H_a$ : There is evidence to suggest there is a realtionhip between these two variables"
   ]
  },
  {
   "cell_type": "markdown",
   "metadata": {},
   "source": [
    "##### Agency ID vs. Annual Salary"
   ]
  },
  {
   "cell_type": "code",
   "execution_count": 19,
   "metadata": {},
   "outputs": [
    {
     "data": {
      "text/plain": [
       "(-0.260989684266699, 0.0)"
      ]
     },
     "execution_count": 19,
     "metadata": {},
     "output_type": "execute_result"
    }
   ],
   "source": [
    "## performing correlation test on agency_id because the heat map showed\n",
    "## a good correlation value.\n",
    "\n",
    "## Now we test it to determine if it is a significant relationship\n",
    "\n",
    "corr, p = stats.pearsonr(train.agency_id, train.annual_salary)\n",
    "corr, p"
   ]
  },
  {
   "cell_type": "markdown",
   "metadata": {},
   "source": [
    "With a correlation of -0.26 and a p value less than our alpha 0.05 we can conclude that there is evidence to suggest there is a significant correlation between the agency id and the annual salary of a Texas government employee."
   ]
  },
  {
   "cell_type": "markdown",
   "metadata": {},
   "source": [
    "##### 0-5 Years Tenure vs. Annual Salary"
   ]
  },
  {
   "cell_type": "code",
   "execution_count": 20,
   "metadata": {},
   "outputs": [
    {
     "data": {
      "text/plain": [
       "(-0.24415913095521297, 0.0)"
      ]
     },
     "execution_count": 20,
     "metadata": {},
     "output_type": "execute_result"
    }
   ],
   "source": [
    "## performing correlation test on 0-5 years because the heat map showed\n",
    "## a good correlation value.\n",
    "\n",
    "## Now we test it to determine if it is a significant relationship\n",
    "\n",
    "corr, p = stats.pearsonr(train['0-5_years'], train.annual_salary)\n",
    "corr, p"
   ]
  },
  {
   "cell_type": "markdown",
   "metadata": {},
   "source": [
    "With a correlation of -0.24 and a p value near 0 we can conclude that there is evidence to suggest there is a significant correlation between the employees that have 0 to 5 years of tenure and their annual salaries."
   ]
  },
  {
   "cell_type": "markdown",
   "metadata": {},
   "source": [
    "##### Months of Tenure vs. Annual Salary"
   ]
  },
  {
   "cell_type": "code",
   "execution_count": 21,
   "metadata": {},
   "outputs": [
    {
     "data": {
      "text/plain": [
       "(0.28509496814591595, 0.0)"
      ]
     },
     "execution_count": 21,
     "metadata": {},
     "output_type": "execute_result"
    }
   ],
   "source": [
    "## performing correlation test on tenure in months because the heat map showed\n",
    "## a good correlation value.\n",
    "\n",
    "## Now we test it to determine if it is a significant relationship\n",
    "\n",
    "corr, p = stats.pearsonr(train['tenure_months'], train.annual_salary)\n",
    "corr, p"
   ]
  },
  {
   "cell_type": "markdown",
   "metadata": {},
   "source": [
    "With a correlation of 0.28 and a p value near 0 we can conclude that there is evidence to suggest there is a significant correlation between the employees tenure in months and their annual salaries."
   ]
  },
  {
   "cell_type": "markdown",
   "metadata": {},
   "source": [
    "##### Years of Tenure vs. Annual Salary"
   ]
  },
  {
   "cell_type": "code",
   "execution_count": 22,
   "metadata": {},
   "outputs": [
    {
     "data": {
      "text/plain": [
       "(0.2851556967713695, 0.0)"
      ]
     },
     "execution_count": 22,
     "metadata": {},
     "output_type": "execute_result"
    }
   ],
   "source": [
    "## performing correlation test on tenure in years because the heat map showed\n",
    "## a good correlation value.\n",
    "\n",
    "## Now we test it to determine if it is a significant relationship\n",
    "\n",
    "corr, p = stats.pearsonr(train['tenure_years'], train.annual_salary)\n",
    "corr, p"
   ]
  },
  {
   "cell_type": "markdown",
   "metadata": {},
   "source": [
    "With a correlation of 0.28 and a p value near 0 we can conclude that there is evidence to suggest there is a significant correlation between the employees tenure in years and their annual salaries"
   ]
  },
  {
   "cell_type": "markdown",
   "metadata": {},
   "source": [
    "##### Years of Tenure Bins vs. Annual Salary"
   ]
  },
  {
   "cell_type": "code",
   "execution_count": 23,
   "metadata": {},
   "outputs": [
    {
     "data": {
      "text/plain": [
       "(0.26952636562585924, 0.0)"
      ]
     },
     "execution_count": 23,
     "metadata": {},
     "output_type": "execute_result"
    }
   ],
   "source": [
    "## performing correlation test on the tenure years bins because the heat map showed\n",
    "## a good correlation value.\n",
    "\n",
    "## Now we test it to determine if it is a significant relationship\n",
    "\n",
    "corr, p = stats.pearsonr(train['tenure_years_bins'], train.annual_salary)\n",
    "corr, p"
   ]
  },
  {
   "cell_type": "markdown",
   "metadata": {},
   "source": [
    "With a correlation of 0.27 and a p value near 0 we can conclude that there is evidence to suggest there is a significant correlation between grouping employees into different tenure brackets (0-5 years, 5-10 years, 10-20 years, and more than 20 years) and their annual salary."
   ]
  },
  {
   "cell_type": "markdown",
   "metadata": {},
   "source": [
    "#####  Director Category vs. Annual Salary"
   ]
  },
  {
   "cell_type": "code",
   "execution_count": 48,
   "metadata": {},
   "outputs": [
    {
     "data": {
      "text/plain": [
       "(0.4123192811532364, 0.0)"
      ]
     },
     "execution_count": 48,
     "metadata": {},
     "output_type": "execute_result"
    }
   ],
   "source": [
    "## performing correlation test on the is_director one hot encoded column because the heat \n",
    "## map showed a good correlation value.\n",
    "\n",
    "## Now we test it to determine if it is a significant relationship\n",
    "\n",
    "corr, p = stats.pearsonr(train['is_director'], train.annual_salary)\n",
    "corr, p"
   ]
  },
  {
   "cell_type": "markdown",
   "metadata": {},
   "source": [
    "With a correlation of 0.41 and a p value of 0 we can conclude that there is evidence to suggest there is a significant correlation between the employees that categorized by the director title and their annual salaries."
   ]
  },
  {
   "cell_type": "markdown",
   "metadata": {},
   "source": [
    "#### Pearson-R Correlation Testing: Takeaways"
   ]
  },
  {
   "cell_type": "markdown",
   "metadata": {},
   "source": [
    "Features Tested with annual_salary\n",
    "   * agency_id:               corr = -0.26\n",
    "   * 0-5 years:               corr = -0.24\n",
    "   * tenure_months:           corr = 0.29\n",
    "   * tenure_years_bins:       corr = 0.27\n",
    "   * tenure_years:            corr = 0.29\n",
    "   * is_director:             corr = 0.41"
   ]
  },
  {
   "cell_type": "markdown",
   "metadata": {},
   "source": [
    "After running Person-R correlation test's on these top correlated features all of the test results returned p-value's near zero. Therefore we can conclude there is a signifcant correlation between these variables and look into using them in our models to improve model performance."
   ]
  },
  {
   "cell_type": "markdown",
   "metadata": {},
   "source": [
    "### Exploring Different Relationships With Race"
   ]
  },
  {
   "cell_type": "markdown",
   "metadata": {},
   "source": [
    "#### Boxplots"
   ]
  },
  {
   "cell_type": "markdown",
   "metadata": {},
   "source": [
    "##### Annual Salary vs. Race"
   ]
  },
  {
   "cell_type": "code",
   "execution_count": 24,
   "metadata": {},
   "outputs": [
    {
     "data": {
      "image/png": "[encoded data removed]",
      "text/plain": [
       "<Figure size 648x360 with 1 Axes>"
      ]
     },
     "metadata": {
      "needs_background": "light"
     },
     "output_type": "display_data"
    }
   ],
   "source": [
    "plt.figure(figsize = (9,5))\n",
    "sns.boxplot(data = train, x='annual_salary', y='race')\n",
    "plt.xlim(0,140000)\n",
    "plt.xlabel('\\nAnnual Salary (US dollars)')\n",
    "plt.ylabel('Race of Employee')\n",
    "plt.title('Annual Salary vs. Race\\n')\n",
    "plt.show()"
   ]
  },
  {
   "cell_type": "markdown",
   "metadata": {},
   "source": [
    "##### Tenure (Months) vs. Race"
   ]
  },
  {
   "cell_type": "code",
   "execution_count": 25,
   "metadata": {},
   "outputs": [
    {
     "data": {
      "image/png": "[encoded data removed]",
      "text/plain": [
       "<Figure size 648x360 with 1 Axes>"
      ]
     },
     "metadata": {
      "needs_background": "light"
     },
     "output_type": "display_data"
    }
   ],
   "source": [
    "## plotting the tenure in months with an x limit to focus more on the IQRs and \n",
    "## Median values of each race's tenure\n",
    "\n",
    "plt.figure(figsize = (9,5))\n",
    "sns.boxplot(data = train, x='tenure_months', y='race')\n",
    "plt.xlim(-5,290) ## using xlim to focus more on the IQRs of the data\n",
    "plt.xlabel('\\nTenure in Months')\n",
    "plt.ylabel('Race of Employee')\n",
    "plt.title('Tenure (Months) vs. Race\\n')\n",
    "plt.show()"
   ]
  },
  {
   "cell_type": "markdown",
   "metadata": {},
   "source": [
    "##### Tenure (years) vs. Race"
   ]
  },
  {
   "cell_type": "code",
   "execution_count": 26,
   "metadata": {},
   "outputs": [
    {
     "data": {
      "image/png": "[encoded data removed]",
      "text/plain": [
       "<Figure size 648x360 with 1 Axes>"
      ]
     },
     "metadata": {
      "needs_background": "light"
     },
     "output_type": "display_data"
    }
   ],
   "source": [
    "## plotting the years without an x limit to view outliers of different race's tenure\n",
    "## in years\n",
    "\n",
    "plt.figure(figsize = (9,5))\n",
    "sns.boxplot(data = train, x='tenure_years', y='race')\n",
    "plt.xlabel('\\nTenure in Years')\n",
    "plt.ylabel('Race of Employee')\n",
    "plt.title('Tenure (Years) vs. Race\\n')\n",
    "plt.show()"
   ]
  },
  {
   "cell_type": "markdown",
   "metadata": {},
   "source": [
    "#### Two-Tailed T Tests\n",
    " - Testing for Significant difference in average annual salaries vs. race"
   ]
  },
  {
   "cell_type": "code",
   "execution_count": 27,
   "metadata": {},
   "outputs": [],
   "source": [
    "alpha = 0.05 ## <-- Determining alpha value"
   ]
  },
  {
   "cell_type": "markdown",
   "metadata": {},
   "source": [
    "##### BIPOC vs. White: Annual Salary"
   ]
  },
  {
   "cell_type": "markdown",
   "metadata": {},
   "source": [
    "$H_0$: Texas Government employees and whether or not they fall in the BIPOC category is idependent of their annual salary\n",
    "\n",
    "$H_a$: Texas Government employees and whether or not they fall in the BIPOC have a significant difference in their annual salaries"
   ]
  },
  {
   "cell_type": "code",
   "execution_count": 28,
   "metadata": {},
   "outputs": [],
   "source": [
    "## making our two sub group dataframes: bipoc and non-bipoc\n",
    "\n",
    "bipoc = train[train['is_BIPOC'] == 1]\n",
    "non_bipoc = train[train['is_BIPOC'] == 0]"
   ]
  },
  {
   "cell_type": "code",
   "execution_count": 29,
   "metadata": {},
   "outputs": [
    {
     "data": {
      "text/plain": [
       "(-55.06420480879216, 0.0)"
      ]
     },
     "execution_count": 29,
     "metadata": {},
     "output_type": "execute_result"
    }
   ],
   "source": [
    "## running our stats test \n",
    "\n",
    "t, p = stats.ttest_ind(bipoc.annual_salary, non_bipoc.annual_salary)\n",
    "t, p"
   ]
  },
  {
   "cell_type": "markdown",
   "metadata": {},
   "source": [
    "With a p-value of zero we can conclude there is a significant difference in annual salary between BIPOC and white texas government employees."
   ]
  },
  {
   "cell_type": "markdown",
   "metadata": {},
   "source": [
    "##### Black vs. White: Annual Salary"
   ]
  },
  {
   "cell_type": "markdown",
   "metadata": {},
   "source": [
    "$H_0$: Texas Government employees and if they are black or white is independent of their annual salary\n",
    "\n",
    "$H_a$: Texas Government employees and if they are black or white have a significant difference in their annaul salaries"
   ]
  },
  {
   "cell_type": "code",
   "execution_count": 30,
   "metadata": {},
   "outputs": [],
   "source": [
    "## making our two sub group dataframes: white and black\n",
    "\n",
    "white = train[train['is_white'] == 1]\n",
    "black = train[train['is_black'] == 1]"
   ]
  },
  {
   "cell_type": "code",
   "execution_count": 31,
   "metadata": {},
   "outputs": [
    {
     "data": {
      "text/plain": [
       "(55.996218415976465, 0.0)"
      ]
     },
     "execution_count": 31,
     "metadata": {},
     "output_type": "execute_result"
    }
   ],
   "source": [
    "## running our stats test \n",
    "\n",
    "t, p = stats.ttest_ind(white.annual_salary, black.annual_salary)\n",
    "t, p"
   ]
  },
  {
   "cell_type": "markdown",
   "metadata": {},
   "source": [
    "With a p-value of zero we can conclude there is a significant difference in annual salary between black and white texas government employees."
   ]
  },
  {
   "cell_type": "markdown",
   "metadata": {},
   "source": [
    "##### Asian vs. White"
   ]
  },
  {
   "cell_type": "markdown",
   "metadata": {},
   "source": [
    "$H_0$: Texas Government employees and if they are asian or white is independent of their annual salary\n",
    "\n",
    "$H_a$: Texas Government employees and if they are asian or white have a significant difference in their annaul salaries"
   ]
  },
  {
   "cell_type": "code",
   "execution_count": 32,
   "metadata": {},
   "outputs": [],
   "source": [
    "## making our asian subgroup since we made a white subgroup for the t-test above\n",
    "\n",
    "asian  = train[train['race'] == 'ASIAN']"
   ]
  },
  {
   "cell_type": "code",
   "execution_count": 33,
   "metadata": {},
   "outputs": [
    {
     "data": {
      "text/plain": [
       "(12.535643782805728, 5.59880377398969e-36)"
      ]
     },
     "execution_count": 33,
     "metadata": {},
     "output_type": "execute_result"
    }
   ],
   "source": [
    "## running our stats test \n",
    "\n",
    "t, p = stats.ttest_ind(asian.annual_salary, white.annual_salary)\n",
    "t, p"
   ]
  },
  {
   "cell_type": "markdown",
   "metadata": {},
   "source": [
    "With a p-value near zero we can conclude there is a significant difference in annual salary between asian and white texas government employees."
   ]
  },
  {
   "cell_type": "markdown",
   "metadata": {},
   "source": [
    "##### Hispanic vs. White: Annual Salary"
   ]
  },
  {
   "cell_type": "markdown",
   "metadata": {},
   "source": [
    "$H_0$: Texas Government employees and if they are hispanic or white is independent of their annual salary\n",
    "\n",
    "$H_a$: Texas Government employees and if they are hispanic or white have a significant difference in their annaul salaries"
   ]
  },
  {
   "cell_type": "code",
   "execution_count": 34,
   "metadata": {},
   "outputs": [],
   "source": [
    "## making our hispanic subgroup since we made a white subgroup for the t-test above\n",
    "\n",
    "hispanic = train[train['race'] == 'HISPANIC']"
   ]
  },
  {
   "cell_type": "code",
   "execution_count": 35,
   "metadata": {},
   "outputs": [
    {
     "data": {
      "text/plain": [
       "(-39.650997407439704, 0.0)"
      ]
     },
     "execution_count": 35,
     "metadata": {},
     "output_type": "execute_result"
    }
   ],
   "source": [
    "## running our stats test \n",
    "\n",
    "t, p = stats.ttest_ind(hispanic.annual_salary, white.annual_salary)\n",
    "t, p"
   ]
  },
  {
   "cell_type": "markdown",
   "metadata": {},
   "source": [
    "With a p-value of zero we can conclude there is a significant difference in annual salary between hispanic and white texas government employees."
   ]
  },
  {
   "cell_type": "markdown",
   "metadata": {},
   "source": [
    "#### Two-Tailed T Test Takeaways:\n",
    "\n",
    "Annual Salaries Compared:\n",
    " - BIPOC vs. White\n",
    " - Black vs. White\n",
    " - Asian vs. White\n",
    " - Hispanic vs. White\n",
    " \n",
    "With running two-tailed t test's on different racial subgroups of texas government employees' average annual salaries. We can conclude there are statistical differences in the the salaries between each race because the p-value returned from all of the statistical testing was either zero or near zero.\n"
   ]
  },
  {
   "cell_type": "markdown",
   "metadata": {},
   "source": [
    "#### One-Tailed T Tests\n",
    "- Testing for significant difference in racial subgroups versus the entire population"
   ]
  },
  {
   "cell_type": "code",
   "execution_count": 36,
   "metadata": {},
   "outputs": [],
   "source": [
    "alpha = 0.05 ## <-- Determining alpha value"
   ]
  },
  {
   "cell_type": "markdown",
   "metadata": {},
   "source": [
    "##### Other vs. Population: Annual Salary"
   ]
  },
  {
   "cell_type": "markdown",
   "metadata": {},
   "source": [
    "$H_0$: Texas Government employees and if they fall in the other race category has no signifcant difference in salary versus the population\n",
    "\n",
    "$H_a$: Texas Government employees and if they fall in the other race category have a significant difference in their salaries versus the population"
   ]
  },
  {
   "cell_type": "code",
   "execution_count": 37,
   "metadata": {},
   "outputs": [],
   "source": [
    "## making our subgroup for other\n",
    "\n",
    "other = train[train.race == 'OTHER']"
   ]
  },
  {
   "cell_type": "code",
   "execution_count": 38,
   "metadata": {},
   "outputs": [
    {
     "data": {
      "text/plain": [
       "(-7.724364870703877, 5.6840648510102565e-15)"
      ]
     },
     "execution_count": 38,
     "metadata": {},
     "output_type": "execute_result"
    }
   ],
   "source": [
    "## running our stats test \n",
    "\n",
    "t, p = stats.ttest_ind(other.annual_salary, train.annual_salary)\n",
    "t, p/2 ## <-- returning p / 2 because it is a one tailed t test"
   ]
  },
  {
   "cell_type": "markdown",
   "metadata": {},
   "source": [
    "With a p-value near zero we can conclude there is a significant difference in annual salary between the other race employee versus the population of employees."
   ]
  },
  {
   "cell_type": "markdown",
   "metadata": {},
   "source": [
    "##### Black vs. Population: Annual Salary"
   ]
  },
  {
   "cell_type": "markdown",
   "metadata": {},
   "source": [
    "$H_0$: Texas Government employees that are black have no significant difference in salary versus the population\n",
    "\n",
    "$H_a$: Texas Government employees that are black have a significant difference in salary versus the population"
   ]
  },
  {
   "cell_type": "code",
   "execution_count": 39,
   "metadata": {},
   "outputs": [
    {
     "data": {
      "text/plain": [
       "(-38.63900965914874, 0.0)"
      ]
     },
     "execution_count": 39,
     "metadata": {},
     "output_type": "execute_result"
    }
   ],
   "source": [
    "## running our stats test  \n",
    "\n",
    "t, p = stats.ttest_ind(black.annual_salary, train.annual_salary)\n",
    "t, p/2 ## <-- returning p / 2 because it is a one tailed t test"
   ]
  },
  {
   "cell_type": "markdown",
   "metadata": {},
   "source": [
    "With a p-value of zero we can conclude there is a significant difference in annual salary between the black employee versus the population of employees."
   ]
  },
  {
   "cell_type": "markdown",
   "metadata": {},
   "source": [
    "##### Asian vs Population: Annual Salary"
   ]
  },
  {
   "cell_type": "markdown",
   "metadata": {},
   "source": [
    "$H_0$: Texas Government employees that are asian have no significant difference in salary versus the population\n",
    "\n",
    "$H_a$: Texas Government employees that are asian have a significant difference in salary versus the population"
   ]
  },
  {
   "cell_type": "code",
   "execution_count": 40,
   "metadata": {},
   "outputs": [
    {
     "data": {
      "text/plain": [
       "(24.995121530242066, 1.1082300118690345e-137)"
      ]
     },
     "execution_count": 40,
     "metadata": {},
     "output_type": "execute_result"
    }
   ],
   "source": [
    "## running our stats test  \n",
    "\n",
    "t, p = stats.ttest_ind(asian.annual_salary, train.annual_salary)\n",
    "t, p/2 ## <-- returning p / 2 because it is a one tailed t test"
   ]
  },
  {
   "cell_type": "markdown",
   "metadata": {},
   "source": [
    "With a p-value near zero we can conclude there is a significant difference in annual salary between the asian employee versus the population of employees."
   ]
  },
  {
   "cell_type": "markdown",
   "metadata": {},
   "source": [
    "#### One-Tailed T Test Takeaways:\n",
    "\n",
    "Annual Salaries Compared:\n",
    " - Other vs. Population\n",
    " - Black vs. Population\n",
    " - Asian vs. Population\n",
    " \n",
    "With running one-tailed t test's on different racial subgroups against the total population of texas government employees annual salaries. We can conclude there are statistical differences in the the salaries between each race and the population because the p-value returned from all of the statistical testing was either zero or near zero.\n"
   ]
  },
  {
   "cell_type": "markdown",
   "metadata": {},
   "source": [
    "#### Stacked Density Plots"
   ]
  },
  {
   "cell_type": "markdown",
   "metadata": {},
   "source": [
    "##### Tenure in Years Density vs. Sex"
   ]
  },
  {
   "cell_type": "code",
   "execution_count": 88,
   "metadata": {},
   "outputs": [
    {
     "data": {
      "image/png": "[encoded data removed]",
      "text/plain": [
       "<Figure size 435.25x360 with 1 Axes>"
      ]
     },
     "metadata": {
      "needs_background": "light"
     },
     "output_type": "display_data"
    }
   ],
   "source": [
    "# histogram with hue and stacking\n",
    "sns.displot(data = train, x = 'tenure_years', hue = 'sex', multiple = 'stack',\n",
    "            palette = ['r', 'b'], alpha = 0.4, kind = 'kde')\n",
    "plt.xlim(-1,30) ## <-- using x-limit to look more towards the IQRs and not the outliers\n",
    "plt.xlabel('Tenure (years)')\n",
    "plt.title('Tenure in Years vs. Sex:\\n Probability of Occurence\\n')\n",
    "plt.show()"
   ]
  },
  {
   "cell_type": "markdown",
   "metadata": {},
   "source": [
    "##### Annual Salary Density vs. Sex"
   ]
  },
  {
   "cell_type": "code",
   "execution_count": 90,
   "metadata": {},
   "outputs": [
    {
     "data": {
      "image/png": "[encoded data removed]",
      "text/plain": [
       "<Figure size 435.25x360 with 1 Axes>"
      ]
     },
     "metadata": {
      "needs_background": "light"
     },
     "output_type": "display_data"
    }
   ],
   "source": [
    "# histogram with hue and stacking\n",
    "sns.displot(data = train, x = 'annual_salary', hue = 'sex', multiple = 'stack',\n",
    "            palette = ['r', 'b'], alpha = 0.4, kind = 'kde')\n",
    "plt.xlim(0,130000) ## <-- using x-limit to look more towards the IQRs and not the outliers\n",
    "plt.xlabel('Annual Salary (US Dollars)')\n",
    "plt.title('Annual Salary vs. Sex:\\n Probability of Occurence\\n')\n",
    "plt.show()"
   ]
  },
  {
   "cell_type": "code",
   "execution_count": 67,
   "metadata": {},
   "outputs": [],
   "source": [
    "## creating sub dataframe for the top three races \n",
    "\n",
    "df1 = train[(train.race == 'WHITE') | (train.race == 'BLACK') \n",
    "            | (train.race == 'HISPANIC')]"
   ]
  },
  {
   "cell_type": "code",
   "execution_count": 86,
   "metadata": {},
   "outputs": [
    {
     "data": {
      "image/png": "[encoded data removed]",
      "text/plain": [
       "<Figure size 1080x360 with 3 Axes>"
      ]
     },
     "metadata": {
      "needs_background": "light"
     },
     "output_type": "display_data"
    }
   ],
   "source": [
    "sns.displot(data = df1, x = 'annual_salary', col = 'race', color = 'blue', \n",
    "            alpha = 0.5)\n",
    "plt.xlim(0,130000) ## <-- using x lim to view the data more near the IQRs \n",
    "plt.show()"
   ]
  },
  {
   "cell_type": "code",
   "execution_count": 69,
   "metadata": {},
   "outputs": [],
   "source": [
    "## creating sub dataframe for the bottom three races\n",
    "\n",
    "df2 = train[(train.race == 'OTHER') | (train.race == 'AM INDIAN')\n",
    "            | (train.race == 'ASIAN')]"
   ]
  },
  {
   "cell_type": "code",
   "execution_count": 70,
   "metadata": {},
   "outputs": [
    {
     "data": {
      "image/png": "[encoded data removed]",
      "text/plain": [
       "<Figure size 1080x360 with 3 Axes>"
      ]
     },
     "metadata": {
      "needs_background": "light"
     },
     "output_type": "display_data"
    }
   ],
   "source": [
    "sns.displot(data = df2, x = 'annual_salary', col = 'race', color = 'blue', \n",
    "            alpha = 0.5, col_wrap = 3)\n",
    "plt.xlim(0,130000) ## <-- using xlim to view the data more near the IQRs\n",
    "plt.show()"
   ]
  },
  {
   "cell_type": "code",
   "execution_count": 91,
   "metadata": {},
   "outputs": [
    {
     "data": {
      "image/png": "[encoded data removed]",
      "text/plain": [
       "<Figure size 1080x360 with 3 Axes>"
      ]
     },
     "metadata": {
      "needs_background": "light"
     },
     "output_type": "display_data"
    }
   ],
   "source": [
    "sns.displot(data = df1, x = 'tenure_years', col = 'race', color = 'purple', \n",
    "            alpha = 0.4, col_wrap = 3)\n",
    "plt.xlim(-2,35) ## using x lim to offset the 0 x-tick for a more clear visual\n",
    "plt.show()"
   ]
  },
  {
   "cell_type": "code",
   "execution_count": 92,
   "metadata": {},
   "outputs": [
    {
     "data": {
      "image/png": "[encoded data removed]",
      "text/plain": [
       "<Figure size 1080x360 with 3 Axes>"
      ]
     },
     "metadata": {
      "needs_background": "light"
     },
     "output_type": "display_data"
    }
   ],
   "source": [
    "sns.displot(data = df2, x = 'tenure_years', col = 'race', color = 'purple', \n",
    "            alpha = 0.4, col_wrap = 3)\n",
    "plt.xlim(-2,35) ## using x lim to offset the 0 x-tick for a more clear visual\n",
    "plt.show()"
   ]
  },
  {
   "cell_type": "code",
   "execution_count": null,
   "metadata": {},
   "outputs": [],
   "source": []
  }
 ],
 "metadata": {
  "kernelspec": {
   "display_name": "Python 3",
   "language": "python",
   "name": "python3"
  },
  "language_info": {
   "codemirror_mode": {
    "name": "ipython",
    "version": 3
   },
   "file_extension": ".py",
   "mimetype": "text/x-python",
   "name": "python",
   "nbconvert_exporter": "python",
   "pygments_lexer": "ipython3",
   "version": "3.8.5"
  }
 },
 "nbformat": 4,
 "nbformat_minor": 4
}
