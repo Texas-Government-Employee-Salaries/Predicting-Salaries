{
 "cells": [
  {
   "cell_type": "markdown",
   "metadata": {},
   "source": [
    "# Desiree's scratch pad"
   ]
  },
  {
   "cell_type": "code",
   "execution_count": 1,
   "metadata": {},
   "outputs": [],
   "source": [
    "import warnings\n",
    "warnings.filterwarnings(\"ignore\")\n",
    "import pandas as pd\n",
    "import numpy as np\n",
    "\n",
    "import seaborn as sns\n",
    "import matplotlib.pyplot as plt\n",
    "\n",
    "from scipy import stats\n",
    "import math\n",
    "\n",
    "from sklearn.metrics import explained_variance_score\n",
    "from sklearn.metrics import mean_squared_error\n",
    "from sklearn.linear_model import LinearRegression, LassoLars, TweedieRegressor\n",
    "from sklearn.preprocessing import PolynomialFeatures\n",
    "import sklearn.preprocessing\n",
    "from sklearn.linear_model import LinearRegression\n",
    "from sklearn.metrics import r2_score, mean_squared_error\n",
    "from sklearn.feature_selection import SelectKBest, f_regression, RFE\n",
    "from sklearn.preprocessing import LabelEncoder\n",
    "\n",
    "import Prepare as p\n",
    "import des_explore as e\n",
    "\n",
    "import datetime"
   ]
  },
  {
   "cell_type": "markdown",
   "metadata": {},
   "source": [
    "## Acquire Data"
   ]
  },
  {
   "cell_type": "code",
   "execution_count": 2,
   "metadata": {},
   "outputs": [],
   "source": [
    "df = pd.read_csv('texas.csv')"
   ]
  },
  {
   "cell_type": "code",
   "execution_count": 3,
   "metadata": {},
   "outputs": [
    {
     "data": {
      "text/html": [
       "<div>\n",
       "<style scoped>\n",
       "    .dataframe tbody tr th:only-of-type {\n",
       "        vertical-align: middle;\n",
       "    }\n",
       "\n",
       "    .dataframe tbody tr th {\n",
       "        vertical-align: top;\n",
       "    }\n",
       "\n",
       "    .dataframe thead th {\n",
       "        text-align: right;\n",
       "    }\n",
       "</style>\n",
       "<table border=\"1\" class=\"dataframe\">\n",
       "  <thead>\n",
       "    <tr style=\"text-align: right;\">\n",
       "      <th></th>\n",
       "      <th>0</th>\n",
       "      <th>1</th>\n",
       "      <th>2</th>\n",
       "    </tr>\n",
       "  </thead>\n",
       "  <tbody>\n",
       "    <tr>\n",
       "      <th>AGY</th>\n",
       "      <td>101</td>\n",
       "      <td>104</td>\n",
       "      <td>101</td>\n",
       "    </tr>\n",
       "    <tr>\n",
       "      <th>NAME</th>\n",
       "      <td>SENATE                                        ...</td>\n",
       "      <td>LEGISLATIVE BUDGET BOARD                      ...</td>\n",
       "      <td>SENATE                                        ...</td>\n",
       "    </tr>\n",
       "    <tr>\n",
       "      <th>LASTNAME</th>\n",
       "      <td>GILLIAM</td>\n",
       "      <td>GILLIAM</td>\n",
       "      <td>NELSON</td>\n",
       "    </tr>\n",
       "    <tr>\n",
       "      <th>FIRSTNAME</th>\n",
       "      <td>STACEY</td>\n",
       "      <td>STACEY</td>\n",
       "      <td>DAVID</td>\n",
       "    </tr>\n",
       "    <tr>\n",
       "      <th>MI</th>\n",
       "      <td>L</td>\n",
       "      <td>L</td>\n",
       "      <td></td>\n",
       "    </tr>\n",
       "    <tr>\n",
       "      <th>JOBCLASS</th>\n",
       "      <td>7101</td>\n",
       "      <td>C160</td>\n",
       "      <td>7101</td>\n",
       "    </tr>\n",
       "    <tr>\n",
       "      <th>JC TITLE</th>\n",
       "      <td>LEG. OFFICIAL/ADMINISTRATOR                   ...</td>\n",
       "      <td>COMMITTEE DIRECTOR                            ...</td>\n",
       "      <td>LEG. OFFICIAL/ADMINISTRATOR                   ...</td>\n",
       "    </tr>\n",
       "    <tr>\n",
       "      <th>RACE</th>\n",
       "      <td>WHITE</td>\n",
       "      <td>WHITE</td>\n",
       "      <td>WHITE</td>\n",
       "    </tr>\n",
       "    <tr>\n",
       "      <th>SEX</th>\n",
       "      <td>FEMALE</td>\n",
       "      <td>FEMALE</td>\n",
       "      <td>MALE</td>\n",
       "    </tr>\n",
       "    <tr>\n",
       "      <th>EMPTYPE</th>\n",
       "      <td>URP - UNCLASSIFIED REGULAR PART-TIME</td>\n",
       "      <td>URP - UNCLASSIFIED REGULAR PART-TIME</td>\n",
       "      <td>URP - UNCLASSIFIED REGULAR PART-TIME</td>\n",
       "    </tr>\n",
       "    <tr>\n",
       "      <th>HIREDT</th>\n",
       "      <td>07/01/13</td>\n",
       "      <td>11/01/17</td>\n",
       "      <td>12/01/98</td>\n",
       "    </tr>\n",
       "    <tr>\n",
       "      <th>RATE</th>\n",
       "      <td>0.0</td>\n",
       "      <td>0.0</td>\n",
       "      <td>0.0</td>\n",
       "    </tr>\n",
       "    <tr>\n",
       "      <th>HRSWKD</th>\n",
       "      <td>20.0</td>\n",
       "      <td>20.0</td>\n",
       "      <td>20.0</td>\n",
       "    </tr>\n",
       "    <tr>\n",
       "      <th>MONTHLY</th>\n",
       "      <td>8100.0</td>\n",
       "      <td>7000.0</td>\n",
       "      <td>9500.0</td>\n",
       "    </tr>\n",
       "    <tr>\n",
       "      <th>ANNUAL</th>\n",
       "      <td>97200.0</td>\n",
       "      <td>84000.0</td>\n",
       "      <td>114000.0</td>\n",
       "    </tr>\n",
       "    <tr>\n",
       "      <th>STATENUM</th>\n",
       "      <td>339371</td>\n",
       "      <td>339371</td>\n",
       "      <td>193187</td>\n",
       "    </tr>\n",
       "    <tr>\n",
       "      <th>duplicated</th>\n",
       "      <td>True</td>\n",
       "      <td>True</td>\n",
       "      <td>True</td>\n",
       "    </tr>\n",
       "    <tr>\n",
       "      <th>multiple_full_time_jobs</th>\n",
       "      <td>NaN</td>\n",
       "      <td>NaN</td>\n",
       "      <td>NaN</td>\n",
       "    </tr>\n",
       "    <tr>\n",
       "      <th>combined_multiple_jobs</th>\n",
       "      <td>NaN</td>\n",
       "      <td>NaN</td>\n",
       "      <td>NaN</td>\n",
       "    </tr>\n",
       "    <tr>\n",
       "      <th>summed_annual_salary</th>\n",
       "      <td>181200.0</td>\n",
       "      <td>NaN</td>\n",
       "      <td>210000.0</td>\n",
       "    </tr>\n",
       "    <tr>\n",
       "      <th>hide_from_search</th>\n",
       "      <td>NaN</td>\n",
       "      <td>True</td>\n",
       "      <td>NaN</td>\n",
       "    </tr>\n",
       "  </tbody>\n",
       "</table>\n",
       "</div>"
      ],
      "text/plain": [
       "                                                                         0  \\\n",
       "AGY                                                                    101   \n",
       "NAME                     SENATE                                        ...   \n",
       "LASTNAME                                    GILLIAM                          \n",
       "FIRSTNAME                                   STACEY                           \n",
       "MI                                                                       L   \n",
       "JOBCLASS                                                          7101       \n",
       "JC TITLE                 LEG. OFFICIAL/ADMINISTRATOR                   ...   \n",
       "RACE                                                       WHITE             \n",
       "SEX                                                        FEMALE            \n",
       "EMPTYPE                           URP - UNCLASSIFIED REGULAR PART-TIME       \n",
       "HIREDT                                                            07/01/13   \n",
       "RATE                                                                   0.0   \n",
       "HRSWKD                                                                20.0   \n",
       "MONTHLY                                                             8100.0   \n",
       "ANNUAL                                                             97200.0   \n",
       "STATENUM                                                            339371   \n",
       "duplicated                                                            True   \n",
       "multiple_full_time_jobs                                                NaN   \n",
       "combined_multiple_jobs                                                 NaN   \n",
       "summed_annual_salary                                              181200.0   \n",
       "hide_from_search                                                       NaN   \n",
       "\n",
       "                                                                         1  \\\n",
       "AGY                                                                    104   \n",
       "NAME                     LEGISLATIVE BUDGET BOARD                      ...   \n",
       "LASTNAME                                    GILLIAM                          \n",
       "FIRSTNAME                                   STACEY                           \n",
       "MI                                                                       L   \n",
       "JOBCLASS                                                          C160       \n",
       "JC TITLE                 COMMITTEE DIRECTOR                            ...   \n",
       "RACE                                                       WHITE             \n",
       "SEX                                                        FEMALE            \n",
       "EMPTYPE                           URP - UNCLASSIFIED REGULAR PART-TIME       \n",
       "HIREDT                                                            11/01/17   \n",
       "RATE                                                                   0.0   \n",
       "HRSWKD                                                                20.0   \n",
       "MONTHLY                                                             7000.0   \n",
       "ANNUAL                                                             84000.0   \n",
       "STATENUM                                                            339371   \n",
       "duplicated                                                            True   \n",
       "multiple_full_time_jobs                                                NaN   \n",
       "combined_multiple_jobs                                                 NaN   \n",
       "summed_annual_salary                                                   NaN   \n",
       "hide_from_search                                                      True   \n",
       "\n",
       "                                                                         2  \n",
       "AGY                                                                    101  \n",
       "NAME                     SENATE                                        ...  \n",
       "LASTNAME                                    NELSON                          \n",
       "FIRSTNAME                                   DAVID                           \n",
       "MI                                                                          \n",
       "JOBCLASS                                                          7101      \n",
       "JC TITLE                 LEG. OFFICIAL/ADMINISTRATOR                   ...  \n",
       "RACE                                                       WHITE            \n",
       "SEX                                                        MALE             \n",
       "EMPTYPE                           URP - UNCLASSIFIED REGULAR PART-TIME      \n",
       "HIREDT                                                            12/01/98  \n",
       "RATE                                                                   0.0  \n",
       "HRSWKD                                                                20.0  \n",
       "MONTHLY                                                             9500.0  \n",
       "ANNUAL                                                            114000.0  \n",
       "STATENUM                                                            193187  \n",
       "duplicated                                                            True  \n",
       "multiple_full_time_jobs                                                NaN  \n",
       "combined_multiple_jobs                                                 NaN  \n",
       "summed_annual_salary                                              210000.0  \n",
       "hide_from_search                                                       NaN  "
      ]
     },
     "execution_count": 3,
     "metadata": {},
     "output_type": "execute_result"
    }
   ],
   "source": [
    "df.head(3).T"
   ]
  },
  {
   "cell_type": "code",
   "execution_count": 4,
   "metadata": {},
   "outputs": [
    {
     "data": {
      "text/html": [
       "<div>\n",
       "<style scoped>\n",
       "    .dataframe tbody tr th:only-of-type {\n",
       "        vertical-align: middle;\n",
       "    }\n",
       "\n",
       "    .dataframe tbody tr th {\n",
       "        vertical-align: top;\n",
       "    }\n",
       "\n",
       "    .dataframe thead th {\n",
       "        text-align: right;\n",
       "    }\n",
       "</style>\n",
       "<table border=\"1\" class=\"dataframe\">\n",
       "  <thead>\n",
       "    <tr style=\"text-align: right;\">\n",
       "      <th></th>\n",
       "      <th>0</th>\n",
       "      <th>1</th>\n",
       "      <th>2</th>\n",
       "    </tr>\n",
       "  </thead>\n",
       "  <tbody>\n",
       "    <tr>\n",
       "      <th>agency_id</th>\n",
       "      <td>101</td>\n",
       "      <td>104</td>\n",
       "      <td>101</td>\n",
       "    </tr>\n",
       "    <tr>\n",
       "      <th>agency</th>\n",
       "      <td>SENATE</td>\n",
       "      <td>LEGISLATIVE BUDGET BOARD</td>\n",
       "      <td>SENATE</td>\n",
       "    </tr>\n",
       "    <tr>\n",
       "      <th>lastname</th>\n",
       "      <td>GILLIAM</td>\n",
       "      <td>GILLIAM</td>\n",
       "      <td>NELSON</td>\n",
       "    </tr>\n",
       "    <tr>\n",
       "      <th>firstname</th>\n",
       "      <td>STACEY</td>\n",
       "      <td>STACEY</td>\n",
       "      <td>DAVID</td>\n",
       "    </tr>\n",
       "    <tr>\n",
       "      <th>title</th>\n",
       "      <td>LEG. OFFICIAL/ADMINISTRATOR</td>\n",
       "      <td>COMMITTEE DIRECTOR</td>\n",
       "      <td>LEG. OFFICIAL/ADMINISTRATOR</td>\n",
       "    </tr>\n",
       "    <tr>\n",
       "      <th>race</th>\n",
       "      <td>WHITE</td>\n",
       "      <td>WHITE</td>\n",
       "      <td>WHITE</td>\n",
       "    </tr>\n",
       "    <tr>\n",
       "      <th>sex</th>\n",
       "      <td>FEMALE</td>\n",
       "      <td>FEMALE</td>\n",
       "      <td>MALE</td>\n",
       "    </tr>\n",
       "    <tr>\n",
       "      <th>emptype</th>\n",
       "      <td>URP - UNCLASSIFIED REGULAR PART-TIME</td>\n",
       "      <td>URP - UNCLASSIFIED REGULAR PART-TIME</td>\n",
       "      <td>URP - UNCLASSIFIED REGULAR PART-TIME</td>\n",
       "    </tr>\n",
       "    <tr>\n",
       "      <th>hire_date</th>\n",
       "      <td>2013-07-01 00:00:00</td>\n",
       "      <td>2017-11-01 00:00:00</td>\n",
       "      <td>1998-12-01 00:00:00</td>\n",
       "    </tr>\n",
       "    <tr>\n",
       "      <th>hours_worked</th>\n",
       "      <td>20.0</td>\n",
       "      <td>20.0</td>\n",
       "      <td>20.0</td>\n",
       "    </tr>\n",
       "    <tr>\n",
       "      <th>monthly_salary</th>\n",
       "      <td>8100.0</td>\n",
       "      <td>7000.0</td>\n",
       "      <td>9500.0</td>\n",
       "    </tr>\n",
       "    <tr>\n",
       "      <th>annual_salary</th>\n",
       "      <td>97200.0</td>\n",
       "      <td>84000.0</td>\n",
       "      <td>114000.0</td>\n",
       "    </tr>\n",
       "  </tbody>\n",
       "</table>\n",
       "</div>"
      ],
      "text/plain": [
       "                                                   0  \\\n",
       "agency_id                                        101   \n",
       "agency                                        SENATE   \n",
       "lastname                                     GILLIAM   \n",
       "firstname                                     STACEY   \n",
       "title                    LEG. OFFICIAL/ADMINISTRATOR   \n",
       "race                                           WHITE   \n",
       "sex                                           FEMALE   \n",
       "emptype         URP - UNCLASSIFIED REGULAR PART-TIME   \n",
       "hire_date                        2013-07-01 00:00:00   \n",
       "hours_worked                                    20.0   \n",
       "monthly_salary                                8100.0   \n",
       "annual_salary                                97200.0   \n",
       "\n",
       "                                                   1  \\\n",
       "agency_id                                        104   \n",
       "agency                      LEGISLATIVE BUDGET BOARD   \n",
       "lastname                                     GILLIAM   \n",
       "firstname                                     STACEY   \n",
       "title                             COMMITTEE DIRECTOR   \n",
       "race                                           WHITE   \n",
       "sex                                           FEMALE   \n",
       "emptype         URP - UNCLASSIFIED REGULAR PART-TIME   \n",
       "hire_date                        2017-11-01 00:00:00   \n",
       "hours_worked                                    20.0   \n",
       "monthly_salary                                7000.0   \n",
       "annual_salary                                84000.0   \n",
       "\n",
       "                                                   2  \n",
       "agency_id                                        101  \n",
       "agency                                        SENATE  \n",
       "lastname                                      NELSON  \n",
       "firstname                                      DAVID  \n",
       "title                    LEG. OFFICIAL/ADMINISTRATOR  \n",
       "race                                           WHITE  \n",
       "sex                                             MALE  \n",
       "emptype         URP - UNCLASSIFIED REGULAR PART-TIME  \n",
       "hire_date                        1998-12-01 00:00:00  \n",
       "hours_worked                                    20.0  \n",
       "monthly_salary                                9500.0  \n",
       "annual_salary                               114000.0  "
      ]
     },
     "execution_count": 4,
     "metadata": {},
     "output_type": "execute_result"
    }
   ],
   "source": [
    "df = p.prepare_tex(df)\n",
    "\n",
    "df.head(3).T"
   ]
  },
  {
   "cell_type": "code",
   "execution_count": 5,
   "metadata": {},
   "outputs": [
    {
     "data": {
      "text/plain": [
       "agency_id                  int64\n",
       "agency                    object\n",
       "lastname                  object\n",
       "firstname                 object\n",
       "title                     object\n",
       "race                      object\n",
       "sex                       object\n",
       "emptype                   object\n",
       "hire_date         datetime64[ns]\n",
       "hours_worked             float64\n",
       "monthly_salary           float64\n",
       "annual_salary            float64\n",
       "dtype: object"
      ]
     },
     "execution_count": 5,
     "metadata": {},
     "output_type": "execute_result"
    }
   ],
   "source": [
    "df.dtypes"
   ]
  },
  {
   "cell_type": "code",
   "execution_count": 6,
   "metadata": {},
   "outputs": [
    {
     "data": {
      "text/html": [
       "<div>\n",
       "<style scoped>\n",
       "    .dataframe tbody tr th:only-of-type {\n",
       "        vertical-align: middle;\n",
       "    }\n",
       "\n",
       "    .dataframe tbody tr th {\n",
       "        vertical-align: top;\n",
       "    }\n",
       "\n",
       "    .dataframe thead th {\n",
       "        text-align: right;\n",
       "    }\n",
       "</style>\n",
       "<table border=\"1\" class=\"dataframe\">\n",
       "  <thead>\n",
       "    <tr style=\"text-align: right;\">\n",
       "      <th></th>\n",
       "      <th>agency_id</th>\n",
       "      <th>agency</th>\n",
       "      <th>lastname</th>\n",
       "      <th>firstname</th>\n",
       "      <th>title</th>\n",
       "      <th>race</th>\n",
       "      <th>sex</th>\n",
       "      <th>emptype</th>\n",
       "      <th>hire_date</th>\n",
       "      <th>hours_worked</th>\n",
       "      <th>monthly_salary</th>\n",
       "      <th>annual_salary</th>\n",
       "    </tr>\n",
       "  </thead>\n",
       "  <tbody>\n",
       "  </tbody>\n",
       "</table>\n",
       "</div>"
      ],
      "text/plain": [
       "Empty DataFrame\n",
       "Columns: [agency_id, agency, lastname, firstname, title, race, sex, emptype, hire_date, hours_worked, monthly_salary, annual_salary]\n",
       "Index: []"
      ]
     },
     "execution_count": 6,
     "metadata": {},
     "output_type": "execute_result"
    }
   ],
   "source": [
    "df[df['hire_date'] > pd.to_datetime('now')]"
   ]
  },
  {
   "cell_type": "code",
   "execution_count": 7,
   "metadata": {},
   "outputs": [
    {
     "data": {
      "text/plain": [
       "Series([], Name: hire_date, dtype: datetime64[ns])"
      ]
     },
     "execution_count": 7,
     "metadata": {},
     "output_type": "execute_result"
    }
   ],
   "source": [
    "df.loc[df.hire_date=='2069-01-14'].hire_date"
   ]
  },
  {
   "cell_type": "code",
   "execution_count": 8,
   "metadata": {},
   "outputs": [],
   "source": [
    "# df = df.drop(index=[794, 118710])"
   ]
  },
  {
   "cell_type": "code",
   "execution_count": 9,
   "metadata": {},
   "outputs": [
    {
     "data": {
      "text/html": [
       "<div>\n",
       "<style scoped>\n",
       "    .dataframe tbody tr th:only-of-type {\n",
       "        vertical-align: middle;\n",
       "    }\n",
       "\n",
       "    .dataframe tbody tr th {\n",
       "        vertical-align: top;\n",
       "    }\n",
       "\n",
       "    .dataframe thead th {\n",
       "        text-align: right;\n",
       "    }\n",
       "</style>\n",
       "<table border=\"1\" class=\"dataframe\">\n",
       "  <thead>\n",
       "    <tr style=\"text-align: right;\">\n",
       "      <th></th>\n",
       "      <th>agency_id</th>\n",
       "      <th>agency</th>\n",
       "      <th>lastname</th>\n",
       "      <th>firstname</th>\n",
       "      <th>title</th>\n",
       "      <th>race</th>\n",
       "      <th>sex</th>\n",
       "      <th>emptype</th>\n",
       "      <th>hire_date</th>\n",
       "      <th>hours_worked</th>\n",
       "      <th>monthly_salary</th>\n",
       "      <th>annual_salary</th>\n",
       "    </tr>\n",
       "  </thead>\n",
       "  <tbody>\n",
       "    <tr>\n",
       "      <th>0</th>\n",
       "      <td>101</td>\n",
       "      <td>SENATE</td>\n",
       "      <td>GILLIAM</td>\n",
       "      <td>STACEY</td>\n",
       "      <td>LEG. OFFICIAL/ADMINISTRATOR</td>\n",
       "      <td>WHITE</td>\n",
       "      <td>FEMALE</td>\n",
       "      <td>URP - UNCLASSIFIED REGULAR PART-TIME</td>\n",
       "      <td>2013-07-01</td>\n",
       "      <td>20.0</td>\n",
       "      <td>8100.0</td>\n",
       "      <td>97200.0</td>\n",
       "    </tr>\n",
       "    <tr>\n",
       "      <th>1</th>\n",
       "      <td>104</td>\n",
       "      <td>LEGISLATIVE BUDGET BOARD</td>\n",
       "      <td>GILLIAM</td>\n",
       "      <td>STACEY</td>\n",
       "      <td>COMMITTEE DIRECTOR</td>\n",
       "      <td>WHITE</td>\n",
       "      <td>FEMALE</td>\n",
       "      <td>URP - UNCLASSIFIED REGULAR PART-TIME</td>\n",
       "      <td>2017-11-01</td>\n",
       "      <td>20.0</td>\n",
       "      <td>7000.0</td>\n",
       "      <td>84000.0</td>\n",
       "    </tr>\n",
       "    <tr>\n",
       "      <th>2</th>\n",
       "      <td>101</td>\n",
       "      <td>SENATE</td>\n",
       "      <td>NELSON</td>\n",
       "      <td>DAVID</td>\n",
       "      <td>LEG. OFFICIAL/ADMINISTRATOR</td>\n",
       "      <td>WHITE</td>\n",
       "      <td>MALE</td>\n",
       "      <td>URP - UNCLASSIFIED REGULAR PART-TIME</td>\n",
       "      <td>1998-12-01</td>\n",
       "      <td>20.0</td>\n",
       "      <td>9500.0</td>\n",
       "      <td>114000.0</td>\n",
       "    </tr>\n",
       "    <tr>\n",
       "      <th>3</th>\n",
       "      <td>104</td>\n",
       "      <td>LEGISLATIVE BUDGET BOARD</td>\n",
       "      <td>NELSON</td>\n",
       "      <td>DAVID</td>\n",
       "      <td>SENIOR BUDGET ADVISOR</td>\n",
       "      <td>WHITE</td>\n",
       "      <td>MALE</td>\n",
       "      <td>URP - UNCLASSIFIED REGULAR PART-TIME</td>\n",
       "      <td>2017-11-01</td>\n",
       "      <td>20.0</td>\n",
       "      <td>8000.0</td>\n",
       "      <td>96000.0</td>\n",
       "    </tr>\n",
       "    <tr>\n",
       "      <th>4</th>\n",
       "      <td>101</td>\n",
       "      <td>SENATE</td>\n",
       "      <td>ROCHA</td>\n",
       "      <td>MARIE</td>\n",
       "      <td>LEG. SERVICE/MAINTENANCE</td>\n",
       "      <td>HISPANIC</td>\n",
       "      <td>FEMALE</td>\n",
       "      <td>URF - UNCLASSIFIED REGULAR FULL-TIME</td>\n",
       "      <td>2003-05-01</td>\n",
       "      <td>41.0</td>\n",
       "      <td>3365.4</td>\n",
       "      <td>40384.8</td>\n",
       "    </tr>\n",
       "  </tbody>\n",
       "</table>\n",
       "</div>"
      ],
      "text/plain": [
       "   agency_id                    agency lastname firstname  \\\n",
       "0        101                    SENATE  GILLIAM    STACEY   \n",
       "1        104  LEGISLATIVE BUDGET BOARD  GILLIAM    STACEY   \n",
       "2        101                    SENATE   NELSON     DAVID   \n",
       "3        104  LEGISLATIVE BUDGET BOARD   NELSON     DAVID   \n",
       "4        101                    SENATE    ROCHA     MARIE   \n",
       "\n",
       "                         title      race     sex  \\\n",
       "0  LEG. OFFICIAL/ADMINISTRATOR     WHITE  FEMALE   \n",
       "1           COMMITTEE DIRECTOR     WHITE  FEMALE   \n",
       "2  LEG. OFFICIAL/ADMINISTRATOR     WHITE    MALE   \n",
       "3        SENIOR BUDGET ADVISOR     WHITE    MALE   \n",
       "4     LEG. SERVICE/MAINTENANCE  HISPANIC  FEMALE   \n",
       "\n",
       "                                emptype  hire_date  hours_worked  \\\n",
       "0  URP - UNCLASSIFIED REGULAR PART-TIME 2013-07-01          20.0   \n",
       "1  URP - UNCLASSIFIED REGULAR PART-TIME 2017-11-01          20.0   \n",
       "2  URP - UNCLASSIFIED REGULAR PART-TIME 1998-12-01          20.0   \n",
       "3  URP - UNCLASSIFIED REGULAR PART-TIME 2017-11-01          20.0   \n",
       "4  URF - UNCLASSIFIED REGULAR FULL-TIME 2003-05-01          41.0   \n",
       "\n",
       "   monthly_salary  annual_salary  \n",
       "0          8100.0        97200.0  \n",
       "1          7000.0        84000.0  \n",
       "2          9500.0       114000.0  \n",
       "3          8000.0        96000.0  \n",
       "4          3365.4        40384.8  "
      ]
     },
     "execution_count": 9,
     "metadata": {},
     "output_type": "execute_result"
    }
   ],
   "source": [
    "df.head()"
   ]
  },
  {
   "cell_type": "code",
   "execution_count": 10,
   "metadata": {},
   "outputs": [
    {
     "data": {
      "image/png": "[encoded data removed]",
      "text/plain": [
       "<Figure size 432x288 with 1 Axes>"
      ]
     },
     "metadata": {
      "needs_background": "light"
     },
     "output_type": "display_data"
    },
    {
     "data": {
      "image/png": "[encoded data removed]",
      "text/plain": [
       "<Figure size 432x288 with 1 Axes>"
      ]
     },
     "metadata": {
      "needs_background": "light"
     },
     "output_type": "display_data"
    },
    {
     "data": {
      "image/png": "[encoded data removed]",
      "text/plain": [
       "<Figure size 432x288 with 1 Axes>"
      ]
     },
     "metadata": {
      "needs_background": "light"
     },
     "output_type": "display_data"
    },
    {
     "data": {
      "image/png": "[encoded data removed]",
      "text/plain": [
       "<Figure size 432x288 with 1 Axes>"
      ]
     },
     "metadata": {
      "needs_background": "light"
     },
     "output_type": "display_data"
    },
    {
     "data": {
      "image/png": "[encoded data removed]",
      "text/plain": [
       "<Figure size 432x288 with 1 Axes>"
      ]
     },
     "metadata": {
      "needs_background": "light"
     },
     "output_type": "display_data"
    },
    {
     "data": {
      "image/png": "[encoded data removed]",
      "text/plain": [
       "<Figure size 432x288 with 1 Axes>"
      ]
     },
     "metadata": {
      "needs_background": "light"
     },
     "output_type": "display_data"
    },
    {
     "data": {
      "image/png": "[encoded data removed]",
      "text/plain": [
       "<Figure size 432x288 with 1 Axes>"
      ]
     },
     "metadata": {
      "needs_background": "light"
     },
     "output_type": "display_data"
    }
   ],
   "source": [
    "sample = df.drop(columns = ['emptype', 'agency', 'lastname', 'firstname', 'title']).sample(1000)\n",
    "\n",
    "for col in sample.columns:\n",
    "        plt.hist(sample[col])\n",
    "        plt.title(f\"{col} distribution\")\n",
    "        plt.show()"
   ]
  },
  {
   "cell_type": "code",
   "execution_count": 11,
   "metadata": {},
   "outputs": [],
   "source": [
    "column = df.drop(columns = ['agency']).sample(1000).columns"
   ]
  },
  {
   "cell_type": "code",
   "execution_count": 12,
   "metadata": {},
   "outputs": [
    {
     "data": {
      "image/png": "[encoded data removed]",
      "text/plain": [
       "<Figure size 432x288 with 1 Axes>"
      ]
     },
     "metadata": {
      "needs_background": "light"
     },
     "output_type": "display_data"
    },
    {
     "data": {
      "image/png": "[encoded data removed]",
      "text/plain": [
       "<Figure size 432x288 with 1 Axes>"
      ]
     },
     "metadata": {
      "needs_background": "light"
     },
     "output_type": "display_data"
    },
    {
     "data": {
      "image/png": "[encoded data removed]",
      "text/plain": [
       "<Figure size 432x288 with 1 Axes>"
      ]
     },
     "metadata": {
      "needs_background": "light"
     },
     "output_type": "display_data"
    },
    {
     "data": {
      "image/png": "[encoded data removed]",
      "text/plain": [
       "<Figure size 432x288 with 1 Axes>"
      ]
     },
     "metadata": {
      "needs_background": "light"
     },
     "output_type": "display_data"
    },
    {
     "data": {
      "image/png": "[encoded data removed]",
      "text/plain": [
       "<Figure size 432x288 with 1 Axes>"
      ]
     },
     "metadata": {
      "needs_background": "light"
     },
     "output_type": "display_data"
    }
   ],
   "source": [
    "# sample = df.sample(1000)\n",
    "\n",
    "for i in column:\n",
    "        if df[i].dtypes != 'object':\n",
    "            sns.distplot(df[i])\n",
    "            plt.xticks(fontsize= 12)\n",
    "            plt.yticks(fontsize=12)\n",
    "            plt.ylabel(\"Count\", fontsize= 13, fontweight=\"bold\")\n",
    "            plt.xlabel(i, fontsize=13, fontweight=\"bold\")\n",
    "            plt.title('Distribution of '+i)\n",
    "            plt.show()"
   ]
  },
  {
   "cell_type": "code",
   "execution_count": 13,
   "metadata": {},
   "outputs": [
    {
     "data": {
      "text/html": [
       "<div>\n",
       "<style scoped>\n",
       "    .dataframe tbody tr th:only-of-type {\n",
       "        vertical-align: middle;\n",
       "    }\n",
       "\n",
       "    .dataframe tbody tr th {\n",
       "        vertical-align: top;\n",
       "    }\n",
       "\n",
       "    .dataframe thead th {\n",
       "        text-align: right;\n",
       "    }\n",
       "</style>\n",
       "<table border=\"1\" class=\"dataframe\">\n",
       "  <thead>\n",
       "    <tr style=\"text-align: right;\">\n",
       "      <th></th>\n",
       "      <th>agency_id</th>\n",
       "      <th>agency</th>\n",
       "      <th>lastname</th>\n",
       "      <th>firstname</th>\n",
       "      <th>title</th>\n",
       "      <th>race</th>\n",
       "      <th>sex</th>\n",
       "      <th>emptype</th>\n",
       "      <th>hire_date</th>\n",
       "      <th>hours_worked</th>\n",
       "      <th>monthly_salary</th>\n",
       "      <th>annual_salary</th>\n",
       "    </tr>\n",
       "  </thead>\n",
       "  <tbody>\n",
       "    <tr>\n",
       "      <th>127837</th>\n",
       "      <td>696</td>\n",
       "      <td>TEXAS DEPARTMENT OF CRIMINAL JUSTICE</td>\n",
       "      <td>RANCE</td>\n",
       "      <td>AUSTIN</td>\n",
       "      <td>CORREC OFFCR III</td>\n",
       "      <td>WHITE</td>\n",
       "      <td>MALE</td>\n",
       "      <td>CRF - CLASSIFIED REGULAR FULL-TIME</td>\n",
       "      <td>2018-03-26</td>\n",
       "      <td>40.0</td>\n",
       "      <td>3019.84</td>\n",
       "      <td>36238.08</td>\n",
       "    </tr>\n",
       "    <tr>\n",
       "      <th>3037</th>\n",
       "      <td>241</td>\n",
       "      <td>COMPTROLLER OF PUBLIC ACCOUNTS, JUDICIARY SECTION</td>\n",
       "      <td>CLEVELAND</td>\n",
       "      <td>DAVID</td>\n",
       "      <td>JUDGE, RETIRED</td>\n",
       "      <td>WHITE</td>\n",
       "      <td>MALE</td>\n",
       "      <td>URP - UNCLASSIFIED REGULAR PART-TIME</td>\n",
       "      <td>1985-01-01</td>\n",
       "      <td>29.0</td>\n",
       "      <td>9545.82</td>\n",
       "      <td>114549.84</td>\n",
       "    </tr>\n",
       "    <tr>\n",
       "      <th>112244</th>\n",
       "      <td>696</td>\n",
       "      <td>TEXAS DEPARTMENT OF CRIMINAL JUSTICE</td>\n",
       "      <td>EZE</td>\n",
       "      <td>CHINYERE</td>\n",
       "      <td>CORREC OFFCR III</td>\n",
       "      <td>BLACK</td>\n",
       "      <td>FEMALE</td>\n",
       "      <td>CRF - CLASSIFIED REGULAR FULL-TIME</td>\n",
       "      <td>2020-11-09</td>\n",
       "      <td>40.0</td>\n",
       "      <td>3019.84</td>\n",
       "      <td>36238.08</td>\n",
       "    </tr>\n",
       "    <tr>\n",
       "      <th>63165</th>\n",
       "      <td>529</td>\n",
       "      <td>HEALTH AND HUMAN SERVICES COMMISSION</td>\n",
       "      <td>SLADE III</td>\n",
       "      <td>MARCEL</td>\n",
       "      <td>PSYCHIATRIC NURSING ASST III</td>\n",
       "      <td>BLACK</td>\n",
       "      <td>MALE</td>\n",
       "      <td>CRF - CLASSIFIED REGULAR FULL-TIME</td>\n",
       "      <td>2017-09-01</td>\n",
       "      <td>40.0</td>\n",
       "      <td>2463.73</td>\n",
       "      <td>29564.76</td>\n",
       "    </tr>\n",
       "    <tr>\n",
       "      <th>16443</th>\n",
       "      <td>320</td>\n",
       "      <td>TEXAS WORKFORCE COMMISSION</td>\n",
       "      <td>VERCOLEN</td>\n",
       "      <td>JOHN S</td>\n",
       "      <td>ACCOUNTANT II</td>\n",
       "      <td>WHITE</td>\n",
       "      <td>MALE</td>\n",
       "      <td>CRF - CLASSIFIED REGULAR FULL-TIME</td>\n",
       "      <td>2020-06-01</td>\n",
       "      <td>40.0</td>\n",
       "      <td>3450.00</td>\n",
       "      <td>41400.00</td>\n",
       "    </tr>\n",
       "  </tbody>\n",
       "</table>\n",
       "</div>"
      ],
      "text/plain": [
       "        agency_id                                             agency  \\\n",
       "127837        696               TEXAS DEPARTMENT OF CRIMINAL JUSTICE   \n",
       "3037          241  COMPTROLLER OF PUBLIC ACCOUNTS, JUDICIARY SECTION   \n",
       "112244        696               TEXAS DEPARTMENT OF CRIMINAL JUSTICE   \n",
       "63165         529               HEALTH AND HUMAN SERVICES COMMISSION   \n",
       "16443         320                         TEXAS WORKFORCE COMMISSION   \n",
       "\n",
       "         lastname firstname                         title   race     sex  \\\n",
       "127837      RANCE    AUSTIN              CORREC OFFCR III  WHITE    MALE   \n",
       "3037    CLEVELAND     DAVID                JUDGE, RETIRED  WHITE    MALE   \n",
       "112244        EZE  CHINYERE              CORREC OFFCR III  BLACK  FEMALE   \n",
       "63165   SLADE III    MARCEL  PSYCHIATRIC NURSING ASST III  BLACK    MALE   \n",
       "16443    VERCOLEN    JOHN S                 ACCOUNTANT II  WHITE    MALE   \n",
       "\n",
       "                                     emptype  hire_date  hours_worked  \\\n",
       "127837    CRF - CLASSIFIED REGULAR FULL-TIME 2018-03-26          40.0   \n",
       "3037    URP - UNCLASSIFIED REGULAR PART-TIME 1985-01-01          29.0   \n",
       "112244    CRF - CLASSIFIED REGULAR FULL-TIME 2020-11-09          40.0   \n",
       "63165     CRF - CLASSIFIED REGULAR FULL-TIME 2017-09-01          40.0   \n",
       "16443     CRF - CLASSIFIED REGULAR FULL-TIME 2020-06-01          40.0   \n",
       "\n",
       "        monthly_salary  annual_salary  \n",
       "127837         3019.84       36238.08  \n",
       "3037           9545.82      114549.84  \n",
       "112244         3019.84       36238.08  \n",
       "63165          2463.73       29564.76  \n",
       "16443          3450.00       41400.00  "
      ]
     },
     "execution_count": 13,
     "metadata": {},
     "output_type": "execute_result"
    }
   ],
   "source": [
    "df.sample(5)"
   ]
  },
  {
   "cell_type": "code",
   "execution_count": 14,
   "metadata": {},
   "outputs": [],
   "source": [
    "df = p.create_features(df)"
   ]
  },
  {
   "cell_type": "code",
   "execution_count": 15,
   "metadata": {},
   "outputs": [
    {
     "data": {
      "text/plain": [
       "0         False\n",
       "1         False\n",
       "2         False\n",
       "3         False\n",
       "4         False\n",
       "          ...  \n",
       "144733    False\n",
       "144734    False\n",
       "144735    False\n",
       "144736    False\n",
       "144737    False\n",
       "Name: title, Length: 144730, dtype: bool"
      ]
     },
     "execution_count": 15,
     "metadata": {},
     "output_type": "execute_result"
    }
   ],
   "source": [
    "df.title.str.contains('ELECTED')"
   ]
  },
  {
   "cell_type": "code",
   "execution_count": 16,
   "metadata": {},
   "outputs": [
    {
     "data": {
      "text/html": [
       "<div>\n",
       "<style scoped>\n",
       "    .dataframe tbody tr th:only-of-type {\n",
       "        vertical-align: middle;\n",
       "    }\n",
       "\n",
       "    .dataframe tbody tr th {\n",
       "        vertical-align: top;\n",
       "    }\n",
       "\n",
       "    .dataframe thead th {\n",
       "        text-align: right;\n",
       "    }\n",
       "</style>\n",
       "<table border=\"1\" class=\"dataframe\">\n",
       "  <thead>\n",
       "    <tr style=\"text-align: right;\">\n",
       "      <th></th>\n",
       "      <th>agency_id</th>\n",
       "      <th>agency</th>\n",
       "      <th>lastname</th>\n",
       "      <th>firstname</th>\n",
       "      <th>title</th>\n",
       "      <th>race</th>\n",
       "      <th>sex</th>\n",
       "      <th>emptype</th>\n",
       "      <th>hire_date</th>\n",
       "      <th>hours_worked</th>\n",
       "      <th>...</th>\n",
       "      <th>is_hispanic</th>\n",
       "      <th>is_black</th>\n",
       "      <th>is_BIPOC</th>\n",
       "      <th>race_encoded</th>\n",
       "      <th>tenure_months</th>\n",
       "      <th>tenure_years</th>\n",
       "      <th>is_elected</th>\n",
       "      <th>is_director</th>\n",
       "      <th>is_unclassified</th>\n",
       "      <th>is_parttime</th>\n",
       "    </tr>\n",
       "  </thead>\n",
       "  <tbody>\n",
       "    <tr>\n",
       "      <th>0</th>\n",
       "      <td>101</td>\n",
       "      <td>SENATE</td>\n",
       "      <td>GILLIAM</td>\n",
       "      <td>STACEY</td>\n",
       "      <td>LEG. OFFICIAL/ADMINISTRATOR</td>\n",
       "      <td>WHITE</td>\n",
       "      <td>FEMALE</td>\n",
       "      <td>URP - UNCLASSIFIED REGULAR PART-TIME</td>\n",
       "      <td>2013-07-01</td>\n",
       "      <td>20.0</td>\n",
       "      <td>...</td>\n",
       "      <td>0</td>\n",
       "      <td>0</td>\n",
       "      <td>0</td>\n",
       "      <td>5</td>\n",
       "      <td>96</td>\n",
       "      <td>8.0</td>\n",
       "      <td>0</td>\n",
       "      <td>0</td>\n",
       "      <td>1</td>\n",
       "      <td>1</td>\n",
       "    </tr>\n",
       "    <tr>\n",
       "      <th>1</th>\n",
       "      <td>104</td>\n",
       "      <td>LEGISLATIVE BUDGET BOARD</td>\n",
       "      <td>GILLIAM</td>\n",
       "      <td>STACEY</td>\n",
       "      <td>COMMITTEE DIRECTOR</td>\n",
       "      <td>WHITE</td>\n",
       "      <td>FEMALE</td>\n",
       "      <td>URP - UNCLASSIFIED REGULAR PART-TIME</td>\n",
       "      <td>2017-11-01</td>\n",
       "      <td>20.0</td>\n",
       "      <td>...</td>\n",
       "      <td>0</td>\n",
       "      <td>0</td>\n",
       "      <td>0</td>\n",
       "      <td>5</td>\n",
       "      <td>44</td>\n",
       "      <td>3.7</td>\n",
       "      <td>0</td>\n",
       "      <td>1</td>\n",
       "      <td>1</td>\n",
       "      <td>1</td>\n",
       "    </tr>\n",
       "    <tr>\n",
       "      <th>2</th>\n",
       "      <td>101</td>\n",
       "      <td>SENATE</td>\n",
       "      <td>NELSON</td>\n",
       "      <td>DAVID</td>\n",
       "      <td>LEG. OFFICIAL/ADMINISTRATOR</td>\n",
       "      <td>WHITE</td>\n",
       "      <td>MALE</td>\n",
       "      <td>URP - UNCLASSIFIED REGULAR PART-TIME</td>\n",
       "      <td>1998-12-01</td>\n",
       "      <td>20.0</td>\n",
       "      <td>...</td>\n",
       "      <td>0</td>\n",
       "      <td>0</td>\n",
       "      <td>0</td>\n",
       "      <td>5</td>\n",
       "      <td>271</td>\n",
       "      <td>22.6</td>\n",
       "      <td>0</td>\n",
       "      <td>0</td>\n",
       "      <td>1</td>\n",
       "      <td>1</td>\n",
       "    </tr>\n",
       "    <tr>\n",
       "      <th>3</th>\n",
       "      <td>104</td>\n",
       "      <td>LEGISLATIVE BUDGET BOARD</td>\n",
       "      <td>NELSON</td>\n",
       "      <td>DAVID</td>\n",
       "      <td>SENIOR BUDGET ADVISOR</td>\n",
       "      <td>WHITE</td>\n",
       "      <td>MALE</td>\n",
       "      <td>URP - UNCLASSIFIED REGULAR PART-TIME</td>\n",
       "      <td>2017-11-01</td>\n",
       "      <td>20.0</td>\n",
       "      <td>...</td>\n",
       "      <td>0</td>\n",
       "      <td>0</td>\n",
       "      <td>0</td>\n",
       "      <td>5</td>\n",
       "      <td>44</td>\n",
       "      <td>3.7</td>\n",
       "      <td>0</td>\n",
       "      <td>0</td>\n",
       "      <td>1</td>\n",
       "      <td>1</td>\n",
       "    </tr>\n",
       "    <tr>\n",
       "      <th>4</th>\n",
       "      <td>101</td>\n",
       "      <td>SENATE</td>\n",
       "      <td>ROCHA</td>\n",
       "      <td>MARIE</td>\n",
       "      <td>LEG. SERVICE/MAINTENANCE</td>\n",
       "      <td>HISPANIC</td>\n",
       "      <td>FEMALE</td>\n",
       "      <td>URF - UNCLASSIFIED REGULAR FULL-TIME</td>\n",
       "      <td>2003-05-01</td>\n",
       "      <td>41.0</td>\n",
       "      <td>...</td>\n",
       "      <td>1</td>\n",
       "      <td>0</td>\n",
       "      <td>1</td>\n",
       "      <td>3</td>\n",
       "      <td>218</td>\n",
       "      <td>18.2</td>\n",
       "      <td>0</td>\n",
       "      <td>0</td>\n",
       "      <td>1</td>\n",
       "      <td>0</td>\n",
       "    </tr>\n",
       "  </tbody>\n",
       "</table>\n",
       "<p>5 rows × 24 columns</p>\n",
       "</div>"
      ],
      "text/plain": [
       "   agency_id                    agency lastname firstname  \\\n",
       "0        101                    SENATE  GILLIAM    STACEY   \n",
       "1        104  LEGISLATIVE BUDGET BOARD  GILLIAM    STACEY   \n",
       "2        101                    SENATE   NELSON     DAVID   \n",
       "3        104  LEGISLATIVE BUDGET BOARD   NELSON     DAVID   \n",
       "4        101                    SENATE    ROCHA     MARIE   \n",
       "\n",
       "                         title      race     sex  \\\n",
       "0  LEG. OFFICIAL/ADMINISTRATOR     WHITE  FEMALE   \n",
       "1           COMMITTEE DIRECTOR     WHITE  FEMALE   \n",
       "2  LEG. OFFICIAL/ADMINISTRATOR     WHITE    MALE   \n",
       "3        SENIOR BUDGET ADVISOR     WHITE    MALE   \n",
       "4     LEG. SERVICE/MAINTENANCE  HISPANIC  FEMALE   \n",
       "\n",
       "                                emptype  hire_date  hours_worked  ...  \\\n",
       "0  URP - UNCLASSIFIED REGULAR PART-TIME 2013-07-01          20.0  ...   \n",
       "1  URP - UNCLASSIFIED REGULAR PART-TIME 2017-11-01          20.0  ...   \n",
       "2  URP - UNCLASSIFIED REGULAR PART-TIME 1998-12-01          20.0  ...   \n",
       "3  URP - UNCLASSIFIED REGULAR PART-TIME 2017-11-01          20.0  ...   \n",
       "4  URF - UNCLASSIFIED REGULAR FULL-TIME 2003-05-01          41.0  ...   \n",
       "\n",
       "   is_hispanic  is_black  is_BIPOC  race_encoded  tenure_months  tenure_years  \\\n",
       "0            0         0         0             5             96           8.0   \n",
       "1            0         0         0             5             44           3.7   \n",
       "2            0         0         0             5            271          22.6   \n",
       "3            0         0         0             5             44           3.7   \n",
       "4            1         0         1             3            218          18.2   \n",
       "\n",
       "   is_elected  is_director  is_unclassified  is_parttime  \n",
       "0           0            0                1            1  \n",
       "1           0            1                1            1  \n",
       "2           0            0                1            1  \n",
       "3           0            0                1            1  \n",
       "4           0            0                1            0  \n",
       "\n",
       "[5 rows x 24 columns]"
      ]
     },
     "execution_count": 16,
     "metadata": {},
     "output_type": "execute_result"
    }
   ],
   "source": [
    "df.head()"
   ]
  },
  {
   "cell_type": "code",
   "execution_count": 17,
   "metadata": {},
   "outputs": [
    {
     "data": {
      "text/html": [
       "<div>\n",
       "<style scoped>\n",
       "    .dataframe tbody tr th:only-of-type {\n",
       "        vertical-align: middle;\n",
       "    }\n",
       "\n",
       "    .dataframe tbody tr th {\n",
       "        vertical-align: top;\n",
       "    }\n",
       "\n",
       "    .dataframe thead th {\n",
       "        text-align: right;\n",
       "    }\n",
       "</style>\n",
       "<table border=\"1\" class=\"dataframe\">\n",
       "  <thead>\n",
       "    <tr style=\"text-align: right;\">\n",
       "      <th></th>\n",
       "      <th>agency_id</th>\n",
       "      <th>agency</th>\n",
       "      <th>lastname</th>\n",
       "      <th>firstname</th>\n",
       "      <th>title</th>\n",
       "      <th>race</th>\n",
       "      <th>sex</th>\n",
       "      <th>emptype</th>\n",
       "      <th>hire_date</th>\n",
       "      <th>hours_worked</th>\n",
       "      <th>...</th>\n",
       "      <th>is_hispanic</th>\n",
       "      <th>is_black</th>\n",
       "      <th>is_BIPOC</th>\n",
       "      <th>race_encoded</th>\n",
       "      <th>tenure_months</th>\n",
       "      <th>tenure_years</th>\n",
       "      <th>is_elected</th>\n",
       "      <th>is_director</th>\n",
       "      <th>is_unclassified</th>\n",
       "      <th>is_parttime</th>\n",
       "    </tr>\n",
       "  </thead>\n",
       "  <tbody>\n",
       "    <tr>\n",
       "      <th>89</th>\n",
       "      <td>101</td>\n",
       "      <td>SENATE</td>\n",
       "      <td>ALVARADO</td>\n",
       "      <td>CAROL</td>\n",
       "      <td>ELECTED OFFICIAL</td>\n",
       "      <td>HISPANIC</td>\n",
       "      <td>FEMALE</td>\n",
       "      <td>URF - UNCLASSIFIED REGULAR FULL-TIME</td>\n",
       "      <td>2018-12-21</td>\n",
       "      <td>40.0</td>\n",
       "      <td>...</td>\n",
       "      <td>1</td>\n",
       "      <td>0</td>\n",
       "      <td>1</td>\n",
       "      <td>3</td>\n",
       "      <td>30</td>\n",
       "      <td>2.5</td>\n",
       "      <td>1</td>\n",
       "      <td>0</td>\n",
       "      <td>1</td>\n",
       "      <td>0</td>\n",
       "    </tr>\n",
       "    <tr>\n",
       "      <th>117</th>\n",
       "      <td>101</td>\n",
       "      <td>SENATE</td>\n",
       "      <td>BETTENCOURT</td>\n",
       "      <td>PAUL</td>\n",
       "      <td>ELECTED OFFICIAL</td>\n",
       "      <td>WHITE</td>\n",
       "      <td>MALE</td>\n",
       "      <td>URF - UNCLASSIFIED REGULAR FULL-TIME</td>\n",
       "      <td>2015-01-13</td>\n",
       "      <td>40.0</td>\n",
       "      <td>...</td>\n",
       "      <td>0</td>\n",
       "      <td>0</td>\n",
       "      <td>0</td>\n",
       "      <td>5</td>\n",
       "      <td>78</td>\n",
       "      <td>6.5</td>\n",
       "      <td>1</td>\n",
       "      <td>0</td>\n",
       "      <td>1</td>\n",
       "      <td>0</td>\n",
       "    </tr>\n",
       "    <tr>\n",
       "      <th>121</th>\n",
       "      <td>101</td>\n",
       "      <td>SENATE</td>\n",
       "      <td>BIRDWELL</td>\n",
       "      <td>BRIAN</td>\n",
       "      <td>ELECTED OFFICIAL</td>\n",
       "      <td>WHITE</td>\n",
       "      <td>MALE</td>\n",
       "      <td>URF - UNCLASSIFIED REGULAR FULL-TIME</td>\n",
       "      <td>2010-07-02</td>\n",
       "      <td>40.0</td>\n",
       "      <td>...</td>\n",
       "      <td>0</td>\n",
       "      <td>0</td>\n",
       "      <td>0</td>\n",
       "      <td>5</td>\n",
       "      <td>132</td>\n",
       "      <td>11.0</td>\n",
       "      <td>1</td>\n",
       "      <td>0</td>\n",
       "      <td>1</td>\n",
       "      <td>0</td>\n",
       "    </tr>\n",
       "    <tr>\n",
       "      <th>122</th>\n",
       "      <td>101</td>\n",
       "      <td>SENATE</td>\n",
       "      <td>BLANCO</td>\n",
       "      <td>CESAR</td>\n",
       "      <td>ELECTED OFFICIAL</td>\n",
       "      <td>HISPANIC</td>\n",
       "      <td>MALE</td>\n",
       "      <td>URF - UNCLASSIFIED REGULAR FULL-TIME</td>\n",
       "      <td>2021-01-12</td>\n",
       "      <td>40.0</td>\n",
       "      <td>...</td>\n",
       "      <td>1</td>\n",
       "      <td>0</td>\n",
       "      <td>1</td>\n",
       "      <td>3</td>\n",
       "      <td>6</td>\n",
       "      <td>0.5</td>\n",
       "      <td>1</td>\n",
       "      <td>0</td>\n",
       "      <td>1</td>\n",
       "      <td>0</td>\n",
       "    </tr>\n",
       "    <tr>\n",
       "      <th>144</th>\n",
       "      <td>101</td>\n",
       "      <td>SENATE</td>\n",
       "      <td>BUCKINGHAM</td>\n",
       "      <td>DAWN</td>\n",
       "      <td>ELECTED OFFICIAL</td>\n",
       "      <td>WHITE</td>\n",
       "      <td>FEMALE</td>\n",
       "      <td>URF - UNCLASSIFIED REGULAR FULL-TIME</td>\n",
       "      <td>2017-01-10</td>\n",
       "      <td>40.0</td>\n",
       "      <td>...</td>\n",
       "      <td>0</td>\n",
       "      <td>0</td>\n",
       "      <td>0</td>\n",
       "      <td>5</td>\n",
       "      <td>54</td>\n",
       "      <td>4.5</td>\n",
       "      <td>1</td>\n",
       "      <td>0</td>\n",
       "      <td>1</td>\n",
       "      <td>0</td>\n",
       "    </tr>\n",
       "    <tr>\n",
       "      <th>...</th>\n",
       "      <td>...</td>\n",
       "      <td>...</td>\n",
       "      <td>...</td>\n",
       "      <td>...</td>\n",
       "      <td>...</td>\n",
       "      <td>...</td>\n",
       "      <td>...</td>\n",
       "      <td>...</td>\n",
       "      <td>...</td>\n",
       "      <td>...</td>\n",
       "      <td>...</td>\n",
       "      <td>...</td>\n",
       "      <td>...</td>\n",
       "      <td>...</td>\n",
       "      <td>...</td>\n",
       "      <td>...</td>\n",
       "      <td>...</td>\n",
       "      <td>...</td>\n",
       "      <td>...</td>\n",
       "      <td>...</td>\n",
       "      <td>...</td>\n",
       "    </tr>\n",
       "    <tr>\n",
       "      <th>1465</th>\n",
       "      <td>102</td>\n",
       "      <td>HOUSE OF REPRESENTATIVES</td>\n",
       "      <td>WALLE</td>\n",
       "      <td>ARMANDO</td>\n",
       "      <td>ELECTED OFFICIAL</td>\n",
       "      <td>HISPANIC</td>\n",
       "      <td>MALE</td>\n",
       "      <td>URF - UNCLASSIFIED REGULAR FULL-TIME</td>\n",
       "      <td>2009-01-13</td>\n",
       "      <td>40.0</td>\n",
       "      <td>...</td>\n",
       "      <td>1</td>\n",
       "      <td>0</td>\n",
       "      <td>1</td>\n",
       "      <td>3</td>\n",
       "      <td>150</td>\n",
       "      <td>12.5</td>\n",
       "      <td>1</td>\n",
       "      <td>0</td>\n",
       "      <td>1</td>\n",
       "      <td>0</td>\n",
       "    </tr>\n",
       "    <tr>\n",
       "      <th>1478</th>\n",
       "      <td>102</td>\n",
       "      <td>HOUSE OF REPRESENTATIVES</td>\n",
       "      <td>WHITE</td>\n",
       "      <td>JAMES</td>\n",
       "      <td>ELECTED OFFICIAL</td>\n",
       "      <td>BLACK</td>\n",
       "      <td>MALE</td>\n",
       "      <td>URF - UNCLASSIFIED REGULAR FULL-TIME</td>\n",
       "      <td>2011-01-11</td>\n",
       "      <td>40.0</td>\n",
       "      <td>...</td>\n",
       "      <td>0</td>\n",
       "      <td>1</td>\n",
       "      <td>1</td>\n",
       "      <td>2</td>\n",
       "      <td>126</td>\n",
       "      <td>10.5</td>\n",
       "      <td>1</td>\n",
       "      <td>0</td>\n",
       "      <td>1</td>\n",
       "      <td>0</td>\n",
       "    </tr>\n",
       "    <tr>\n",
       "      <th>1498</th>\n",
       "      <td>102</td>\n",
       "      <td>HOUSE OF REPRESENTATIVES</td>\n",
       "      <td>WILSON JR</td>\n",
       "      <td>TERRY</td>\n",
       "      <td>ELECTED OFFICIAL</td>\n",
       "      <td>WHITE</td>\n",
       "      <td>MALE</td>\n",
       "      <td>URF - UNCLASSIFIED REGULAR FULL-TIME</td>\n",
       "      <td>2017-01-10</td>\n",
       "      <td>40.0</td>\n",
       "      <td>...</td>\n",
       "      <td>0</td>\n",
       "      <td>0</td>\n",
       "      <td>0</td>\n",
       "      <td>5</td>\n",
       "      <td>54</td>\n",
       "      <td>4.5</td>\n",
       "      <td>1</td>\n",
       "      <td>0</td>\n",
       "      <td>1</td>\n",
       "      <td>0</td>\n",
       "    </tr>\n",
       "    <tr>\n",
       "      <th>1505</th>\n",
       "      <td>102</td>\n",
       "      <td>HOUSE OF REPRESENTATIVES</td>\n",
       "      <td>WU</td>\n",
       "      <td>EUGENE</td>\n",
       "      <td>ELECTED OFFICIAL</td>\n",
       "      <td>ASIAN</td>\n",
       "      <td>MALE</td>\n",
       "      <td>URF - UNCLASSIFIED REGULAR FULL-TIME</td>\n",
       "      <td>2013-01-08</td>\n",
       "      <td>40.0</td>\n",
       "      <td>...</td>\n",
       "      <td>0</td>\n",
       "      <td>0</td>\n",
       "      <td>1</td>\n",
       "      <td>1</td>\n",
       "      <td>102</td>\n",
       "      <td>8.5</td>\n",
       "      <td>1</td>\n",
       "      <td>0</td>\n",
       "      <td>1</td>\n",
       "      <td>0</td>\n",
       "    </tr>\n",
       "    <tr>\n",
       "      <th>1513</th>\n",
       "      <td>102</td>\n",
       "      <td>HOUSE OF REPRESENTATIVES</td>\n",
       "      <td>ZWIENER</td>\n",
       "      <td>ERIN</td>\n",
       "      <td>ELECTED OFFICIAL</td>\n",
       "      <td>WHITE</td>\n",
       "      <td>FEMALE</td>\n",
       "      <td>URF - UNCLASSIFIED REGULAR FULL-TIME</td>\n",
       "      <td>2019-01-08</td>\n",
       "      <td>40.0</td>\n",
       "      <td>...</td>\n",
       "      <td>0</td>\n",
       "      <td>0</td>\n",
       "      <td>0</td>\n",
       "      <td>5</td>\n",
       "      <td>30</td>\n",
       "      <td>2.5</td>\n",
       "      <td>1</td>\n",
       "      <td>0</td>\n",
       "      <td>1</td>\n",
       "      <td>0</td>\n",
       "    </tr>\n",
       "  </tbody>\n",
       "</table>\n",
       "<p>181 rows × 24 columns</p>\n",
       "</div>"
      ],
      "text/plain": [
       "      agency_id                    agency     lastname firstname  \\\n",
       "89          101                    SENATE     ALVARADO     CAROL   \n",
       "117         101                    SENATE  BETTENCOURT      PAUL   \n",
       "121         101                    SENATE     BIRDWELL     BRIAN   \n",
       "122         101                    SENATE       BLANCO     CESAR   \n",
       "144         101                    SENATE   BUCKINGHAM      DAWN   \n",
       "...         ...                       ...          ...       ...   \n",
       "1465        102  HOUSE OF REPRESENTATIVES        WALLE   ARMANDO   \n",
       "1478        102  HOUSE OF REPRESENTATIVES        WHITE     JAMES   \n",
       "1498        102  HOUSE OF REPRESENTATIVES    WILSON JR     TERRY   \n",
       "1505        102  HOUSE OF REPRESENTATIVES           WU    EUGENE   \n",
       "1513        102  HOUSE OF REPRESENTATIVES      ZWIENER      ERIN   \n",
       "\n",
       "                 title      race     sex  \\\n",
       "89    ELECTED OFFICIAL  HISPANIC  FEMALE   \n",
       "117   ELECTED OFFICIAL     WHITE    MALE   \n",
       "121   ELECTED OFFICIAL     WHITE    MALE   \n",
       "122   ELECTED OFFICIAL  HISPANIC    MALE   \n",
       "144   ELECTED OFFICIAL     WHITE  FEMALE   \n",
       "...                ...       ...     ...   \n",
       "1465  ELECTED OFFICIAL  HISPANIC    MALE   \n",
       "1478  ELECTED OFFICIAL     BLACK    MALE   \n",
       "1498  ELECTED OFFICIAL     WHITE    MALE   \n",
       "1505  ELECTED OFFICIAL     ASIAN    MALE   \n",
       "1513  ELECTED OFFICIAL     WHITE  FEMALE   \n",
       "\n",
       "                                   emptype  hire_date  hours_worked  ...  \\\n",
       "89    URF - UNCLASSIFIED REGULAR FULL-TIME 2018-12-21          40.0  ...   \n",
       "117   URF - UNCLASSIFIED REGULAR FULL-TIME 2015-01-13          40.0  ...   \n",
       "121   URF - UNCLASSIFIED REGULAR FULL-TIME 2010-07-02          40.0  ...   \n",
       "122   URF - UNCLASSIFIED REGULAR FULL-TIME 2021-01-12          40.0  ...   \n",
       "144   URF - UNCLASSIFIED REGULAR FULL-TIME 2017-01-10          40.0  ...   \n",
       "...                                    ...        ...           ...  ...   \n",
       "1465  URF - UNCLASSIFIED REGULAR FULL-TIME 2009-01-13          40.0  ...   \n",
       "1478  URF - UNCLASSIFIED REGULAR FULL-TIME 2011-01-11          40.0  ...   \n",
       "1498  URF - UNCLASSIFIED REGULAR FULL-TIME 2017-01-10          40.0  ...   \n",
       "1505  URF - UNCLASSIFIED REGULAR FULL-TIME 2013-01-08          40.0  ...   \n",
       "1513  URF - UNCLASSIFIED REGULAR FULL-TIME 2019-01-08          40.0  ...   \n",
       "\n",
       "      is_hispanic  is_black  is_BIPOC  race_encoded  tenure_months  \\\n",
       "89              1         0         1             3             30   \n",
       "117             0         0         0             5             78   \n",
       "121             0         0         0             5            132   \n",
       "122             1         0         1             3              6   \n",
       "144             0         0         0             5             54   \n",
       "...           ...       ...       ...           ...            ...   \n",
       "1465            1         0         1             3            150   \n",
       "1478            0         1         1             2            126   \n",
       "1498            0         0         0             5             54   \n",
       "1505            0         0         1             1            102   \n",
       "1513            0         0         0             5             30   \n",
       "\n",
       "      tenure_years  is_elected  is_director  is_unclassified  is_parttime  \n",
       "89             2.5           1            0                1            0  \n",
       "117            6.5           1            0                1            0  \n",
       "121           11.0           1            0                1            0  \n",
       "122            0.5           1            0                1            0  \n",
       "144            4.5           1            0                1            0  \n",
       "...            ...         ...          ...              ...          ...  \n",
       "1465          12.5           1            0                1            0  \n",
       "1478          10.5           1            0                1            0  \n",
       "1498           4.5           1            0                1            0  \n",
       "1505           8.5           1            0                1            0  \n",
       "1513           2.5           1            0                1            0  \n",
       "\n",
       "[181 rows x 24 columns]"
      ]
     },
     "execution_count": 17,
     "metadata": {},
     "output_type": "execute_result"
    }
   ],
   "source": [
    "df[df.title == 'ELECTED OFFICIAL']"
   ]
  },
  {
   "cell_type": "code",
   "execution_count": 18,
   "metadata": {},
   "outputs": [
    {
     "data": {
      "text/plain": [
       "CORREC  OFFICER IV               8753\n",
       "CORREC  OFFICER V                7350\n",
       "TEXAS WORKS ADVISOR II           3812\n",
       "CORREC OFFCR III                 3652\n",
       "DIRECT SUPPORT PROFESSIONAL I    2483\n",
       "                                 ... \n",
       "CLIENT EXPERIENCE PROJ LDR          1\n",
       "DIR, RESEARCH                       1\n",
       "PRIVACY ANALYST II                  1\n",
       "COMMISS, PECOS RIVER COMPACT        1\n",
       "CHIEF TRADER II                     1\n",
       "Name: title, Length: 1406, dtype: int64"
      ]
     },
     "execution_count": 18,
     "metadata": {},
     "output_type": "execute_result"
    }
   ],
   "source": [
    "df.title.value_counts()"
   ]
  },
  {
   "cell_type": "code",
   "execution_count": 19,
   "metadata": {},
   "outputs": [
    {
     "data": {
      "text/plain": [
       "ELECTED OFFICIALS STAFF    597\n",
       "ELECTED OFFICIAL           181\n",
       "Name: title, dtype: int64"
      ]
     },
     "execution_count": 19,
     "metadata": {},
     "output_type": "execute_result"
    }
   ],
   "source": [
    "df[df.title.str.contains('ELECTED')].title.value_counts()"
   ]
  },
  {
   "cell_type": "code",
   "execution_count": 20,
   "metadata": {},
   "outputs": [
    {
     "name": "stdout",
     "output_type": "stream",
     "text": [
      "Looking At Our Maximum Age and Minimum Age to Make Some Age Bins\n",
      "\n",
      "Max: 49.8, Min: 0.0\n",
      "\n",
      "----------------------------\n",
      "\n",
      "Visualizing Years of Tenure Column To Help with Binning\n",
      "\n"
     ]
    },
    {
     "data": {
      "image/png": "[encoded data removed]",
      "text/plain": [
       "<Figure size 432x288 with 1 Axes>"
      ]
     },
     "metadata": {
      "needs_background": "light"
     },
     "output_type": "display_data"
    },
    {
     "name": "stdout",
     "output_type": "stream",
     "text": [
      "\n",
      "----------------------------\n",
      "\n",
      "Looking At Our Years of Tenure Bins Value Counts\n",
      "1    83012\n",
      "2    27330\n",
      "3    25513\n",
      "4     8875\n",
      "Name: tenure_years_bins, dtype: int64\n",
      "\n",
      "----------------------------\n",
      "\n"
     ]
    }
   ],
   "source": [
    "df = p.make_bins_and_feats(df)"
   ]
  },
  {
   "cell_type": "code",
   "execution_count": 21,
   "metadata": {},
   "outputs": [
    {
     "data": {
      "text/html": [
       "<div>\n",
       "<style scoped>\n",
       "    .dataframe tbody tr th:only-of-type {\n",
       "        vertical-align: middle;\n",
       "    }\n",
       "\n",
       "    .dataframe tbody tr th {\n",
       "        vertical-align: top;\n",
       "    }\n",
       "\n",
       "    .dataframe thead th {\n",
       "        text-align: right;\n",
       "    }\n",
       "</style>\n",
       "<table border=\"1\" class=\"dataframe\">\n",
       "  <thead>\n",
       "    <tr style=\"text-align: right;\">\n",
       "      <th></th>\n",
       "      <th>0</th>\n",
       "      <th>1</th>\n",
       "      <th>2</th>\n",
       "      <th>3</th>\n",
       "      <th>4</th>\n",
       "    </tr>\n",
       "  </thead>\n",
       "  <tbody>\n",
       "    <tr>\n",
       "      <th>agency_id</th>\n",
       "      <td>101</td>\n",
       "      <td>104</td>\n",
       "      <td>101</td>\n",
       "      <td>104</td>\n",
       "      <td>101</td>\n",
       "    </tr>\n",
       "    <tr>\n",
       "      <th>agency</th>\n",
       "      <td>SENATE</td>\n",
       "      <td>LEGISLATIVE BUDGET BOARD</td>\n",
       "      <td>SENATE</td>\n",
       "      <td>LEGISLATIVE BUDGET BOARD</td>\n",
       "      <td>SENATE</td>\n",
       "    </tr>\n",
       "    <tr>\n",
       "      <th>lastname</th>\n",
       "      <td>GILLIAM</td>\n",
       "      <td>GILLIAM</td>\n",
       "      <td>NELSON</td>\n",
       "      <td>NELSON</td>\n",
       "      <td>ROCHA</td>\n",
       "    </tr>\n",
       "    <tr>\n",
       "      <th>firstname</th>\n",
       "      <td>STACEY</td>\n",
       "      <td>STACEY</td>\n",
       "      <td>DAVID</td>\n",
       "      <td>DAVID</td>\n",
       "      <td>MARIE</td>\n",
       "    </tr>\n",
       "    <tr>\n",
       "      <th>title</th>\n",
       "      <td>LEG. OFFICIAL/ADMINISTRATOR</td>\n",
       "      <td>COMMITTEE DIRECTOR</td>\n",
       "      <td>LEG. OFFICIAL/ADMINISTRATOR</td>\n",
       "      <td>SENIOR BUDGET ADVISOR</td>\n",
       "      <td>LEG. SERVICE/MAINTENANCE</td>\n",
       "    </tr>\n",
       "    <tr>\n",
       "      <th>race</th>\n",
       "      <td>WHITE</td>\n",
       "      <td>WHITE</td>\n",
       "      <td>WHITE</td>\n",
       "      <td>WHITE</td>\n",
       "      <td>HISPANIC</td>\n",
       "    </tr>\n",
       "    <tr>\n",
       "      <th>sex</th>\n",
       "      <td>FEMALE</td>\n",
       "      <td>FEMALE</td>\n",
       "      <td>MALE</td>\n",
       "      <td>MALE</td>\n",
       "      <td>FEMALE</td>\n",
       "    </tr>\n",
       "    <tr>\n",
       "      <th>emptype</th>\n",
       "      <td>URP - UNCLASSIFIED REGULAR PART-TIME</td>\n",
       "      <td>URP - UNCLASSIFIED REGULAR PART-TIME</td>\n",
       "      <td>URP - UNCLASSIFIED REGULAR PART-TIME</td>\n",
       "      <td>URP - UNCLASSIFIED REGULAR PART-TIME</td>\n",
       "      <td>URF - UNCLASSIFIED REGULAR FULL-TIME</td>\n",
       "    </tr>\n",
       "    <tr>\n",
       "      <th>hire_date</th>\n",
       "      <td>2013-07-01 00:00:00</td>\n",
       "      <td>2017-11-01 00:00:00</td>\n",
       "      <td>1998-12-01 00:00:00</td>\n",
       "      <td>2017-11-01 00:00:00</td>\n",
       "      <td>2003-05-01 00:00:00</td>\n",
       "    </tr>\n",
       "    <tr>\n",
       "      <th>hours_worked</th>\n",
       "      <td>20.0</td>\n",
       "      <td>20.0</td>\n",
       "      <td>20.0</td>\n",
       "      <td>20.0</td>\n",
       "      <td>41.0</td>\n",
       "    </tr>\n",
       "    <tr>\n",
       "      <th>monthly_salary</th>\n",
       "      <td>8100.0</td>\n",
       "      <td>7000.0</td>\n",
       "      <td>9500.0</td>\n",
       "      <td>8000.0</td>\n",
       "      <td>3365.4</td>\n",
       "    </tr>\n",
       "    <tr>\n",
       "      <th>annual_salary</th>\n",
       "      <td>97200.0</td>\n",
       "      <td>84000.0</td>\n",
       "      <td>114000.0</td>\n",
       "      <td>96000.0</td>\n",
       "      <td>40384.8</td>\n",
       "    </tr>\n",
       "    <tr>\n",
       "      <th>is_female</th>\n",
       "      <td>1</td>\n",
       "      <td>1</td>\n",
       "      <td>0</td>\n",
       "      <td>0</td>\n",
       "      <td>1</td>\n",
       "    </tr>\n",
       "    <tr>\n",
       "      <th>is_white</th>\n",
       "      <td>1</td>\n",
       "      <td>1</td>\n",
       "      <td>1</td>\n",
       "      <td>1</td>\n",
       "      <td>0</td>\n",
       "    </tr>\n",
       "    <tr>\n",
       "      <th>is_hispanic</th>\n",
       "      <td>0</td>\n",
       "      <td>0</td>\n",
       "      <td>0</td>\n",
       "      <td>0</td>\n",
       "      <td>1</td>\n",
       "    </tr>\n",
       "    <tr>\n",
       "      <th>is_black</th>\n",
       "      <td>0</td>\n",
       "      <td>0</td>\n",
       "      <td>0</td>\n",
       "      <td>0</td>\n",
       "      <td>0</td>\n",
       "    </tr>\n",
       "    <tr>\n",
       "      <th>is_BIPOC</th>\n",
       "      <td>0</td>\n",
       "      <td>0</td>\n",
       "      <td>0</td>\n",
       "      <td>0</td>\n",
       "      <td>1</td>\n",
       "    </tr>\n",
       "    <tr>\n",
       "      <th>race_encoded</th>\n",
       "      <td>5</td>\n",
       "      <td>5</td>\n",
       "      <td>5</td>\n",
       "      <td>5</td>\n",
       "      <td>3</td>\n",
       "    </tr>\n",
       "    <tr>\n",
       "      <th>tenure_months</th>\n",
       "      <td>96</td>\n",
       "      <td>44</td>\n",
       "      <td>271</td>\n",
       "      <td>44</td>\n",
       "      <td>218</td>\n",
       "    </tr>\n",
       "    <tr>\n",
       "      <th>tenure_years</th>\n",
       "      <td>8.0</td>\n",
       "      <td>3.7</td>\n",
       "      <td>22.6</td>\n",
       "      <td>3.7</td>\n",
       "      <td>18.2</td>\n",
       "    </tr>\n",
       "    <tr>\n",
       "      <th>is_elected</th>\n",
       "      <td>0</td>\n",
       "      <td>0</td>\n",
       "      <td>0</td>\n",
       "      <td>0</td>\n",
       "      <td>0</td>\n",
       "    </tr>\n",
       "    <tr>\n",
       "      <th>is_director</th>\n",
       "      <td>0</td>\n",
       "      <td>1</td>\n",
       "      <td>0</td>\n",
       "      <td>0</td>\n",
       "      <td>0</td>\n",
       "    </tr>\n",
       "    <tr>\n",
       "      <th>is_unclassified</th>\n",
       "      <td>1</td>\n",
       "      <td>1</td>\n",
       "      <td>1</td>\n",
       "      <td>1</td>\n",
       "      <td>1</td>\n",
       "    </tr>\n",
       "    <tr>\n",
       "      <th>is_parttime</th>\n",
       "      <td>1</td>\n",
       "      <td>1</td>\n",
       "      <td>1</td>\n",
       "      <td>1</td>\n",
       "      <td>0</td>\n",
       "    </tr>\n",
       "    <tr>\n",
       "      <th>tenure_years_bins</th>\n",
       "      <td>2</td>\n",
       "      <td>1</td>\n",
       "      <td>4</td>\n",
       "      <td>1</td>\n",
       "      <td>3</td>\n",
       "    </tr>\n",
       "    <tr>\n",
       "      <th>0-5_years</th>\n",
       "      <td>0</td>\n",
       "      <td>1</td>\n",
       "      <td>0</td>\n",
       "      <td>1</td>\n",
       "      <td>0</td>\n",
       "    </tr>\n",
       "    <tr>\n",
       "      <th>5-10_years</th>\n",
       "      <td>1</td>\n",
       "      <td>0</td>\n",
       "      <td>0</td>\n",
       "      <td>0</td>\n",
       "      <td>0</td>\n",
       "    </tr>\n",
       "    <tr>\n",
       "      <th>10-20_years</th>\n",
       "      <td>0</td>\n",
       "      <td>0</td>\n",
       "      <td>0</td>\n",
       "      <td>0</td>\n",
       "      <td>1</td>\n",
       "    </tr>\n",
       "    <tr>\n",
       "      <th>&gt;20_years</th>\n",
       "      <td>0</td>\n",
       "      <td>0</td>\n",
       "      <td>1</td>\n",
       "      <td>0</td>\n",
       "      <td>0</td>\n",
       "    </tr>\n",
       "  </tbody>\n",
       "</table>\n",
       "</div>"
      ],
      "text/plain": [
       "                                                      0  \\\n",
       "agency_id                                           101   \n",
       "agency                                           SENATE   \n",
       "lastname                                        GILLIAM   \n",
       "firstname                                        STACEY   \n",
       "title                       LEG. OFFICIAL/ADMINISTRATOR   \n",
       "race                                              WHITE   \n",
       "sex                                              FEMALE   \n",
       "emptype            URP - UNCLASSIFIED REGULAR PART-TIME   \n",
       "hire_date                           2013-07-01 00:00:00   \n",
       "hours_worked                                       20.0   \n",
       "monthly_salary                                   8100.0   \n",
       "annual_salary                                   97200.0   \n",
       "is_female                                             1   \n",
       "is_white                                              1   \n",
       "is_hispanic                                           0   \n",
       "is_black                                              0   \n",
       "is_BIPOC                                              0   \n",
       "race_encoded                                          5   \n",
       "tenure_months                                        96   \n",
       "tenure_years                                        8.0   \n",
       "is_elected                                            0   \n",
       "is_director                                           0   \n",
       "is_unclassified                                       1   \n",
       "is_parttime                                           1   \n",
       "tenure_years_bins                                     2   \n",
       "0-5_years                                             0   \n",
       "5-10_years                                            1   \n",
       "10-20_years                                           0   \n",
       ">20_years                                             0   \n",
       "\n",
       "                                                      1  \\\n",
       "agency_id                                           104   \n",
       "agency                         LEGISLATIVE BUDGET BOARD   \n",
       "lastname                                        GILLIAM   \n",
       "firstname                                        STACEY   \n",
       "title                                COMMITTEE DIRECTOR   \n",
       "race                                              WHITE   \n",
       "sex                                              FEMALE   \n",
       "emptype            URP - UNCLASSIFIED REGULAR PART-TIME   \n",
       "hire_date                           2017-11-01 00:00:00   \n",
       "hours_worked                                       20.0   \n",
       "monthly_salary                                   7000.0   \n",
       "annual_salary                                   84000.0   \n",
       "is_female                                             1   \n",
       "is_white                                              1   \n",
       "is_hispanic                                           0   \n",
       "is_black                                              0   \n",
       "is_BIPOC                                              0   \n",
       "race_encoded                                          5   \n",
       "tenure_months                                        44   \n",
       "tenure_years                                        3.7   \n",
       "is_elected                                            0   \n",
       "is_director                                           1   \n",
       "is_unclassified                                       1   \n",
       "is_parttime                                           1   \n",
       "tenure_years_bins                                     1   \n",
       "0-5_years                                             1   \n",
       "5-10_years                                            0   \n",
       "10-20_years                                           0   \n",
       ">20_years                                             0   \n",
       "\n",
       "                                                      2  \\\n",
       "agency_id                                           101   \n",
       "agency                                           SENATE   \n",
       "lastname                                         NELSON   \n",
       "firstname                                         DAVID   \n",
       "title                       LEG. OFFICIAL/ADMINISTRATOR   \n",
       "race                                              WHITE   \n",
       "sex                                                MALE   \n",
       "emptype            URP - UNCLASSIFIED REGULAR PART-TIME   \n",
       "hire_date                           1998-12-01 00:00:00   \n",
       "hours_worked                                       20.0   \n",
       "monthly_salary                                   9500.0   \n",
       "annual_salary                                  114000.0   \n",
       "is_female                                             0   \n",
       "is_white                                              1   \n",
       "is_hispanic                                           0   \n",
       "is_black                                              0   \n",
       "is_BIPOC                                              0   \n",
       "race_encoded                                          5   \n",
       "tenure_months                                       271   \n",
       "tenure_years                                       22.6   \n",
       "is_elected                                            0   \n",
       "is_director                                           0   \n",
       "is_unclassified                                       1   \n",
       "is_parttime                                           1   \n",
       "tenure_years_bins                                     4   \n",
       "0-5_years                                             0   \n",
       "5-10_years                                            0   \n",
       "10-20_years                                           0   \n",
       ">20_years                                             1   \n",
       "\n",
       "                                                      3  \\\n",
       "agency_id                                           104   \n",
       "agency                         LEGISLATIVE BUDGET BOARD   \n",
       "lastname                                         NELSON   \n",
       "firstname                                         DAVID   \n",
       "title                             SENIOR BUDGET ADVISOR   \n",
       "race                                              WHITE   \n",
       "sex                                                MALE   \n",
       "emptype            URP - UNCLASSIFIED REGULAR PART-TIME   \n",
       "hire_date                           2017-11-01 00:00:00   \n",
       "hours_worked                                       20.0   \n",
       "monthly_salary                                   8000.0   \n",
       "annual_salary                                   96000.0   \n",
       "is_female                                             0   \n",
       "is_white                                              1   \n",
       "is_hispanic                                           0   \n",
       "is_black                                              0   \n",
       "is_BIPOC                                              0   \n",
       "race_encoded                                          5   \n",
       "tenure_months                                        44   \n",
       "tenure_years                                        3.7   \n",
       "is_elected                                            0   \n",
       "is_director                                           0   \n",
       "is_unclassified                                       1   \n",
       "is_parttime                                           1   \n",
       "tenure_years_bins                                     1   \n",
       "0-5_years                                             1   \n",
       "5-10_years                                            0   \n",
       "10-20_years                                           0   \n",
       ">20_years                                             0   \n",
       "\n",
       "                                                      4  \n",
       "agency_id                                           101  \n",
       "agency                                           SENATE  \n",
       "lastname                                          ROCHA  \n",
       "firstname                                         MARIE  \n",
       "title                          LEG. SERVICE/MAINTENANCE  \n",
       "race                                           HISPANIC  \n",
       "sex                                              FEMALE  \n",
       "emptype            URF - UNCLASSIFIED REGULAR FULL-TIME  \n",
       "hire_date                           2003-05-01 00:00:00  \n",
       "hours_worked                                       41.0  \n",
       "monthly_salary                                   3365.4  \n",
       "annual_salary                                   40384.8  \n",
       "is_female                                             1  \n",
       "is_white                                              0  \n",
       "is_hispanic                                           1  \n",
       "is_black                                              0  \n",
       "is_BIPOC                                              1  \n",
       "race_encoded                                          3  \n",
       "tenure_months                                       218  \n",
       "tenure_years                                       18.2  \n",
       "is_elected                                            0  \n",
       "is_director                                           0  \n",
       "is_unclassified                                       1  \n",
       "is_parttime                                           0  \n",
       "tenure_years_bins                                     3  \n",
       "0-5_years                                             0  \n",
       "5-10_years                                            0  \n",
       "10-20_years                                           1  \n",
       ">20_years                                             0  "
      ]
     },
     "execution_count": 21,
     "metadata": {},
     "output_type": "execute_result"
    }
   ],
   "source": [
    "df.head().T"
   ]
  },
  {
   "cell_type": "code",
   "execution_count": 22,
   "metadata": {},
   "outputs": [
    {
     "data": {
      "text/plain": [
       "DIRECTOR II                       804\n",
       "DIRECTOR III                      620\n",
       "DIRECTOR I                        504\n",
       "DIRECTOR IV                       379\n",
       "DIRECTOR VI                       200\n",
       "DIRECTOR V                        165\n",
       "DEPUTY DIRECTOR I                  93\n",
       "DIRECTOR VII                       59\n",
       "EXECUTIVE DIRECTOR                 43\n",
       "DEPUTY DIRECTOR II                 24\n",
       "DIRECTOR                           22\n",
       "SENIOR DIRECTOR                    18\n",
       "ASSISTANT DIRECTOR                 18\n",
       "DEPUTY DIRECTOR III                14\n",
       "SENIOR MANAGING DIRECTOR            7\n",
       "DEPUTY DIRECTOR IV                  5\n",
       "PROGRAM DIRECTOR                    3\n",
       "DEPUTY DIRECTOR                     3\n",
       "COMMITTEE DIRECTOR                  2\n",
       "REVIEW DIRECTOR                     2\n",
       "ASSISTANT DIRECTOR OF OPERATIO      1\n",
       "ADMINSTRATIVE DIRECTOR              1\n",
       "ASST EXEC DIRECTOR                  1\n",
       "EXEC DIRECTOR                       1\n",
       "DEPUTY DIRECTOR/CFO                 1\n",
       "EXECUTIVE DIRECTOR, TSBPA           1\n",
       "EXECUTIVE DIRECTOR FOR ERS          1\n",
       "DIRECTOR, LIBRARIAN                 1\n",
       "DIRECTOR OF INVESTMENTS             1\n",
       "EXECUTIVE DIRECTOR,GSC              1\n",
       "EXECUTIVE DIRECTOR, TAHC            1\n",
       "DIRECTOR, DEPARTMENT OF PUBLIC      1\n",
       "DIRECTOR, STATE LAW LIBRARY         1\n",
       "EXECUTIVE DIRECTOR/SECRETARY        1\n",
       "MANAGING DIRECTOR                   1\n",
       "EX DIRECTOR TDCJ                    1\n",
       "EXECUTIVE DIRECTOR, DEPT OF HO      1\n",
       "BUDGET DIRECTOR                     1\n",
       "ASSISTANT DIRECTOR OF REVIEWS       1\n",
       "DIRECTORS ASSISTANT                 1\n",
       "EXEC DIRECTOR, VETERANS COMM        1\n",
       "EXECUTIVE DIRECTOR OSFR             1\n",
       "INV DIRECTOR, LONDON                1\n",
       "Name: title, dtype: int64"
      ]
     },
     "execution_count": 22,
     "metadata": {},
     "output_type": "execute_result"
    }
   ],
   "source": [
    "df[df.title.str.contains('DIRECTOR')].title.value_counts()"
   ]
  },
  {
   "cell_type": "code",
   "execution_count": 23,
   "metadata": {},
   "outputs": [
    {
     "data": {
      "text/plain": [
       "CRF - CLASSIFIED REGULAR FULL-TIME        137253\n",
       "URF - UNCLASSIFIED REGULAR FULL-TIME        2545\n",
       "CTF - CLASSIFIED TEMPORARY FULL-TIME        1273\n",
       "ERF - EXEMPT REGULAR FULL-TIME               928\n",
       "UTF - UNCLASSIFIED TEMPORARY FULL-TIME        76\n",
       "Name: emptype, dtype: int64"
      ]
     },
     "execution_count": 23,
     "metadata": {},
     "output_type": "execute_result"
    }
   ],
   "source": [
    "df[df.hours_worked==40].emptype.value_counts()"
   ]
  },
  {
   "cell_type": "code",
   "execution_count": 24,
   "metadata": {},
   "outputs": [
    {
     "data": {
      "text/plain": [
       "CRP - CLASSIFIED REGULAR PART-TIME        1615\n",
       "URP - UNCLASSIFIED REGULAR PART-TIME       931\n",
       "CTP - CLASSIFIED TEMPORARY PART-TIME        84\n",
       "UTP - UNCLASSIFIED TEMPORARY PART-TIME      23\n",
       "Name: emptype, dtype: int64"
      ]
     },
     "execution_count": 24,
     "metadata": {},
     "output_type": "execute_result"
    }
   ],
   "source": [
    "df[df.hours_worked<40].emptype.value_counts()"
   ]
  },
  {
   "cell_type": "code",
   "execution_count": 25,
   "metadata": {},
   "outputs": [
    {
     "data": {
      "text/plain": [
       "(41646.609362987205, 52019.292607694646)"
      ]
     },
     "execution_count": 25,
     "metadata": {},
     "output_type": "execute_result"
    }
   ],
   "source": [
    "df[df.hours_worked<40].annual_salary.mean(), df[df.hours_worked==40].annual_salary.mean()"
   ]
  },
  {
   "cell_type": "code",
   "execution_count": 26,
   "metadata": {},
   "outputs": [
    {
     "name": "stdout",
     "output_type": "stream",
     "text": [
      "Salary distribution of part time versus full time\n"
     ]
    },
    {
     "data": {
      "image/png": "[encoded data removed]",
      "text/plain": [
       "<Figure size 1152x360 with 2 Axes>"
      ]
     },
     "metadata": {
      "needs_background": "light"
     },
     "output_type": "display_data"
    }
   ],
   "source": [
    "plt.figure(figsize=(16,5))\n",
    "plt.subplot(121)\n",
    "df[df.hours_worked<40].annual_salary.hist()\n",
    "plt.xlim(0,200000)\n",
    "plt.subplot(122)\n",
    "df[df.hours_worked==40].annual_salary.hist()\n",
    "plt.xlim(0,200000)\n",
    "print('Salary distribution of part time versus full time');"
   ]
  },
  {
   "cell_type": "code",
   "execution_count": 27,
   "metadata": {},
   "outputs": [
    {
     "data": {
      "text/plain": [
       "<AxesSubplot:>"
      ]
     },
     "execution_count": 27,
     "metadata": {},
     "output_type": "execute_result"
    },
    {
     "data": {
      "image/png": "[encoded data removed]",
      "text/plain": [
       "<Figure size 432x288 with 1 Axes>"
      ]
     },
     "metadata": {
      "needs_background": "light"
     },
     "output_type": "display_data"
    }
   ],
   "source": [
    "df[df.hours_worked==40].annual_salary.hist()"
   ]
  },
  {
   "cell_type": "code",
   "execution_count": 28,
   "metadata": {},
   "outputs": [
    {
     "data": {
      "text/plain": [
       "agency_id                     int64\n",
       "agency                       object\n",
       "lastname                     object\n",
       "firstname                    object\n",
       "title                        object\n",
       "race                         object\n",
       "sex                          object\n",
       "emptype                      object\n",
       "hire_date            datetime64[ns]\n",
       "hours_worked                float64\n",
       "monthly_salary              float64\n",
       "annual_salary               float64\n",
       "is_female                     int64\n",
       "is_white                      int64\n",
       "is_hispanic                   int64\n",
       "is_black                      int64\n",
       "is_BIPOC                      int64\n",
       "race_encoded                  int64\n",
       "tenure_months                 int64\n",
       "tenure_years                float64\n",
       "is_elected                    int64\n",
       "is_director                   int64\n",
       "is_unclassified               int64\n",
       "is_parttime                   int64\n",
       "tenure_years_bins             int64\n",
       "0-5_years                     int64\n",
       "5-10_years                    int64\n",
       "10-20_years                   int64\n",
       ">20_years                     int64\n",
       "dtype: object"
      ]
     },
     "execution_count": 28,
     "metadata": {},
     "output_type": "execute_result"
    }
   ],
   "source": [
    "df.dtypes"
   ]
  },
  {
   "cell_type": "code",
   "execution_count": 29,
   "metadata": {},
   "outputs": [
    {
     "name": "stdout",
     "output_type": "stream",
     "text": [
      "Making Sure Our Shapes Look Good\n",
      "Train: (81048, 29), Validate: (34736, 29), Test: (28946, 29)\n"
     ]
    }
   ],
   "source": [
    "# split our data\n",
    "train, validate, test = p.split_data(df)"
   ]
  },
  {
   "cell_type": "markdown",
   "metadata": {},
   "source": [
    "## Statistics Tests\n",
    "### Goals\n",
    "- Comparing means of female vs male salaries\n",
    "- Comparing means based on departments\n",
    "- Salaries higher for newer hire dates?\n"
   ]
  },
  {
   "cell_type": "markdown",
   "metadata": {},
   "source": [
    "**We will conduct a two sample two tailed ttest to compare the average salaries of males versus females**\n",
    "\\\n",
    "$H_0$ = The average salary of females == The average salary of males\n",
    "\\\n",
    "$H_a$ = The average salary of females is significantly different than the average salary of males"
   ]
  },
  {
   "cell_type": "code",
   "execution_count": 30,
   "metadata": {},
   "outputs": [
    {
     "data": {
      "text/plain": [
       "(532840192.1955485, 814917248.4519943)"
      ]
     },
     "execution_count": 30,
     "metadata": {},
     "output_type": "execute_result"
    }
   ],
   "source": [
    "# with a 95% confidence interval, we set our alpha to 0.05\n",
    "alpha = 0.05\n",
    "\n",
    "# set up our samples\n",
    "sample1 = train[train.sex=='FEMALE'].annual_salary\n",
    "sample2 = train[train.sex=='MALE'].annual_salary\n",
    "\n",
    "# now let's take a look at the variance to verify the variance between the two samples\n",
    "sample1.var(), sample2.var()"
   ]
  },
  {
   "cell_type": "code",
   "execution_count": 46,
   "metadata": {},
   "outputs": [
    {
     "name": "stdout",
     "output_type": "stream",
     "text": [
      "We reject the null hypothesis\n"
     ]
    }
   ],
   "source": [
    "# assign t and p value\n",
    "t, p = stats.ttest_ind(sample1, sample2, equal_var=False)\n",
    "\n",
    "\n",
    "if (p < alpha):\n",
    "    print(\"We reject the null hypothesis\")\n",
    "else:\n",
    "    print(\"We fail to reject the null hypothesis\")"
   ]
  },
  {
   "cell_type": "markdown",
   "metadata": {},
   "source": [
    "**We  reject the null hypothesis which means there is statistically a significant difference between the salaries of women versus men**"
   ]
  },
  {
   "cell_type": "code",
   "execution_count": 32,
   "metadata": {},
   "outputs": [
    {
     "data": {
      "image/png": "[encoded data removed]",
      "text/plain": [
       "<Figure size 1152x360 with 2 Axes>"
      ]
     },
     "metadata": {
      "needs_background": "light"
     },
     "output_type": "display_data"
    }
   ],
   "source": [
    "# take a look at salary distribution per gender\n",
    "plt.figure(figsize=(16,5))\n",
    "plt.subplot(121)\n",
    "sample1.hist(color='#9b59b6')\n",
    "plt.xlabel('salary')\n",
    "plt.ylabel('count')\n",
    "plt.title('Distribution of salaries for females.')\n",
    "plt.subplot(122)\n",
    "sample2.hist(color='#9b59b6')\n",
    "plt.xlabel('salary')\n",
    "plt.ylabel('count')\n",
    "plt.title('Distribution of salaries for males.');"
   ]
  },
  {
   "cell_type": "code",
   "execution_count": 34,
   "metadata": {},
   "outputs": [],
   "source": [
    "# df.to_csv('capstone.csv')"
   ]
  },
  {
   "cell_type": "markdown",
   "metadata": {},
   "source": [
    "**Now will conduct a two sample one tailed ttest to compare the average salaries of elected officials versus non elected officials**\n",
    "\\\n",
    "$H_0$ = The average salary of non elected officials == The average salary of elected officials\n",
    "\\\n",
    "$H_a$ = The average salary of non elected officials < The average salary of elected officials"
   ]
  },
  {
   "cell_type": "code",
   "execution_count": 35,
   "metadata": {},
   "outputs": [
    {
     "data": {
      "text/plain": [
       "0    141154\n",
       "1      3576\n",
       "Name: is_unclassified, dtype: int64"
      ]
     },
     "execution_count": 35,
     "metadata": {},
     "output_type": "execute_result"
    }
   ],
   "source": [
    "df.is_unclassified.value_counts()"
   ]
  },
  {
   "cell_type": "code",
   "execution_count": 36,
   "metadata": {},
   "outputs": [
    {
     "data": {
      "text/plain": [
       "(6990687667.486143, 650741485.6095672)"
      ]
     },
     "execution_count": 36,
     "metadata": {},
     "output_type": "execute_result"
    }
   ],
   "source": [
    "# set up our alpha with a confidence interval of 95%\n",
    "alpha = 0.05\n",
    "\n",
    "# set up our samples\n",
    "elected = train[train.is_elected==1].annual_salary\n",
    "non_elected = train[train.is_elected==0].annual_salary\n",
    "\n",
    "# take a look at the variance\n",
    "elected.var(), non_elected.var()"
   ]
  },
  {
   "cell_type": "code",
   "execution_count": 37,
   "metadata": {},
   "outputs": [
    {
     "name": "stdout",
     "output_type": "stream",
     "text": [
      "We reject the null hypothesis\n"
     ]
    }
   ],
   "source": [
    "# assign t and p value\n",
    "t, p = stats.ttest_ind(non_elected, elected, equal_var=False)\n",
    "\n",
    "\n",
    "if (p/2 < alpha) & (t < 0):\n",
    "    print(\"We reject the null hypothesis\")\n",
    "else:\n",
    "    print(\"We fail to reject the null hypothesis\")"
   ]
  },
  {
   "cell_type": "markdown",
   "metadata": {},
   "source": [
    "**This tells us that it is likely elected officials make more annually than non elected officials**"
   ]
  },
  {
   "cell_type": "code",
   "execution_count": 38,
   "metadata": {},
   "outputs": [
    {
     "name": "stdout",
     "output_type": "stream",
     "text": [
      "Distribution of salaries for elected official versus non elected employees.\n"
     ]
    },
    {
     "data": {
      "image/png": "[encoded data removed]",
      "text/plain": [
       "<Figure size 1152x360 with 2 Axes>"
      ]
     },
     "metadata": {
      "needs_background": "light"
     },
     "output_type": "display_data"
    }
   ],
   "source": [
    "plt.figure(figsize=(16,5))\n",
    "plt.subplot(121)\n",
    "elected.hist(color='#9b59b6')\n",
    "plt.xlabel('salary')\n",
    "plt.ylabel('count')\n",
    "plt.subplot(122)\n",
    "non_elected.hist(color='#9b59b6')\n",
    "plt.xlabel('salary')\n",
    "plt.ylabel('count')\n",
    "print('Distribution of salaries for elected official versus non elected employees.');"
   ]
  },
  {
   "cell_type": "markdown",
   "metadata": {},
   "source": [
    "**Now will conduct a two sample one tailed ttest to compare the average salaries of employees with a title that has director in it**\n",
    "\\\n",
    "$H_0$ = The average salary of director titles == The average salary of employees without director titles\n",
    "\\\n",
    "$H_a$ = The average salary of director titles > The average salary of employees without director titles"
   ]
  },
  {
   "cell_type": "code",
   "execution_count": 39,
   "metadata": {},
   "outputs": [
    {
     "data": {
      "text/plain": [
       "0    79346\n",
       "1     1702\n",
       "Name: is_director, dtype: int64"
      ]
     },
     "execution_count": 39,
     "metadata": {},
     "output_type": "execute_result"
    }
   ],
   "source": [
    "train.is_director.value_counts()"
   ]
  },
  {
   "cell_type": "code",
   "execution_count": 40,
   "metadata": {},
   "outputs": [
    {
     "data": {
      "text/plain": [
       "(1296693241.4069114, 534733833.7603683)"
      ]
     },
     "execution_count": 40,
     "metadata": {},
     "output_type": "execute_result"
    }
   ],
   "source": [
    "# set up our alpha with a confidence interval of 95%\n",
    "alpha = 0.05\n",
    "\n",
    "# set up our samples\n",
    "director = train[train.is_director==1].annual_salary\n",
    "non_director = train[train.is_director==0].annual_salary\n",
    "\n",
    "# take a look at the variance\n",
    "director.var(), non_director.var()"
   ]
  },
  {
   "cell_type": "code",
   "execution_count": 41,
   "metadata": {},
   "outputs": [
    {
     "name": "stdout",
     "output_type": "stream",
     "text": [
      "We reject the null hypothesis\n"
     ]
    }
   ],
   "source": [
    "# assign t and p value\n",
    "t, p = stats.ttest_ind(non_director, director, equal_var=False)\n",
    "\n",
    "\n",
    "if (p/2 < alpha) & (t < 0):\n",
    "    print(\"We reject the null hypothesis\")\n",
    "else:\n",
    "    print(\"We fail to reject the null hypothesis\")"
   ]
  },
  {
   "cell_type": "markdown",
   "metadata": {},
   "source": [
    "**Another interesting find that officials with director in their title do appear to make more than employees with non director regular titles**"
   ]
  },
  {
   "cell_type": "code",
   "execution_count": 42,
   "metadata": {},
   "outputs": [
    {
     "data": {
      "image/png": "[encoded data removed]",
      "text/plain": [
       "<Figure size 1152x360 with 2 Axes>"
      ]
     },
     "metadata": {
      "needs_background": "light"
     },
     "output_type": "display_data"
    }
   ],
   "source": [
    "# take a look at salary distribution\n",
    "plt.figure(figsize=(16,5))\n",
    "plt.subplot(121)\n",
    "director.hist(color='#9b59b6')\n",
    "plt.xlabel('salary')\n",
    "plt.ylabel('count')\n",
    "plt.title('Distribution of salaries for director titles.')\n",
    "plt.subplot(122)\n",
    "non_director.hist(color='#9b59b6')\n",
    "plt.xlabel('salary')\n",
    "plt.ylabel('count')\n",
    "plt.title('Distribution of salaries for non director titles.');"
   ]
  },
  {
   "cell_type": "markdown",
   "metadata": {},
   "source": [
    "**Next we will conduct a two sample one tailed ttest to compare the average salaries of employees with classified jobs**\n",
    "\\\n",
    "$H_0$ = The average salary of employees with unclassified jobs == The average salary of employees with classified jobs\n",
    "\\\n",
    "$H_a$ = The average salary of employees with unclassified jobs < The average salary of employees with classified jobs"
   ]
  },
  {
   "cell_type": "code",
   "execution_count": 2,
   "metadata": {},
   "outputs": [
    {
     "ename": "NameError",
     "evalue": "name 'train' is not defined",
     "output_type": "error",
     "traceback": [
      "\u001b[0;31m------------------------------------------------------------------------\u001b[0m",
      "\u001b[0;31mNameError\u001b[0m                              Traceback (most recent call last)",
      "\u001b[0;32m<ipython-input-2-cc27368f495c>\u001b[0m in \u001b[0;36m<module>\u001b[0;34m\u001b[0m\n\u001b[1;32m      3\u001b[0m \u001b[0;34m\u001b[0m\u001b[0m\n\u001b[1;32m      4\u001b[0m \u001b[0;31m# set up our samples\u001b[0m\u001b[0;34m\u001b[0m\u001b[0;34m\u001b[0m\u001b[0;34m\u001b[0m\u001b[0m\n\u001b[0;32m----> 5\u001b[0;31m \u001b[0mclassified\u001b[0m \u001b[0;34m=\u001b[0m \u001b[0mtrain\u001b[0m\u001b[0;34m[\u001b[0m\u001b[0mtrain\u001b[0m\u001b[0;34m.\u001b[0m\u001b[0mis_unclassified\u001b[0m\u001b[0;34m==\u001b[0m\u001b[0;36m0\u001b[0m\u001b[0;34m]\u001b[0m\u001b[0;34m.\u001b[0m\u001b[0mannual_salary\u001b[0m\u001b[0;34m\u001b[0m\u001b[0;34m\u001b[0m\u001b[0m\n\u001b[0m\u001b[1;32m      6\u001b[0m \u001b[0munclassified\u001b[0m \u001b[0;34m=\u001b[0m \u001b[0mtrain\u001b[0m\u001b[0;34m[\u001b[0m\u001b[0mtrain\u001b[0m\u001b[0;34m.\u001b[0m\u001b[0mis_unclassified\u001b[0m\u001b[0;34m==\u001b[0m\u001b[0;36m1\u001b[0m\u001b[0;34m]\u001b[0m\u001b[0;34m.\u001b[0m\u001b[0mannual_salary\u001b[0m\u001b[0;34m\u001b[0m\u001b[0;34m\u001b[0m\u001b[0m\n\u001b[1;32m      7\u001b[0m \u001b[0;34m\u001b[0m\u001b[0m\n",
      "\u001b[0;31mNameError\u001b[0m: name 'train' is not defined"
     ]
    }
   ],
   "source": [
    "# set up our alpha with a confidence interval of 95%\n",
    "alpha = 0.05\n",
    "\n",
    "# set up our samples\n",
    "classified = train[train.is_unclassified==0].annual_salary\n",
    "unclassified = train[train.is_unclassified==1].annual_salary\n",
    "\n",
    "classified.var(), unclassified.var()"
   ]
  },
  {
   "cell_type": "code",
   "execution_count": 44,
   "metadata": {},
   "outputs": [
    {
     "name": "stdout",
     "output_type": "stream",
     "text": [
      "We fail to reject the null hypothesis\n"
     ]
    }
   ],
   "source": [
    "# assign t and p value\n",
    "t, p = stats.ttest_ind(unclassified, classified, equal_var=False)\n",
    "\n",
    "\n",
    "if (p/2 < alpha) & (t < 0):\n",
    "    print(\"We reject the null hypothesis\")\n",
    "else:\n",
    "    print(\"We fail to reject the null hypothesis\")"
   ]
  },
  {
   "cell_type": "markdown",
   "metadata": {},
   "source": [
    "**Interesting to see it does appear that employees with classified positions make the same as employees with unclassified positions**"
   ]
  },
  {
   "cell_type": "code",
   "execution_count": 45,
   "metadata": {},
   "outputs": [
    {
     "data": {
      "image/png": "[encoded data removed]",
      "text/plain": [
       "<Figure size 1152x360 with 2 Axes>"
      ]
     },
     "metadata": {
      "needs_background": "light"
     },
     "output_type": "display_data"
    }
   ],
   "source": [
    "# take a look at salary distribution\n",
    "plt.figure(figsize=(16,5))\n",
    "plt.subplot(121)\n",
    "classified.hist(color='#9b59b6')\n",
    "plt.xlabel('salary')\n",
    "plt.ylabel('count')\n",
    "plt.title('Distribution of salaries for classified positions.')\n",
    "plt.subplot(122)\n",
    "unclassified.hist(color='#9b59b6')\n",
    "plt.xlabel('salary')\n",
    "plt.ylabel('count')\n",
    "plt.title('Distribution of salaries for unclassified positions.');"
   ]
  },
  {
   "cell_type": "markdown",
   "metadata": {},
   "source": [
    "## Ttest Takeaways:\n",
    "- There is a disparity between a"
   ]
  },
  {
   "cell_type": "code",
   "execution_count": null,
   "metadata": {},
   "outputs": [],
   "source": []
  }
 ],
 "metadata": {
  "kernelspec": {
   "display_name": "Python 3",
   "language": "python",
   "name": "python3"
  },
  "language_info": {
   "codemirror_mode": {
    "name": "ipython",
    "version": 3
   },
   "file_extension": ".py",
   "mimetype": "text/x-python",
   "name": "python",
   "nbconvert_exporter": "python",
   "pygments_lexer": "ipython3",
   "version": "3.8.5"
  }
 },
 "nbformat": 4,
 "nbformat_minor": 4
}
